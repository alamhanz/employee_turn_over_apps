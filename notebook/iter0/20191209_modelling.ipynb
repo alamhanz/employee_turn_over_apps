{
 "cells": [
  {
   "cell_type": "markdown",
   "metadata": {},
   "source": [
    "# Employee Turn Over"
   ]
  },
  {
   "cell_type": "code",
   "execution_count": 1,
   "metadata": {},
   "outputs": [],
   "source": [
    "import pandas as pd\n",
    "import seaborn as sns\n",
    "import matplotlib.pyplot as plt\n",
    "import numpy as np"
   ]
  },
  {
   "cell_type": "code",
   "execution_count": 2,
   "metadata": {},
   "outputs": [],
   "source": [
    "PATH_DATA='../data/'"
   ]
  },
  {
   "cell_type": "code",
   "execution_count": null,
   "metadata": {},
   "outputs": [],
   "source": []
  },
  {
   "cell_type": "markdown",
   "metadata": {},
   "source": [
    "## Get The data"
   ]
  },
  {
   "cell_type": "code",
   "execution_count": 3,
   "metadata": {},
   "outputs": [
    {
     "name": "stderr",
     "output_type": "stream",
     "text": [
      "/Users/alamhanz/anaconda/envs/py36/lib/python3.6/site-packages/IPython/core/interactiveshell.py:3020: DtypeWarning: Columns (2,3) have mixed types. Specify dtype option on import or set low_memory=False.\n",
      "  interactivity=interactivity, compiler=compiler, result=result)\n"
     ]
    }
   ],
   "source": [
    "data_churn=pd.read_csv(PATH_DATA+'churn.csv')\n",
    "data_comment=pd.read_csv(PATH_DATA+'commentInteractions.csv')\n",
    "data_votes=pd.read_csv(PATH_DATA+'votes.csv')\n",
    "data_comment_cln1=pd.read_csv(PATH_DATA+'comments_clean_anonimized.csv')"
   ]
  },
  {
   "cell_type": "code",
   "execution_count": 4,
   "metadata": {},
   "outputs": [
    {
     "data": {
      "text/html": [
       "<div>\n",
       "<style scoped>\n",
       "    .dataframe tbody tr th:only-of-type {\n",
       "        vertical-align: middle;\n",
       "    }\n",
       "\n",
       "    .dataframe tbody tr th {\n",
       "        vertical-align: top;\n",
       "    }\n",
       "\n",
       "    .dataframe thead th {\n",
       "        text-align: right;\n",
       "    }\n",
       "</style>\n",
       "<table border=\"1\" class=\"dataframe\">\n",
       "  <thead>\n",
       "    <tr style=\"text-align: right;\">\n",
       "      <th></th>\n",
       "      <th>employee</th>\n",
       "      <th>companyAlias</th>\n",
       "      <th>voteDate</th>\n",
       "      <th>vote</th>\n",
       "    </tr>\n",
       "  </thead>\n",
       "  <tbody>\n",
       "    <tr>\n",
       "      <th>0</th>\n",
       "      <td>31</td>\n",
       "      <td>56aec740f1ef260003e307d6</td>\n",
       "      <td>Mon Feb 01 01:00:00 CET 2016</td>\n",
       "      <td>4</td>\n",
       "    </tr>\n",
       "    <tr>\n",
       "      <th>1</th>\n",
       "      <td>33</td>\n",
       "      <td>56aec740f1ef260003e307d6</td>\n",
       "      <td>Mon Feb 01 01:00:00 CET 2016</td>\n",
       "      <td>4</td>\n",
       "    </tr>\n",
       "    <tr>\n",
       "      <th>2</th>\n",
       "      <td>79</td>\n",
       "      <td>56aec740f1ef260003e307d6</td>\n",
       "      <td>Mon Feb 01 01:00:00 CET 2016</td>\n",
       "      <td>4</td>\n",
       "    </tr>\n",
       "    <tr>\n",
       "      <th>3</th>\n",
       "      <td>94</td>\n",
       "      <td>56aec740f1ef260003e307d6</td>\n",
       "      <td>Mon Feb 01 01:00:00 CET 2016</td>\n",
       "      <td>4</td>\n",
       "    </tr>\n",
       "    <tr>\n",
       "      <th>4</th>\n",
       "      <td>16</td>\n",
       "      <td>56aec740f1ef260003e307d6</td>\n",
       "      <td>Mon Feb 01 01:00:00 CET 2016</td>\n",
       "      <td>2</td>\n",
       "    </tr>\n",
       "  </tbody>\n",
       "</table>\n",
       "</div>"
      ],
      "text/plain": [
       "   employee              companyAlias                      voteDate  vote\n",
       "0        31  56aec740f1ef260003e307d6  Mon Feb 01 01:00:00 CET 2016     4\n",
       "1        33  56aec740f1ef260003e307d6  Mon Feb 01 01:00:00 CET 2016     4\n",
       "2        79  56aec740f1ef260003e307d6  Mon Feb 01 01:00:00 CET 2016     4\n",
       "3        94  56aec740f1ef260003e307d6  Mon Feb 01 01:00:00 CET 2016     4\n",
       "4        16  56aec740f1ef260003e307d6  Mon Feb 01 01:00:00 CET 2016     2"
      ]
     },
     "execution_count": 4,
     "metadata": {},
     "output_type": "execute_result"
    }
   ],
   "source": [
    "## Happy today?\n",
    "data_votes.head()"
   ]
  },
  {
   "cell_type": "code",
   "execution_count": 5,
   "metadata": {},
   "outputs": [],
   "source": [
    "data_votes['employee_company']=data_votes.employee.astype(str)+'_'+data_votes.companyAlias"
   ]
  },
  {
   "cell_type": "code",
   "execution_count": 6,
   "metadata": {},
   "outputs": [
    {
     "data": {
      "text/plain": [
       "4377"
      ]
     },
     "execution_count": 6,
     "metadata": {},
     "output_type": "execute_result"
    }
   ],
   "source": [
    "len(data_votes.employee_company.unique())"
   ]
  },
  {
   "cell_type": "code",
   "execution_count": 7,
   "metadata": {},
   "outputs": [
    {
     "data": {
      "text/plain": [
       "37"
      ]
     },
     "execution_count": 7,
     "metadata": {},
     "output_type": "execute_result"
    }
   ],
   "source": [
    "len(data_votes.companyAlias.unique())"
   ]
  },
  {
   "cell_type": "code",
   "execution_count": 8,
   "metadata": {},
   "outputs": [
    {
     "data": {
      "text/html": [
       "<div>\n",
       "<style scoped>\n",
       "    .dataframe tbody tr th:only-of-type {\n",
       "        vertical-align: middle;\n",
       "    }\n",
       "\n",
       "    .dataframe tbody tr th {\n",
       "        vertical-align: top;\n",
       "    }\n",
       "\n",
       "    .dataframe thead th {\n",
       "        text-align: right;\n",
       "    }\n",
       "</style>\n",
       "<table border=\"1\" class=\"dataframe\">\n",
       "  <thead>\n",
       "    <tr style=\"text-align: right;\">\n",
       "      <th></th>\n",
       "      <th>employee</th>\n",
       "      <th>companyAlias</th>\n",
       "      <th>commentId</th>\n",
       "      <th>txt</th>\n",
       "      <th>likes</th>\n",
       "      <th>dislikes</th>\n",
       "      <th>commentDate</th>\n",
       "    </tr>\n",
       "  </thead>\n",
       "  <tbody>\n",
       "    <tr>\n",
       "      <th>0</th>\n",
       "      <td>307</td>\n",
       "      <td>56aec740f1ef260003e307d6</td>\n",
       "      <td>58d018d7e010990004e38070</td>\n",
       "      <td>**********************************************...</td>\n",
       "      <td>4.0</td>\n",
       "      <td>0.0</td>\n",
       "      <td>Mon Mar 20 19:00:17 CET 2017</td>\n",
       "    </tr>\n",
       "    <tr>\n",
       "      <th>1</th>\n",
       "      <td>382</td>\n",
       "      <td>56aec740f1ef260003e307d6</td>\n",
       "      <td>58d0179ae010990004e3806d</td>\n",
       "      <td>*****************************</td>\n",
       "      <td>1.0</td>\n",
       "      <td>2.0</td>\n",
       "      <td>Mon Mar 20 18:55:16 CET 2017</td>\n",
       "    </tr>\n",
       "    <tr>\n",
       "      <th>2</th>\n",
       "      <td>172</td>\n",
       "      <td>56aec740f1ef260003e307d6</td>\n",
       "      <td>58cff8cde010990004e37f6a</td>\n",
       "      <td>***************************</td>\n",
       "      <td>3.0</td>\n",
       "      <td>0.0</td>\n",
       "      <td>Mon Mar 20 16:44:02 CET 2017</td>\n",
       "    </tr>\n",
       "    <tr>\n",
       "      <th>3</th>\n",
       "      <td>135</td>\n",
       "      <td>56aec740f1ef260003e307d6</td>\n",
       "      <td>58cfefeee010990004e37f60</td>\n",
       "      <td>***************************</td>\n",
       "      <td>1.0</td>\n",
       "      <td>1.0</td>\n",
       "      <td>Mon Mar 20 16:06:08 CET 2017</td>\n",
       "    </tr>\n",
       "    <tr>\n",
       "      <th>4</th>\n",
       "      <td>225</td>\n",
       "      <td>56aec740f1ef260003e307d6</td>\n",
       "      <td>58cfd9b4e010990004e37f52</td>\n",
       "      <td>*********************************</td>\n",
       "      <td>3.0</td>\n",
       "      <td>2.0</td>\n",
       "      <td>Mon Mar 20 14:30:50 CET 2017</td>\n",
       "    </tr>\n",
       "  </tbody>\n",
       "</table>\n",
       "</div>"
      ],
      "text/plain": [
       "   employee              companyAlias                 commentId  \\\n",
       "0       307  56aec740f1ef260003e307d6  58d018d7e010990004e38070   \n",
       "1       382  56aec740f1ef260003e307d6  58d0179ae010990004e3806d   \n",
       "2       172  56aec740f1ef260003e307d6  58cff8cde010990004e37f6a   \n",
       "3       135  56aec740f1ef260003e307d6  58cfefeee010990004e37f60   \n",
       "4       225  56aec740f1ef260003e307d6  58cfd9b4e010990004e37f52   \n",
       "\n",
       "                                                 txt  likes  dislikes  \\\n",
       "0  **********************************************...    4.0       0.0   \n",
       "1                      *****************************    1.0       2.0   \n",
       "2                        ***************************    3.0       0.0   \n",
       "3                        ***************************    1.0       1.0   \n",
       "4                  *********************************    3.0       2.0   \n",
       "\n",
       "                    commentDate  \n",
       "0  Mon Mar 20 19:00:17 CET 2017  \n",
       "1  Mon Mar 20 18:55:16 CET 2017  \n",
       "2  Mon Mar 20 16:44:02 CET 2017  \n",
       "3  Mon Mar 20 16:06:08 CET 2017  \n",
       "4  Mon Mar 20 14:30:50 CET 2017  "
      ]
     },
     "execution_count": 8,
     "metadata": {},
     "output_type": "execute_result"
    }
   ],
   "source": [
    "data_comment_cln1.head()"
   ]
  },
  {
   "cell_type": "code",
   "execution_count": 9,
   "metadata": {},
   "outputs": [
    {
     "data": {
      "text/html": [
       "<div>\n",
       "<style scoped>\n",
       "    .dataframe tbody tr th:only-of-type {\n",
       "        vertical-align: middle;\n",
       "    }\n",
       "\n",
       "    .dataframe tbody tr th {\n",
       "        vertical-align: top;\n",
       "    }\n",
       "\n",
       "    .dataframe thead th {\n",
       "        text-align: right;\n",
       "    }\n",
       "</style>\n",
       "<table border=\"1\" class=\"dataframe\">\n",
       "  <thead>\n",
       "    <tr style=\"text-align: right;\">\n",
       "      <th></th>\n",
       "      <th>employee</th>\n",
       "      <th>companyAlias</th>\n",
       "      <th>liked</th>\n",
       "      <th>disliked</th>\n",
       "      <th>commentId</th>\n",
       "    </tr>\n",
       "  </thead>\n",
       "  <tbody>\n",
       "    <tr>\n",
       "      <th>0</th>\n",
       "      <td>307</td>\n",
       "      <td>56aec740f1ef260003e307d6</td>\n",
       "      <td>True</td>\n",
       "      <td>False</td>\n",
       "      <td>58d018d7e010990004e38070</td>\n",
       "    </tr>\n",
       "    <tr>\n",
       "      <th>1</th>\n",
       "      <td>36</td>\n",
       "      <td>56aec740f1ef260003e307d6</td>\n",
       "      <td>True</td>\n",
       "      <td>False</td>\n",
       "      <td>58d018d7e010990004e38070</td>\n",
       "    </tr>\n",
       "    <tr>\n",
       "      <th>2</th>\n",
       "      <td>276</td>\n",
       "      <td>56aec740f1ef260003e307d6</td>\n",
       "      <td>True</td>\n",
       "      <td>False</td>\n",
       "      <td>58d018d7e010990004e38070</td>\n",
       "    </tr>\n",
       "    <tr>\n",
       "      <th>3</th>\n",
       "      <td>24</td>\n",
       "      <td>56aec740f1ef260003e307d6</td>\n",
       "      <td>True</td>\n",
       "      <td>False</td>\n",
       "      <td>58d018d7e010990004e38070</td>\n",
       "    </tr>\n",
       "    <tr>\n",
       "      <th>4</th>\n",
       "      <td>382</td>\n",
       "      <td>56aec740f1ef260003e307d6</td>\n",
       "      <td>True</td>\n",
       "      <td>False</td>\n",
       "      <td>58d0179ae010990004e3806d</td>\n",
       "    </tr>\n",
       "  </tbody>\n",
       "</table>\n",
       "</div>"
      ],
      "text/plain": [
       "   employee              companyAlias liked disliked                 commentId\n",
       "0       307  56aec740f1ef260003e307d6  True    False  58d018d7e010990004e38070\n",
       "1        36  56aec740f1ef260003e307d6  True    False  58d018d7e010990004e38070\n",
       "2       276  56aec740f1ef260003e307d6  True    False  58d018d7e010990004e38070\n",
       "3        24  56aec740f1ef260003e307d6  True    False  58d018d7e010990004e38070\n",
       "4       382  56aec740f1ef260003e307d6  True    False  58d0179ae010990004e3806d"
      ]
     },
     "execution_count": 9,
     "metadata": {},
     "output_type": "execute_result"
    }
   ],
   "source": [
    "data_comment.head()"
   ]
  },
  {
   "cell_type": "code",
   "execution_count": 10,
   "metadata": {},
   "outputs": [
    {
     "data": {
      "text/html": [
       "<div>\n",
       "<style scoped>\n",
       "    .dataframe tbody tr th:only-of-type {\n",
       "        vertical-align: middle;\n",
       "    }\n",
       "\n",
       "    .dataframe tbody tr th {\n",
       "        vertical-align: top;\n",
       "    }\n",
       "\n",
       "    .dataframe thead th {\n",
       "        text-align: right;\n",
       "    }\n",
       "</style>\n",
       "<table border=\"1\" class=\"dataframe\">\n",
       "  <thead>\n",
       "    <tr style=\"text-align: right;\">\n",
       "      <th></th>\n",
       "      <th>employee</th>\n",
       "      <th>companyAlias</th>\n",
       "      <th>numVotes</th>\n",
       "      <th>lastParticipationDate</th>\n",
       "      <th>stillExists</th>\n",
       "    </tr>\n",
       "  </thead>\n",
       "  <tbody>\n",
       "    <tr>\n",
       "      <th>0</th>\n",
       "      <td>512</td>\n",
       "      <td>56aec740f1ef260003e307d6</td>\n",
       "      <td>4</td>\n",
       "      <td>Thu Feb 23 12:48:04 CET 2017</td>\n",
       "      <td>True</td>\n",
       "    </tr>\n",
       "    <tr>\n",
       "      <th>1</th>\n",
       "      <td>-2</td>\n",
       "      <td>56aec740f1ef260003e307d6</td>\n",
       "      <td>0</td>\n",
       "      <td>Wed Jan 18 14:00:55 CET 2017</td>\n",
       "      <td>False</td>\n",
       "    </tr>\n",
       "    <tr>\n",
       "      <th>2</th>\n",
       "      <td>2</td>\n",
       "      <td>56aec740f1ef260003e307d6</td>\n",
       "      <td>72</td>\n",
       "      <td>Fri Mar 17 01:00:00 CET 2017</td>\n",
       "      <td>True</td>\n",
       "    </tr>\n",
       "    <tr>\n",
       "      <th>3</th>\n",
       "      <td>487</td>\n",
       "      <td>56aec740f1ef260003e307d6</td>\n",
       "      <td>14</td>\n",
       "      <td>Sat Nov 19 15:02:14 CET 2016</td>\n",
       "      <td>False</td>\n",
       "    </tr>\n",
       "    <tr>\n",
       "      <th>4</th>\n",
       "      <td>3</td>\n",
       "      <td>56aec740f1ef260003e307d6</td>\n",
       "      <td>22</td>\n",
       "      <td>Thu Feb 16 01:00:00 CET 2017</td>\n",
       "      <td>True</td>\n",
       "    </tr>\n",
       "  </tbody>\n",
       "</table>\n",
       "</div>"
      ],
      "text/plain": [
       "   employee              companyAlias  numVotes         lastParticipationDate  \\\n",
       "0       512  56aec740f1ef260003e307d6         4  Thu Feb 23 12:48:04 CET 2017   \n",
       "1        -2  56aec740f1ef260003e307d6         0  Wed Jan 18 14:00:55 CET 2017   \n",
       "2         2  56aec740f1ef260003e307d6        72  Fri Mar 17 01:00:00 CET 2017   \n",
       "3       487  56aec740f1ef260003e307d6        14  Sat Nov 19 15:02:14 CET 2016   \n",
       "4         3  56aec740f1ef260003e307d6        22  Thu Feb 16 01:00:00 CET 2017   \n",
       "\n",
       "   stillExists  \n",
       "0         True  \n",
       "1        False  \n",
       "2         True  \n",
       "3        False  \n",
       "4         True  "
      ]
     },
     "execution_count": 10,
     "metadata": {},
     "output_type": "execute_result"
    }
   ],
   "source": [
    "data_churn.head()"
   ]
  },
  {
   "cell_type": "code",
   "execution_count": 11,
   "metadata": {},
   "outputs": [
    {
     "data": {
      "text/plain": [
       "1002"
      ]
     },
     "execution_count": 11,
     "metadata": {},
     "output_type": "execute_result"
    }
   ],
   "source": [
    "len(data_churn.employee.unique())"
   ]
  },
  {
   "cell_type": "code",
   "execution_count": 12,
   "metadata": {},
   "outputs": [
    {
     "data": {
      "text/plain": [
       "(4847, 5)"
      ]
     },
     "execution_count": 12,
     "metadata": {},
     "output_type": "execute_result"
    }
   ],
   "source": [
    "data_churn.shape"
   ]
  },
  {
   "cell_type": "code",
   "execution_count": null,
   "metadata": {},
   "outputs": [],
   "source": []
  },
  {
   "cell_type": "markdown",
   "metadata": {},
   "source": [
    "* Jumlah Comment di dislike \n",
    "* Berapa kali Employee nge-vote\n",
    "* Berapa kali Employee hit 4\n",
    "* Kapan Terakhir vote (Recency)\n",
    "* Berapa kali Employee nge-comment\n"
   ]
  },
  {
   "cell_type": "code",
   "execution_count": null,
   "metadata": {},
   "outputs": [],
   "source": []
  },
  {
   "cell_type": "markdown",
   "metadata": {},
   "source": [
    "### Jumlah Comment yang di dislike"
   ]
  },
  {
   "cell_type": "code",
   "execution_count": 13,
   "metadata": {},
   "outputs": [],
   "source": [
    "data_comment_cln1['employee_company']=data_comment_cln1.employee.astype(\n",
    "                str)+'_'+data_comment_cln1.companyAlias\n",
    "\n",
    "data_comment_cln1['is_dislikes']=(data_comment_cln1.dislikes>0).astype(int)"
   ]
  },
  {
   "cell_type": "code",
   "execution_count": 14,
   "metadata": {},
   "outputs": [
    {
     "data": {
      "text/html": [
       "<div>\n",
       "<style scoped>\n",
       "    .dataframe tbody tr th:only-of-type {\n",
       "        vertical-align: middle;\n",
       "    }\n",
       "\n",
       "    .dataframe tbody tr th {\n",
       "        vertical-align: top;\n",
       "    }\n",
       "\n",
       "    .dataframe thead th {\n",
       "        text-align: right;\n",
       "    }\n",
       "</style>\n",
       "<table border=\"1\" class=\"dataframe\">\n",
       "  <thead>\n",
       "    <tr style=\"text-align: right;\">\n",
       "      <th></th>\n",
       "      <th>employee</th>\n",
       "      <th>companyAlias</th>\n",
       "      <th>commentId</th>\n",
       "      <th>txt</th>\n",
       "      <th>likes</th>\n",
       "      <th>dislikes</th>\n",
       "      <th>commentDate</th>\n",
       "      <th>employee_company</th>\n",
       "      <th>is_dislikes</th>\n",
       "    </tr>\n",
       "  </thead>\n",
       "  <tbody>\n",
       "    <tr>\n",
       "      <th>0</th>\n",
       "      <td>307</td>\n",
       "      <td>56aec740f1ef260003e307d6</td>\n",
       "      <td>58d018d7e010990004e38070</td>\n",
       "      <td>**********************************************...</td>\n",
       "      <td>4.0</td>\n",
       "      <td>0.0</td>\n",
       "      <td>Mon Mar 20 19:00:17 CET 2017</td>\n",
       "      <td>307_56aec740f1ef260003e307d6</td>\n",
       "      <td>0</td>\n",
       "    </tr>\n",
       "    <tr>\n",
       "      <th>1</th>\n",
       "      <td>382</td>\n",
       "      <td>56aec740f1ef260003e307d6</td>\n",
       "      <td>58d0179ae010990004e3806d</td>\n",
       "      <td>*****************************</td>\n",
       "      <td>1.0</td>\n",
       "      <td>2.0</td>\n",
       "      <td>Mon Mar 20 18:55:16 CET 2017</td>\n",
       "      <td>382_56aec740f1ef260003e307d6</td>\n",
       "      <td>1</td>\n",
       "    </tr>\n",
       "    <tr>\n",
       "      <th>2</th>\n",
       "      <td>172</td>\n",
       "      <td>56aec740f1ef260003e307d6</td>\n",
       "      <td>58cff8cde010990004e37f6a</td>\n",
       "      <td>***************************</td>\n",
       "      <td>3.0</td>\n",
       "      <td>0.0</td>\n",
       "      <td>Mon Mar 20 16:44:02 CET 2017</td>\n",
       "      <td>172_56aec740f1ef260003e307d6</td>\n",
       "      <td>0</td>\n",
       "    </tr>\n",
       "    <tr>\n",
       "      <th>3</th>\n",
       "      <td>135</td>\n",
       "      <td>56aec740f1ef260003e307d6</td>\n",
       "      <td>58cfefeee010990004e37f60</td>\n",
       "      <td>***************************</td>\n",
       "      <td>1.0</td>\n",
       "      <td>1.0</td>\n",
       "      <td>Mon Mar 20 16:06:08 CET 2017</td>\n",
       "      <td>135_56aec740f1ef260003e307d6</td>\n",
       "      <td>1</td>\n",
       "    </tr>\n",
       "    <tr>\n",
       "      <th>4</th>\n",
       "      <td>225</td>\n",
       "      <td>56aec740f1ef260003e307d6</td>\n",
       "      <td>58cfd9b4e010990004e37f52</td>\n",
       "      <td>*********************************</td>\n",
       "      <td>3.0</td>\n",
       "      <td>2.0</td>\n",
       "      <td>Mon Mar 20 14:30:50 CET 2017</td>\n",
       "      <td>225_56aec740f1ef260003e307d6</td>\n",
       "      <td>1</td>\n",
       "    </tr>\n",
       "  </tbody>\n",
       "</table>\n",
       "</div>"
      ],
      "text/plain": [
       "   employee              companyAlias                 commentId  \\\n",
       "0       307  56aec740f1ef260003e307d6  58d018d7e010990004e38070   \n",
       "1       382  56aec740f1ef260003e307d6  58d0179ae010990004e3806d   \n",
       "2       172  56aec740f1ef260003e307d6  58cff8cde010990004e37f6a   \n",
       "3       135  56aec740f1ef260003e307d6  58cfefeee010990004e37f60   \n",
       "4       225  56aec740f1ef260003e307d6  58cfd9b4e010990004e37f52   \n",
       "\n",
       "                                                 txt  likes  dislikes  \\\n",
       "0  **********************************************...    4.0       0.0   \n",
       "1                      *****************************    1.0       2.0   \n",
       "2                        ***************************    3.0       0.0   \n",
       "3                        ***************************    1.0       1.0   \n",
       "4                  *********************************    3.0       2.0   \n",
       "\n",
       "                    commentDate              employee_company  is_dislikes  \n",
       "0  Mon Mar 20 19:00:17 CET 2017  307_56aec740f1ef260003e307d6            0  \n",
       "1  Mon Mar 20 18:55:16 CET 2017  382_56aec740f1ef260003e307d6            1  \n",
       "2  Mon Mar 20 16:44:02 CET 2017  172_56aec740f1ef260003e307d6            0  \n",
       "3  Mon Mar 20 16:06:08 CET 2017  135_56aec740f1ef260003e307d6            1  \n",
       "4  Mon Mar 20 14:30:50 CET 2017  225_56aec740f1ef260003e307d6            1  "
      ]
     },
     "execution_count": 14,
     "metadata": {},
     "output_type": "execute_result"
    }
   ],
   "source": [
    "data_comment_cln1.head()"
   ]
  },
  {
   "cell_type": "code",
   "execution_count": 15,
   "metadata": {},
   "outputs": [],
   "source": [
    "# data_comment_cln1.head()"
   ]
  },
  {
   "cell_type": "code",
   "execution_count": 16,
   "metadata": {},
   "outputs": [],
   "source": [
    "data_dislikes=data_comment_cln1.groupby(['employee','companyAlias']).agg(\n",
    "            {'is_dislikes':[np.mean,np.size]}).reset_index()"
   ]
  },
  {
   "cell_type": "code",
   "execution_count": 17,
   "metadata": {},
   "outputs": [],
   "source": [
    "data_dislikes.columns=['employee','companyAlias','dislike_percent','dislike_cnt']"
   ]
  },
  {
   "cell_type": "code",
   "execution_count": 18,
   "metadata": {},
   "outputs": [],
   "source": [
    "# data_dislikes.sort_values('dislike_percent',ascending=False)"
   ]
  },
  {
   "cell_type": "code",
   "execution_count": null,
   "metadata": {},
   "outputs": [],
   "source": []
  },
  {
   "cell_type": "markdown",
   "metadata": {},
   "source": [
    "### Berapa kali Employee nge-vote (Standardized)"
   ]
  },
  {
   "cell_type": "code",
   "execution_count": 19,
   "metadata": {},
   "outputs": [
    {
     "data": {
      "text/html": [
       "<div>\n",
       "<style scoped>\n",
       "    .dataframe tbody tr th:only-of-type {\n",
       "        vertical-align: middle;\n",
       "    }\n",
       "\n",
       "    .dataframe tbody tr th {\n",
       "        vertical-align: top;\n",
       "    }\n",
       "\n",
       "    .dataframe thead th {\n",
       "        text-align: right;\n",
       "    }\n",
       "</style>\n",
       "<table border=\"1\" class=\"dataframe\">\n",
       "  <thead>\n",
       "    <tr style=\"text-align: right;\">\n",
       "      <th></th>\n",
       "      <th>employee</th>\n",
       "      <th>companyAlias</th>\n",
       "      <th>vote</th>\n",
       "    </tr>\n",
       "  </thead>\n",
       "  <tbody>\n",
       "    <tr>\n",
       "      <th>0</th>\n",
       "      <td>1</td>\n",
       "      <td>5474b9cde4b0bf7614b2c66f</td>\n",
       "      <td>2</td>\n",
       "    </tr>\n",
       "    <tr>\n",
       "      <th>1</th>\n",
       "      <td>1</td>\n",
       "      <td>54d43612e4b0f6a40755d93e</td>\n",
       "      <td>16</td>\n",
       "    </tr>\n",
       "    <tr>\n",
       "      <th>2</th>\n",
       "      <td>1</td>\n",
       "      <td>54e52607e4b01191dc064966</td>\n",
       "      <td>135</td>\n",
       "    </tr>\n",
       "    <tr>\n",
       "      <th>3</th>\n",
       "      <td>1</td>\n",
       "      <td>5641f96713664c000332c8cd</td>\n",
       "      <td>257</td>\n",
       "    </tr>\n",
       "    <tr>\n",
       "      <th>4</th>\n",
       "      <td>1</td>\n",
       "      <td>56558cfd07a5de00030908fb</td>\n",
       "      <td>2</td>\n",
       "    </tr>\n",
       "  </tbody>\n",
       "</table>\n",
       "</div>"
      ],
      "text/plain": [
       "   employee              companyAlias  vote\n",
       "0         1  5474b9cde4b0bf7614b2c66f     2\n",
       "1         1  54d43612e4b0f6a40755d93e    16\n",
       "2         1  54e52607e4b01191dc064966   135\n",
       "3         1  5641f96713664c000332c8cd   257\n",
       "4         1  56558cfd07a5de00030908fb     2"
      ]
     },
     "execution_count": 19,
     "metadata": {},
     "output_type": "execute_result"
    }
   ],
   "source": [
    "vote_number=data_votes.groupby(['employee','companyAlias']).vote.size().reset_index()\n",
    "vote_number.head()"
   ]
  },
  {
   "cell_type": "code",
   "execution_count": 20,
   "metadata": {},
   "outputs": [
    {
     "data": {
      "text/html": [
       "<div>\n",
       "<style scoped>\n",
       "    .dataframe tbody tr th:only-of-type {\n",
       "        vertical-align: middle;\n",
       "    }\n",
       "\n",
       "    .dataframe tbody tr th {\n",
       "        vertical-align: top;\n",
       "    }\n",
       "\n",
       "    .dataframe thead th {\n",
       "        text-align: right;\n",
       "    }\n",
       "</style>\n",
       "<table border=\"1\" class=\"dataframe\">\n",
       "  <thead>\n",
       "    <tr style=\"text-align: right;\">\n",
       "      <th></th>\n",
       "      <th>companyAlias</th>\n",
       "      <th>vote_mean_c</th>\n",
       "      <th>vote_std_c</th>\n",
       "    </tr>\n",
       "  </thead>\n",
       "  <tbody>\n",
       "    <tr>\n",
       "      <th>0</th>\n",
       "      <td>5370af43e4b0cff95558c12a</td>\n",
       "      <td>28.572727</td>\n",
       "      <td>45.074359</td>\n",
       "    </tr>\n",
       "    <tr>\n",
       "      <th>1</th>\n",
       "      <td>53a2dd43e4b01cc02f1e9011</td>\n",
       "      <td>32.500000</td>\n",
       "      <td>45.300087</td>\n",
       "    </tr>\n",
       "    <tr>\n",
       "      <th>2</th>\n",
       "      <td>5474b9cde4b0bf7614b2c66f</td>\n",
       "      <td>4.600000</td>\n",
       "      <td>6.535374</td>\n",
       "    </tr>\n",
       "    <tr>\n",
       "      <th>3</th>\n",
       "      <td>54d43612e4b0f6a40755d93e</td>\n",
       "      <td>23.263158</td>\n",
       "      <td>28.473852</td>\n",
       "    </tr>\n",
       "    <tr>\n",
       "      <th>4</th>\n",
       "      <td>54e52607e4b01191dc064966</td>\n",
       "      <td>88.250000</td>\n",
       "      <td>120.630214</td>\n",
       "    </tr>\n",
       "  </tbody>\n",
       "</table>\n",
       "</div>"
      ],
      "text/plain": [
       "               companyAlias  vote_mean_c  vote_std_c\n",
       "0  5370af43e4b0cff95558c12a    28.572727   45.074359\n",
       "1  53a2dd43e4b01cc02f1e9011    32.500000   45.300087\n",
       "2  5474b9cde4b0bf7614b2c66f     4.600000    6.535374\n",
       "3  54d43612e4b0f6a40755d93e    23.263158   28.473852\n",
       "4  54e52607e4b01191dc064966    88.250000  120.630214"
      ]
     },
     "execution_count": 20,
     "metadata": {},
     "output_type": "execute_result"
    }
   ],
   "source": [
    "vote_mean_std=vote_number.groupby('companyAlias').agg({'vote':[np.mean,np.std]}).reset_index()\n",
    "vote_mean_std.columns=['companyAlias','vote_mean_c','vote_std_c']\n",
    "vote_mean_std.head()"
   ]
  },
  {
   "cell_type": "code",
   "execution_count": 21,
   "metadata": {},
   "outputs": [],
   "source": [
    "vote_merge=pd.merge(vote_number,vote_mean_std,on='companyAlias',how='left')"
   ]
  },
  {
   "cell_type": "code",
   "execution_count": 22,
   "metadata": {},
   "outputs": [],
   "source": [
    "vote_merge['vote_standar']=(vote_merge.vote-vote_merge.vote_mean_c)/vote_merge.vote_std_c"
   ]
  },
  {
   "cell_type": "code",
   "execution_count": 23,
   "metadata": {},
   "outputs": [
    {
     "data": {
      "text/html": [
       "<div>\n",
       "<style scoped>\n",
       "    .dataframe tbody tr th:only-of-type {\n",
       "        vertical-align: middle;\n",
       "    }\n",
       "\n",
       "    .dataframe tbody tr th {\n",
       "        vertical-align: top;\n",
       "    }\n",
       "\n",
       "    .dataframe thead th {\n",
       "        text-align: right;\n",
       "    }\n",
       "</style>\n",
       "<table border=\"1\" class=\"dataframe\">\n",
       "  <thead>\n",
       "    <tr style=\"text-align: right;\">\n",
       "      <th></th>\n",
       "      <th>employee</th>\n",
       "      <th>companyAlias</th>\n",
       "      <th>vote</th>\n",
       "      <th>vote_mean_c</th>\n",
       "      <th>vote_std_c</th>\n",
       "      <th>vote_standar</th>\n",
       "    </tr>\n",
       "  </thead>\n",
       "  <tbody>\n",
       "    <tr>\n",
       "      <th>0</th>\n",
       "      <td>1</td>\n",
       "      <td>5474b9cde4b0bf7614b2c66f</td>\n",
       "      <td>2</td>\n",
       "      <td>4.600000</td>\n",
       "      <td>6.535374</td>\n",
       "      <td>-0.397835</td>\n",
       "    </tr>\n",
       "    <tr>\n",
       "      <th>1</th>\n",
       "      <td>1</td>\n",
       "      <td>54d43612e4b0f6a40755d93e</td>\n",
       "      <td>16</td>\n",
       "      <td>23.263158</td>\n",
       "      <td>28.473852</td>\n",
       "      <td>-0.255082</td>\n",
       "    </tr>\n",
       "    <tr>\n",
       "      <th>2</th>\n",
       "      <td>1</td>\n",
       "      <td>54e52607e4b01191dc064966</td>\n",
       "      <td>135</td>\n",
       "      <td>88.250000</td>\n",
       "      <td>120.630214</td>\n",
       "      <td>0.387548</td>\n",
       "    </tr>\n",
       "    <tr>\n",
       "      <th>3</th>\n",
       "      <td>1</td>\n",
       "      <td>5641f96713664c000332c8cd</td>\n",
       "      <td>257</td>\n",
       "      <td>104.176471</td>\n",
       "      <td>90.879394</td>\n",
       "      <td>1.681608</td>\n",
       "    </tr>\n",
       "    <tr>\n",
       "      <th>4</th>\n",
       "      <td>1</td>\n",
       "      <td>56558cfd07a5de00030908fb</td>\n",
       "      <td>2</td>\n",
       "      <td>2.333333</td>\n",
       "      <td>1.723281</td>\n",
       "      <td>-0.193429</td>\n",
       "    </tr>\n",
       "  </tbody>\n",
       "</table>\n",
       "</div>"
      ],
      "text/plain": [
       "   employee              companyAlias  vote  vote_mean_c  vote_std_c  \\\n",
       "0         1  5474b9cde4b0bf7614b2c66f     2     4.600000    6.535374   \n",
       "1         1  54d43612e4b0f6a40755d93e    16    23.263158   28.473852   \n",
       "2         1  54e52607e4b01191dc064966   135    88.250000  120.630214   \n",
       "3         1  5641f96713664c000332c8cd   257   104.176471   90.879394   \n",
       "4         1  56558cfd07a5de00030908fb     2     2.333333    1.723281   \n",
       "\n",
       "   vote_standar  \n",
       "0     -0.397835  \n",
       "1     -0.255082  \n",
       "2      0.387548  \n",
       "3      1.681608  \n",
       "4     -0.193429  "
      ]
     },
     "execution_count": 23,
     "metadata": {},
     "output_type": "execute_result"
    }
   ],
   "source": [
    "vote_merge.head()"
   ]
  },
  {
   "cell_type": "code",
   "execution_count": null,
   "metadata": {},
   "outputs": [],
   "source": []
  },
  {
   "cell_type": "markdown",
   "metadata": {},
   "source": [
    "### Berapa kali Employee hit 4"
   ]
  },
  {
   "cell_type": "code",
   "execution_count": 24,
   "metadata": {},
   "outputs": [
    {
     "data": {
      "text/html": [
       "<div>\n",
       "<style scoped>\n",
       "    .dataframe tbody tr th:only-of-type {\n",
       "        vertical-align: middle;\n",
       "    }\n",
       "\n",
       "    .dataframe tbody tr th {\n",
       "        vertical-align: top;\n",
       "    }\n",
       "\n",
       "    .dataframe thead th {\n",
       "        text-align: right;\n",
       "    }\n",
       "</style>\n",
       "<table border=\"1\" class=\"dataframe\">\n",
       "  <thead>\n",
       "    <tr style=\"text-align: right;\">\n",
       "      <th></th>\n",
       "      <th>employee</th>\n",
       "      <th>companyAlias</th>\n",
       "      <th>voteDate</th>\n",
       "      <th>vote</th>\n",
       "      <th>employee_company</th>\n",
       "      <th>flag4</th>\n",
       "    </tr>\n",
       "  </thead>\n",
       "  <tbody>\n",
       "    <tr>\n",
       "      <th>0</th>\n",
       "      <td>31</td>\n",
       "      <td>56aec740f1ef260003e307d6</td>\n",
       "      <td>Mon Feb 01 01:00:00 CET 2016</td>\n",
       "      <td>4</td>\n",
       "      <td>31_56aec740f1ef260003e307d6</td>\n",
       "      <td>1</td>\n",
       "    </tr>\n",
       "    <tr>\n",
       "      <th>1</th>\n",
       "      <td>33</td>\n",
       "      <td>56aec740f1ef260003e307d6</td>\n",
       "      <td>Mon Feb 01 01:00:00 CET 2016</td>\n",
       "      <td>4</td>\n",
       "      <td>33_56aec740f1ef260003e307d6</td>\n",
       "      <td>1</td>\n",
       "    </tr>\n",
       "    <tr>\n",
       "      <th>2</th>\n",
       "      <td>79</td>\n",
       "      <td>56aec740f1ef260003e307d6</td>\n",
       "      <td>Mon Feb 01 01:00:00 CET 2016</td>\n",
       "      <td>4</td>\n",
       "      <td>79_56aec740f1ef260003e307d6</td>\n",
       "      <td>1</td>\n",
       "    </tr>\n",
       "    <tr>\n",
       "      <th>3</th>\n",
       "      <td>94</td>\n",
       "      <td>56aec740f1ef260003e307d6</td>\n",
       "      <td>Mon Feb 01 01:00:00 CET 2016</td>\n",
       "      <td>4</td>\n",
       "      <td>94_56aec740f1ef260003e307d6</td>\n",
       "      <td>1</td>\n",
       "    </tr>\n",
       "    <tr>\n",
       "      <th>4</th>\n",
       "      <td>16</td>\n",
       "      <td>56aec740f1ef260003e307d6</td>\n",
       "      <td>Mon Feb 01 01:00:00 CET 2016</td>\n",
       "      <td>2</td>\n",
       "      <td>16_56aec740f1ef260003e307d6</td>\n",
       "      <td>0</td>\n",
       "    </tr>\n",
       "  </tbody>\n",
       "</table>\n",
       "</div>"
      ],
      "text/plain": [
       "   employee              companyAlias                      voteDate  vote  \\\n",
       "0        31  56aec740f1ef260003e307d6  Mon Feb 01 01:00:00 CET 2016     4   \n",
       "1        33  56aec740f1ef260003e307d6  Mon Feb 01 01:00:00 CET 2016     4   \n",
       "2        79  56aec740f1ef260003e307d6  Mon Feb 01 01:00:00 CET 2016     4   \n",
       "3        94  56aec740f1ef260003e307d6  Mon Feb 01 01:00:00 CET 2016     4   \n",
       "4        16  56aec740f1ef260003e307d6  Mon Feb 01 01:00:00 CET 2016     2   \n",
       "\n",
       "              employee_company  flag4  \n",
       "0  31_56aec740f1ef260003e307d6      1  \n",
       "1  33_56aec740f1ef260003e307d6      1  \n",
       "2  79_56aec740f1ef260003e307d6      1  \n",
       "3  94_56aec740f1ef260003e307d6      1  \n",
       "4  16_56aec740f1ef260003e307d6      0  "
      ]
     },
     "execution_count": 24,
     "metadata": {},
     "output_type": "execute_result"
    }
   ],
   "source": [
    "data_votes['flag4']=(data_votes.vote==4).astype(int)\n",
    "data_votes.head()"
   ]
  },
  {
   "cell_type": "code",
   "execution_count": 25,
   "metadata": {},
   "outputs": [],
   "source": [
    "data_hit4=data_votes.groupby(['employee','companyAlias']).agg(\n",
    "            {'flag4':[np.mean,np.size]}).reset_index()\n",
    "data_hit4.columns=['employee','companyAlias','hit4_percent','hit4_cnt']"
   ]
  },
  {
   "cell_type": "code",
   "execution_count": 26,
   "metadata": {},
   "outputs": [
    {
     "data": {
      "text/html": [
       "<div>\n",
       "<style scoped>\n",
       "    .dataframe tbody tr th:only-of-type {\n",
       "        vertical-align: middle;\n",
       "    }\n",
       "\n",
       "    .dataframe tbody tr th {\n",
       "        vertical-align: top;\n",
       "    }\n",
       "\n",
       "    .dataframe thead th {\n",
       "        text-align: right;\n",
       "    }\n",
       "</style>\n",
       "<table border=\"1\" class=\"dataframe\">\n",
       "  <thead>\n",
       "    <tr style=\"text-align: right;\">\n",
       "      <th></th>\n",
       "      <th>employee</th>\n",
       "      <th>companyAlias</th>\n",
       "      <th>hit4_percent</th>\n",
       "      <th>hit4_cnt</th>\n",
       "    </tr>\n",
       "  </thead>\n",
       "  <tbody>\n",
       "    <tr>\n",
       "      <th>0</th>\n",
       "      <td>1</td>\n",
       "      <td>5474b9cde4b0bf7614b2c66f</td>\n",
       "      <td>1.000000</td>\n",
       "      <td>2</td>\n",
       "    </tr>\n",
       "    <tr>\n",
       "      <th>1</th>\n",
       "      <td>1</td>\n",
       "      <td>54d43612e4b0f6a40755d93e</td>\n",
       "      <td>0.187500</td>\n",
       "      <td>16</td>\n",
       "    </tr>\n",
       "    <tr>\n",
       "      <th>2</th>\n",
       "      <td>1</td>\n",
       "      <td>54e52607e4b01191dc064966</td>\n",
       "      <td>0.007407</td>\n",
       "      <td>135</td>\n",
       "    </tr>\n",
       "    <tr>\n",
       "      <th>3</th>\n",
       "      <td>1</td>\n",
       "      <td>5641f96713664c000332c8cd</td>\n",
       "      <td>0.412451</td>\n",
       "      <td>257</td>\n",
       "    </tr>\n",
       "    <tr>\n",
       "      <th>4</th>\n",
       "      <td>1</td>\n",
       "      <td>56558cfd07a5de00030908fb</td>\n",
       "      <td>0.500000</td>\n",
       "      <td>2</td>\n",
       "    </tr>\n",
       "  </tbody>\n",
       "</table>\n",
       "</div>"
      ],
      "text/plain": [
       "   employee              companyAlias  hit4_percent  hit4_cnt\n",
       "0         1  5474b9cde4b0bf7614b2c66f      1.000000         2\n",
       "1         1  54d43612e4b0f6a40755d93e      0.187500        16\n",
       "2         1  54e52607e4b01191dc064966      0.007407       135\n",
       "3         1  5641f96713664c000332c8cd      0.412451       257\n",
       "4         1  56558cfd07a5de00030908fb      0.500000         2"
      ]
     },
     "execution_count": 26,
     "metadata": {},
     "output_type": "execute_result"
    }
   ],
   "source": [
    "data_hit4.head()"
   ]
  },
  {
   "cell_type": "code",
   "execution_count": null,
   "metadata": {},
   "outputs": [],
   "source": []
  },
  {
   "cell_type": "markdown",
   "metadata": {},
   "source": [
    "### Kapan Terakhir vote (Recency)"
   ]
  },
  {
   "cell_type": "code",
   "execution_count": 27,
   "metadata": {},
   "outputs": [
    {
     "data": {
      "text/html": [
       "<div>\n",
       "<style scoped>\n",
       "    .dataframe tbody tr th:only-of-type {\n",
       "        vertical-align: middle;\n",
       "    }\n",
       "\n",
       "    .dataframe tbody tr th {\n",
       "        vertical-align: top;\n",
       "    }\n",
       "\n",
       "    .dataframe thead th {\n",
       "        text-align: right;\n",
       "    }\n",
       "</style>\n",
       "<table border=\"1\" class=\"dataframe\">\n",
       "  <thead>\n",
       "    <tr style=\"text-align: right;\">\n",
       "      <th></th>\n",
       "      <th>employee</th>\n",
       "      <th>companyAlias</th>\n",
       "      <th>voteDate</th>\n",
       "      <th>vote</th>\n",
       "      <th>employee_company</th>\n",
       "      <th>flag4</th>\n",
       "    </tr>\n",
       "  </thead>\n",
       "  <tbody>\n",
       "    <tr>\n",
       "      <th>0</th>\n",
       "      <td>31</td>\n",
       "      <td>56aec740f1ef260003e307d6</td>\n",
       "      <td>Mon Feb 01 01:00:00 CET 2016</td>\n",
       "      <td>4</td>\n",
       "      <td>31_56aec740f1ef260003e307d6</td>\n",
       "      <td>1</td>\n",
       "    </tr>\n",
       "    <tr>\n",
       "      <th>1</th>\n",
       "      <td>33</td>\n",
       "      <td>56aec740f1ef260003e307d6</td>\n",
       "      <td>Mon Feb 01 01:00:00 CET 2016</td>\n",
       "      <td>4</td>\n",
       "      <td>33_56aec740f1ef260003e307d6</td>\n",
       "      <td>1</td>\n",
       "    </tr>\n",
       "    <tr>\n",
       "      <th>2</th>\n",
       "      <td>79</td>\n",
       "      <td>56aec740f1ef260003e307d6</td>\n",
       "      <td>Mon Feb 01 01:00:00 CET 2016</td>\n",
       "      <td>4</td>\n",
       "      <td>79_56aec740f1ef260003e307d6</td>\n",
       "      <td>1</td>\n",
       "    </tr>\n",
       "    <tr>\n",
       "      <th>3</th>\n",
       "      <td>94</td>\n",
       "      <td>56aec740f1ef260003e307d6</td>\n",
       "      <td>Mon Feb 01 01:00:00 CET 2016</td>\n",
       "      <td>4</td>\n",
       "      <td>94_56aec740f1ef260003e307d6</td>\n",
       "      <td>1</td>\n",
       "    </tr>\n",
       "    <tr>\n",
       "      <th>4</th>\n",
       "      <td>16</td>\n",
       "      <td>56aec740f1ef260003e307d6</td>\n",
       "      <td>Mon Feb 01 01:00:00 CET 2016</td>\n",
       "      <td>2</td>\n",
       "      <td>16_56aec740f1ef260003e307d6</td>\n",
       "      <td>0</td>\n",
       "    </tr>\n",
       "  </tbody>\n",
       "</table>\n",
       "</div>"
      ],
      "text/plain": [
       "   employee              companyAlias                      voteDate  vote  \\\n",
       "0        31  56aec740f1ef260003e307d6  Mon Feb 01 01:00:00 CET 2016     4   \n",
       "1        33  56aec740f1ef260003e307d6  Mon Feb 01 01:00:00 CET 2016     4   \n",
       "2        79  56aec740f1ef260003e307d6  Mon Feb 01 01:00:00 CET 2016     4   \n",
       "3        94  56aec740f1ef260003e307d6  Mon Feb 01 01:00:00 CET 2016     4   \n",
       "4        16  56aec740f1ef260003e307d6  Mon Feb 01 01:00:00 CET 2016     2   \n",
       "\n",
       "              employee_company  flag4  \n",
       "0  31_56aec740f1ef260003e307d6      1  \n",
       "1  33_56aec740f1ef260003e307d6      1  \n",
       "2  79_56aec740f1ef260003e307d6      1  \n",
       "3  94_56aec740f1ef260003e307d6      1  \n",
       "4  16_56aec740f1ef260003e307d6      0  "
      ]
     },
     "execution_count": 27,
     "metadata": {},
     "output_type": "execute_result"
    }
   ],
   "source": [
    "data_votes.head()"
   ]
  },
  {
   "cell_type": "code",
   "execution_count": 28,
   "metadata": {},
   "outputs": [],
   "source": [
    "# data_churn.head()"
   ]
  },
  {
   "cell_type": "code",
   "execution_count": 29,
   "metadata": {},
   "outputs": [
    {
     "name": "stderr",
     "output_type": "stream",
     "text": [
      "/Users/alamhanz/anaconda/envs/py36/lib/python3.6/site-packages/dateutil/parser/_parser.py:1204: UnknownTimezoneWarning: tzname CET identified but not understood.  Pass `tzinfos` argument in order to correctly return a timezone-aware datetime.  In a future version, this will raise an exception.\n",
      "  category=UnknownTimezoneWarning)\n",
      "/Users/alamhanz/anaconda/envs/py36/lib/python3.6/site-packages/dateutil/parser/_parser.py:1204: UnknownTimezoneWarning: tzname CEST identified but not understood.  Pass `tzinfos` argument in order to correctly return a timezone-aware datetime.  In a future version, this will raise an exception.\n",
      "  category=UnknownTimezoneWarning)\n"
     ]
    },
    {
     "data": {
      "text/plain": [
       "Timestamp('2017-03-20 21:25:54')"
      ]
     },
     "execution_count": 29,
     "metadata": {},
     "output_type": "execute_result"
    }
   ],
   "source": [
    "overall_last_date=pd.to_datetime(data_churn.lastParticipationDate).max()\n",
    "overall_last_date"
   ]
  },
  {
   "cell_type": "code",
   "execution_count": 30,
   "metadata": {},
   "outputs": [],
   "source": [
    "delta_data=pd.to_datetime(data_votes.voteDate)-overall_last_date"
   ]
  },
  {
   "cell_type": "code",
   "execution_count": 31,
   "metadata": {},
   "outputs": [],
   "source": [
    "data_votes['range_day']=delta_data.apply(lambda x : -1*x.days)"
   ]
  },
  {
   "cell_type": "code",
   "execution_count": 32,
   "metadata": {},
   "outputs": [
    {
     "data": {
      "text/html": [
       "<div>\n",
       "<style scoped>\n",
       "    .dataframe tbody tr th:only-of-type {\n",
       "        vertical-align: middle;\n",
       "    }\n",
       "\n",
       "    .dataframe tbody tr th {\n",
       "        vertical-align: top;\n",
       "    }\n",
       "\n",
       "    .dataframe thead th {\n",
       "        text-align: right;\n",
       "    }\n",
       "</style>\n",
       "<table border=\"1\" class=\"dataframe\">\n",
       "  <thead>\n",
       "    <tr style=\"text-align: right;\">\n",
       "      <th></th>\n",
       "      <th>employee</th>\n",
       "      <th>companyAlias</th>\n",
       "      <th>voteDate</th>\n",
       "      <th>vote</th>\n",
       "      <th>employee_company</th>\n",
       "      <th>flag4</th>\n",
       "      <th>range_day</th>\n",
       "    </tr>\n",
       "  </thead>\n",
       "  <tbody>\n",
       "    <tr>\n",
       "      <th>0</th>\n",
       "      <td>31</td>\n",
       "      <td>56aec740f1ef260003e307d6</td>\n",
       "      <td>Mon Feb 01 01:00:00 CET 2016</td>\n",
       "      <td>4</td>\n",
       "      <td>31_56aec740f1ef260003e307d6</td>\n",
       "      <td>1</td>\n",
       "      <td>414</td>\n",
       "    </tr>\n",
       "    <tr>\n",
       "      <th>1</th>\n",
       "      <td>33</td>\n",
       "      <td>56aec740f1ef260003e307d6</td>\n",
       "      <td>Mon Feb 01 01:00:00 CET 2016</td>\n",
       "      <td>4</td>\n",
       "      <td>33_56aec740f1ef260003e307d6</td>\n",
       "      <td>1</td>\n",
       "      <td>414</td>\n",
       "    </tr>\n",
       "    <tr>\n",
       "      <th>2</th>\n",
       "      <td>79</td>\n",
       "      <td>56aec740f1ef260003e307d6</td>\n",
       "      <td>Mon Feb 01 01:00:00 CET 2016</td>\n",
       "      <td>4</td>\n",
       "      <td>79_56aec740f1ef260003e307d6</td>\n",
       "      <td>1</td>\n",
       "      <td>414</td>\n",
       "    </tr>\n",
       "    <tr>\n",
       "      <th>3</th>\n",
       "      <td>94</td>\n",
       "      <td>56aec740f1ef260003e307d6</td>\n",
       "      <td>Mon Feb 01 01:00:00 CET 2016</td>\n",
       "      <td>4</td>\n",
       "      <td>94_56aec740f1ef260003e307d6</td>\n",
       "      <td>1</td>\n",
       "      <td>414</td>\n",
       "    </tr>\n",
       "    <tr>\n",
       "      <th>4</th>\n",
       "      <td>16</td>\n",
       "      <td>56aec740f1ef260003e307d6</td>\n",
       "      <td>Mon Feb 01 01:00:00 CET 2016</td>\n",
       "      <td>2</td>\n",
       "      <td>16_56aec740f1ef260003e307d6</td>\n",
       "      <td>0</td>\n",
       "      <td>414</td>\n",
       "    </tr>\n",
       "  </tbody>\n",
       "</table>\n",
       "</div>"
      ],
      "text/plain": [
       "   employee              companyAlias                      voteDate  vote  \\\n",
       "0        31  56aec740f1ef260003e307d6  Mon Feb 01 01:00:00 CET 2016     4   \n",
       "1        33  56aec740f1ef260003e307d6  Mon Feb 01 01:00:00 CET 2016     4   \n",
       "2        79  56aec740f1ef260003e307d6  Mon Feb 01 01:00:00 CET 2016     4   \n",
       "3        94  56aec740f1ef260003e307d6  Mon Feb 01 01:00:00 CET 2016     4   \n",
       "4        16  56aec740f1ef260003e307d6  Mon Feb 01 01:00:00 CET 2016     2   \n",
       "\n",
       "              employee_company  flag4  range_day  \n",
       "0  31_56aec740f1ef260003e307d6      1        414  \n",
       "1  33_56aec740f1ef260003e307d6      1        414  \n",
       "2  79_56aec740f1ef260003e307d6      1        414  \n",
       "3  94_56aec740f1ef260003e307d6      1        414  \n",
       "4  16_56aec740f1ef260003e307d6      0        414  "
      ]
     },
     "execution_count": 32,
     "metadata": {},
     "output_type": "execute_result"
    }
   ],
   "source": [
    "data_votes.head()"
   ]
  },
  {
   "cell_type": "code",
   "execution_count": 33,
   "metadata": {},
   "outputs": [],
   "source": [
    "data_recency=data_votes.groupby(['employee','companyAlias']).range_day.min().reset_index()"
   ]
  },
  {
   "cell_type": "code",
   "execution_count": 34,
   "metadata": {},
   "outputs": [
    {
     "data": {
      "text/html": [
       "<div>\n",
       "<style scoped>\n",
       "    .dataframe tbody tr th:only-of-type {\n",
       "        vertical-align: middle;\n",
       "    }\n",
       "\n",
       "    .dataframe tbody tr th {\n",
       "        vertical-align: top;\n",
       "    }\n",
       "\n",
       "    .dataframe thead th {\n",
       "        text-align: right;\n",
       "    }\n",
       "</style>\n",
       "<table border=\"1\" class=\"dataframe\">\n",
       "  <thead>\n",
       "    <tr style=\"text-align: right;\">\n",
       "      <th></th>\n",
       "      <th>employee</th>\n",
       "      <th>companyAlias</th>\n",
       "      <th>range_day</th>\n",
       "    </tr>\n",
       "  </thead>\n",
       "  <tbody>\n",
       "    <tr>\n",
       "      <th>0</th>\n",
       "      <td>1</td>\n",
       "      <td>5474b9cde4b0bf7614b2c66f</td>\n",
       "      <td>846</td>\n",
       "    </tr>\n",
       "    <tr>\n",
       "      <th>1</th>\n",
       "      <td>1</td>\n",
       "      <td>54d43612e4b0f6a40755d93e</td>\n",
       "      <td>286</td>\n",
       "    </tr>\n",
       "    <tr>\n",
       "      <th>2</th>\n",
       "      <td>1</td>\n",
       "      <td>54e52607e4b01191dc064966</td>\n",
       "      <td>173</td>\n",
       "    </tr>\n",
       "    <tr>\n",
       "      <th>3</th>\n",
       "      <td>1</td>\n",
       "      <td>5641f96713664c000332c8cd</td>\n",
       "      <td>2</td>\n",
       "    </tr>\n",
       "    <tr>\n",
       "      <th>4</th>\n",
       "      <td>1</td>\n",
       "      <td>56558cfd07a5de00030908fb</td>\n",
       "      <td>478</td>\n",
       "    </tr>\n",
       "  </tbody>\n",
       "</table>\n",
       "</div>"
      ],
      "text/plain": [
       "   employee              companyAlias  range_day\n",
       "0         1  5474b9cde4b0bf7614b2c66f        846\n",
       "1         1  54d43612e4b0f6a40755d93e        286\n",
       "2         1  54e52607e4b01191dc064966        173\n",
       "3         1  5641f96713664c000332c8cd          2\n",
       "4         1  56558cfd07a5de00030908fb        478"
      ]
     },
     "execution_count": 34,
     "metadata": {},
     "output_type": "execute_result"
    }
   ],
   "source": [
    "data_recency.head()"
   ]
  },
  {
   "cell_type": "code",
   "execution_count": 35,
   "metadata": {},
   "outputs": [
    {
     "data": {
      "text/html": [
       "<div>\n",
       "<style scoped>\n",
       "    .dataframe tbody tr th:only-of-type {\n",
       "        vertical-align: middle;\n",
       "    }\n",
       "\n",
       "    .dataframe tbody tr th {\n",
       "        vertical-align: top;\n",
       "    }\n",
       "\n",
       "    .dataframe thead th {\n",
       "        text-align: right;\n",
       "    }\n",
       "</style>\n",
       "<table border=\"1\" class=\"dataframe\">\n",
       "  <thead>\n",
       "    <tr style=\"text-align: right;\">\n",
       "      <th></th>\n",
       "      <th>companyAlias</th>\n",
       "      <th>recency_mean_c</th>\n",
       "      <th>recency_std_c</th>\n",
       "    </tr>\n",
       "  </thead>\n",
       "  <tbody>\n",
       "    <tr>\n",
       "      <th>0</th>\n",
       "      <td>5370af43e4b0cff95558c12a</td>\n",
       "      <td>119.922727</td>\n",
       "      <td>174.337699</td>\n",
       "    </tr>\n",
       "    <tr>\n",
       "      <th>1</th>\n",
       "      <td>53a2dd43e4b01cc02f1e9011</td>\n",
       "      <td>245.763889</td>\n",
       "      <td>88.086336</td>\n",
       "    </tr>\n",
       "    <tr>\n",
       "      <th>2</th>\n",
       "      <td>5474b9cde4b0bf7614b2c66f</td>\n",
       "      <td>832.900000</td>\n",
       "      <td>23.544049</td>\n",
       "    </tr>\n",
       "    <tr>\n",
       "      <th>3</th>\n",
       "      <td>54d43612e4b0f6a40755d93e</td>\n",
       "      <td>218.578947</td>\n",
       "      <td>214.277680</td>\n",
       "    </tr>\n",
       "    <tr>\n",
       "      <th>4</th>\n",
       "      <td>54e52607e4b01191dc064966</td>\n",
       "      <td>202.083916</td>\n",
       "      <td>231.371128</td>\n",
       "    </tr>\n",
       "  </tbody>\n",
       "</table>\n",
       "</div>"
      ],
      "text/plain": [
       "               companyAlias  recency_mean_c  recency_std_c\n",
       "0  5370af43e4b0cff95558c12a      119.922727     174.337699\n",
       "1  53a2dd43e4b01cc02f1e9011      245.763889      88.086336\n",
       "2  5474b9cde4b0bf7614b2c66f      832.900000      23.544049\n",
       "3  54d43612e4b0f6a40755d93e      218.578947     214.277680\n",
       "4  54e52607e4b01191dc064966      202.083916     231.371128"
      ]
     },
     "execution_count": 35,
     "metadata": {},
     "output_type": "execute_result"
    }
   ],
   "source": [
    "recency_mean_std=data_recency.groupby('companyAlias').agg({'range_day':[np.mean,np.std]}).reset_index()\n",
    "recency_mean_std.columns=['companyAlias','recency_mean_c','recency_std_c']\n",
    "recency_mean_std.head()"
   ]
  },
  {
   "cell_type": "code",
   "execution_count": 36,
   "metadata": {},
   "outputs": [],
   "source": [
    "recency_merge=pd.merge(data_recency,recency_mean_std,on='companyAlias',how='left')\n",
    "recency_merge['recency_standar']=(recency_merge.range_day-recency_merge.recency_mean_c)/recency_merge.recency_std_c"
   ]
  },
  {
   "cell_type": "code",
   "execution_count": 37,
   "metadata": {},
   "outputs": [
    {
     "data": {
      "text/html": [
       "<div>\n",
       "<style scoped>\n",
       "    .dataframe tbody tr th:only-of-type {\n",
       "        vertical-align: middle;\n",
       "    }\n",
       "\n",
       "    .dataframe tbody tr th {\n",
       "        vertical-align: top;\n",
       "    }\n",
       "\n",
       "    .dataframe thead th {\n",
       "        text-align: right;\n",
       "    }\n",
       "</style>\n",
       "<table border=\"1\" class=\"dataframe\">\n",
       "  <thead>\n",
       "    <tr style=\"text-align: right;\">\n",
       "      <th></th>\n",
       "      <th>employee</th>\n",
       "      <th>companyAlias</th>\n",
       "      <th>range_day</th>\n",
       "      <th>recency_mean_c</th>\n",
       "      <th>recency_std_c</th>\n",
       "      <th>recency_standar</th>\n",
       "    </tr>\n",
       "  </thead>\n",
       "  <tbody>\n",
       "    <tr>\n",
       "      <th>0</th>\n",
       "      <td>1</td>\n",
       "      <td>5474b9cde4b0bf7614b2c66f</td>\n",
       "      <td>846</td>\n",
       "      <td>832.900000</td>\n",
       "      <td>23.544049</td>\n",
       "      <td>0.556404</td>\n",
       "    </tr>\n",
       "    <tr>\n",
       "      <th>1</th>\n",
       "      <td>1</td>\n",
       "      <td>54d43612e4b0f6a40755d93e</td>\n",
       "      <td>286</td>\n",
       "      <td>218.578947</td>\n",
       "      <td>214.277680</td>\n",
       "      <td>0.314643</td>\n",
       "    </tr>\n",
       "    <tr>\n",
       "      <th>2</th>\n",
       "      <td>1</td>\n",
       "      <td>54e52607e4b01191dc064966</td>\n",
       "      <td>173</td>\n",
       "      <td>202.083916</td>\n",
       "      <td>231.371128</td>\n",
       "      <td>-0.125702</td>\n",
       "    </tr>\n",
       "    <tr>\n",
       "      <th>3</th>\n",
       "      <td>1</td>\n",
       "      <td>5641f96713664c000332c8cd</td>\n",
       "      <td>2</td>\n",
       "      <td>67.606335</td>\n",
       "      <td>82.635914</td>\n",
       "      <td>-0.793920</td>\n",
       "    </tr>\n",
       "    <tr>\n",
       "      <th>4</th>\n",
       "      <td>1</td>\n",
       "      <td>56558cfd07a5de00030908fb</td>\n",
       "      <td>478</td>\n",
       "      <td>303.916667</td>\n",
       "      <td>60.088508</td>\n",
       "      <td>2.897115</td>\n",
       "    </tr>\n",
       "  </tbody>\n",
       "</table>\n",
       "</div>"
      ],
      "text/plain": [
       "   employee              companyAlias  range_day  recency_mean_c  \\\n",
       "0         1  5474b9cde4b0bf7614b2c66f        846      832.900000   \n",
       "1         1  54d43612e4b0f6a40755d93e        286      218.578947   \n",
       "2         1  54e52607e4b01191dc064966        173      202.083916   \n",
       "3         1  5641f96713664c000332c8cd          2       67.606335   \n",
       "4         1  56558cfd07a5de00030908fb        478      303.916667   \n",
       "\n",
       "   recency_std_c  recency_standar  \n",
       "0      23.544049         0.556404  \n",
       "1     214.277680         0.314643  \n",
       "2     231.371128        -0.125702  \n",
       "3      82.635914        -0.793920  \n",
       "4      60.088508         2.897115  "
      ]
     },
     "execution_count": 37,
     "metadata": {},
     "output_type": "execute_result"
    }
   ],
   "source": [
    "recency_merge.head()"
   ]
  },
  {
   "cell_type": "code",
   "execution_count": null,
   "metadata": {},
   "outputs": [],
   "source": []
  },
  {
   "cell_type": "code",
   "execution_count": null,
   "metadata": {},
   "outputs": [],
   "source": []
  },
  {
   "cell_type": "markdown",
   "metadata": {},
   "source": [
    "### Merge Features"
   ]
  },
  {
   "cell_type": "code",
   "execution_count": 38,
   "metadata": {},
   "outputs": [],
   "source": [
    "data_churn['label']=data_churn.stillExists.astype(int)\n",
    "data_churn['ids']=data_churn['employee'].astype(str)+'_'+data_churn['companyAlias']"
   ]
  },
  {
   "cell_type": "code",
   "execution_count": 39,
   "metadata": {},
   "outputs": [
    {
     "data": {
      "text/html": [
       "<div>\n",
       "<style scoped>\n",
       "    .dataframe tbody tr th:only-of-type {\n",
       "        vertical-align: middle;\n",
       "    }\n",
       "\n",
       "    .dataframe tbody tr th {\n",
       "        vertical-align: top;\n",
       "    }\n",
       "\n",
       "    .dataframe thead th {\n",
       "        text-align: right;\n",
       "    }\n",
       "</style>\n",
       "<table border=\"1\" class=\"dataframe\">\n",
       "  <thead>\n",
       "    <tr style=\"text-align: right;\">\n",
       "      <th></th>\n",
       "      <th>ids</th>\n",
       "      <th>companyAlias</th>\n",
       "      <th>employee</th>\n",
       "      <th>label</th>\n",
       "    </tr>\n",
       "  </thead>\n",
       "  <tbody>\n",
       "    <tr>\n",
       "      <th>0</th>\n",
       "      <td>512_56aec740f1ef260003e307d6</td>\n",
       "      <td>56aec740f1ef260003e307d6</td>\n",
       "      <td>512</td>\n",
       "      <td>1</td>\n",
       "    </tr>\n",
       "    <tr>\n",
       "      <th>1</th>\n",
       "      <td>-2_56aec740f1ef260003e307d6</td>\n",
       "      <td>56aec740f1ef260003e307d6</td>\n",
       "      <td>-2</td>\n",
       "      <td>0</td>\n",
       "    </tr>\n",
       "    <tr>\n",
       "      <th>2</th>\n",
       "      <td>2_56aec740f1ef260003e307d6</td>\n",
       "      <td>56aec740f1ef260003e307d6</td>\n",
       "      <td>2</td>\n",
       "      <td>1</td>\n",
       "    </tr>\n",
       "    <tr>\n",
       "      <th>3</th>\n",
       "      <td>487_56aec740f1ef260003e307d6</td>\n",
       "      <td>56aec740f1ef260003e307d6</td>\n",
       "      <td>487</td>\n",
       "      <td>0</td>\n",
       "    </tr>\n",
       "    <tr>\n",
       "      <th>4</th>\n",
       "      <td>3_56aec740f1ef260003e307d6</td>\n",
       "      <td>56aec740f1ef260003e307d6</td>\n",
       "      <td>3</td>\n",
       "      <td>1</td>\n",
       "    </tr>\n",
       "  </tbody>\n",
       "</table>\n",
       "</div>"
      ],
      "text/plain": [
       "                            ids              companyAlias  employee  label\n",
       "0  512_56aec740f1ef260003e307d6  56aec740f1ef260003e307d6       512      1\n",
       "1   -2_56aec740f1ef260003e307d6  56aec740f1ef260003e307d6        -2      0\n",
       "2    2_56aec740f1ef260003e307d6  56aec740f1ef260003e307d6         2      1\n",
       "3  487_56aec740f1ef260003e307d6  56aec740f1ef260003e307d6       487      0\n",
       "4    3_56aec740f1ef260003e307d6  56aec740f1ef260003e307d6         3      1"
      ]
     },
     "execution_count": 39,
     "metadata": {},
     "output_type": "execute_result"
    }
   ],
   "source": [
    "data_label=data_churn[['ids','companyAlias','employee','label']]\n",
    "data_label.head()"
   ]
  },
  {
   "cell_type": "code",
   "execution_count": 40,
   "metadata": {},
   "outputs": [],
   "source": [
    "for dd in [data_dislikes,vote_merge,data_hit4,recency_merge]:\n",
    "    dd['ids']=dd['employee'].astype(str)+'_'+dd['companyAlias']"
   ]
  },
  {
   "cell_type": "code",
   "execution_count": 41,
   "metadata": {},
   "outputs": [],
   "source": [
    "for dd in [data_dislikes,vote_merge,data_hit4,recency_merge]:\n",
    "    use_cols=list(set(dd.columns)-set(['employee','companyAlias']))\n",
    "    data_label=pd.merge(data_label,dd[use_cols],on='ids',how='left')"
   ]
  },
  {
   "cell_type": "code",
   "execution_count": 42,
   "metadata": {},
   "outputs": [],
   "source": [
    "data_label1=data_label[['ids','companyAlias','employee','dislike_cnt','dislike_percent','vote','hit4_cnt','hit4_percent','label']].fillna(0)\n",
    "data_label2=data_label[['ids','companyAlias','employee','range_day']].fillna(-1)"
   ]
  },
  {
   "cell_type": "code",
   "execution_count": 43,
   "metadata": {},
   "outputs": [],
   "source": [
    "# standardized vote and recency\n",
    "# pd.merge(vote_number,vote_mean_std,on='companyAlias',how='left')\n",
    "# recency_merge=pd.merge(data_recency,recency_mean_std,on='companyAlias',how='left')"
   ]
  },
  {
   "cell_type": "code",
   "execution_count": 44,
   "metadata": {},
   "outputs": [],
   "source": [
    "data_label1_merge=pd.merge(data_label1,vote_mean_std,on='companyAlias',how='left')\n",
    "data_label1_merge['vote_standar']=(data_label1_merge.vote-data_label1_merge.vote_mean_c)/data_label1_merge.vote_std_c\n",
    "\n",
    "data_label2_merge=pd.merge(data_label2,recency_mean_std,on='companyAlias',how='left')\n",
    "data_label2_merge['recency_standar']=(data_label2_merge.range_day-data_label2_merge.recency_mean_c)/data_label2_merge.recency_std_c"
   ]
  },
  {
   "cell_type": "code",
   "execution_count": 45,
   "metadata": {},
   "outputs": [],
   "source": [
    "data_all_train=data_label1_merge[['ids','dislike_cnt','dislike_percent','vote','hit4_cnt','hit4_percent','vote_standar','label']]\n",
    "data_all_train=pd.merge(data_all_train,data_label2_merge[['ids','range_day','recency_standar']],on='ids',how='left')"
   ]
  },
  {
   "cell_type": "code",
   "execution_count": 46,
   "metadata": {},
   "outputs": [
    {
     "data": {
      "text/html": [
       "<div>\n",
       "<style scoped>\n",
       "    .dataframe tbody tr th:only-of-type {\n",
       "        vertical-align: middle;\n",
       "    }\n",
       "\n",
       "    .dataframe tbody tr th {\n",
       "        vertical-align: top;\n",
       "    }\n",
       "\n",
       "    .dataframe thead th {\n",
       "        text-align: right;\n",
       "    }\n",
       "</style>\n",
       "<table border=\"1\" class=\"dataframe\">\n",
       "  <thead>\n",
       "    <tr style=\"text-align: right;\">\n",
       "      <th></th>\n",
       "      <th>ids</th>\n",
       "      <th>dislike_cnt</th>\n",
       "      <th>dislike_percent</th>\n",
       "      <th>vote</th>\n",
       "      <th>hit4_cnt</th>\n",
       "      <th>hit4_percent</th>\n",
       "      <th>vote_standar</th>\n",
       "      <th>label</th>\n",
       "      <th>range_day</th>\n",
       "      <th>recency_standar</th>\n",
       "    </tr>\n",
       "  </thead>\n",
       "  <tbody>\n",
       "    <tr>\n",
       "      <th>0</th>\n",
       "      <td>512_56aec740f1ef260003e307d6</td>\n",
       "      <td>4.0</td>\n",
       "      <td>0.500000</td>\n",
       "      <td>4.0</td>\n",
       "      <td>4.0</td>\n",
       "      <td>0.250000</td>\n",
       "      <td>-0.890913</td>\n",
       "      <td>1</td>\n",
       "      <td>26.0</td>\n",
       "      <td>-0.443662</td>\n",
       "    </tr>\n",
       "    <tr>\n",
       "      <th>1</th>\n",
       "      <td>-2_56aec740f1ef260003e307d6</td>\n",
       "      <td>0.0</td>\n",
       "      <td>0.000000</td>\n",
       "      <td>0.0</td>\n",
       "      <td>0.0</td>\n",
       "      <td>0.000000</td>\n",
       "      <td>-0.940104</td>\n",
       "      <td>0</td>\n",
       "      <td>-1.0</td>\n",
       "      <td>-0.705699</td>\n",
       "    </tr>\n",
       "    <tr>\n",
       "      <th>2</th>\n",
       "      <td>2_56aec740f1ef260003e307d6</td>\n",
       "      <td>28.0</td>\n",
       "      <td>0.857143</td>\n",
       "      <td>72.0</td>\n",
       "      <td>72.0</td>\n",
       "      <td>0.125000</td>\n",
       "      <td>-0.054672</td>\n",
       "      <td>1</td>\n",
       "      <td>4.0</td>\n",
       "      <td>-0.657174</td>\n",
       "    </tr>\n",
       "    <tr>\n",
       "      <th>3</th>\n",
       "      <td>487_56aec740f1ef260003e307d6</td>\n",
       "      <td>1.0</td>\n",
       "      <td>0.000000</td>\n",
       "      <td>14.0</td>\n",
       "      <td>14.0</td>\n",
       "      <td>0.214286</td>\n",
       "      <td>-0.767937</td>\n",
       "      <td>0</td>\n",
       "      <td>99.0</td>\n",
       "      <td>0.264811</td>\n",
       "    </tr>\n",
       "    <tr>\n",
       "      <th>4</th>\n",
       "      <td>487_56aec740f1ef260003e307d6</td>\n",
       "      <td>1.0</td>\n",
       "      <td>0.000000</td>\n",
       "      <td>14.0</td>\n",
       "      <td>14.0</td>\n",
       "      <td>0.214286</td>\n",
       "      <td>-0.767937</td>\n",
       "      <td>0</td>\n",
       "      <td>99.0</td>\n",
       "      <td>0.264811</td>\n",
       "    </tr>\n",
       "  </tbody>\n",
       "</table>\n",
       "</div>"
      ],
      "text/plain": [
       "                            ids  dislike_cnt  dislike_percent  vote  hit4_cnt  \\\n",
       "0  512_56aec740f1ef260003e307d6          4.0         0.500000   4.0       4.0   \n",
       "1   -2_56aec740f1ef260003e307d6          0.0         0.000000   0.0       0.0   \n",
       "2    2_56aec740f1ef260003e307d6         28.0         0.857143  72.0      72.0   \n",
       "3  487_56aec740f1ef260003e307d6          1.0         0.000000  14.0      14.0   \n",
       "4  487_56aec740f1ef260003e307d6          1.0         0.000000  14.0      14.0   \n",
       "\n",
       "   hit4_percent  vote_standar  label  range_day  recency_standar  \n",
       "0      0.250000     -0.890913      1       26.0        -0.443662  \n",
       "1      0.000000     -0.940104      0       -1.0        -0.705699  \n",
       "2      0.125000     -0.054672      1        4.0        -0.657174  \n",
       "3      0.214286     -0.767937      0       99.0         0.264811  \n",
       "4      0.214286     -0.767937      0       99.0         0.264811  "
      ]
     },
     "execution_count": 46,
     "metadata": {},
     "output_type": "execute_result"
    }
   ],
   "source": [
    "data_all_train.head()"
   ]
  },
  {
   "cell_type": "code",
   "execution_count": null,
   "metadata": {},
   "outputs": [],
   "source": []
  },
  {
   "cell_type": "markdown",
   "metadata": {},
   "source": [
    "## Data Splitting"
   ]
  },
  {
   "cell_type": "code",
   "execution_count": 47,
   "metadata": {},
   "outputs": [
    {
     "data": {
      "text/plain": [
       "0.7435845625378864"
      ]
     },
     "execution_count": 47,
     "metadata": {},
     "output_type": "execute_result"
    }
   ],
   "source": [
    "data_all_train.label.mean()"
   ]
  },
  {
   "cell_type": "code",
   "execution_count": 48,
   "metadata": {},
   "outputs": [
    {
     "data": {
      "text/plain": [
       "3464.2999999999997"
      ]
     },
     "execution_count": 48,
     "metadata": {},
     "output_type": "execute_result"
    }
   ],
   "source": [
    "len(data_all_train)*0.7"
   ]
  },
  {
   "cell_type": "code",
   "execution_count": 49,
   "metadata": {},
   "outputs": [],
   "source": [
    "data_train=data_all_train.sample(3464,random_state=123)\n",
    "data_test=data_all_train[~(data_all_train.ids.isin(data_train.ids.tolist()))]"
   ]
  },
  {
   "cell_type": "code",
   "execution_count": null,
   "metadata": {},
   "outputs": [],
   "source": []
  },
  {
   "cell_type": "markdown",
   "metadata": {},
   "source": [
    "## Modelling"
   ]
  },
  {
   "cell_type": "code",
   "execution_count": 50,
   "metadata": {},
   "outputs": [],
   "source": [
    "from sklearn.tree import DecisionTreeClassifier\n",
    "from sklearn.metrics import accuracy_score\n",
    "from sklearn.externals import joblib"
   ]
  },
  {
   "cell_type": "code",
   "execution_count": 51,
   "metadata": {},
   "outputs": [],
   "source": [
    "Xtrain=data_train[['dislike_cnt','dislike_percent','vote','hit4_cnt','hit4_percent','vote_standar','range_day','recency_standar']]\n",
    "ytrain=data_train['label']\n",
    "\n",
    "Xtest=data_test[['dislike_cnt','dislike_percent','vote','hit4_cnt','hit4_percent','vote_standar','range_day','recency_standar']]\n",
    "ytest=data_test['label']"
   ]
  },
  {
   "cell_type": "code",
   "execution_count": 52,
   "metadata": {},
   "outputs": [],
   "source": [
    "model1=DecisionTreeClassifier(max_depth=7)"
   ]
  },
  {
   "cell_type": "code",
   "execution_count": 53,
   "metadata": {},
   "outputs": [
    {
     "data": {
      "text/plain": [
       "DecisionTreeClassifier(class_weight=None, criterion='gini', max_depth=7,\n",
       "            max_features=None, max_leaf_nodes=None,\n",
       "            min_impurity_decrease=0.0, min_impurity_split=None,\n",
       "            min_samples_leaf=1, min_samples_split=2,\n",
       "            min_weight_fraction_leaf=0.0, presort=False, random_state=None,\n",
       "            splitter='best')"
      ]
     },
     "execution_count": 53,
     "metadata": {},
     "output_type": "execute_result"
    }
   ],
   "source": [
    "model1.fit(Xtrain,ytrain)"
   ]
  },
  {
   "cell_type": "code",
   "execution_count": null,
   "metadata": {},
   "outputs": [],
   "source": []
  },
  {
   "cell_type": "markdown",
   "metadata": {},
   "source": [
    "## Model Evalution"
   ]
  },
  {
   "cell_type": "code",
   "execution_count": 54,
   "metadata": {},
   "outputs": [
    {
     "data": {
      "text/plain": [
       "0.9050230946882217"
      ]
     },
     "execution_count": 54,
     "metadata": {},
     "output_type": "execute_result"
    }
   ],
   "source": [
    "accuracy_score(ytrain,model1.predict(Xtrain))"
   ]
  },
  {
   "cell_type": "code",
   "execution_count": 55,
   "metadata": {},
   "outputs": [
    {
     "data": {
      "text/plain": [
       "0.8962395543175488"
      ]
     },
     "execution_count": 55,
     "metadata": {},
     "output_type": "execute_result"
    }
   ],
   "source": [
    "accuracy_score(ytest,model1.predict(Xtest))"
   ]
  },
  {
   "cell_type": "code",
   "execution_count": 56,
   "metadata": {},
   "outputs": [],
   "source": [
    "# Xtrain"
   ]
  },
  {
   "cell_type": "code",
   "execution_count": 57,
   "metadata": {},
   "outputs": [
    {
     "data": {
      "text/plain": [
       "['DecisionTree1.joblib']"
      ]
     },
     "execution_count": 57,
     "metadata": {},
     "output_type": "execute_result"
    }
   ],
   "source": [
    "joblib.dump(model1,'DecisionTree1.joblib')"
   ]
  },
  {
   "cell_type": "code",
   "execution_count": 58,
   "metadata": {},
   "outputs": [
    {
     "data": {
      "text/plain": [
       "<matplotlib.axes._subplots.AxesSubplot at 0x1a20546c18>"
      ]
     },
     "execution_count": 58,
     "metadata": {},
     "output_type": "execute_result"
    },
    {
     "data": {
      "image/png": "[encoded data removed]",
      "text/plain": [
       "<Figure size 432x288 with 1 Axes>"
      ]
     },
     "metadata": {
      "needs_background": "light"
     },
     "output_type": "display_data"
    }
   ],
   "source": [
    "pd.DataFrame(model1.feature_importances_,\n",
    "             index=['dislike_cnt','dislike_percent','vote','hit4_cnt','hit4_percent','vote_standar',\n",
    "                    'range_day','recency_standar']).sort_values(0).plot(kind='barh')"
   ]
  },
  {
   "cell_type": "code",
   "execution_count": null,
   "metadata": {},
   "outputs": [],
   "source": []
  },
  {
   "cell_type": "code",
   "execution_count": null,
   "metadata": {},
   "outputs": [],
   "source": []
  },
  {
   "cell_type": "markdown",
   "metadata": {},
   "source": [
    "## Bias and Variance Trade-off Example"
   ]
  },
  {
   "cell_type": "code",
   "execution_count": null,
   "metadata": {},
   "outputs": [],
   "source": []
  },
  {
   "cell_type": "code",
   "execution_count": 69,
   "metadata": {},
   "outputs": [],
   "source": [
    "acc_train=[]\n",
    "acc_test=[]\n",
    "for md in [i+2 for i in range(30)]:\n",
    "    model0=DecisionTreeClassifier(max_depth=md)\n",
    "    model0.fit(Xtrain,ytrain)\n",
    "    acc_train.append(accuracy_score(ytrain,model0.predict(Xtrain)))\n",
    "    acc_test.append(accuracy_score(ytest,model0.predict(Xtest)))\n",
    "data_bv=pd.DataFrame({'accuracy train':acc_train,'accuracy test':acc_test},\n",
    "                     index=[i+2 for i in range(30)])"
   ]
  },
  {
   "cell_type": "code",
   "execution_count": 70,
   "metadata": {},
   "outputs": [],
   "source": [
    "# data_bv['accuracy test']"
   ]
  },
  {
   "cell_type": "code",
   "execution_count": 74,
   "metadata": {},
   "outputs": [
    {
     "data": {
      "text/plain": [
       "<matplotlib.axes._subplots.AxesSubplot at 0x1a2985ca20>"
      ]
     },
     "execution_count": 74,
     "metadata": {},
     "output_type": "execute_result"
    },
    {
     "data": {
      "image/png": "[encoded data removed]",
      "text/plain": [
       "<Figure size 432x288 with 1 Axes>"
      ]
     },
     "metadata": {
      "needs_background": "light"
     },
     "output_type": "display_data"
    }
   ],
   "source": [
    "data_bv[2:8].plot()"
   ]
  },
  {
   "cell_type": "code",
   "execution_count": null,
   "metadata": {},
   "outputs": [],
   "source": [
    "DecisionTreeClassifier()"
   ]
  },
  {
   "cell_type": "code",
   "execution_count": null,
   "metadata": {},
   "outputs": [],
   "source": []
  },
  {
   "cell_type": "markdown",
   "metadata": {},
   "source": [
    "## Grid Method"
   ]
  },
  {
   "cell_type": "code",
   "execution_count": 78,
   "metadata": {},
   "outputs": [],
   "source": [
    "from sklearn.model_selection import GridSearchCV"
   ]
  },
  {
   "cell_type": "code",
   "execution_count": 80,
   "metadata": {},
   "outputs": [],
   "source": [
    "parameters = {'max_depth':[5,6,7,8], 'min_samples_split':[5,6], \n",
    "              'min_samples_leaf':[3,4,5]}"
   ]
  },
  {
   "cell_type": "code",
   "execution_count": 81,
   "metadata": {},
   "outputs": [],
   "source": [
    "baseModel=DecisionTreeClassifier()\n",
    "clf = GridSearchCV(baseModel, parameters, cv=3)"
   ]
  },
  {
   "cell_type": "code",
   "execution_count": 82,
   "metadata": {},
   "outputs": [
    {
     "data": {
      "text/plain": [
       "GridSearchCV(cv=3, error_score='raise-deprecating',\n",
       "       estimator=DecisionTreeClassifier(class_weight=None, criterion='gini', max_depth=None,\n",
       "            max_features=None, max_leaf_nodes=None,\n",
       "            min_impurity_decrease=0.0, min_impurity_split=None,\n",
       "            min_samples_leaf=1, min_samples_split=2,\n",
       "            min_weight_fraction_leaf=0.0, presort=False, random_state=None,\n",
       "            splitter='best'),\n",
       "       fit_params=None, iid='warn', n_jobs=None,\n",
       "       param_grid={'max_depth': [5, 6, 7, 8], 'min_samples_split': [5, 6], 'min_samples_leaf': [3, 4, 5]},\n",
       "       pre_dispatch='2*n_jobs', refit=True, return_train_score='warn',\n",
       "       scoring=None, verbose=0)"
      ]
     },
     "execution_count": 82,
     "metadata": {},
     "output_type": "execute_result"
    }
   ],
   "source": [
    "clf.fit(Xtrain,ytrain)"
   ]
  },
  {
   "cell_type": "code",
   "execution_count": 83,
   "metadata": {},
   "outputs": [
    {
     "data": {
      "text/plain": [
       "DecisionTreeClassifier(class_weight=None, criterion='gini', max_depth=8,\n",
       "            max_features=None, max_leaf_nodes=None,\n",
       "            min_impurity_decrease=0.0, min_impurity_split=None,\n",
       "            min_samples_leaf=3, min_samples_split=5,\n",
       "            min_weight_fraction_leaf=0.0, presort=False, random_state=None,\n",
       "            splitter='best')"
      ]
     },
     "execution_count": 83,
     "metadata": {},
     "output_type": "execute_result"
    }
   ],
   "source": [
    "clf.best_estimator_"
   ]
  },
  {
   "cell_type": "code",
   "execution_count": 84,
   "metadata": {},
   "outputs": [
    {
     "data": {
      "text/plain": [
       "0.8816397228637414"
      ]
     },
     "execution_count": 84,
     "metadata": {},
     "output_type": "execute_result"
    }
   ],
   "source": [
    "clf.best_score_"
   ]
  },
  {
   "cell_type": "code",
   "execution_count": null,
   "metadata": {},
   "outputs": [],
   "source": []
  },
  {
   "cell_type": "markdown",
   "metadata": {},
   "source": [
    "## Bagging and Boosting"
   ]
  },
  {
   "cell_type": "code",
   "execution_count": 114,
   "metadata": {},
   "outputs": [],
   "source": [
    "from sklearn.ensemble import BaggingClassifier\n",
    "from sklearn.ensemble import AdaBoostClassifier"
   ]
  },
  {
   "cell_type": "code",
   "execution_count": 109,
   "metadata": {},
   "outputs": [],
   "source": [
    "modelBase=DecisionTreeClassifier(max_depth=7)\n",
    "# modelBase.fit(Xtrain,ytrain)"
   ]
  },
  {
   "cell_type": "code",
   "execution_count": 193,
   "metadata": {},
   "outputs": [],
   "source": [
    "Bag_Model=BaggingClassifier(base_estimator=modelBase, n_estimators=10, \n",
    "                            random_state=346)\n",
    "\n",
    "Bag_Model2=BaggingClassifier(base_estimator=Bag_Model, n_estimators=10, \n",
    "                            random_state=346)\n",
    "\n",
    "Boost_Model=AdaBoostClassifier(base_estimator=modelBase, n_estimators=3, \n",
    "                               learning_rate=0.07, random_state=346)"
   ]
  },
  {
   "cell_type": "code",
   "execution_count": 194,
   "metadata": {},
   "outputs": [
    {
     "data": {
      "text/plain": [
       "AdaBoostClassifier(algorithm='SAMME.R',\n",
       "          base_estimator=DecisionTreeClassifier(class_weight=None, criterion='gini', max_depth=7,\n",
       "            max_features=None, max_leaf_nodes=None,\n",
       "            min_impurity_decrease=0.0, min_impurity_split=None,\n",
       "            min_samples_leaf=1, min_samples_split=2,\n",
       "            min_weight_fraction_leaf=0.0, presort=False, random_state=None,\n",
       "            splitter='best'),\n",
       "          learning_rate=0.07, n_estimators=3, random_state=346)"
      ]
     },
     "execution_count": 194,
     "metadata": {},
     "output_type": "execute_result"
    }
   ],
   "source": [
    "Bag_Model2.fit(Xtrain,ytrain)\n",
    "Boost_Model.fit(Xtrain,ytrain)"
   ]
  },
  {
   "cell_type": "code",
   "execution_count": 195,
   "metadata": {},
   "outputs": [
    {
     "data": {
      "text/plain": [
       "0.9113741339491916"
      ]
     },
     "execution_count": 195,
     "metadata": {},
     "output_type": "execute_result"
    }
   ],
   "source": [
    "accuracy_score(ytrain,Bag_Model2.predict(Xtrain))"
   ]
  },
  {
   "cell_type": "code",
   "execution_count": 196,
   "metadata": {},
   "outputs": [
    {
     "data": {
      "text/plain": [
       "0.9344688221709007"
      ]
     },
     "execution_count": 196,
     "metadata": {},
     "output_type": "execute_result"
    }
   ],
   "source": [
    "accuracy_score(ytrain,Boost_Model.predict(Xtrain))"
   ]
  },
  {
   "cell_type": "code",
   "execution_count": null,
   "metadata": {},
   "outputs": [],
   "source": []
  },
  {
   "cell_type": "code",
   "execution_count": 197,
   "metadata": {},
   "outputs": [
    {
     "data": {
      "text/plain": [
       "0.9122562674094707"
      ]
     },
     "execution_count": 197,
     "metadata": {},
     "output_type": "execute_result"
    }
   ],
   "source": [
    "accuracy_score(ytest,Bag_Model2.predict(Xtest))"
   ]
  },
  {
   "cell_type": "code",
   "execution_count": 198,
   "metadata": {},
   "outputs": [
    {
     "data": {
      "text/plain": [
       "0.9045961002785515"
      ]
     },
     "execution_count": 198,
     "metadata": {},
     "output_type": "execute_result"
    }
   ],
   "source": [
    "accuracy_score(ytest,Boost_Model.predict(Xtest))"
   ]
  },
  {
   "cell_type": "code",
   "execution_count": null,
   "metadata": {},
   "outputs": [],
   "source": []
  },
  {
   "cell_type": "code",
   "execution_count": 199,
   "metadata": {},
   "outputs": [],
   "source": [
    "# Boost_Model=AdaBoostClassifier(base_estimator=modelBase, n_estimators=3, \n",
    "#                                learning_rate=0.07, random_state=346)\n",
    "\n",
    "acc_train=[]\n",
    "acc_test=[]\n",
    "ne_ls=[]\n",
    "lr_ls=[]\n",
    "for ne in [5,8,12,20]:\n",
    "    for lr in [0.01,0.05,0.1,0.2,0.5]:\n",
    "        Boost_Model=AdaBoostClassifier(base_estimator=modelBase, \n",
    "                                       n_estimators=ne, \n",
    "                               learning_rate=lr, random_state=346)\n",
    "        Boost_Model.fit(Xtrain,ytrain)\n",
    "        acc_train.append(accuracy_score(ytrain,Boost_Model.predict(Xtrain)))\n",
    "        acc_test.append(accuracy_score(ytest,Boost_Model.predict(Xtest)))\n",
    "        ne_ls.append(ne)\n",
    "        lr_ls.append(lr)\n",
    "        \n",
    "data_bv2=pd.DataFrame({'accuracy train':acc_train,\n",
    "                      'accuracy test':acc_test,\n",
    "                      'n estimator': ne_ls,\n",
    "                      'learning Rate': lr_ls})"
   ]
  },
  {
   "cell_type": "code",
   "execution_count": 209,
   "metadata": {},
   "outputs": [],
   "source": [
    "# sns.heatmap(pd.pivot(data_bv2,columns='learning Rate',\n",
    "#          index='n estimator',values='accuracy test'),annot=True)"
   ]
  },
  {
   "cell_type": "code",
   "execution_count": 211,
   "metadata": {},
   "outputs": [
    {
     "data": {
      "text/plain": [
       "<matplotlib.axes._subplots.AxesSubplot at 0x1a2cc85828>"
      ]
     },
     "execution_count": 211,
     "metadata": {},
     "output_type": "execute_result"
    },
    {
     "data": {
      "image/png": "[encoded data removed]",
      "text/plain": [
       "<Figure size 432x288 with 2 Axes>"
      ]
     },
     "metadata": {
      "needs_background": "light"
     },
     "output_type": "display_data"
    }
   ],
   "source": [
    "sns.heatmap(data_bv2.groupby(['n estimator',\n",
    "        'learning Rate'])['accuracy test'].mean().unstack(),annot=True)"
   ]
  },
  {
   "cell_type": "code",
   "execution_count": null,
   "metadata": {},
   "outputs": [],
   "source": []
  }
 ],
 "metadata": {
  "kernelspec": {
   "display_name": "Python 3",
   "language": "python",
   "name": "python3"
  },
  "language_info": {
   "codemirror_mode": {
    "name": "ipython",
    "version": 3
   },
   "file_extension": ".py",
   "mimetype": "text/x-python",
   "name": "python",
   "nbconvert_exporter": "python",
   "pygments_lexer": "ipython3",
   "version": "3.6.7"
  }
 },
 "nbformat": 4,
 "nbformat_minor": 4
}
