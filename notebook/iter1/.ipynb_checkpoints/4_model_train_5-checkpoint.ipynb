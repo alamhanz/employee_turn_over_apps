{
 "cells": [
  {
   "cell_type": "markdown",
   "id": "651892ae-e75f-4b77-b3f6-ae34bdf805a0",
   "metadata": {},
   "source": [
    "# Employee Turn Over - Model training\n",
    "\n",
    "training process v5\n",
    "xgboost"
   ]
  },
  {
   "cell_type": "code",
   "execution_count": null,
   "id": "5e64c60e-1142-4bc3-884f-4c5ea2d24eb8",
   "metadata": {},
   "outputs": [],
   "source": [
    "import pandas as pd\n",
    "import seaborn as sns\n",
    "import matplotlib.pyplot as plt\n",
    "import numpy as np\n",
    "import seaborn as sns\n",
    "import warnings\n",
    "import joblib\n",
    "import sys\n",
    "\n",
    "sys.path.append('../../src/')\n",
    "\n",
    "from modeleval import binary_eval\n",
    "warnings.filterwarnings(\"ignore\")\n"
   ]
  },
  {
   "cell_type": "code",
   "execution_count": 2,
   "id": "733a7776-ae23-48ae-8697-3db58de71cdb",
   "metadata": {},
   "outputs": [],
   "source": [
    "from sklearn.linear_model import LogisticRegression\n",
    "from sklearn.preprocessing import StandardScaler\n",
    "from sklearn.tree import DecisionTreeClassifier\n",
    "from sklearn.ensemble import RandomForestClassifier, AdaBoostClassifier\n",
    "from sklearn.model_selection import cross_validate\n",
    "from sklearn.svm import SVC\n",
    "from sklearn.metrics import average_precision_score, make_scorer\n",
    "import shap\n",
    "from bayes_opt import BayesianOptimization\n",
    "\n",
    "from xgboost import XGBClassifier"
   ]
  },
  {
   "cell_type": "code",
   "execution_count": 3,
   "id": "bdd1ee73-f72c-4f64-a526-9baac67cc63a",
   "metadata": {},
   "outputs": [],
   "source": [
    "# !pip install shap\n",
    "# !pip install bayesian-optimization "
   ]
  },
  {
   "cell_type": "code",
   "execution_count": 4,
   "id": "5976ed52-fe4a-4dc7-8adb-b6c2a48ad32a",
   "metadata": {},
   "outputs": [],
   "source": [
    "PATH_DATA='../../data/raw/'\n",
    "PATH_DATA_INTERIM='../../data/interim/'\n",
    "PATH_MODEL = '../../model/iter1/'\n",
    "VERS = '5'\n",
    "\n",
    "model_file = PATH_MODEL+'model_'+VERS+'.pkl'"
   ]
  },
  {
   "cell_type": "code",
   "execution_count": null,
   "id": "16f54795-6532-4af6-a6c1-20c917cf1e2d",
   "metadata": {},
   "outputs": [],
   "source": []
  },
  {
   "cell_type": "markdown",
   "id": "d77aedd4-da50-4901-a6a4-417784988b1c",
   "metadata": {},
   "source": [
    "## Get Data"
   ]
  },
  {
   "cell_type": "code",
   "execution_count": 5,
   "id": "5c2c7cc1-5203-464e-933b-14c393908788",
   "metadata": {},
   "outputs": [],
   "source": [
    "df1 = pd.read_csv(PATH_DATA_INTERIM+'iter1_interim_cln.csv')"
   ]
  },
  {
   "cell_type": "code",
   "execution_count": 6,
   "id": "3ec851a5-31d7-4040-88b9-39c3d7e7d00c",
   "metadata": {},
   "outputs": [],
   "source": [
    "## we use 1 as turn over\n",
    "df1['target'] = (df1.stillExists==False).astype(int)\n",
    "col_used = list(set(df1.columns)-set(['unique_employee_ids','stillExists','companyAlias','is_train','target']))\n",
    "\n",
    "col_used.sort() ## --> remember to sort"
   ]
  },
  {
   "cell_type": "code",
   "execution_count": 7,
   "id": "3dfeecb6-e699-4108-8c42-8a564e3a3cb6",
   "metadata": {},
   "outputs": [],
   "source": [
    "Xtrain = df1[df1.is_train == 1][col_used]\n",
    "Ytrain = df1[df1.is_train == 1]['target']\n",
    "\n",
    "Xtest = df1[df1.is_train == 0][col_used]\n",
    "Ytest = df1[df1.is_train == 0]['target']"
   ]
  },
  {
   "cell_type": "code",
   "execution_count": 8,
   "id": "884c51eb-1e01-4621-bf69-c9d542b2e3dc",
   "metadata": {},
   "outputs": [
    {
     "data": {
      "text/plain": [
       "((3338, 52), (1431, 52))"
      ]
     },
     "execution_count": 8,
     "metadata": {},
     "output_type": "execute_result"
    }
   ],
   "source": [
    "Xtrain.shape, Xtest.shape"
   ]
  },
  {
   "cell_type": "code",
   "execution_count": 9,
   "id": "7674f0c3-1fe2-4ab2-88d5-3e04c79faf94",
   "metadata": {},
   "outputs": [
    {
     "data": {
      "text/plain": [
       "(0.768424206111444, 0.7721872816212438)"
      ]
     },
     "execution_count": 9,
     "metadata": {},
     "output_type": "execute_result"
    }
   ],
   "source": [
    "1-Ytrain.mean(), 1-Ytest.mean()"
   ]
  },
  {
   "cell_type": "code",
   "execution_count": 10,
   "id": "e3b59c86-47bc-45d7-8509-14ae096348c5",
   "metadata": {},
   "outputs": [
    {
     "data": {
      "text/plain": [
       "3.166666666666667"
      ]
     },
     "execution_count": 10,
     "metadata": {},
     "output_type": "execute_result"
    }
   ],
   "source": [
    "0.76/(1-0.76)"
   ]
  },
  {
   "cell_type": "code",
   "execution_count": null,
   "id": "85f10441-54f1-4b0b-90fb-db762e4765b8",
   "metadata": {},
   "outputs": [],
   "source": []
  },
  {
   "cell_type": "markdown",
   "id": "d25546e1-0406-448e-b035-a94beadcc3d2",
   "metadata": {},
   "source": [
    "## Transformation\n",
    "\n",
    "if needed"
   ]
  },
  {
   "cell_type": "code",
   "execution_count": 11,
   "id": "7255239c-b26b-4dc8-8eba-473db847230d",
   "metadata": {},
   "outputs": [
    {
     "data": {
      "text/plain": [
       "['../../model/iter1/scaler_5.pkl']"
      ]
     },
     "execution_count": 11,
     "metadata": {},
     "output_type": "execute_result"
    }
   ],
   "source": [
    "SS = StandardScaler()\n",
    "SS.fit(Xtrain)\n",
    "\n",
    "joblib.dump(SS, PATH_MODEL+'scaler_'+VERS+'.pkl')"
   ]
  },
  {
   "cell_type": "code",
   "execution_count": 12,
   "id": "53423c30-cde5-4254-8e02-2c03f41b5e3a",
   "metadata": {},
   "outputs": [],
   "source": [
    "Xtrain_ss = pd.DataFrame(SS.transform(Xtrain), columns = col_used)\n",
    "Xtest_ss = pd.DataFrame(SS.transform(Xtest), columns = col_used)"
   ]
  },
  {
   "cell_type": "code",
   "execution_count": null,
   "id": "6385ca0b-679f-44e8-ad2a-bd24e59b17de",
   "metadata": {},
   "outputs": [],
   "source": []
  },
  {
   "cell_type": "markdown",
   "id": "071ea427-801e-4beb-abdb-4f6fd19e739b",
   "metadata": {},
   "source": [
    "## Model"
   ]
  },
  {
   "cell_type": "code",
   "execution_count": 66,
   "id": "150f25a3-c1e9-4a11-8716-724a153ec639",
   "metadata": {},
   "outputs": [],
   "source": [
    "spw = 3"
   ]
  },
  {
   "cell_type": "code",
   "execution_count": 67,
   "id": "98394529-86bc-458a-a4ed-5b16e7defc45",
   "metadata": {},
   "outputs": [],
   "source": [
    "def targ_func(y_true, y_pred):\n",
    "    diff = average_precision_score(y_true,y_pred)\n",
    "    return diff"
   ]
  },
  {
   "cell_type": "code",
   "execution_count": 68,
   "id": "d92db054-cd80-47c2-a6b3-d63478b351fa",
   "metadata": {},
   "outputs": [],
   "source": [
    "targ = make_scorer(targ_func, greater_is_better=True)\n",
    "def loss_target(max_depth,learning_rate,n_estimators,\n",
    "                 gamma, reg_alpha,reg_lambda,X=Xtrain_ss,y=Ytrain, scale = spw):\n",
    "\n",
    "    md= int(max_depth)\n",
    "    lr= max(learning_rate,0)\n",
    "    ne= int(n_estimators)\n",
    "    gamma= max(gamma, 0) # 0\n",
    "    ra= max(reg_alpha, 0) # 0\n",
    "    rl= max(reg_lambda, 0) # 1\n",
    "    see= 123\n",
    "\n",
    "    xgB=XGBClassifier(objective='binary:logistic',max_depth=md,learning_rate=lr,\n",
    "                     n_estimators=ne,gamma=gamma,reg_alpha=ra,reg_lambda=rl,seed=see,scale_pos_weight=scale,\n",
    "                      n_jobs=3)\n",
    "    cv_results = cross_validate(xgB, X, y, cv=5, scoring=targ, n_jobs= 3)\n",
    "    return cv_results['test_score'].mean()\n"
   ]
  },
  {
   "cell_type": "code",
   "execution_count": 69,
   "id": "8c7f818d-3258-4458-958c-8b47d10735cc",
   "metadata": {},
   "outputs": [
    {
     "name": "stdout",
     "output_type": "stream",
     "text": [
      "|   iter    |  target   |   gamma   | learni... | max_depth | n_esti... | reg_alpha | reg_la... |\n",
      "-------------------------------------------------------------------------------------------------\n",
      "| \u001b[0m 1       \u001b[0m | \u001b[0m 0.4681  \u001b[0m | \u001b[0m 1.463   \u001b[0m | \u001b[0m 0.02622 \u001b[0m | \u001b[0m 8.154   \u001b[0m | \u001b[0m 46.52   \u001b[0m | \u001b[0m 2.507   \u001b[0m | \u001b[0m 1.666   \u001b[0m |\n",
      "| \u001b[95m 2       \u001b[0m | \u001b[95m 0.4778  \u001b[0m | \u001b[95m 1.108   \u001b[0m | \u001b[95m 0.07213 \u001b[0m | \u001b[95m 11.89   \u001b[0m | \u001b[95m 42.69   \u001b[0m | \u001b[95m 2.545   \u001b[0m | \u001b[95m 1.873   \u001b[0m |\n",
      "| \u001b[0m 3       \u001b[0m | \u001b[0m 0.4711  \u001b[0m | \u001b[0m 1.354   \u001b[0m | \u001b[0m 0.03455 \u001b[0m | \u001b[0m 14.61   \u001b[0m | \u001b[0m 56.95   \u001b[0m | \u001b[0m 2.796   \u001b[0m | \u001b[0m 2.222   \u001b[0m |\n",
      "| \u001b[0m 4       \u001b[0m | \u001b[0m 0.4754  \u001b[0m | \u001b[0m 1.701   \u001b[0m | \u001b[0m 0.0979  \u001b[0m | \u001b[0m 9.96    \u001b[0m | \u001b[0m 40.71   \u001b[0m | \u001b[0m 2.141   \u001b[0m | \u001b[0m 2.4     \u001b[0m |\n",
      "| \u001b[0m 5       \u001b[0m | \u001b[0m 0.4737  \u001b[0m | \u001b[0m 1.009   \u001b[0m | \u001b[0m 0.08776 \u001b[0m | \u001b[0m 14.67   \u001b[0m | \u001b[0m 57.34   \u001b[0m | \u001b[0m 2.986   \u001b[0m | \u001b[0m 2.283   \u001b[0m |\n",
      "| \u001b[0m 6       \u001b[0m | \u001b[0m 0.4668  \u001b[0m | \u001b[0m 1.311   \u001b[0m | \u001b[0m 0.07969 \u001b[0m | \u001b[0m 14.96   \u001b[0m | \u001b[0m 61.86   \u001b[0m | \u001b[0m 1.603   \u001b[0m | \u001b[0m 2.13    \u001b[0m |\n",
      "| \u001b[0m 7       \u001b[0m | \u001b[0m 0.4748  \u001b[0m | \u001b[0m 0.9931  \u001b[0m | \u001b[0m 0.04483 \u001b[0m | \u001b[0m 9.533   \u001b[0m | \u001b[0m 69.4    \u001b[0m | \u001b[0m 2.543   \u001b[0m | \u001b[0m 1.931   \u001b[0m |\n",
      "| \u001b[0m 8       \u001b[0m | \u001b[0m 0.4673  \u001b[0m | \u001b[0m 1.643   \u001b[0m | \u001b[0m 0.08163 \u001b[0m | \u001b[0m 12.25   \u001b[0m | \u001b[0m 53.13   \u001b[0m | \u001b[0m 1.756   \u001b[0m | \u001b[0m 1.701   \u001b[0m |\n",
      "| \u001b[0m 9       \u001b[0m | \u001b[0m 0.4722  \u001b[0m | \u001b[0m 1.317   \u001b[0m | \u001b[0m 0.06315 \u001b[0m | \u001b[0m 13.87   \u001b[0m | \u001b[0m 60.7    \u001b[0m | \u001b[0m 1.704   \u001b[0m | \u001b[0m 1.848   \u001b[0m |\n",
      "| \u001b[0m 10      \u001b[0m | \u001b[0m 0.4719  \u001b[0m | \u001b[0m 1.397   \u001b[0m | \u001b[0m 0.03714 \u001b[0m | \u001b[0m 12.46   \u001b[0m | \u001b[0m 66.91   \u001b[0m | \u001b[0m 2.473   \u001b[0m | \u001b[0m 1.759   \u001b[0m |\n",
      "| \u001b[0m 11      \u001b[0m | \u001b[0m 0.4683  \u001b[0m | \u001b[0m 1.256   \u001b[0m | \u001b[0m 0.08179 \u001b[0m | \u001b[0m 12.54   \u001b[0m | \u001b[0m 66.05   \u001b[0m | \u001b[0m 1.51    \u001b[0m | \u001b[0m 2.414   \u001b[0m |\n",
      "| \u001b[0m 12      \u001b[0m | \u001b[0m 0.4701  \u001b[0m | \u001b[0m 1.316   \u001b[0m | \u001b[0m 0.08982 \u001b[0m | \u001b[0m 14.59   \u001b[0m | \u001b[0m 58.93   \u001b[0m | \u001b[0m 1.935   \u001b[0m | \u001b[0m 2.271   \u001b[0m |\n",
      "| \u001b[0m 13      \u001b[0m | \u001b[0m 0.4757  \u001b[0m | \u001b[0m 1.349   \u001b[0m | \u001b[0m 0.03786 \u001b[0m | \u001b[0m 9.948   \u001b[0m | \u001b[0m 56.02   \u001b[0m | \u001b[0m 2.786   \u001b[0m | \u001b[0m 2.018   \u001b[0m |\n",
      "| \u001b[0m 14      \u001b[0m | \u001b[0m 0.4674  \u001b[0m | \u001b[0m 1.268   \u001b[0m | \u001b[0m 0.08446 \u001b[0m | \u001b[0m 9.743   \u001b[0m | \u001b[0m 63.3    \u001b[0m | \u001b[0m 1.748   \u001b[0m | \u001b[0m 1.935   \u001b[0m |\n",
      "| \u001b[0m 15      \u001b[0m | \u001b[0m 0.4723  \u001b[0m | \u001b[0m 1.641   \u001b[0m | \u001b[0m 0.06431 \u001b[0m | \u001b[0m 10.83   \u001b[0m | \u001b[0m 43.84   \u001b[0m | \u001b[0m 1.928   \u001b[0m | \u001b[0m 2.05    \u001b[0m |\n",
      "| \u001b[0m 16      \u001b[0m | \u001b[0m 0.4709  \u001b[0m | \u001b[0m 1.037   \u001b[0m | \u001b[0m 0.05397 \u001b[0m | \u001b[0m 13.18   \u001b[0m | \u001b[0m 65.52   \u001b[0m | \u001b[0m 2.722   \u001b[0m | \u001b[0m 2.332   \u001b[0m |\n",
      "| \u001b[0m 17      \u001b[0m | \u001b[0m 0.4677  \u001b[0m | \u001b[0m 1.688   \u001b[0m | \u001b[0m 0.04673 \u001b[0m | \u001b[0m 12.12   \u001b[0m | \u001b[0m 62.28   \u001b[0m | \u001b[0m 1.786   \u001b[0m | \u001b[0m 1.543   \u001b[0m |\n",
      "| \u001b[0m 18      \u001b[0m | \u001b[0m 0.471   \u001b[0m | \u001b[0m 1.79    \u001b[0m | \u001b[0m 0.04807 \u001b[0m | \u001b[0m 14.45   \u001b[0m | \u001b[0m 55.2    \u001b[0m | \u001b[0m 2.48    \u001b[0m | \u001b[0m 1.845   \u001b[0m |\n",
      "| \u001b[0m 19      \u001b[0m | \u001b[0m 0.4696  \u001b[0m | \u001b[0m 1.371   \u001b[0m | \u001b[0m 0.06276 \u001b[0m | \u001b[0m 9.772   \u001b[0m | \u001b[0m 40.74   \u001b[0m | \u001b[0m 1.835   \u001b[0m | \u001b[0m 1.55    \u001b[0m |\n",
      "| \u001b[0m 20      \u001b[0m | \u001b[0m 0.4636  \u001b[0m | \u001b[0m 1.208   \u001b[0m | \u001b[0m 0.02751 \u001b[0m | \u001b[0m 8.199   \u001b[0m | \u001b[0m 52.35   \u001b[0m | \u001b[0m 2.035   \u001b[0m | \u001b[0m 2.296   \u001b[0m |\n",
      "| \u001b[0m 21      \u001b[0m | \u001b[0m 0.4671  \u001b[0m | \u001b[0m 1.155   \u001b[0m | \u001b[0m 0.02377 \u001b[0m | \u001b[0m 8.706   \u001b[0m | \u001b[0m 52.19   \u001b[0m | \u001b[0m 2.256   \u001b[0m | \u001b[0m 2.158   \u001b[0m |\n",
      "| \u001b[0m 22      \u001b[0m | \u001b[0m 0.4771  \u001b[0m | \u001b[0m 1.189   \u001b[0m | \u001b[0m 0.04335 \u001b[0m | \u001b[0m 13.28   \u001b[0m | \u001b[0m 58.61   \u001b[0m | \u001b[0m 2.2     \u001b[0m | \u001b[0m 2.183   \u001b[0m |\n",
      "| \u001b[0m 23      \u001b[0m | \u001b[0m 0.4773  \u001b[0m | \u001b[0m 0.7605  \u001b[0m | \u001b[0m 0.06621 \u001b[0m | \u001b[0m 8.825   \u001b[0m | \u001b[0m 46.64   \u001b[0m | \u001b[0m 2.521   \u001b[0m | \u001b[0m 1.762   \u001b[0m |\n",
      "| \u001b[0m 24      \u001b[0m | \u001b[0m 0.4712  \u001b[0m | \u001b[0m 1.422   \u001b[0m | \u001b[0m 0.09223 \u001b[0m | \u001b[0m 14.92   \u001b[0m | \u001b[0m 60.86   \u001b[0m | \u001b[0m 2.132   \u001b[0m | \u001b[0m 1.602   \u001b[0m |\n",
      "| \u001b[0m 25      \u001b[0m | \u001b[0m 0.4744  \u001b[0m | \u001b[0m 0.7661  \u001b[0m | \u001b[0m 0.05185 \u001b[0m | \u001b[0m 11.3    \u001b[0m | \u001b[0m 56.47   \u001b[0m | \u001b[0m 2.535   \u001b[0m | \u001b[0m 1.715   \u001b[0m |\n",
      "| \u001b[0m 26      \u001b[0m | \u001b[0m 0.4726  \u001b[0m | \u001b[0m 1.239   \u001b[0m | \u001b[0m 0.07026 \u001b[0m | \u001b[0m 11.63   \u001b[0m | \u001b[0m 42.96   \u001b[0m | \u001b[0m 2.393   \u001b[0m | \u001b[0m 1.917   \u001b[0m |\n",
      "| \u001b[0m 27      \u001b[0m | \u001b[0m 0.4626  \u001b[0m | \u001b[0m 1.302   \u001b[0m | \u001b[0m 0.02153 \u001b[0m | \u001b[0m 14.16   \u001b[0m | \u001b[0m 57.25   \u001b[0m | \u001b[0m 1.6     \u001b[0m | \u001b[0m 1.704   \u001b[0m |\n",
      "| \u001b[0m 28      \u001b[0m | \u001b[0m 0.471   \u001b[0m | \u001b[0m 0.8998  \u001b[0m | \u001b[0m 0.09957 \u001b[0m | \u001b[0m 11.97   \u001b[0m | \u001b[0m 42.36   \u001b[0m | \u001b[0m 2.34    \u001b[0m | \u001b[0m 1.833   \u001b[0m |\n",
      "| \u001b[0m 29      \u001b[0m | \u001b[0m 0.4743  \u001b[0m | \u001b[0m 1.007   \u001b[0m | \u001b[0m 0.07657 \u001b[0m | \u001b[0m 11.99   \u001b[0m | \u001b[0m 42.92   \u001b[0m | \u001b[0m 2.645   \u001b[0m | \u001b[0m 1.695   \u001b[0m |\n",
      "| \u001b[0m 30      \u001b[0m | \u001b[0m 0.4747  \u001b[0m | \u001b[0m 0.9694  \u001b[0m | \u001b[0m 0.06153 \u001b[0m | \u001b[0m 10.57   \u001b[0m | \u001b[0m 65.66   \u001b[0m | \u001b[0m 1.904   \u001b[0m | \u001b[0m 1.881   \u001b[0m |\n",
      "| \u001b[0m 31      \u001b[0m | \u001b[0m 0.4637  \u001b[0m | \u001b[0m 1.228   \u001b[0m | \u001b[0m 0.07197 \u001b[0m | \u001b[0m 13.9    \u001b[0m | \u001b[0m 60.7    \u001b[0m | \u001b[0m 1.542   \u001b[0m | \u001b[0m 1.89    \u001b[0m |\n",
      "| \u001b[0m 32      \u001b[0m | \u001b[0m 0.4743  \u001b[0m | \u001b[0m 1.328   \u001b[0m | \u001b[0m 0.03605 \u001b[0m | \u001b[0m 12.91   \u001b[0m | \u001b[0m 69.81   \u001b[0m | \u001b[0m 2.388   \u001b[0m | \u001b[0m 1.86    \u001b[0m |\n",
      "| \u001b[0m 33      \u001b[0m | \u001b[0m 0.4691  \u001b[0m | \u001b[0m 1.627   \u001b[0m | \u001b[0m 0.08874 \u001b[0m | \u001b[0m 14.17   \u001b[0m | \u001b[0m 58.98   \u001b[0m | \u001b[0m 2.69    \u001b[0m | \u001b[0m 2.353   \u001b[0m |\n",
      "| \u001b[0m 34      \u001b[0m | \u001b[0m 0.4698  \u001b[0m | \u001b[0m 0.7626  \u001b[0m | \u001b[0m 0.0614  \u001b[0m | \u001b[0m 14.2    \u001b[0m | \u001b[0m 43.15   \u001b[0m | \u001b[0m 1.914   \u001b[0m | \u001b[0m 2.487   \u001b[0m |\n",
      "| \u001b[0m 35      \u001b[0m | \u001b[0m 0.4648  \u001b[0m | \u001b[0m 1.588   \u001b[0m | \u001b[0m 0.06389 \u001b[0m | \u001b[0m 14.23   \u001b[0m | \u001b[0m 42.97   \u001b[0m | \u001b[0m 1.69    \u001b[0m | \u001b[0m 1.797   \u001b[0m |\n",
      "=================================================================================================\n"
     ]
    }
   ],
   "source": [
    "xgbBO = BayesianOptimization(loss_target,{'max_depth': (8,15),'learning_rate': (0.02, 0.1),\n",
    "                                            'n_estimators': (40,70),'gamma': (0.75, 2),'reg_alpha': (1.5, 3),\n",
    "                                            'reg_lambda': (1.5, 2.5)})\n",
    "\n",
    "xgbBO.maximize(init_points=25, n_iter=10)"
   ]
  },
  {
   "cell_type": "code",
   "execution_count": 70,
   "id": "4e40c6c4-8e61-4fa7-8a87-c4f9ddc31dff",
   "metadata": {},
   "outputs": [
    {
     "data": {
      "text/plain": [
       "{'gamma': 1.1080644963280926,\n",
       " 'learning_rate': 0.07212673014192564,\n",
       " 'max_depth': 11.891078812731003,\n",
       " 'n_estimators': 42.687630085542935,\n",
       " 'reg_alpha': 2.544938701139305,\n",
       " 'reg_lambda': 1.8726335061815005}"
      ]
     },
     "execution_count": 70,
     "metadata": {},
     "output_type": "execute_result"
    }
   ],
   "source": [
    "used_param = xgbBO.max['params']\n",
    "used_param"
   ]
  },
  {
   "cell_type": "code",
   "execution_count": 71,
   "id": "e2d80d96-6247-4728-a1c8-83e2cf83f3c0",
   "metadata": {},
   "outputs": [],
   "source": [
    "used_param['n_jobs'] = 3\n",
    "used_param['objective']='binary:logistic'\n",
    "used_param['scale_pos_weight']=spw\n",
    "for c in ['max_depth','n_estimators']:\n",
    "    used_param[c] = int(used_param[c])"
   ]
  },
  {
   "cell_type": "code",
   "execution_count": 72,
   "id": "bab87b13-67d3-4f22-84b6-20ae99dce20e",
   "metadata": {},
   "outputs": [
    {
     "name": "stdout",
     "output_type": "stream",
     "text": [
      "[23:06:50] WARNING: C:/Users/Administrator/workspace/xgboost-win64_release_1.5.0/src/learner.cc:1115: Starting in XGBoost 1.3.0, the default evaluation metric used with the objective 'binary:logistic' was changed from 'error' to 'logloss'. Explicitly set eval_metric if you'd like to restore the old behavior.\n"
     ]
    },
    {
     "data": {
      "text/plain": [
       "XGBClassifier(base_score=0.5, booster='gbtree', colsample_bylevel=1,\n",
       "              colsample_bynode=1, colsample_bytree=1, enable_categorical=False,\n",
       "              gamma=1.1080644963280926, gpu_id=-1, importance_type=None,\n",
       "              interaction_constraints='', learning_rate=0.07212673014192564,\n",
       "              max_delta_step=0, max_depth=11, min_child_weight=1, missing=nan,\n",
       "              monotone_constraints='()', n_estimators=42, n_jobs=3,\n",
       "              num_parallel_tree=1, predictor='auto', random_state=0,\n",
       "              reg_alpha=2.544938701139305, reg_lambda=1.8726335061815005,\n",
       "              scale_pos_weight=3, subsample=1, tree_method='exact',\n",
       "              validate_parameters=1, verbosity=None)"
      ]
     },
     "execution_count": 72,
     "metadata": {},
     "output_type": "execute_result"
    }
   ],
   "source": [
    "tModel = XGBClassifier(**used_param)\n",
    "tModel.fit(Xtrain_ss,Ytrain)"
   ]
  },
  {
   "cell_type": "code",
   "execution_count": 73,
   "id": "35785856-7c74-4575-9a72-54bd728012a6",
   "metadata": {},
   "outputs": [],
   "source": [
    "joblib.dump(tModel, model_file)\n",
    "tModel_load = joblib.load(model_file)"
   ]
  },
  {
   "cell_type": "code",
   "execution_count": null,
   "id": "747377b2-78c3-4f4d-8c37-11cd09ddcd66",
   "metadata": {},
   "outputs": [],
   "source": []
  },
  {
   "cell_type": "markdown",
   "id": "d518a72b-5b36-42fa-863f-3854880ea96d",
   "metadata": {},
   "source": [
    "## Evaluations"
   ]
  },
  {
   "cell_type": "code",
   "execution_count": 74,
   "id": "1c468e33-927c-4f31-912f-86c56237e93d",
   "metadata": {},
   "outputs": [],
   "source": [
    "%matplotlib inline"
   ]
  },
  {
   "cell_type": "code",
   "execution_count": 75,
   "id": "b17c9770-ac66-444d-bcbd-1e243510a3db",
   "metadata": {},
   "outputs": [
    {
     "name": "stdout",
     "output_type": "stream",
     "text": [
      "              precision    recall  f1-score   support\n",
      "\n",
      "           0       0.99      0.96      0.98      2565\n",
      "           1       0.88      0.97      0.92       773\n",
      "\n",
      "    accuracy                           0.96      3338\n",
      "   macro avg       0.93      0.97      0.95      3338\n",
      "weighted avg       0.97      0.96      0.96      3338\n",
      "\n",
      "aucpr :  0.8609\n",
      "aucroc :  0.9666\n"
     ]
    },
    {
     "data": {
      "text/plain": [
       "(0.8609, 0.9666)"
      ]
     },
     "execution_count": 75,
     "metadata": {},
     "output_type": "execute_result"
    },
    {
     "data": {
      "image/png": "[encoded data removed]",
      "text/plain": [
       "<Figure size 432x288 with 2 Axes>"
      ]
     },
     "metadata": {
      "needs_background": "light"
     },
     "output_type": "display_data"
    }
   ],
   "source": [
    "binary_eval(Ytrain, model=tModel_load, predictor=Xtrain_ss)"
   ]
  },
  {
   "cell_type": "code",
   "execution_count": 76,
   "id": "a6a8ad7d-1c0f-4354-a7da-2d3fce60e7d3",
   "metadata": {},
   "outputs": [
    {
     "name": "stdout",
     "output_type": "stream",
     "text": [
      "              precision    recall  f1-score   support\n",
      "\n",
      "           0       0.95      0.93      0.94      1105\n",
      "           1       0.79      0.84      0.81       326\n",
      "\n",
      "    accuracy                           0.91      1431\n",
      "   macro avg       0.87      0.89      0.88      1431\n",
      "weighted avg       0.92      0.91      0.91      1431\n",
      "\n",
      "aucpr :  0.7\n",
      "aucroc :  0.8872\n"
     ]
    },
    {
     "data": {
      "text/plain": [
       "(0.7, 0.8872)"
      ]
     },
     "execution_count": 76,
     "metadata": {},
     "output_type": "execute_result"
    },
    {
     "data": {
      "image/png": "[encoded data removed]",
      "text/plain": [
       "<Figure size 432x288 with 2 Axes>"
      ]
     },
     "metadata": {
      "needs_background": "light"
     },
     "output_type": "display_data"
    }
   ],
   "source": [
    "binary_eval(Ytest, model=tModel_load, predictor=Xtest_ss)"
   ]
  },
  {
   "cell_type": "code",
   "execution_count": null,
   "id": "994216d0-ee15-4499-a572-14b71a97ef2c",
   "metadata": {},
   "outputs": [],
   "source": []
  },
  {
   "cell_type": "markdown",
   "id": "bbd7012f-437f-46a5-90af-c28a95102af9",
   "metadata": {},
   "source": [
    "## Feature Importance"
   ]
  },
  {
   "cell_type": "code",
   "execution_count": 77,
   "id": "6a0733e1-62c2-4507-b700-7086d302d0a9",
   "metadata": {},
   "outputs": [],
   "source": [
    "explainer = shap.TreeExplainer(tModel_load)\n",
    "# masker = shap.maskers.Independent(data=Xtest_ss)\n",
    "# explainer = shap.Explainer(\n",
    "#     tModel_load, masker=masker, feature_names=Xtest_ss.columns, algorithm=\"linear\"\n",
    "# )\n",
    "shap_values = explainer.shap_values(Xtrain_ss)"
   ]
  },
  {
   "cell_type": "code",
   "execution_count": 78,
   "id": "06b779da-f1ae-499b-b946-29b37db81c6e",
   "metadata": {},
   "outputs": [
    {
     "data": {
      "image/png": "[encoded data removed]",
      "text/plain": [
       "<Figure size 576x684 with 2 Axes>"
      ]
     },
     "metadata": {
      "needs_background": "light"
     },
     "output_type": "display_data"
    }
   ],
   "source": [
    "shap.summary_plot(shap_values, features=Xtrain_ss, feature_names=Xtest_ss.columns)"
   ]
  },
  {
   "cell_type": "code",
   "execution_count": 79,
   "id": "38cab7a4-2e46-4ede-8fec-5834ed2c9ec5",
   "metadata": {},
   "outputs": [],
   "source": [
    "# shap.summary_plot(shap_values, Xtest_ss, plot_type=\"bar\")"
   ]
  },
  {
   "cell_type": "code",
   "execution_count": 80,
   "id": "4baecc08-88a6-4382-abe3-493c40e0793a",
   "metadata": {},
   "outputs": [],
   "source": [
    "# shap.initjs()\n",
    "# shap.force_plot(explainer.expected_value, shap_values, Xtest_ss)"
   ]
  },
  {
   "cell_type": "code",
   "execution_count": 81,
   "id": "372e4f40-f126-4807-9313-66d14720bd5e",
   "metadata": {},
   "outputs": [],
   "source": [
    "# shap.dependence_plot('vote_avg', shap_values, Xtest_ss)"
   ]
  },
  {
   "cell_type": "code",
   "execution_count": 82,
   "id": "2336b4db-b876-409f-bdba-d9300bacbb4c",
   "metadata": {},
   "outputs": [],
   "source": [
    "vals = np.abs(shap_values).mean(0)\n",
    "feature_names = Xtest_ss.columns\n",
    "feature_importance = pd.DataFrame(list(zip(feature_names, vals)),\n",
    "                                  columns=['col_name','feature_importance_vals'])\n",
    "feature_importance.sort_values(by=['feature_importance_vals'],\n",
    "                               ascending=False, inplace=True)"
   ]
  },
  {
   "cell_type": "code",
   "execution_count": 83,
   "id": "b57fec5e-5419-4dbb-83be-16e095599f7f",
   "metadata": {},
   "outputs": [],
   "source": [
    "feature_importance.to_csv(PATH_MODEL+'feat_importance_'+VERS+'.csv', index = False)"
   ]
  },
  {
   "cell_type": "code",
   "execution_count": 84,
   "id": "5e3899b4-b37d-43d6-9ae0-1ef04f3448b6",
   "metadata": {},
   "outputs": [
    {
     "data": {
      "text/html": [
       "<div>\n",
       "<style scoped>\n",
       "    .dataframe tbody tr th:only-of-type {\n",
       "        vertical-align: middle;\n",
       "    }\n",
       "\n",
       "    .dataframe tbody tr th {\n",
       "        vertical-align: top;\n",
       "    }\n",
       "\n",
       "    .dataframe thead th {\n",
       "        text-align: right;\n",
       "    }\n",
       "</style>\n",
       "<table border=\"1\" class=\"dataframe\">\n",
       "  <thead>\n",
       "    <tr style=\"text-align: right;\">\n",
       "      <th></th>\n",
       "      <th>col_name</th>\n",
       "      <th>feature_importance_vals</th>\n",
       "    </tr>\n",
       "  </thead>\n",
       "  <tbody>\n",
       "    <tr>\n",
       "      <th>31</th>\n",
       "      <td>turn_over_rate</td>\n",
       "      <td>1.059074</td>\n",
       "    </tr>\n",
       "    <tr>\n",
       "      <th>32</th>\n",
       "      <td>vote_avg</td>\n",
       "      <td>0.795475</td>\n",
       "    </tr>\n",
       "    <tr>\n",
       "      <th>30</th>\n",
       "      <td>reaction_cnt</td>\n",
       "      <td>0.544933</td>\n",
       "    </tr>\n",
       "    <tr>\n",
       "      <th>25</th>\n",
       "      <td>len_txt_avg</td>\n",
       "      <td>0.379717</td>\n",
       "    </tr>\n",
       "    <tr>\n",
       "      <th>24</th>\n",
       "      <td>gv_liked_per_emp_p50</td>\n",
       "      <td>0.093870</td>\n",
       "    </tr>\n",
       "  </tbody>\n",
       "</table>\n",
       "</div>"
      ],
      "text/plain": [
       "                col_name  feature_importance_vals\n",
       "31        turn_over_rate                 1.059074\n",
       "32              vote_avg                 0.795475\n",
       "30          reaction_cnt                 0.544933\n",
       "25           len_txt_avg                 0.379717\n",
       "24  gv_liked_per_emp_p50                 0.093870"
      ]
     },
     "execution_count": 84,
     "metadata": {},
     "output_type": "execute_result"
    }
   ],
   "source": [
    "feature_importance.head()"
   ]
  },
  {
   "cell_type": "code",
   "execution_count": null,
   "id": "fa68fec2-79af-4dd9-bf48-bf570bcdfc68",
   "metadata": {},
   "outputs": [],
   "source": []
  },
  {
   "cell_type": "code",
   "execution_count": null,
   "id": "5214c141-60fd-436e-94d0-8a8ab38cca0c",
   "metadata": {},
   "outputs": [],
   "source": []
  }
 ],
 "metadata": {
  "kernelspec": {
   "display_name": "droid1",
   "language": "python",
   "name": "droid1"
  },
  "language_info": {
   "codemirror_mode": {
    "name": "ipython",
    "version": 3
   },
   "file_extension": ".py",
   "mimetype": "text/x-python",
   "name": "python",
   "nbconvert_exporter": "python",
   "pygments_lexer": "ipython3",
   "version": "3.7.10"
  }
 },
 "nbformat": 4,
 "nbformat_minor": 5
}
