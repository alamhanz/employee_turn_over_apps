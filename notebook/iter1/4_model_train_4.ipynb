{
 "cells": [
  {
   "cell_type": "markdown",
   "id": "651892ae-e75f-4b77-b3f6-ae34bdf805a0",
   "metadata": {},
   "source": [
    "# Employee Turn Over - Model training\n",
    "\n",
    "training process v4\n",
    "try bayesian opt"
   ]
  },
  {
   "cell_type": "code",
   "execution_count": 1,
   "id": "5e64c60e-1142-4bc3-884f-4c5ea2d24eb8",
   "metadata": {},
   "outputs": [],
   "source": [
    "import pandas as pd\n",
    "import seaborn as sns\n",
    "import matplotlib.pyplot as plt\n",
    "import numpy as np\n",
    "import seaborn as sns\n",
    "import warnings\n",
    "import joblib\n",
    "import sys\n",
    "\n",
    "sys.path.append('../../src/')\n",
    "\n",
    "from modeleval import binary_eval\n",
    "warnings.filterwarnings(\"ignore\")\n"
   ]
  },
  {
   "cell_type": "code",
   "execution_count": 24,
   "id": "733a7776-ae23-48ae-8697-3db58de71cdb",
   "metadata": {},
   "outputs": [],
   "source": [
    "from sklearn.linear_model import LogisticRegression\n",
    "from sklearn.preprocessing import StandardScaler\n",
    "from sklearn.tree import DecisionTreeClassifier\n",
    "from sklearn.ensemble import RandomForestClassifier\n",
    "from sklearn.model_selection import cross_validate\n",
    "from sklearn.svm import SVC\n",
    "from sklearn.metrics import average_precision_score, make_scorer\n",
    "import shap\n",
    "from bayes_opt import BayesianOptimization"
   ]
  },
  {
   "cell_type": "code",
   "execution_count": 3,
   "id": "bdd1ee73-f72c-4f64-a526-9baac67cc63a",
   "metadata": {},
   "outputs": [],
   "source": [
    "# !pip install shap\n",
    "# !pip install bayesian-optimization "
   ]
  },
  {
   "cell_type": "code",
   "execution_count": 5,
   "id": "5976ed52-fe4a-4dc7-8adb-b6c2a48ad32a",
   "metadata": {},
   "outputs": [],
   "source": [
    "PATH_DATA='../../data/raw/'\n",
    "PATH_DATA_INTERIM='../../data/interim/'\n",
    "PATH_MODEL = '../../model/iter1/'\n",
    "VERS = '4'\n",
    "\n",
    "model_file = PATH_MODEL+'model_'+VERS+'.pkl'"
   ]
  },
  {
   "cell_type": "code",
   "execution_count": null,
   "id": "16f54795-6532-4af6-a6c1-20c917cf1e2d",
   "metadata": {},
   "outputs": [],
   "source": []
  },
  {
   "cell_type": "markdown",
   "id": "d77aedd4-da50-4901-a6a4-417784988b1c",
   "metadata": {},
   "source": [
    "## Get Data"
   ]
  },
  {
   "cell_type": "code",
   "execution_count": 6,
   "id": "5c2c7cc1-5203-464e-933b-14c393908788",
   "metadata": {},
   "outputs": [],
   "source": [
    "df1 = pd.read_csv(PATH_DATA_INTERIM+'iter1_interim_cln.csv')"
   ]
  },
  {
   "cell_type": "code",
   "execution_count": 7,
   "id": "3ec851a5-31d7-4040-88b9-39c3d7e7d00c",
   "metadata": {},
   "outputs": [],
   "source": [
    "## we use 1 as turn over\n",
    "df1['target'] = (df1.stillExists==False).astype(int)\n",
    "col_used = list(set(df1.columns)-set(['unique_employee_ids','stillExists','companyAlias','is_train','target']))\n",
    "\n",
    "col_used.sort() ## --> remember to sort"
   ]
  },
  {
   "cell_type": "code",
   "execution_count": 8,
   "id": "3dfeecb6-e699-4108-8c42-8a564e3a3cb6",
   "metadata": {},
   "outputs": [],
   "source": [
    "Xtrain = df1[df1.is_train == 1][col_used]\n",
    "Ytrain = df1[df1.is_train == 1]['target']\n",
    "\n",
    "Xtest = df1[df1.is_train == 0][col_used]\n",
    "Ytest = df1[df1.is_train == 0]['target']"
   ]
  },
  {
   "cell_type": "code",
   "execution_count": 9,
   "id": "884c51eb-1e01-4621-bf69-c9d542b2e3dc",
   "metadata": {},
   "outputs": [
    {
     "data": {
      "text/plain": [
       "((3338, 52), (1431, 52))"
      ]
     },
     "execution_count": 9,
     "metadata": {},
     "output_type": "execute_result"
    }
   ],
   "source": [
    "Xtrain.shape, Xtest.shape"
   ]
  },
  {
   "cell_type": "code",
   "execution_count": 10,
   "id": "7674f0c3-1fe2-4ab2-88d5-3e04c79faf94",
   "metadata": {},
   "outputs": [
    {
     "data": {
      "text/plain": [
       "(0.768424206111444, 0.7721872816212438)"
      ]
     },
     "execution_count": 10,
     "metadata": {},
     "output_type": "execute_result"
    }
   ],
   "source": [
    "1-Ytrain.mean(), 1-Ytest.mean()"
   ]
  },
  {
   "cell_type": "code",
   "execution_count": null,
   "id": "85f10441-54f1-4b0b-90fb-db762e4765b8",
   "metadata": {},
   "outputs": [],
   "source": []
  },
  {
   "cell_type": "markdown",
   "id": "d25546e1-0406-448e-b035-a94beadcc3d2",
   "metadata": {},
   "source": [
    "## Transformation\n",
    "\n",
    "if needed"
   ]
  },
  {
   "cell_type": "code",
   "execution_count": 11,
   "id": "7255239c-b26b-4dc8-8eba-473db847230d",
   "metadata": {},
   "outputs": [
    {
     "data": {
      "text/plain": [
       "['../../model/iter1/scaler_4.pkl']"
      ]
     },
     "execution_count": 11,
     "metadata": {},
     "output_type": "execute_result"
    }
   ],
   "source": [
    "SS = StandardScaler()\n",
    "SS.fit(Xtrain)\n",
    "\n",
    "joblib.dump(SS, PATH_MODEL+'scaler_'+VERS+'.pkl')"
   ]
  },
  {
   "cell_type": "code",
   "execution_count": 12,
   "id": "53423c30-cde5-4254-8e02-2c03f41b5e3a",
   "metadata": {},
   "outputs": [],
   "source": [
    "Xtrain_ss = pd.DataFrame(SS.transform(Xtrain), columns = col_used)\n",
    "Xtest_ss = pd.DataFrame(SS.transform(Xtest), columns = col_used)"
   ]
  },
  {
   "cell_type": "code",
   "execution_count": null,
   "id": "6385ca0b-679f-44e8-ad2a-bd24e59b17de",
   "metadata": {},
   "outputs": [],
   "source": []
  },
  {
   "cell_type": "markdown",
   "id": "071ea427-801e-4beb-abdb-4f6fd19e739b",
   "metadata": {},
   "source": [
    "## Model"
   ]
  },
  {
   "cell_type": "code",
   "execution_count": 26,
   "id": "98394529-86bc-458a-a4ed-5b16e7defc45",
   "metadata": {},
   "outputs": [],
   "source": [
    "def targ_func(y_true, y_pred):\n",
    "    diff = average_precision_score(y_true,y_pred)\n",
    "    return diff"
   ]
  },
  {
   "cell_type": "code",
   "execution_count": 50,
   "id": "d92db054-cd80-47c2-a6b3-d63478b351fa",
   "metadata": {},
   "outputs": [],
   "source": [
    "targ = make_scorer(targ_func, greater_is_better=True)\n",
    "def loss_target(max_depth,n_estimators,min_samples_split,\n",
    "                min_samples_leaf,min_impurity_split,X=Xtrain_ss,y=Ytrain):\n",
    "\n",
    "    md= int(max_depth)\n",
    "    ne= int(n_estimators)\n",
    "    mss = int(min_samples_split)\n",
    "    msl = int(min_samples_leaf)\n",
    "    mis = max(min_impurity_split,0)\n",
    "    see= 123\n",
    "\n",
    "    model_base = RandomForestClassifier(n_estimators= ne, max_depth= md,\n",
    "                                        min_samples_split = mss,min_samples_leaf = msl,\n",
    "                                        min_impurity_split = mis,class_weight='balanced_subsample', \n",
    "                                        n_jobs = 3, random_state=145)\n",
    "#     model_base = RandomForestClassifier(random_state=123)\n",
    "    cv_results = cross_validate(model_base, X, y, cv=5, n_jobs= 3,scoring = targ)\n",
    "    return cv_results['test_score'].mean()"
   ]
  },
  {
   "cell_type": "code",
   "execution_count": 39,
   "id": "8c7f818d-3258-4458-958c-8b47d10735cc",
   "metadata": {},
   "outputs": [
    {
     "name": "stdout",
     "output_type": "stream",
     "text": [
      "|   iter    |  target   | max_depth | min_im... | min_sa... | min_sa... | n_esti... |\n",
      "-------------------------------------------------------------------------------------\n",
      "| \u001b[0m 1       \u001b[0m | \u001b[0m 0.5224  \u001b[0m | \u001b[0m 15.5    \u001b[0m | \u001b[0m 0.1783  \u001b[0m | \u001b[0m 6.479   \u001b[0m | \u001b[0m 14.91   \u001b[0m | \u001b[0m 106.3   \u001b[0m |\n",
      "| \u001b[0m 2       \u001b[0m | \u001b[0m 0.5039  \u001b[0m | \u001b[0m 22.3    \u001b[0m | \u001b[0m 0.1058  \u001b[0m | \u001b[0m 7.503   \u001b[0m | \u001b[0m 6.236   \u001b[0m | \u001b[0m 109.7   \u001b[0m |\n",
      "| \u001b[0m 3       \u001b[0m | \u001b[0m 0.4984  \u001b[0m | \u001b[0m 24.92   \u001b[0m | \u001b[0m 0.107   \u001b[0m | \u001b[0m 2.932   \u001b[0m | \u001b[0m 7.81    \u001b[0m | \u001b[0m 126.3   \u001b[0m |\n",
      "| \u001b[0m 4       \u001b[0m | \u001b[0m 0.4921  \u001b[0m | \u001b[0m 16.33   \u001b[0m | \u001b[0m 0.1538  \u001b[0m | \u001b[0m 1.343   \u001b[0m | \u001b[0m 2.223   \u001b[0m | \u001b[0m 182.3   \u001b[0m |\n",
      "| \u001b[0m 5       \u001b[0m | \u001b[0m 0.4991  \u001b[0m | \u001b[0m 20.2    \u001b[0m | \u001b[0m 0.05913 \u001b[0m | \u001b[0m 4.681   \u001b[0m | \u001b[0m 7.169   \u001b[0m | \u001b[0m 197.3   \u001b[0m |\n",
      "| \u001b[0m 6       \u001b[0m | \u001b[0m 0.4942  \u001b[0m | \u001b[0m 37.64   \u001b[0m | \u001b[0m 0.1415  \u001b[0m | \u001b[0m 1.708   \u001b[0m | \u001b[0m 7.409   \u001b[0m | \u001b[0m 130.9   \u001b[0m |\n",
      "| \u001b[0m 7       \u001b[0m | \u001b[0m 0.4884  \u001b[0m | \u001b[0m 29.09   \u001b[0m | \u001b[0m 0.0663  \u001b[0m | \u001b[0m 1.865   \u001b[0m | \u001b[0m 5.772   \u001b[0m | \u001b[0m 111.9   \u001b[0m |\n",
      "| \u001b[0m 8       \u001b[0m | \u001b[0m 0.4921  \u001b[0m | \u001b[0m 37.84   \u001b[0m | \u001b[0m 0.03335 \u001b[0m | \u001b[0m 3.013   \u001b[0m | \u001b[0m 6.014   \u001b[0m | \u001b[0m 230.1   \u001b[0m |\n",
      "| \u001b[0m 9       \u001b[0m | \u001b[0m 0.5001  \u001b[0m | \u001b[0m 36.15   \u001b[0m | \u001b[0m 0.03289 \u001b[0m | \u001b[0m 5.099   \u001b[0m | \u001b[0m 3.273   \u001b[0m | \u001b[0m 196.0   \u001b[0m |\n",
      "| \u001b[0m 10      \u001b[0m | \u001b[0m 0.5006  \u001b[0m | \u001b[0m 31.71   \u001b[0m | \u001b[0m 0.1278  \u001b[0m | \u001b[0m 1.78    \u001b[0m | \u001b[0m 10.64   \u001b[0m | \u001b[0m 184.6   \u001b[0m |\n",
      "| \u001b[0m 11      \u001b[0m | \u001b[0m 0.5033  \u001b[0m | \u001b[0m 18.27   \u001b[0m | \u001b[0m 0.183   \u001b[0m | \u001b[0m 3.758   \u001b[0m | \u001b[0m 3.584   \u001b[0m | \u001b[0m 119.5   \u001b[0m |\n",
      "| \u001b[0m 12      \u001b[0m | \u001b[0m 0.5048  \u001b[0m | \u001b[0m 16.08   \u001b[0m | \u001b[0m 0.1054  \u001b[0m | \u001b[0m 7.136   \u001b[0m | \u001b[0m 10.64   \u001b[0m | \u001b[0m 218.2   \u001b[0m |\n",
      "| \u001b[0m 13      \u001b[0m | \u001b[0m 0.4994  \u001b[0m | \u001b[0m 16.95   \u001b[0m | \u001b[0m 0.09365 \u001b[0m | \u001b[0m 1.19    \u001b[0m | \u001b[0m 12.39   \u001b[0m | \u001b[0m 211.4   \u001b[0m |\n",
      "| \u001b[0m 14      \u001b[0m | \u001b[0m 0.506   \u001b[0m | \u001b[0m 15.04   \u001b[0m | \u001b[0m 0.1189  \u001b[0m | \u001b[0m 6.519   \u001b[0m | \u001b[0m 2.28    \u001b[0m | \u001b[0m 197.5   \u001b[0m |\n",
      "| \u001b[0m 15      \u001b[0m | \u001b[0m 0.5012  \u001b[0m | \u001b[0m 24.1    \u001b[0m | \u001b[0m 0.07424 \u001b[0m | \u001b[0m 5.013   \u001b[0m | \u001b[0m 11.76   \u001b[0m | \u001b[0m 161.8   \u001b[0m |\n",
      "| \u001b[0m 16      \u001b[0m | \u001b[0m 0.5034  \u001b[0m | \u001b[0m 17.91   \u001b[0m | \u001b[0m 0.1331  \u001b[0m | \u001b[0m 2.099   \u001b[0m | \u001b[0m 17.03   \u001b[0m | \u001b[0m 207.5   \u001b[0m |\n",
      "| \u001b[0m 17      \u001b[0m | \u001b[0m 0.5092  \u001b[0m | \u001b[0m 15.54   \u001b[0m | \u001b[0m 0.1391  \u001b[0m | \u001b[0m 5.941   \u001b[0m | \u001b[0m 15.14   \u001b[0m | \u001b[0m 191.8   \u001b[0m |\n",
      "| \u001b[0m 18      \u001b[0m | \u001b[0m 0.5066  \u001b[0m | \u001b[0m 20.04   \u001b[0m | \u001b[0m 0.1366  \u001b[0m | \u001b[0m 3.638   \u001b[0m | \u001b[0m 14.68   \u001b[0m | \u001b[0m 108.9   \u001b[0m |\n",
      "| \u001b[0m 19      \u001b[0m | \u001b[0m 0.4962  \u001b[0m | \u001b[0m 25.26   \u001b[0m | \u001b[0m 0.1708  \u001b[0m | \u001b[0m 2.528   \u001b[0m | \u001b[0m 2.067   \u001b[0m | \u001b[0m 205.3   \u001b[0m |\n",
      "| \u001b[0m 20      \u001b[0m | \u001b[0m 0.5027  \u001b[0m | \u001b[0m 26.81   \u001b[0m | \u001b[0m 0.1199  \u001b[0m | \u001b[0m 5.228   \u001b[0m | \u001b[0m 15.88   \u001b[0m | \u001b[0m 108.6   \u001b[0m |\n",
      "| \u001b[0m 21      \u001b[0m | \u001b[0m 0.5069  \u001b[0m | \u001b[0m 35.08   \u001b[0m | \u001b[0m 0.1788  \u001b[0m | \u001b[0m 4.929   \u001b[0m | \u001b[0m 10.19   \u001b[0m | \u001b[0m 185.8   \u001b[0m |\n",
      "| \u001b[0m 22      \u001b[0m | \u001b[0m 0.5042  \u001b[0m | \u001b[0m 26.74   \u001b[0m | \u001b[0m 0.1254  \u001b[0m | \u001b[0m 3.092   \u001b[0m | \u001b[0m 17.1    \u001b[0m | \u001b[0m 178.3   \u001b[0m |\n",
      "| \u001b[0m 23      \u001b[0m | \u001b[0m 0.5002  \u001b[0m | \u001b[0m 25.31   \u001b[0m | \u001b[0m 0.1125  \u001b[0m | \u001b[0m 1.566   \u001b[0m | \u001b[0m 16.8    \u001b[0m | \u001b[0m 210.7   \u001b[0m |\n",
      "| \u001b[0m 24      \u001b[0m | \u001b[0m 0.5062  \u001b[0m | \u001b[0m 29.94   \u001b[0m | \u001b[0m 0.1442  \u001b[0m | \u001b[0m 4.958   \u001b[0m | \u001b[0m 11.51   \u001b[0m | \u001b[0m 195.0   \u001b[0m |\n",
      "| \u001b[0m 25      \u001b[0m | \u001b[0m 0.4972  \u001b[0m | \u001b[0m 34.55   \u001b[0m | \u001b[0m 0.02349 \u001b[0m | \u001b[0m 7.581   \u001b[0m | \u001b[0m 8.293   \u001b[0m | \u001b[0m 167.3   \u001b[0m |\n",
      "| \u001b[0m 26      \u001b[0m | \u001b[0m 0.5094  \u001b[0m | \u001b[0m 29.79   \u001b[0m | \u001b[0m 0.124   \u001b[0m | \u001b[0m 5.947   \u001b[0m | \u001b[0m 15.03   \u001b[0m | \u001b[0m 182.6   \u001b[0m |\n",
      "| \u001b[0m 27      \u001b[0m | \u001b[0m 0.4996  \u001b[0m | \u001b[0m 24.27   \u001b[0m | \u001b[0m 0.08166 \u001b[0m | \u001b[0m 1.49    \u001b[0m | \u001b[0m 16.02   \u001b[0m | \u001b[0m 196.1   \u001b[0m |\n",
      "| \u001b[0m 28      \u001b[0m | \u001b[0m 0.4929  \u001b[0m | \u001b[0m 21.97   \u001b[0m | \u001b[0m 0.02375 \u001b[0m | \u001b[0m 3.156   \u001b[0m | \u001b[0m 4.724   \u001b[0m | \u001b[0m 113.1   \u001b[0m |\n",
      "| \u001b[0m 29      \u001b[0m | \u001b[0m 0.4873  \u001b[0m | \u001b[0m 37.45   \u001b[0m | \u001b[0m 0.1881  \u001b[0m | \u001b[0m 2.285   \u001b[0m | \u001b[0m 5.697   \u001b[0m | \u001b[0m 102.5   \u001b[0m |\n",
      "| \u001b[0m 30      \u001b[0m | \u001b[0m 0.4998  \u001b[0m | \u001b[0m 34.61   \u001b[0m | \u001b[0m 0.01092 \u001b[0m | \u001b[0m 6.784   \u001b[0m | \u001b[0m 13.1    \u001b[0m | \u001b[0m 248.5   \u001b[0m |\n",
      "| \u001b[0m 31      \u001b[0m | \u001b[0m 0.4936  \u001b[0m | \u001b[0m 30.55   \u001b[0m | \u001b[0m 0.1427  \u001b[0m | \u001b[0m 2.25    \u001b[0m | \u001b[0m 6.916   \u001b[0m | \u001b[0m 188.6   \u001b[0m |\n",
      "| \u001b[0m 32      \u001b[0m | \u001b[0m 0.5077  \u001b[0m | \u001b[0m 19.29   \u001b[0m | \u001b[0m 0.1248  \u001b[0m | \u001b[0m 7.425   \u001b[0m | \u001b[0m 8.432   \u001b[0m | \u001b[0m 219.0   \u001b[0m |\n",
      "| \u001b[0m 33      \u001b[0m | \u001b[0m 0.4996  \u001b[0m | \u001b[0m 25.37   \u001b[0m | \u001b[0m 0.1122  \u001b[0m | \u001b[0m 3.726   \u001b[0m | \u001b[0m 11.4    \u001b[0m | \u001b[0m 227.8   \u001b[0m |\n",
      "| \u001b[0m 34      \u001b[0m | \u001b[0m 0.4977  \u001b[0m | \u001b[0m 16.35   \u001b[0m | \u001b[0m 0.01146 \u001b[0m | \u001b[0m 7.264   \u001b[0m | \u001b[0m 10.38   \u001b[0m | \u001b[0m 116.2   \u001b[0m |\n",
      "| \u001b[0m 35      \u001b[0m | \u001b[0m 0.4973  \u001b[0m | \u001b[0m 15.56   \u001b[0m | \u001b[0m 0.06989 \u001b[0m | \u001b[0m 7.107   \u001b[0m | \u001b[0m 2.708   \u001b[0m | \u001b[0m 143.9   \u001b[0m |\n",
      "| \u001b[0m 36      \u001b[0m | \u001b[0m 0.5044  \u001b[0m | \u001b[0m 18.72   \u001b[0m | \u001b[0m 0.1052  \u001b[0m | \u001b[0m 5.339   \u001b[0m | \u001b[0m 13.27   \u001b[0m | \u001b[0m 189.8   \u001b[0m |\n",
      "| \u001b[0m 37      \u001b[0m | \u001b[0m 0.5041  \u001b[0m | \u001b[0m 24.13   \u001b[0m | \u001b[0m 0.01535 \u001b[0m | \u001b[0m 5.742   \u001b[0m | \u001b[0m 17.94   \u001b[0m | \u001b[0m 236.7   \u001b[0m |\n",
      "| \u001b[0m 38      \u001b[0m | \u001b[0m 0.5042  \u001b[0m | \u001b[0m 18.05   \u001b[0m | \u001b[0m 0.1202  \u001b[0m | \u001b[0m 4.855   \u001b[0m | \u001b[0m 10.06   \u001b[0m | \u001b[0m 108.3   \u001b[0m |\n",
      "| \u001b[0m 39      \u001b[0m | \u001b[0m 0.5024  \u001b[0m | \u001b[0m 26.23   \u001b[0m | \u001b[0m 0.08499 \u001b[0m | \u001b[0m 6.056   \u001b[0m | \u001b[0m 8.309   \u001b[0m | \u001b[0m 246.8   \u001b[0m |\n",
      "| \u001b[0m 40      \u001b[0m | \u001b[0m 0.5022  \u001b[0m | \u001b[0m 16.15   \u001b[0m | \u001b[0m 0.1246  \u001b[0m | \u001b[0m 4.866   \u001b[0m | \u001b[0m 12.93   \u001b[0m | \u001b[0m 189.5   \u001b[0m |\n",
      "| \u001b[0m 41      \u001b[0m | \u001b[0m 0.51    \u001b[0m | \u001b[0m 16.04   \u001b[0m | \u001b[0m 0.1755  \u001b[0m | \u001b[0m 7.563   \u001b[0m | \u001b[0m 16.41   \u001b[0m | \u001b[0m 104.9   \u001b[0m |\n",
      "| \u001b[0m 42      \u001b[0m | \u001b[0m 0.5224  \u001b[0m | \u001b[0m 16.27   \u001b[0m | \u001b[0m 0.1887  \u001b[0m | \u001b[0m 6.926   \u001b[0m | \u001b[0m 15.09   \u001b[0m | \u001b[0m 108.2   \u001b[0m |\n",
      "| \u001b[95m 43      \u001b[0m | \u001b[95m 0.5235  \u001b[0m | \u001b[95m 15.0    \u001b[0m | \u001b[95m 0.19    \u001b[0m | \u001b[95m 7.385   \u001b[0m | \u001b[95m 13.51   \u001b[0m | \u001b[95m 107.6   \u001b[0m |\n",
      "| \u001b[0m 44      \u001b[0m | \u001b[0m 0.5074  \u001b[0m | \u001b[0m 15.13   \u001b[0m | \u001b[0m 0.1247  \u001b[0m | \u001b[0m 5.979   \u001b[0m | \u001b[0m 17.14   \u001b[0m | \u001b[0m 108.6   \u001b[0m |\n",
      "| \u001b[95m 45      \u001b[0m | \u001b[95m 0.5237  \u001b[0m | \u001b[95m 16.98   \u001b[0m | \u001b[95m 0.19    \u001b[0m | \u001b[95m 7.388   \u001b[0m | \u001b[95m 13.55   \u001b[0m | \u001b[95m 106.8   \u001b[0m |\n",
      "| \u001b[0m 46      \u001b[0m | \u001b[0m 0.5067  \u001b[0m | \u001b[0m 15.79   \u001b[0m | \u001b[0m 0.18    \u001b[0m | \u001b[0m 5.358   \u001b[0m | \u001b[0m 13.96   \u001b[0m | \u001b[0m 107.1   \u001b[0m |\n",
      "| \u001b[0m 47      \u001b[0m | \u001b[0m 0.4977  \u001b[0m | \u001b[0m 17.12   \u001b[0m | \u001b[0m 0.02385 \u001b[0m | \u001b[0m 6.895   \u001b[0m | \u001b[0m 14.86   \u001b[0m | \u001b[0m 106.4   \u001b[0m |\n",
      "| \u001b[0m 48      \u001b[0m | \u001b[0m 0.5075  \u001b[0m | \u001b[0m 16.78   \u001b[0m | \u001b[0m 0.1608  \u001b[0m | \u001b[0m 6.937   \u001b[0m | \u001b[0m 13.94   \u001b[0m | \u001b[0m 107.8   \u001b[0m |\n",
      "| \u001b[0m 49      \u001b[0m | \u001b[0m 0.4907  \u001b[0m | \u001b[0m 17.42   \u001b[0m | \u001b[0m 0.06322 \u001b[0m | \u001b[0m 7.351   \u001b[0m | \u001b[0m 13.3    \u001b[0m | \u001b[0m 105.3   \u001b[0m |\n",
      "| \u001b[0m 50      \u001b[0m | \u001b[0m 0.4996  \u001b[0m | \u001b[0m 20.75   \u001b[0m | \u001b[0m 0.01679 \u001b[0m | \u001b[0m 6.04    \u001b[0m | \u001b[0m 11.45   \u001b[0m | \u001b[0m 242.6   \u001b[0m |\n",
      "| \u001b[0m 51      \u001b[0m | \u001b[0m 0.5104  \u001b[0m | \u001b[0m 37.6    \u001b[0m | \u001b[0m 0.1683  \u001b[0m | \u001b[0m 2.147   \u001b[0m | \u001b[0m 14.45   \u001b[0m | \u001b[0m 228.9   \u001b[0m |\n",
      "| \u001b[0m 52      \u001b[0m | \u001b[0m 0.5039  \u001b[0m | \u001b[0m 15.83   \u001b[0m | \u001b[0m 0.1171  \u001b[0m | \u001b[0m 5.831   \u001b[0m | \u001b[0m 7.679   \u001b[0m | \u001b[0m 122.3   \u001b[0m |\n",
      "| \u001b[0m 53      \u001b[0m | \u001b[0m 0.4967  \u001b[0m | \u001b[0m 31.63   \u001b[0m | \u001b[0m 0.01326 \u001b[0m | \u001b[0m 4.245   \u001b[0m | \u001b[0m 6.137   \u001b[0m | \u001b[0m 195.9   \u001b[0m |\n",
      "| \u001b[0m 54      \u001b[0m | \u001b[0m 0.5038  \u001b[0m | \u001b[0m 16.94   \u001b[0m | \u001b[0m 0.07448 \u001b[0m | \u001b[0m 5.584   \u001b[0m | \u001b[0m 7.356   \u001b[0m | \u001b[0m 100.1   \u001b[0m |\n",
      "| \u001b[0m 55      \u001b[0m | \u001b[0m 0.5057  \u001b[0m | \u001b[0m 15.93   \u001b[0m | \u001b[0m 0.1253  \u001b[0m | \u001b[0m 7.289   \u001b[0m | \u001b[0m 14.62   \u001b[0m | \u001b[0m 107.0   \u001b[0m |\n",
      "=====================================================================================\n"
     ]
    }
   ],
   "source": [
    "xgbBO = BayesianOptimization(loss_target, {'max_depth': (15,40),'n_estimators': (100,250),\n",
    "                                            'min_samples_split': (2, 18),'min_samples_leaf': (1, 8),\n",
    "                                            'min_impurity_split': (0.01, 0.19)})\n",
    "\n",
    "xgbBO.maximize(init_points=40, n_iter=15)"
   ]
  },
  {
   "cell_type": "code",
   "execution_count": 43,
   "id": "4e40c6c4-8e61-4fa7-8a87-c4f9ddc31dff",
   "metadata": {},
   "outputs": [],
   "source": [
    "used_param = xgbBO.max['params']"
   ]
  },
  {
   "cell_type": "code",
   "execution_count": 47,
   "id": "e2d80d96-6247-4728-a1c8-83e2cf83f3c0",
   "metadata": {},
   "outputs": [],
   "source": [
    "used_param['n_jobs'] = 5\n",
    "used_param['random_state'] = 145\n",
    "\n",
    "#     md= int(max_depth)\n",
    "#     ne= int(n_estimators)\n",
    "#     mss = int(min_samples_split)\n",
    "#     msl = int(min_samples_leaf)\n",
    "for c in ['max_depth','n_estimators','min_samples_split','min_samples_leaf']:\n",
    "    used_param[c] = int(used_param[c])"
   ]
  },
  {
   "cell_type": "code",
   "execution_count": 48,
   "id": "bab87b13-67d3-4f22-84b6-20ae99dce20e",
   "metadata": {},
   "outputs": [
    {
     "data": {
      "text/plain": [
       "RandomForestClassifier(max_depth=16, min_impurity_split=0.19,\n",
       "                       min_samples_leaf=7, min_samples_split=13,\n",
       "                       n_estimators=106, n_jobs=5, random_state=145)"
      ]
     },
     "execution_count": 48,
     "metadata": {},
     "output_type": "execute_result"
    }
   ],
   "source": [
    "tModel = RandomForestClassifier(**used_param)\n",
    "tModel.fit(Xtrain_ss,Ytrain)"
   ]
  },
  {
   "cell_type": "code",
   "execution_count": 51,
   "id": "35785856-7c74-4575-9a72-54bd728012a6",
   "metadata": {},
   "outputs": [],
   "source": [
    "joblib.dump(tModel, model_file)\n",
    "tModel_load = joblib.load(model_file)"
   ]
  },
  {
   "cell_type": "code",
   "execution_count": null,
   "id": "747377b2-78c3-4f4d-8c37-11cd09ddcd66",
   "metadata": {},
   "outputs": [],
   "source": []
  },
  {
   "cell_type": "markdown",
   "id": "d518a72b-5b36-42fa-863f-3854880ea96d",
   "metadata": {},
   "source": [
    "## Evaluations"
   ]
  },
  {
   "cell_type": "code",
   "execution_count": 52,
   "id": "1c468e33-927c-4f31-912f-86c56237e93d",
   "metadata": {},
   "outputs": [],
   "source": [
    "%matplotlib inline"
   ]
  },
  {
   "cell_type": "code",
   "execution_count": 53,
   "id": "b17c9770-ac66-444d-bcbd-1e243510a3db",
   "metadata": {},
   "outputs": [
    {
     "name": "stdout",
     "output_type": "stream",
     "text": [
      "              precision    recall  f1-score   support\n",
      "\n",
      "           0       0.92      0.99      0.95      2565\n",
      "           1       0.94      0.70      0.80       773\n",
      "\n",
      "    accuracy                           0.92      3338\n",
      "   macro avg       0.93      0.84      0.88      3338\n",
      "weighted avg       0.92      0.92      0.92      3338\n",
      "\n",
      "aucpr :  0.7313\n",
      "aucroc :  0.8443\n"
     ]
    },
    {
     "data": {
      "text/plain": [
       "(0.7313, 0.8443)"
      ]
     },
     "execution_count": 53,
     "metadata": {},
     "output_type": "execute_result"
    },
    {
     "data": {
      "image/png": "[encoded data removed]",
      "text/plain": [
       "<Figure size 432x288 with 2 Axes>"
      ]
     },
     "metadata": {
      "needs_background": "light"
     },
     "output_type": "display_data"
    }
   ],
   "source": [
    "binary_eval(Ytrain, model=tModel_load, predictor=Xtrain_ss)"
   ]
  },
  {
   "cell_type": "code",
   "execution_count": 54,
   "id": "a6a8ad7d-1c0f-4354-a7da-2d3fce60e7d3",
   "metadata": {},
   "outputs": [
    {
     "name": "stdout",
     "output_type": "stream",
     "text": [
      "              precision    recall  f1-score   support\n",
      "\n",
      "           0       0.92      0.99      0.95      1105\n",
      "           1       0.94      0.71      0.81       326\n",
      "\n",
      "    accuracy                           0.92      1431\n",
      "   macro avg       0.93      0.85      0.88      1431\n",
      "weighted avg       0.93      0.92      0.92      1431\n",
      "\n",
      "aucpr :  0.7365\n",
      "aucroc :  0.8506\n"
     ]
    },
    {
     "data": {
      "text/plain": [
       "(0.7365, 0.8506)"
      ]
     },
     "execution_count": 54,
     "metadata": {},
     "output_type": "execute_result"
    },
    {
     "data": {
      "image/png": "[encoded data removed]",
      "text/plain": [
       "<Figure size 432x288 with 2 Axes>"
      ]
     },
     "metadata": {
      "needs_background": "light"
     },
     "output_type": "display_data"
    }
   ],
   "source": [
    "binary_eval(Ytest, model=tModel_load, predictor=Xtest_ss)"
   ]
  },
  {
   "cell_type": "code",
   "execution_count": null,
   "id": "994216d0-ee15-4499-a572-14b71a97ef2c",
   "metadata": {},
   "outputs": [],
   "source": []
  },
  {
   "cell_type": "markdown",
   "id": "bbd7012f-437f-46a5-90af-c28a95102af9",
   "metadata": {},
   "source": [
    "## Feature Importance"
   ]
  },
  {
   "cell_type": "code",
   "execution_count": 55,
   "id": "6a0733e1-62c2-4507-b700-7086d302d0a9",
   "metadata": {},
   "outputs": [],
   "source": [
    "explainer = shap.TreeExplainer(tModel_load,)\n",
    "# masker = shap.maskers.Independent(data=Xtest_ss)\n",
    "# explainer = shap.Explainer(\n",
    "#     tModel_load, masker=masker, feature_names=Xtest_ss.columns, algorithm=\"linear\"\n",
    "# )\n",
    "shap_values = explainer.shap_values(Xtrain_ss)"
   ]
  },
  {
   "cell_type": "code",
   "execution_count": 56,
   "id": "06b779da-f1ae-499b-b946-29b37db81c6e",
   "metadata": {},
   "outputs": [
    {
     "data": {
      "image/png": "[encoded data removed]",
      "text/plain": [
       "<Figure size 576x684 with 1 Axes>"
      ]
     },
     "metadata": {
      "needs_background": "light"
     },
     "output_type": "display_data"
    }
   ],
   "source": [
    "shap.summary_plot(shap_values, features=Xtrain_ss, feature_names=Xtest_ss.columns)"
   ]
  },
  {
   "cell_type": "code",
   "execution_count": 57,
   "id": "38cab7a4-2e46-4ede-8fec-5834ed2c9ec5",
   "metadata": {},
   "outputs": [],
   "source": [
    "# shap.summary_plot(shap_values, Xtest_ss, plot_type=\"bar\")"
   ]
  },
  {
   "cell_type": "code",
   "execution_count": 58,
   "id": "4baecc08-88a6-4382-abe3-493c40e0793a",
   "metadata": {},
   "outputs": [],
   "source": [
    "# shap.initjs()\n",
    "# shap.force_plot(explainer.expected_value, shap_values, Xtest_ss)"
   ]
  },
  {
   "cell_type": "code",
   "execution_count": 59,
   "id": "372e4f40-f126-4807-9313-66d14720bd5e",
   "metadata": {},
   "outputs": [],
   "source": [
    "# shap.dependence_plot('vote_avg', shap_values, Xtest_ss)"
   ]
  },
  {
   "cell_type": "code",
   "execution_count": 60,
   "id": "2336b4db-b876-409f-bdba-d9300bacbb4c",
   "metadata": {},
   "outputs": [],
   "source": [
    "vals = np.abs(shap_values[0]).mean(0)\n",
    "feature_names = Xtest_ss.columns\n",
    "feature_importance = pd.DataFrame(list(zip(feature_names, vals)),\n",
    "                                  columns=['col_name','feature_importance_vals'])\n",
    "feature_importance.sort_values(by=['feature_importance_vals'],\n",
    "                               ascending=False, inplace=True)"
   ]
  },
  {
   "cell_type": "code",
   "execution_count": 61,
   "id": "b57fec5e-5419-4dbb-83be-16e095599f7f",
   "metadata": {},
   "outputs": [],
   "source": [
    "feature_importance.to_csv(PATH_MODEL+'feat_importance_'+VERS+'.csv', index = False)"
   ]
  },
  {
   "cell_type": "code",
   "execution_count": 62,
   "id": "5e3899b4-b37d-43d6-9ae0-1ef04f3448b6",
   "metadata": {},
   "outputs": [
    {
     "data": {
      "text/html": [
       "<div>\n",
       "<style scoped>\n",
       "    .dataframe tbody tr th:only-of-type {\n",
       "        vertical-align: middle;\n",
       "    }\n",
       "\n",
       "    .dataframe tbody tr th {\n",
       "        vertical-align: top;\n",
       "    }\n",
       "\n",
       "    .dataframe thead th {\n",
       "        text-align: right;\n",
       "    }\n",
       "</style>\n",
       "<table border=\"1\" class=\"dataframe\">\n",
       "  <thead>\n",
       "    <tr style=\"text-align: right;\">\n",
       "      <th></th>\n",
       "      <th>col_name</th>\n",
       "      <th>feature_importance_vals</th>\n",
       "    </tr>\n",
       "  </thead>\n",
       "  <tbody>\n",
       "    <tr>\n",
       "      <th>31</th>\n",
       "      <td>turn_over_rate</td>\n",
       "      <td>0.041818</td>\n",
       "    </tr>\n",
       "    <tr>\n",
       "      <th>39</th>\n",
       "      <td>vote_p50</td>\n",
       "      <td>0.028466</td>\n",
       "    </tr>\n",
       "    <tr>\n",
       "      <th>40</th>\n",
       "      <td>vote_p75</td>\n",
       "      <td>0.026016</td>\n",
       "    </tr>\n",
       "    <tr>\n",
       "      <th>33</th>\n",
       "      <td>vote_cnt</td>\n",
       "      <td>0.024307</td>\n",
       "    </tr>\n",
       "    <tr>\n",
       "      <th>30</th>\n",
       "      <td>reaction_cnt</td>\n",
       "      <td>0.021858</td>\n",
       "    </tr>\n",
       "  </tbody>\n",
       "</table>\n",
       "</div>"
      ],
      "text/plain": [
       "          col_name  feature_importance_vals\n",
       "31  turn_over_rate                 0.041818\n",
       "39        vote_p50                 0.028466\n",
       "40        vote_p75                 0.026016\n",
       "33        vote_cnt                 0.024307\n",
       "30    reaction_cnt                 0.021858"
      ]
     },
     "execution_count": 62,
     "metadata": {},
     "output_type": "execute_result"
    }
   ],
   "source": [
    "feature_importance.head()"
   ]
  },
  {
   "cell_type": "code",
   "execution_count": null,
   "id": "fa68fec2-79af-4dd9-bf48-bf570bcdfc68",
   "metadata": {},
   "outputs": [],
   "source": []
  }
 ],
 "metadata": {
  "kernelspec": {
   "display_name": "droid1",
   "language": "python",
   "name": "droid1"
  },
  "language_info": {
   "codemirror_mode": {
    "name": "ipython",
    "version": 3
   },
   "file_extension": ".py",
   "mimetype": "text/x-python",
   "name": "python",
   "nbconvert_exporter": "python",
   "pygments_lexer": "ipython3",
   "version": "3.7.10"
  }
 },
 "nbformat": 4,
 "nbformat_minor": 5
}
