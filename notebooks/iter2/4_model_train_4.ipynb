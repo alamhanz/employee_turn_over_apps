{
 "cells": [
  {
   "cell_type": "markdown",
   "id": "651892ae-e75f-4b77-b3f6-ae34bdf805a0",
   "metadata": {},
   "source": [
    "# Employee Turn Over - Model training\n",
    "\n",
    "training process v4\n",
    "try bayesian opt"
   ]
  },
  {
   "cell_type": "code",
   "execution_count": 1,
   "id": "5e64c60e-1142-4bc3-884f-4c5ea2d24eb8",
   "metadata": {},
   "outputs": [],
   "source": [
    "import pandas as pd\n",
    "import seaborn as sns\n",
    "import matplotlib.pyplot as plt\n",
    "import numpy as np\n",
    "import seaborn as sns\n",
    "import warnings\n",
    "import joblib\n",
    "import sys\n",
    "\n",
    "sys.path.append('../../src/')\n",
    "\n",
    "from modeleval import binary_eval\n",
    "warnings.filterwarnings(\"ignore\")\n"
   ]
  },
  {
   "cell_type": "code",
   "execution_count": 2,
   "id": "733a7776-ae23-48ae-8697-3db58de71cdb",
   "metadata": {},
   "outputs": [],
   "source": [
    "from sklearn.linear_model import LogisticRegression\n",
    "from sklearn.preprocessing import StandardScaler\n",
    "from sklearn.tree import DecisionTreeClassifier\n",
    "from sklearn.ensemble import RandomForestClassifier\n",
    "from sklearn.model_selection import cross_validate\n",
    "from sklearn.svm import SVC\n",
    "from sklearn.metrics import average_precision_score, make_scorer\n",
    "import shap\n",
    "from bayes_opt import BayesianOptimization"
   ]
  },
  {
   "cell_type": "code",
   "execution_count": 3,
   "id": "bdd1ee73-f72c-4f64-a526-9baac67cc63a",
   "metadata": {},
   "outputs": [],
   "source": [
    "# !pip install shap\n",
    "# !pip install bayesian-optimization "
   ]
  },
  {
   "cell_type": "code",
   "execution_count": 4,
   "id": "5976ed52-fe4a-4dc7-8adb-b6c2a48ad32a",
   "metadata": {},
   "outputs": [],
   "source": [
    "PATH_DATA='../../data/raw/'\n",
    "PATH_DATA_INTERIM='../../data/interim/'\n",
    "PATH_MODEL = '../../model/iter1/'\n",
    "VERS = '4'\n",
    "\n",
    "model_file = PATH_MODEL+'model_'+VERS+'.pkl'"
   ]
  },
  {
   "cell_type": "code",
   "execution_count": null,
   "id": "16f54795-6532-4af6-a6c1-20c917cf1e2d",
   "metadata": {},
   "outputs": [],
   "source": []
  },
  {
   "cell_type": "markdown",
   "id": "d77aedd4-da50-4901-a6a4-417784988b1c",
   "metadata": {},
   "source": [
    "## Get Data"
   ]
  },
  {
   "cell_type": "code",
   "execution_count": 5,
   "id": "5c2c7cc1-5203-464e-933b-14c393908788",
   "metadata": {},
   "outputs": [],
   "source": [
    "df1 = pd.read_csv(PATH_DATA_INTERIM+'iter1_interim_cln.csv')"
   ]
  },
  {
   "cell_type": "code",
   "execution_count": 6,
   "id": "3ec851a5-31d7-4040-88b9-39c3d7e7d00c",
   "metadata": {},
   "outputs": [],
   "source": [
    "## we use 1 as turn over\n",
    "df1['target'] = (df1.stillExists==False).astype(int)\n",
    "col_used = list(set(df1.columns)-set(['unique_employee_ids','stillExists','companyAlias','is_train','target']))\n",
    "\n",
    "col_used.sort() ## --> remember to sort"
   ]
  },
  {
   "cell_type": "code",
   "execution_count": 7,
   "id": "3dfeecb6-e699-4108-8c42-8a564e3a3cb6",
   "metadata": {},
   "outputs": [],
   "source": [
    "Xtrain = df1[df1.is_train == 1][col_used]\n",
    "Ytrain = df1[df1.is_train == 1]['target']\n",
    "\n",
    "Xtest = df1[df1.is_train == 0][col_used]\n",
    "Ytest = df1[df1.is_train == 0]['target']"
   ]
  },
  {
   "cell_type": "code",
   "execution_count": 8,
   "id": "884c51eb-1e01-4621-bf69-c9d542b2e3dc",
   "metadata": {},
   "outputs": [
    {
     "data": {
      "text/plain": [
       "((3338, 52), (1431, 52))"
      ]
     },
     "execution_count": 8,
     "metadata": {},
     "output_type": "execute_result"
    }
   ],
   "source": [
    "Xtrain.shape, Xtest.shape"
   ]
  },
  {
   "cell_type": "code",
   "execution_count": 9,
   "id": "7674f0c3-1fe2-4ab2-88d5-3e04c79faf94",
   "metadata": {},
   "outputs": [
    {
     "data": {
      "text/plain": [
       "(0.768424206111444, 0.7721872816212438)"
      ]
     },
     "execution_count": 9,
     "metadata": {},
     "output_type": "execute_result"
    }
   ],
   "source": [
    "1-Ytrain.mean(), 1-Ytest.mean()"
   ]
  },
  {
   "cell_type": "code",
   "execution_count": null,
   "id": "85f10441-54f1-4b0b-90fb-db762e4765b8",
   "metadata": {},
   "outputs": [],
   "source": []
  },
  {
   "cell_type": "markdown",
   "id": "d25546e1-0406-448e-b035-a94beadcc3d2",
   "metadata": {},
   "source": [
    "## Transformation\n",
    "\n",
    "if needed"
   ]
  },
  {
   "cell_type": "code",
   "execution_count": 10,
   "id": "7255239c-b26b-4dc8-8eba-473db847230d",
   "metadata": {},
   "outputs": [
    {
     "data": {
      "text/plain": [
       "['../../model/iter1/scaler_4.pkl']"
      ]
     },
     "execution_count": 10,
     "metadata": {},
     "output_type": "execute_result"
    }
   ],
   "source": [
    "SS = StandardScaler()\n",
    "SS.fit(Xtrain)\n",
    "\n",
    "joblib.dump(SS, PATH_MODEL+'scaler_'+VERS+'.pkl')"
   ]
  },
  {
   "cell_type": "code",
   "execution_count": 11,
   "id": "53423c30-cde5-4254-8e02-2c03f41b5e3a",
   "metadata": {},
   "outputs": [],
   "source": [
    "Xtrain_ss = pd.DataFrame(SS.transform(Xtrain), columns = col_used)\n",
    "Xtest_ss = pd.DataFrame(SS.transform(Xtest), columns = col_used)"
   ]
  },
  {
   "cell_type": "code",
   "execution_count": null,
   "id": "6385ca0b-679f-44e8-ad2a-bd24e59b17de",
   "metadata": {},
   "outputs": [],
   "source": []
  },
  {
   "cell_type": "markdown",
   "id": "071ea427-801e-4beb-abdb-4f6fd19e739b",
   "metadata": {},
   "source": [
    "## Model"
   ]
  },
  {
   "cell_type": "code",
   "execution_count": 12,
   "id": "98394529-86bc-458a-a4ed-5b16e7defc45",
   "metadata": {},
   "outputs": [],
   "source": [
    "def targ_func(y_true, y_pred):\n",
    "    diff = average_precision_score(y_true,y_pred)\n",
    "    return diff"
   ]
  },
  {
   "cell_type": "code",
   "execution_count": 13,
   "id": "d92db054-cd80-47c2-a6b3-d63478b351fa",
   "metadata": {},
   "outputs": [],
   "source": [
    "targ = make_scorer(targ_func, greater_is_better=True)\n",
    "def loss_target(max_depth,n_estimators,min_samples_split,\n",
    "                min_samples_leaf,min_impurity_split,X=Xtrain_ss,y=Ytrain):\n",
    "\n",
    "    md= int(max_depth)\n",
    "    ne= int(n_estimators)\n",
    "    mss = int(min_samples_split)\n",
    "    msl = int(min_samples_leaf)\n",
    "    mis = max(min_impurity_split,0)\n",
    "    see= 123\n",
    "\n",
    "    model_base = RandomForestClassifier(n_estimators= ne, max_depth= md,\n",
    "                                        min_samples_split = mss,min_samples_leaf = msl,\n",
    "                                        min_impurity_split = mis,class_weight='balanced_subsample', \n",
    "                                        n_jobs = 3, random_state=145)\n",
    "#     model_base = RandomForestClassifier(random_state=123)\n",
    "    cv_results = cross_validate(model_base, X, y, cv=5, n_jobs= 3,scoring = targ)\n",
    "    return cv_results['test_score'].mean()"
   ]
  },
  {
   "cell_type": "code",
   "execution_count": 14,
   "id": "8c7f818d-3258-4458-958c-8b47d10735cc",
   "metadata": {},
   "outputs": [
    {
     "name": "stdout",
     "output_type": "stream",
     "text": [
      "|   iter    |  target   | max_depth | min_im... | min_sa... | min_sa... | n_esti... |\n",
      "-------------------------------------------------------------------------------------\n",
      "| \u001b[0m 1       \u001b[0m | \u001b[0m 0.5663  \u001b[0m | \u001b[0m 23.88   \u001b[0m | \u001b[0m 0.1018  \u001b[0m | \u001b[0m 12.59   \u001b[0m | \u001b[0m 13.66   \u001b[0m | \u001b[0m 139.2   \u001b[0m |\n",
      "| \u001b[0m 2       \u001b[0m | \u001b[0m 0.5135  \u001b[0m | \u001b[0m 32.58   \u001b[0m | \u001b[0m 0.1279  \u001b[0m | \u001b[0m 9.328   \u001b[0m | \u001b[0m 13.65   \u001b[0m | \u001b[0m 103.6   \u001b[0m |\n",
      "| \u001b[0m 3       \u001b[0m | \u001b[0m 0.5251  \u001b[0m | \u001b[0m 39.6    \u001b[0m | \u001b[0m 0.1298  \u001b[0m | \u001b[0m 10.99   \u001b[0m | \u001b[0m 7.104   \u001b[0m | \u001b[0m 134.9   \u001b[0m |\n",
      "| \u001b[0m 4       \u001b[0m | \u001b[0m 0.5254  \u001b[0m | \u001b[0m 31.76   \u001b[0m | \u001b[0m 0.09025 \u001b[0m | \u001b[0m 10.33   \u001b[0m | \u001b[0m 12.8    \u001b[0m | \u001b[0m 143.2   \u001b[0m |\n",
      "| \u001b[0m 5       \u001b[0m | \u001b[0m 0.5111  \u001b[0m | \u001b[0m 19.33   \u001b[0m | \u001b[0m 0.1201  \u001b[0m | \u001b[0m 9.963   \u001b[0m | \u001b[0m 12.84   \u001b[0m | \u001b[0m 141.3   \u001b[0m |\n",
      "| \u001b[0m 6       \u001b[0m | \u001b[0m 0.5079  \u001b[0m | \u001b[0m 16.22   \u001b[0m | \u001b[0m 0.1541  \u001b[0m | \u001b[0m 7.151   \u001b[0m | \u001b[0m 8.384   \u001b[0m | \u001b[0m 106.8   \u001b[0m |\n",
      "| \u001b[0m 7       \u001b[0m | \u001b[0m 0.5047  \u001b[0m | \u001b[0m 20.07   \u001b[0m | \u001b[0m 0.08045 \u001b[0m | \u001b[0m 6.245   \u001b[0m | \u001b[0m 11.08   \u001b[0m | \u001b[0m 125.5   \u001b[0m |\n",
      "| \u001b[0m 8       \u001b[0m | \u001b[0m 0.512   \u001b[0m | \u001b[0m 34.4    \u001b[0m | \u001b[0m 0.1582  \u001b[0m | \u001b[0m 5.507   \u001b[0m | \u001b[0m 10.9    \u001b[0m | \u001b[0m 107.7   \u001b[0m |\n",
      "| \u001b[0m 9       \u001b[0m | \u001b[0m 0.5633  \u001b[0m | \u001b[0m 25.59   \u001b[0m | \u001b[0m 0.07878 \u001b[0m | \u001b[0m 14.64   \u001b[0m | \u001b[0m 10.2    \u001b[0m | \u001b[0m 109.6   \u001b[0m |\n",
      "| \u001b[95m 10      \u001b[0m | \u001b[95m 0.5777  \u001b[0m | \u001b[95m 16.5    \u001b[0m | \u001b[95m 0.203   \u001b[0m | \u001b[95m 13.02   \u001b[0m | \u001b[95m 6.452   \u001b[0m | \u001b[95m 124.9   \u001b[0m |\n",
      "| \u001b[0m 11      \u001b[0m | \u001b[0m 0.5754  \u001b[0m | \u001b[0m 19.06   \u001b[0m | \u001b[0m 0.223   \u001b[0m | \u001b[0m 12.06   \u001b[0m | \u001b[0m 7.082   \u001b[0m | \u001b[0m 129.8   \u001b[0m |\n",
      "| \u001b[0m 12      \u001b[0m | \u001b[0m 0.5326  \u001b[0m | \u001b[0m 26.18   \u001b[0m | \u001b[0m 0.07045 \u001b[0m | \u001b[0m 11.27   \u001b[0m | \u001b[0m 10.81   \u001b[0m | \u001b[0m 109.4   \u001b[0m |\n",
      "| \u001b[0m 13      \u001b[0m | \u001b[0m 0.5749  \u001b[0m | \u001b[0m 26.99   \u001b[0m | \u001b[0m 0.2189  \u001b[0m | \u001b[0m 11.07   \u001b[0m | \u001b[0m 8.411   \u001b[0m | \u001b[0m 140.4   \u001b[0m |\n",
      "| \u001b[0m 14      \u001b[0m | \u001b[0m 0.5104  \u001b[0m | \u001b[0m 33.49   \u001b[0m | \u001b[0m 0.175   \u001b[0m | \u001b[0m 6.694   \u001b[0m | \u001b[0m 10.53   \u001b[0m | \u001b[0m 132.3   \u001b[0m |\n",
      "| \u001b[0m 15      \u001b[0m | \u001b[0m 0.5127  \u001b[0m | \u001b[0m 19.81   \u001b[0m | \u001b[0m 0.1329  \u001b[0m | \u001b[0m 8.376   \u001b[0m | \u001b[0m 10.43   \u001b[0m | \u001b[0m 122.3   \u001b[0m |\n",
      "| \u001b[0m 16      \u001b[0m | \u001b[0m 0.5677  \u001b[0m | \u001b[0m 20.26   \u001b[0m | \u001b[0m 0.2441  \u001b[0m | \u001b[0m 11.78   \u001b[0m | \u001b[0m 6.143   \u001b[0m | \u001b[0m 132.7   \u001b[0m |\n",
      "| \u001b[0m 17      \u001b[0m | \u001b[0m 0.5676  \u001b[0m | \u001b[0m 29.89   \u001b[0m | \u001b[0m 0.2481  \u001b[0m | \u001b[0m 13.13   \u001b[0m | \u001b[0m 8.416   \u001b[0m | \u001b[0m 148.3   \u001b[0m |\n",
      "| \u001b[0m 18      \u001b[0m | \u001b[0m 0.5052  \u001b[0m | \u001b[0m 20.33   \u001b[0m | \u001b[0m 0.05511 \u001b[0m | \u001b[0m 9.68    \u001b[0m | \u001b[0m 9.322   \u001b[0m | \u001b[0m 107.0   \u001b[0m |\n",
      "| \u001b[0m 19      \u001b[0m | \u001b[0m 0.5191  \u001b[0m | \u001b[0m 16.48   \u001b[0m | \u001b[0m 0.138   \u001b[0m | \u001b[0m 9.41    \u001b[0m | \u001b[0m 7.77    \u001b[0m | \u001b[0m 133.9   \u001b[0m |\n",
      "| \u001b[0m 20      \u001b[0m | \u001b[0m 0.5731  \u001b[0m | \u001b[0m 24.0    \u001b[0m | \u001b[0m 0.2121  \u001b[0m | \u001b[0m 11.5    \u001b[0m | \u001b[0m 12.46   \u001b[0m | \u001b[0m 101.2   \u001b[0m |\n",
      "| \u001b[0m 21      \u001b[0m | \u001b[0m 0.5036  \u001b[0m | \u001b[0m 26.33   \u001b[0m | \u001b[0m 0.1448  \u001b[0m | \u001b[0m 7.531   \u001b[0m | \u001b[0m 5.756   \u001b[0m | \u001b[0m 116.6   \u001b[0m |\n",
      "| \u001b[0m 22      \u001b[0m | \u001b[0m 0.5087  \u001b[0m | \u001b[0m 39.6    \u001b[0m | \u001b[0m 0.1879  \u001b[0m | \u001b[0m 6.719   \u001b[0m | \u001b[0m 6.131   \u001b[0m | \u001b[0m 140.1   \u001b[0m |\n",
      "| \u001b[0m 23      \u001b[0m | \u001b[0m 0.5018  \u001b[0m | \u001b[0m 19.98   \u001b[0m | \u001b[0m 0.07092 \u001b[0m | \u001b[0m 8.018   \u001b[0m | \u001b[0m 5.669   \u001b[0m | \u001b[0m 146.1   \u001b[0m |\n",
      "| \u001b[0m 24      \u001b[0m | \u001b[0m 0.5525  \u001b[0m | \u001b[0m 28.13   \u001b[0m | \u001b[0m 0.117   \u001b[0m | \u001b[0m 12.94   \u001b[0m | \u001b[0m 12.22   \u001b[0m | \u001b[0m 138.3   \u001b[0m |\n",
      "| \u001b[0m 25      \u001b[0m | \u001b[0m 0.5632  \u001b[0m | \u001b[0m 21.72   \u001b[0m | \u001b[0m 0.08098 \u001b[0m | \u001b[0m 12.53   \u001b[0m | \u001b[0m 7.77    \u001b[0m | \u001b[0m 109.0   \u001b[0m |\n",
      "| \u001b[0m 26      \u001b[0m | \u001b[0m 0.5701  \u001b[0m | \u001b[0m 25.13   \u001b[0m | \u001b[0m 0.2417  \u001b[0m | \u001b[0m 11.15   \u001b[0m | \u001b[0m 5.221   \u001b[0m | \u001b[0m 133.4   \u001b[0m |\n",
      "| \u001b[0m 27      \u001b[0m | \u001b[0m 0.5509  \u001b[0m | \u001b[0m 25.6    \u001b[0m | \u001b[0m 0.1158  \u001b[0m | \u001b[0m 11.91   \u001b[0m | \u001b[0m 6.51    \u001b[0m | \u001b[0m 120.4   \u001b[0m |\n",
      "| \u001b[95m 28      \u001b[0m | \u001b[95m 0.5779  \u001b[0m | \u001b[95m 19.47   \u001b[0m | \u001b[95m 0.1762  \u001b[0m | \u001b[95m 12.02   \u001b[0m | \u001b[95m 14.62   \u001b[0m | \u001b[95m 145.7   \u001b[0m |\n",
      "| \u001b[0m 29      \u001b[0m | \u001b[0m 0.5069  \u001b[0m | \u001b[0m 17.35   \u001b[0m | \u001b[0m 0.1425  \u001b[0m | \u001b[0m 7.697   \u001b[0m | \u001b[0m 14.99   \u001b[0m | \u001b[0m 131.9   \u001b[0m |\n",
      "| \u001b[0m 30      \u001b[0m | \u001b[0m 0.5142  \u001b[0m | \u001b[0m 18.07   \u001b[0m | \u001b[0m 0.2412  \u001b[0m | \u001b[0m 7.287   \u001b[0m | \u001b[0m 12.43   \u001b[0m | \u001b[0m 145.5   \u001b[0m |\n",
      "| \u001b[0m 31      \u001b[0m | \u001b[0m 0.504   \u001b[0m | \u001b[0m 30.67   \u001b[0m | \u001b[0m 0.09082 \u001b[0m | \u001b[0m 7.365   \u001b[0m | \u001b[0m 8.395   \u001b[0m | \u001b[0m 102.1   \u001b[0m |\n",
      "| \u001b[0m 32      \u001b[0m | \u001b[0m 0.5756  \u001b[0m | \u001b[0m 21.84   \u001b[0m | \u001b[0m 0.2285  \u001b[0m | \u001b[0m 12.39   \u001b[0m | \u001b[0m 6.1     \u001b[0m | \u001b[0m 117.2   \u001b[0m |\n",
      "| \u001b[0m 33      \u001b[0m | \u001b[0m 0.5428  \u001b[0m | \u001b[0m 27.12   \u001b[0m | \u001b[0m 0.1389  \u001b[0m | \u001b[0m 11.13   \u001b[0m | \u001b[0m 10.26   \u001b[0m | \u001b[0m 106.5   \u001b[0m |\n",
      "| \u001b[0m 34      \u001b[0m | \u001b[0m 0.5088  \u001b[0m | \u001b[0m 15.34   \u001b[0m | \u001b[0m 0.1451  \u001b[0m | \u001b[0m 8.13    \u001b[0m | \u001b[0m 9.96    \u001b[0m | \u001b[0m 111.4   \u001b[0m |\n",
      "| \u001b[0m 35      \u001b[0m | \u001b[0m 0.5188  \u001b[0m | \u001b[0m 31.1    \u001b[0m | \u001b[0m 0.08929 \u001b[0m | \u001b[0m 10.1    \u001b[0m | \u001b[0m 13.26   \u001b[0m | \u001b[0m 127.3   \u001b[0m |\n",
      "| \u001b[0m 36      \u001b[0m | \u001b[0m 0.5459  \u001b[0m | \u001b[0m 34.75   \u001b[0m | \u001b[0m 0.06563 \u001b[0m | \u001b[0m 13.54   \u001b[0m | \u001b[0m 9.481   \u001b[0m | \u001b[0m 109.9   \u001b[0m |\n",
      "| \u001b[0m 37      \u001b[0m | \u001b[0m 0.5468  \u001b[0m | \u001b[0m 35.34   \u001b[0m | \u001b[0m 0.2052  \u001b[0m | \u001b[0m 9.704   \u001b[0m | \u001b[0m 6.794   \u001b[0m | \u001b[0m 114.1   \u001b[0m |\n",
      "| \u001b[0m 38      \u001b[0m | \u001b[0m 0.5647  \u001b[0m | \u001b[0m 30.57   \u001b[0m | \u001b[0m 0.08186 \u001b[0m | \u001b[0m 12.15   \u001b[0m | \u001b[0m 12.26   \u001b[0m | \u001b[0m 114.7   \u001b[0m |\n",
      "| \u001b[0m 39      \u001b[0m | \u001b[0m 0.5114  \u001b[0m | \u001b[0m 32.91   \u001b[0m | \u001b[0m 0.202   \u001b[0m | \u001b[0m 6.919   \u001b[0m | \u001b[0m 11.12   \u001b[0m | \u001b[0m 105.2   \u001b[0m |\n",
      "| \u001b[0m 40      \u001b[0m | \u001b[0m 0.5667  \u001b[0m | \u001b[0m 21.1    \u001b[0m | \u001b[0m 0.1784  \u001b[0m | \u001b[0m 11.61   \u001b[0m | \u001b[0m 6.699   \u001b[0m | \u001b[0m 131.0   \u001b[0m |\n",
      "| \u001b[0m 41      \u001b[0m | \u001b[0m 0.5594  \u001b[0m | \u001b[0m 23.31   \u001b[0m | \u001b[0m 0.25    \u001b[0m | \u001b[0m 15.0    \u001b[0m | \u001b[0m 14.61   \u001b[0m | \u001b[0m 146.7   \u001b[0m |\n",
      "| \u001b[0m 42      \u001b[0m | \u001b[0m 0.5605  \u001b[0m | \u001b[0m 19.77   \u001b[0m | \u001b[0m 0.25    \u001b[0m | \u001b[0m 15.0    \u001b[0m | \u001b[0m 5.0     \u001b[0m | \u001b[0m 127.3   \u001b[0m |\n",
      "| \u001b[0m 43      \u001b[0m | \u001b[0m 0.5632  \u001b[0m | \u001b[0m 22.26   \u001b[0m | \u001b[0m 0.2444  \u001b[0m | \u001b[0m 15.0    \u001b[0m | \u001b[0m 5.117   \u001b[0m | \u001b[0m 112.9   \u001b[0m |\n",
      "| \u001b[95m 44      \u001b[0m | \u001b[95m 0.5803  \u001b[0m | \u001b[95m 23.65   \u001b[0m | \u001b[95m 0.1442  \u001b[0m | \u001b[95m 14.87   \u001b[0m | \u001b[95m 7.488   \u001b[0m | \u001b[95m 137.4   \u001b[0m |\n",
      "| \u001b[0m 45      \u001b[0m | \u001b[0m 0.5618  \u001b[0m | \u001b[0m 27.32   \u001b[0m | \u001b[0m 0.25    \u001b[0m | \u001b[0m 15.0    \u001b[0m | \u001b[0m 5.0     \u001b[0m | \u001b[0m 140.8   \u001b[0m |\n",
      "| \u001b[0m 46      \u001b[0m | \u001b[0m 0.5717  \u001b[0m | \u001b[0m 17.89   \u001b[0m | \u001b[0m 0.2216  \u001b[0m | \u001b[0m 15.0    \u001b[0m | \u001b[0m 5.0     \u001b[0m | \u001b[0m 119.3   \u001b[0m |\n",
      "| \u001b[95m 47      \u001b[0m | \u001b[95m 0.5873  \u001b[0m | \u001b[95m 16.72   \u001b[0m | \u001b[95m 0.09746 \u001b[0m | \u001b[95m 15.0    \u001b[0m | \u001b[95m 15.0    \u001b[0m | \u001b[95m 148.5   \u001b[0m |\n",
      "| \u001b[0m 48      \u001b[0m | \u001b[0m 0.5483  \u001b[0m | \u001b[0m 23.78   \u001b[0m | \u001b[0m 0.25    \u001b[0m | \u001b[0m 15.0    \u001b[0m | \u001b[0m 8.351   \u001b[0m | \u001b[0m 101.5   \u001b[0m |\n",
      "| \u001b[0m 49      \u001b[0m | \u001b[0m 0.5786  \u001b[0m | \u001b[0m 21.87   \u001b[0m | \u001b[0m 0.05    \u001b[0m | \u001b[0m 15.0    \u001b[0m | \u001b[0m 10.2    \u001b[0m | \u001b[0m 116.8   \u001b[0m |\n",
      "| \u001b[0m 50      \u001b[0m | \u001b[0m 0.5548  \u001b[0m | \u001b[0m 22.34   \u001b[0m | \u001b[0m 0.25    \u001b[0m | \u001b[0m 15.0    \u001b[0m | \u001b[0m 15.0    \u001b[0m | \u001b[0m 100.0   \u001b[0m |\n",
      "| \u001b[0m 51      \u001b[0m | \u001b[0m 0.5605  \u001b[0m | \u001b[0m 15.0    \u001b[0m | \u001b[0m 0.25    \u001b[0m | \u001b[0m 15.0    \u001b[0m | \u001b[0m 9.194   \u001b[0m | \u001b[0m 128.0   \u001b[0m |\n",
      "| \u001b[0m 52      \u001b[0m | \u001b[0m 0.5583  \u001b[0m | \u001b[0m 19.54   \u001b[0m | \u001b[0m 0.1154  \u001b[0m | \u001b[0m 13.96   \u001b[0m | \u001b[0m 12.88   \u001b[0m | \u001b[0m 149.6   \u001b[0m |\n",
      "| \u001b[0m 53      \u001b[0m | \u001b[0m 0.5594  \u001b[0m | \u001b[0m 15.59   \u001b[0m | \u001b[0m 0.25    \u001b[0m | \u001b[0m 15.0    \u001b[0m | \u001b[0m 15.0    \u001b[0m | \u001b[0m 144.6   \u001b[0m |\n",
      "| \u001b[0m 54      \u001b[0m | \u001b[0m 0.5554  \u001b[0m | \u001b[0m 26.88   \u001b[0m | \u001b[0m 0.25    \u001b[0m | \u001b[0m 15.0    \u001b[0m | \u001b[0m 15.0    \u001b[0m | \u001b[0m 117.3   \u001b[0m |\n",
      "| \u001b[0m 55      \u001b[0m | \u001b[0m 0.5777  \u001b[0m | \u001b[0m 35.95   \u001b[0m | \u001b[0m 0.05    \u001b[0m | \u001b[0m 15.0    \u001b[0m | \u001b[0m 13.73   \u001b[0m | \u001b[0m 117.1   \u001b[0m |\n",
      "=====================================================================================\n"
     ]
    }
   ],
   "source": [
    "xgbBO = BayesianOptimization(loss_target, {'max_depth': (15,40),'n_estimators': (100,150),\n",
    "                                            'min_samples_split': (5, 15),'min_samples_leaf': (5, 15),\n",
    "                                            'min_impurity_split': (0.05, 0.25)})\n",
    "\n",
    "xgbBO.maximize(init_points=40, n_iter=15)"
   ]
  },
  {
   "cell_type": "code",
   "execution_count": 16,
   "id": "4e40c6c4-8e61-4fa7-8a87-c4f9ddc31dff",
   "metadata": {},
   "outputs": [],
   "source": [
    "used_param = xgbBO.max['params']\n",
    "# |  45       |  0.5237   |  16.98    |  0.19     |  7.388    |  13.55    |  106.8    |\n",
    "\n",
    "# |  47       |  0.5873   |  16.72    |  0.09746  |  15.0     |  15.0     |  148.5    |"
   ]
  },
  {
   "cell_type": "code",
   "execution_count": 17,
   "id": "e2d80d96-6247-4728-a1c8-83e2cf83f3c0",
   "metadata": {},
   "outputs": [],
   "source": [
    "used_param['n_jobs'] = 5\n",
    "used_param['random_state'] = 145\n",
    "used_param['class_weight'] = 'balanced_subsample'\n",
    "\n",
    "#     md= int(max_depth)\n",
    "#     ne= int(n_estimators)\n",
    "#     mss = int(min_samples_split)\n",
    "#     msl = int(min_samples_leaf)\n",
    "for c in ['max_depth','n_estimators','min_samples_split','min_samples_leaf']:\n",
    "    used_param[c] = int(used_param[c])"
   ]
  },
  {
   "cell_type": "code",
   "execution_count": 18,
   "id": "bab87b13-67d3-4f22-84b6-20ae99dce20e",
   "metadata": {},
   "outputs": [
    {
     "data": {
      "text/plain": [
       "RandomForestClassifier(class_weight='balanced_subsample', max_depth=16,\n",
       "                       min_impurity_split=0.09745602911474792,\n",
       "                       min_samples_leaf=15, min_samples_split=15,\n",
       "                       n_estimators=148, n_jobs=5, random_state=145)"
      ]
     },
     "execution_count": 18,
     "metadata": {},
     "output_type": "execute_result"
    }
   ],
   "source": [
    "tModel = RandomForestClassifier(**used_param)\n",
    "tModel.fit(Xtrain_ss,Ytrain)"
   ]
  },
  {
   "cell_type": "code",
   "execution_count": 19,
   "id": "35785856-7c74-4575-9a72-54bd728012a6",
   "metadata": {},
   "outputs": [],
   "source": [
    "joblib.dump(tModel, model_file)\n",
    "tModel_load = joblib.load(model_file)"
   ]
  },
  {
   "cell_type": "code",
   "execution_count": null,
   "id": "747377b2-78c3-4f4d-8c37-11cd09ddcd66",
   "metadata": {},
   "outputs": [],
   "source": []
  },
  {
   "cell_type": "markdown",
   "id": "d518a72b-5b36-42fa-863f-3854880ea96d",
   "metadata": {},
   "source": [
    "## Evaluations"
   ]
  },
  {
   "cell_type": "code",
   "execution_count": 20,
   "id": "1c468e33-927c-4f31-912f-86c56237e93d",
   "metadata": {},
   "outputs": [],
   "source": [
    "%matplotlib inline"
   ]
  },
  {
   "cell_type": "code",
   "execution_count": 21,
   "id": "b17c9770-ac66-444d-bcbd-1e243510a3db",
   "metadata": {},
   "outputs": [
    {
     "name": "stdout",
     "output_type": "stream",
     "text": [
      "              precision    recall  f1-score   support\n",
      "\n",
      "           0       0.97      0.93      0.95      2565\n",
      "           1       0.80      0.89      0.84       773\n",
      "\n",
      "    accuracy                           0.92      3338\n",
      "   macro avg       0.88      0.91      0.89      3338\n",
      "weighted avg       0.93      0.92      0.92      3338\n",
      "\n",
      "aucpr :  0.7343\n",
      "aucroc :  0.9112\n"
     ]
    },
    {
     "data": {
      "text/plain": [
       "(0.7343, 0.9112)"
      ]
     },
     "execution_count": 21,
     "metadata": {},
     "output_type": "execute_result"
    },
    {
     "data": {
      "image/png": "[encoded data removed]",
      "text/plain": [
       "<Figure size 432x288 with 2 Axes>"
      ]
     },
     "metadata": {
      "needs_background": "light"
     },
     "output_type": "display_data"
    }
   ],
   "source": [
    "binary_eval(Ytrain, model=tModel_load, predictor=Xtrain_ss)"
   ]
  },
  {
   "cell_type": "code",
   "execution_count": 22,
   "id": "a6a8ad7d-1c0f-4354-a7da-2d3fce60e7d3",
   "metadata": {},
   "outputs": [
    {
     "name": "stdout",
     "output_type": "stream",
     "text": [
      "              precision    recall  f1-score   support\n",
      "\n",
      "           0       0.96      0.92      0.94      1105\n",
      "           1       0.77      0.88      0.82       326\n",
      "\n",
      "    accuracy                           0.91      1431\n",
      "   macro avg       0.87      0.90      0.88      1431\n",
      "weighted avg       0.92      0.91      0.91      1431\n",
      "\n",
      "aucpr :  0.7046\n",
      "aucroc :  0.9013\n"
     ]
    },
    {
     "data": {
      "text/plain": [
       "(0.7046, 0.9013)"
      ]
     },
     "execution_count": 22,
     "metadata": {},
     "output_type": "execute_result"
    },
    {
     "data": {
      "image/png": "[encoded data removed]",
      "text/plain": [
       "<Figure size 432x288 with 2 Axes>"
      ]
     },
     "metadata": {
      "needs_background": "light"
     },
     "output_type": "display_data"
    }
   ],
   "source": [
    "binary_eval(Ytest, model=tModel_load, predictor=Xtest_ss)"
   ]
  },
  {
   "cell_type": "code",
   "execution_count": null,
   "id": "994216d0-ee15-4499-a572-14b71a97ef2c",
   "metadata": {},
   "outputs": [],
   "source": []
  },
  {
   "cell_type": "markdown",
   "id": "bbd7012f-437f-46a5-90af-c28a95102af9",
   "metadata": {},
   "source": [
    "## Feature Importance"
   ]
  },
  {
   "cell_type": "code",
   "execution_count": 23,
   "id": "6a0733e1-62c2-4507-b700-7086d302d0a9",
   "metadata": {},
   "outputs": [],
   "source": [
    "explainer = shap.TreeExplainer(tModel_load,)\n",
    "# masker = shap.maskers.Independent(data=Xtest_ss)\n",
    "# explainer = shap.Explainer(\n",
    "#     tModel_load, masker=masker, feature_names=Xtest_ss.columns, algorithm=\"linear\"\n",
    "# )\n",
    "shap_values = explainer.shap_values(Xtrain_ss)"
   ]
  },
  {
   "cell_type": "code",
   "execution_count": 24,
   "id": "06b779da-f1ae-499b-b946-29b37db81c6e",
   "metadata": {},
   "outputs": [
    {
     "data": {
      "image/png": "[encoded data removed]",
      "text/plain": [
       "<Figure size 576x684 with 1 Axes>"
      ]
     },
     "metadata": {
      "needs_background": "light"
     },
     "output_type": "display_data"
    }
   ],
   "source": [
    "shap.summary_plot(shap_values, features=Xtrain_ss, feature_names=Xtest_ss.columns)"
   ]
  },
  {
   "cell_type": "code",
   "execution_count": 25,
   "id": "38cab7a4-2e46-4ede-8fec-5834ed2c9ec5",
   "metadata": {},
   "outputs": [],
   "source": [
    "# shap.summary_plot(shap_values, Xtest_ss, plot_type=\"bar\")"
   ]
  },
  {
   "cell_type": "code",
   "execution_count": 26,
   "id": "4baecc08-88a6-4382-abe3-493c40e0793a",
   "metadata": {},
   "outputs": [],
   "source": [
    "# shap.initjs()\n",
    "# shap.force_plot(explainer.expected_value, shap_values, Xtest_ss)"
   ]
  },
  {
   "cell_type": "code",
   "execution_count": 27,
   "id": "372e4f40-f126-4807-9313-66d14720bd5e",
   "metadata": {},
   "outputs": [],
   "source": [
    "# shap.dependence_plot('vote_avg', shap_values, Xtest_ss)"
   ]
  },
  {
   "cell_type": "code",
   "execution_count": 28,
   "id": "2336b4db-b876-409f-bdba-d9300bacbb4c",
   "metadata": {},
   "outputs": [],
   "source": [
    "vals = np.abs(shap_values[0]).mean(0)\n",
    "feature_names = Xtest_ss.columns\n",
    "feature_importance = pd.DataFrame(list(zip(feature_names, vals)),\n",
    "                                  columns=['col_name','feature_importance_vals'])\n",
    "feature_importance.sort_values(by=['feature_importance_vals'],\n",
    "                               ascending=False, inplace=True)"
   ]
  },
  {
   "cell_type": "code",
   "execution_count": 29,
   "id": "b57fec5e-5419-4dbb-83be-16e095599f7f",
   "metadata": {},
   "outputs": [],
   "source": [
    "feature_importance.to_csv(PATH_MODEL+'feat_importance_'+VERS+'.csv', index = False)"
   ]
  },
  {
   "cell_type": "code",
   "execution_count": 30,
   "id": "5e3899b4-b37d-43d6-9ae0-1ef04f3448b6",
   "metadata": {},
   "outputs": [
    {
     "data": {
      "text/html": [
       "<div>\n",
       "<style scoped>\n",
       "    .dataframe tbody tr th:only-of-type {\n",
       "        vertical-align: middle;\n",
       "    }\n",
       "\n",
       "    .dataframe tbody tr th {\n",
       "        vertical-align: top;\n",
       "    }\n",
       "\n",
       "    .dataframe thead th {\n",
       "        text-align: right;\n",
       "    }\n",
       "</style>\n",
       "<table border=\"1\" class=\"dataframe\">\n",
       "  <thead>\n",
       "    <tr style=\"text-align: right;\">\n",
       "      <th></th>\n",
       "      <th>col_name</th>\n",
       "      <th>feature_importance_vals</th>\n",
       "    </tr>\n",
       "  </thead>\n",
       "  <tbody>\n",
       "    <tr>\n",
       "      <th>31</th>\n",
       "      <td>turn_over_rate</td>\n",
       "      <td>0.070824</td>\n",
       "    </tr>\n",
       "    <tr>\n",
       "      <th>30</th>\n",
       "      <td>reaction_cnt</td>\n",
       "      <td>0.038848</td>\n",
       "    </tr>\n",
       "    <tr>\n",
       "      <th>39</th>\n",
       "      <td>vote_p50</td>\n",
       "      <td>0.038077</td>\n",
       "    </tr>\n",
       "    <tr>\n",
       "      <th>40</th>\n",
       "      <td>vote_p75</td>\n",
       "      <td>0.032657</td>\n",
       "    </tr>\n",
       "    <tr>\n",
       "      <th>22</th>\n",
       "      <td>gv_liked_cnt</td>\n",
       "      <td>0.031891</td>\n",
       "    </tr>\n",
       "  </tbody>\n",
       "</table>\n",
       "</div>"
      ],
      "text/plain": [
       "          col_name  feature_importance_vals\n",
       "31  turn_over_rate                 0.070824\n",
       "30    reaction_cnt                 0.038848\n",
       "39        vote_p50                 0.038077\n",
       "40        vote_p75                 0.032657\n",
       "22    gv_liked_cnt                 0.031891"
      ]
     },
     "execution_count": 30,
     "metadata": {},
     "output_type": "execute_result"
    }
   ],
   "source": [
    "feature_importance.head()"
   ]
  },
  {
   "cell_type": "code",
   "execution_count": null,
   "id": "fa68fec2-79af-4dd9-bf48-bf570bcdfc68",
   "metadata": {},
   "outputs": [],
   "source": []
  }
 ],
 "metadata": {
  "kernelspec": {
   "display_name": "droid1",
   "language": "python",
   "name": "droid1"
  },
  "language_info": {
   "codemirror_mode": {
    "name": "ipython",
    "version": 3
   },
   "file_extension": ".py",
   "mimetype": "text/x-python",
   "name": "python",
   "nbconvert_exporter": "python",
   "pygments_lexer": "ipython3",
   "version": "3.7.10"
  }
 },
 "nbformat": 4,
 "nbformat_minor": 5
}
