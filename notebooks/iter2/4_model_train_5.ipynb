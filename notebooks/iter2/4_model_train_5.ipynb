{
 "cells": [
  {
   "cell_type": "markdown",
   "id": "651892ae-e75f-4b77-b3f6-ae34bdf805a0",
   "metadata": {},
   "source": [
    "# Employee Turn Over - Model training\n",
    "\n",
    "training process v5\n",
    "xgboost"
   ]
  },
  {
   "cell_type": "code",
   "execution_count": 1,
   "id": "5e64c60e-1142-4bc3-884f-4c5ea2d24eb8",
   "metadata": {},
   "outputs": [],
   "source": [
    "import pandas as pd\n",
    "import seaborn as sns\n",
    "import matplotlib.pyplot as plt\n",
    "import numpy as np\n",
    "import seaborn as sns\n",
    "import warnings\n",
    "import joblib\n",
    "import sys\n",
    "\n",
    "sys.path.append('../../src/')\n",
    "\n",
    "from modeleval import binary_eval\n",
    "warnings.filterwarnings(\"ignore\")\n"
   ]
  },
  {
   "cell_type": "code",
   "execution_count": 2,
   "id": "733a7776-ae23-48ae-8697-3db58de71cdb",
   "metadata": {},
   "outputs": [],
   "source": [
    "from sklearn.linear_model import LogisticRegression\n",
    "from sklearn.preprocessing import StandardScaler\n",
    "from sklearn.tree import DecisionTreeClassifier\n",
    "from sklearn.ensemble import RandomForestClassifier, AdaBoostClassifier\n",
    "from sklearn.model_selection import cross_validate\n",
    "from sklearn.svm import SVC\n",
    "from sklearn.metrics import average_precision_score, make_scorer\n",
    "import shap\n",
    "from bayes_opt import BayesianOptimization\n",
    "\n",
    "from xgboost import XGBClassifier"
   ]
  },
  {
   "cell_type": "code",
   "execution_count": 3,
   "id": "bdd1ee73-f72c-4f64-a526-9baac67cc63a",
   "metadata": {},
   "outputs": [],
   "source": [
    "# !pip install shap\n",
    "# !pip install bayesian-optimization \n",
    "# !pip install xgboost"
   ]
  },
  {
   "cell_type": "code",
   "execution_count": 5,
   "id": "5976ed52-fe4a-4dc7-8adb-b6c2a48ad32a",
   "metadata": {},
   "outputs": [],
   "source": [
    "PATH_DATA='../../data/raw/'\n",
    "PATH_DATA_INTERIM='../../data/iter2/interim/'\n",
    "PATH_MODEL = '../../model/iter2/'\n",
    "VERS = '5'\n",
    "\n",
    "model_file = PATH_MODEL+'model_'+VERS+'.pkl'"
   ]
  },
  {
   "cell_type": "code",
   "execution_count": null,
   "id": "16f54795-6532-4af6-a6c1-20c917cf1e2d",
   "metadata": {},
   "outputs": [],
   "source": []
  },
  {
   "cell_type": "markdown",
   "id": "d77aedd4-da50-4901-a6a4-417784988b1c",
   "metadata": {},
   "source": [
    "## Get Data"
   ]
  },
  {
   "cell_type": "code",
   "execution_count": 7,
   "id": "5c2c7cc1-5203-464e-933b-14c393908788",
   "metadata": {},
   "outputs": [],
   "source": [
    "df1 = pd.read_csv(PATH_DATA_INTERIM+'iter2_interim_cln.csv')"
   ]
  },
  {
   "cell_type": "code",
   "execution_count": 8,
   "id": "3ec851a5-31d7-4040-88b9-39c3d7e7d00c",
   "metadata": {},
   "outputs": [],
   "source": [
    "## we use 1 as turn over\n",
    "df1['target'] = (df1.stillExists==False).astype(int)\n",
    "col_used = list(set(df1.columns)-set(['unique_employee_ids','stillExists','companyAlias','is_train','target']))\n",
    "\n",
    "col_used.sort() ## --> remember to sort"
   ]
  },
  {
   "cell_type": "code",
   "execution_count": 9,
   "id": "3dfeecb6-e699-4108-8c42-8a564e3a3cb6",
   "metadata": {},
   "outputs": [],
   "source": [
    "Xtrain = df1[df1.is_train == 1][col_used]\n",
    "Ytrain = df1[df1.is_train == 1]['target']\n",
    "\n",
    "Xtest = df1[df1.is_train == 0][col_used]\n",
    "Ytest = df1[df1.is_train == 0]['target']"
   ]
  },
  {
   "cell_type": "code",
   "execution_count": 10,
   "id": "884c51eb-1e01-4621-bf69-c9d542b2e3dc",
   "metadata": {},
   "outputs": [
    {
     "data": {
      "text/plain": [
       "((3338, 52), (1431, 52))"
      ]
     },
     "execution_count": 10,
     "metadata": {},
     "output_type": "execute_result"
    }
   ],
   "source": [
    "Xtrain.shape, Xtest.shape"
   ]
  },
  {
   "cell_type": "code",
   "execution_count": 11,
   "id": "7674f0c3-1fe2-4ab2-88d5-3e04c79faf94",
   "metadata": {},
   "outputs": [
    {
     "data": {
      "text/plain": [
       "(0.768424206111444, 0.7721872816212438)"
      ]
     },
     "execution_count": 11,
     "metadata": {},
     "output_type": "execute_result"
    }
   ],
   "source": [
    "1-Ytrain.mean(), 1-Ytest.mean()"
   ]
  },
  {
   "cell_type": "code",
   "execution_count": 12,
   "id": "e3b59c86-47bc-45d7-8509-14ae096348c5",
   "metadata": {},
   "outputs": [
    {
     "data": {
      "text/plain": [
       "3.166666666666667"
      ]
     },
     "execution_count": 12,
     "metadata": {},
     "output_type": "execute_result"
    }
   ],
   "source": [
    "0.76/(1-0.76)"
   ]
  },
  {
   "cell_type": "code",
   "execution_count": null,
   "id": "85f10441-54f1-4b0b-90fb-db762e4765b8",
   "metadata": {},
   "outputs": [],
   "source": []
  },
  {
   "cell_type": "markdown",
   "id": "d25546e1-0406-448e-b035-a94beadcc3d2",
   "metadata": {},
   "source": [
    "## Transformation\n",
    "\n",
    "if needed"
   ]
  },
  {
   "cell_type": "code",
   "execution_count": 13,
   "id": "7255239c-b26b-4dc8-8eba-473db847230d",
   "metadata": {},
   "outputs": [
    {
     "data": {
      "text/plain": [
       "['../../model/iter2/scaler_5.pkl']"
      ]
     },
     "execution_count": 13,
     "metadata": {},
     "output_type": "execute_result"
    }
   ],
   "source": [
    "SS = StandardScaler()\n",
    "SS.fit(Xtrain)\n",
    "\n",
    "joblib.dump(SS, PATH_MODEL+'scaler_'+VERS+'.pkl')"
   ]
  },
  {
   "cell_type": "code",
   "execution_count": 14,
   "id": "53423c30-cde5-4254-8e02-2c03f41b5e3a",
   "metadata": {},
   "outputs": [],
   "source": [
    "Xtrain_ss = pd.DataFrame(SS.transform(Xtrain), columns = col_used)\n",
    "Xtest_ss = pd.DataFrame(SS.transform(Xtest), columns = col_used)"
   ]
  },
  {
   "cell_type": "code",
   "execution_count": null,
   "id": "6385ca0b-679f-44e8-ad2a-bd24e59b17de",
   "metadata": {},
   "outputs": [],
   "source": []
  },
  {
   "cell_type": "markdown",
   "id": "071ea427-801e-4beb-abdb-4f6fd19e739b",
   "metadata": {},
   "source": [
    "## Model"
   ]
  },
  {
   "cell_type": "code",
   "execution_count": 15,
   "id": "150f25a3-c1e9-4a11-8716-724a153ec639",
   "metadata": {},
   "outputs": [],
   "source": [
    "spw = 3"
   ]
  },
  {
   "cell_type": "code",
   "execution_count": 16,
   "id": "98394529-86bc-458a-a4ed-5b16e7defc45",
   "metadata": {},
   "outputs": [],
   "source": [
    "def targ_func(y_true, y_pred):\n",
    "    diff = average_precision_score(y_true,y_pred)\n",
    "    return diff"
   ]
  },
  {
   "cell_type": "code",
   "execution_count": 17,
   "id": "d92db054-cd80-47c2-a6b3-d63478b351fa",
   "metadata": {},
   "outputs": [],
   "source": [
    "targ = make_scorer(targ_func, greater_is_better=True)\n",
    "def loss_target(max_depth,learning_rate,n_estimators,\n",
    "                 gamma, reg_alpha,reg_lambda,X=Xtrain_ss,y=Ytrain, scale = spw):\n",
    "\n",
    "    md= int(max_depth)\n",
    "    lr= max(learning_rate,0)\n",
    "    ne= int(n_estimators)\n",
    "    gamma= max(gamma, 0) # 0\n",
    "    ra= max(reg_alpha, 0) # 0\n",
    "    rl= max(reg_lambda, 0) # 1\n",
    "    see= 123\n",
    "\n",
    "    xgB=XGBClassifier(objective='binary:logistic',max_depth=md,learning_rate=lr,\n",
    "                     n_estimators=ne,gamma=gamma,reg_alpha=ra,reg_lambda=rl,seed=see,scale_pos_weight=scale,\n",
    "                      n_jobs=3)\n",
    "    cv_results = cross_validate(xgB, X, y, cv=5, scoring=targ, n_jobs= 3)\n",
    "    return cv_results['test_score'].mean()\n"
   ]
  },
  {
   "cell_type": "code",
   "execution_count": 18,
   "id": "8c7f818d-3258-4458-958c-8b47d10735cc",
   "metadata": {},
   "outputs": [
    {
     "name": "stdout",
     "output_type": "stream",
     "text": [
      "|   iter    |  target   |   gamma   | learni... | max_depth | n_esti... | reg_alpha | reg_la... |\n",
      "-------------------------------------------------------------------------------------------------\n",
      "| \u001b[0m1        \u001b[0m | \u001b[0m0.4663   \u001b[0m | \u001b[0m0.828    \u001b[0m | \u001b[0m0.07971  \u001b[0m | \u001b[0m13.26    \u001b[0m | \u001b[0m68.83    \u001b[0m | \u001b[0m1.579    \u001b[0m | \u001b[0m1.719    \u001b[0m |\n",
      "| \u001b[95m2        \u001b[0m | \u001b[95m0.4755   \u001b[0m | \u001b[95m1.414    \u001b[0m | \u001b[95m0.0613   \u001b[0m | \u001b[95m9.376    \u001b[0m | \u001b[95m63.91    \u001b[0m | \u001b[95m2.491    \u001b[0m | \u001b[95m2.198    \u001b[0m |\n",
      "| \u001b[0m3        \u001b[0m | \u001b[0m0.4723   \u001b[0m | \u001b[0m1.097    \u001b[0m | \u001b[0m0.04657  \u001b[0m | \u001b[0m14.71    \u001b[0m | \u001b[0m65.96    \u001b[0m | \u001b[0m1.8      \u001b[0m | \u001b[0m2.158    \u001b[0m |\n",
      "| \u001b[95m4        \u001b[0m | \u001b[95m0.4773   \u001b[0m | \u001b[95m1.159    \u001b[0m | \u001b[95m0.04722  \u001b[0m | \u001b[95m8.43     \u001b[0m | \u001b[95m61.39    \u001b[0m | \u001b[95m2.251    \u001b[0m | \u001b[95m2.21     \u001b[0m |\n",
      "| \u001b[0m5        \u001b[0m | \u001b[0m0.4755   \u001b[0m | \u001b[0m0.9972   \u001b[0m | \u001b[0m0.04339  \u001b[0m | \u001b[0m14.49    \u001b[0m | \u001b[0m62.85    \u001b[0m | \u001b[0m2.691    \u001b[0m | \u001b[0m1.824    \u001b[0m |\n",
      "| \u001b[0m6        \u001b[0m | \u001b[0m0.4722   \u001b[0m | \u001b[0m0.8692   \u001b[0m | \u001b[0m0.0703   \u001b[0m | \u001b[0m11.64    \u001b[0m | \u001b[0m59.39    \u001b[0m | \u001b[0m1.914    \u001b[0m | \u001b[0m2.483    \u001b[0m |\n",
      "| \u001b[0m7        \u001b[0m | \u001b[0m0.4701   \u001b[0m | \u001b[0m0.9742   \u001b[0m | \u001b[0m0.09749  \u001b[0m | \u001b[0m8.608    \u001b[0m | \u001b[0m63.85    \u001b[0m | \u001b[0m2.858    \u001b[0m | \u001b[0m1.644    \u001b[0m |\n",
      "| \u001b[0m8        \u001b[0m | \u001b[0m0.4735   \u001b[0m | \u001b[0m1.056    \u001b[0m | \u001b[0m0.08477  \u001b[0m | \u001b[0m14.53    \u001b[0m | \u001b[0m65.04    \u001b[0m | \u001b[0m2.861    \u001b[0m | \u001b[0m2.211    \u001b[0m |\n",
      "| \u001b[0m9        \u001b[0m | \u001b[0m0.467    \u001b[0m | \u001b[0m0.9141   \u001b[0m | \u001b[0m0.07866  \u001b[0m | \u001b[0m14.76    \u001b[0m | \u001b[0m46.5     \u001b[0m | \u001b[0m1.624    \u001b[0m | \u001b[0m1.55     \u001b[0m |\n",
      "| \u001b[0m10       \u001b[0m | \u001b[0m0.4676   \u001b[0m | \u001b[0m1.477    \u001b[0m | \u001b[0m0.06343  \u001b[0m | \u001b[0m8.596    \u001b[0m | \u001b[0m58.7     \u001b[0m | \u001b[0m1.635    \u001b[0m | \u001b[0m1.868    \u001b[0m |\n",
      "| \u001b[0m11       \u001b[0m | \u001b[0m0.4717   \u001b[0m | \u001b[0m0.9053   \u001b[0m | \u001b[0m0.09781  \u001b[0m | \u001b[0m11.34    \u001b[0m | \u001b[0m49.57    \u001b[0m | \u001b[0m2.773    \u001b[0m | \u001b[0m1.897    \u001b[0m |\n",
      "| \u001b[0m12       \u001b[0m | \u001b[0m0.47     \u001b[0m | \u001b[0m1.943    \u001b[0m | \u001b[0m0.06068  \u001b[0m | \u001b[0m8.29     \u001b[0m | \u001b[0m47.76    \u001b[0m | \u001b[0m1.633    \u001b[0m | \u001b[0m1.661    \u001b[0m |\n",
      "| \u001b[0m13       \u001b[0m | \u001b[0m0.4724   \u001b[0m | \u001b[0m0.9273   \u001b[0m | \u001b[0m0.04507  \u001b[0m | \u001b[0m14.51    \u001b[0m | \u001b[0m51.97    \u001b[0m | \u001b[0m2.271    \u001b[0m | \u001b[0m2.497    \u001b[0m |\n",
      "| \u001b[0m14       \u001b[0m | \u001b[0m0.475    \u001b[0m | \u001b[0m1.099    \u001b[0m | \u001b[0m0.0515   \u001b[0m | \u001b[0m12.88    \u001b[0m | \u001b[0m50.22    \u001b[0m | \u001b[0m2.417    \u001b[0m | \u001b[0m1.959    \u001b[0m |\n",
      "| \u001b[0m15       \u001b[0m | \u001b[0m0.4586   \u001b[0m | \u001b[0m0.8991   \u001b[0m | \u001b[0m0.03124  \u001b[0m | \u001b[0m14.23    \u001b[0m | \u001b[0m50.08    \u001b[0m | \u001b[0m1.626    \u001b[0m | \u001b[0m1.603    \u001b[0m |\n",
      "| \u001b[0m16       \u001b[0m | \u001b[0m0.4676   \u001b[0m | \u001b[0m0.8366   \u001b[0m | \u001b[0m0.09741  \u001b[0m | \u001b[0m9.321    \u001b[0m | \u001b[0m52.22    \u001b[0m | \u001b[0m1.63     \u001b[0m | \u001b[0m2.214    \u001b[0m |\n",
      "| \u001b[95m17       \u001b[0m | \u001b[95m0.4776   \u001b[0m | \u001b[95m1.402    \u001b[0m | \u001b[95m0.04502  \u001b[0m | \u001b[95m9.507    \u001b[0m | \u001b[95m59.07    \u001b[0m | \u001b[95m2.221    \u001b[0m | \u001b[95m2.156    \u001b[0m |\n",
      "| \u001b[0m18       \u001b[0m | \u001b[0m0.4589   \u001b[0m | \u001b[0m0.9228   \u001b[0m | \u001b[0m0.02555  \u001b[0m | \u001b[0m9.424    \u001b[0m | \u001b[0m43.01    \u001b[0m | \u001b[0m1.688    \u001b[0m | \u001b[0m1.979    \u001b[0m |\n",
      "| \u001b[0m19       \u001b[0m | \u001b[0m0.4765   \u001b[0m | \u001b[0m1.347    \u001b[0m | \u001b[0m0.07676  \u001b[0m | \u001b[0m8.302    \u001b[0m | \u001b[0m52.87    \u001b[0m | \u001b[0m2.648    \u001b[0m | \u001b[0m2.126    \u001b[0m |\n",
      "| \u001b[0m20       \u001b[0m | \u001b[0m0.4749   \u001b[0m | \u001b[0m0.9064   \u001b[0m | \u001b[0m0.07872  \u001b[0m | \u001b[0m11.68    \u001b[0m | \u001b[0m40.35    \u001b[0m | \u001b[0m2.643    \u001b[0m | \u001b[0m2.222    \u001b[0m |\n",
      "| \u001b[0m21       \u001b[0m | \u001b[0m0.4713   \u001b[0m | \u001b[0m1.619    \u001b[0m | \u001b[0m0.05808  \u001b[0m | \u001b[0m8.54     \u001b[0m | \u001b[0m67.13    \u001b[0m | \u001b[0m2.275    \u001b[0m | \u001b[0m1.954    \u001b[0m |\n",
      "| \u001b[0m22       \u001b[0m | \u001b[0m0.4737   \u001b[0m | \u001b[0m1.77     \u001b[0m | \u001b[0m0.08132  \u001b[0m | \u001b[0m8.151    \u001b[0m | \u001b[0m51.19    \u001b[0m | \u001b[0m1.663    \u001b[0m | \u001b[0m2.34     \u001b[0m |\n",
      "| \u001b[0m23       \u001b[0m | \u001b[0m0.464    \u001b[0m | \u001b[0m1.592    \u001b[0m | \u001b[0m0.08692  \u001b[0m | \u001b[0m9.385    \u001b[0m | \u001b[0m64.94    \u001b[0m | \u001b[0m1.561    \u001b[0m | \u001b[0m1.581    \u001b[0m |\n",
      "| \u001b[0m24       \u001b[0m | \u001b[0m0.468    \u001b[0m | \u001b[0m1.679    \u001b[0m | \u001b[0m0.09462  \u001b[0m | \u001b[0m10.21    \u001b[0m | \u001b[0m47.47    \u001b[0m | \u001b[0m2.505    \u001b[0m | \u001b[0m1.661    \u001b[0m |\n",
      "| \u001b[0m25       \u001b[0m | \u001b[0m0.4726   \u001b[0m | \u001b[0m0.9218   \u001b[0m | \u001b[0m0.09184  \u001b[0m | \u001b[0m11.55    \u001b[0m | \u001b[0m47.36    \u001b[0m | \u001b[0m2.61     \u001b[0m | \u001b[0m2.036    \u001b[0m |\n",
      "| \u001b[0m26       \u001b[0m | \u001b[0m0.4715   \u001b[0m | \u001b[0m1.426    \u001b[0m | \u001b[0m0.07438  \u001b[0m | \u001b[0m8.289    \u001b[0m | \u001b[0m69.9     \u001b[0m | \u001b[0m2.648    \u001b[0m | \u001b[0m2.055    \u001b[0m |\n",
      "| \u001b[0m27       \u001b[0m | \u001b[0m0.4641   \u001b[0m | \u001b[0m1.362    \u001b[0m | \u001b[0m0.03092  \u001b[0m | \u001b[0m9.635    \u001b[0m | \u001b[0m55.25    \u001b[0m | \u001b[0m1.508    \u001b[0m | \u001b[0m1.721    \u001b[0m |\n",
      "| \u001b[0m28       \u001b[0m | \u001b[0m0.4679   \u001b[0m | \u001b[0m1.065    \u001b[0m | \u001b[0m0.07922  \u001b[0m | \u001b[0m11.46    \u001b[0m | \u001b[0m60.96    \u001b[0m | \u001b[0m2.138    \u001b[0m | \u001b[0m1.528    \u001b[0m |\n",
      "| \u001b[0m29       \u001b[0m | \u001b[0m0.4669   \u001b[0m | \u001b[0m0.8812   \u001b[0m | \u001b[0m0.05339  \u001b[0m | \u001b[0m12.32    \u001b[0m | \u001b[0m53.5     \u001b[0m | \u001b[0m1.966    \u001b[0m | \u001b[0m1.714    \u001b[0m |\n",
      "| \u001b[0m30       \u001b[0m | \u001b[0m0.4679   \u001b[0m | \u001b[0m1.678    \u001b[0m | \u001b[0m0.05219  \u001b[0m | \u001b[0m13.77    \u001b[0m | \u001b[0m50.0     \u001b[0m | \u001b[0m1.536    \u001b[0m | \u001b[0m2.255    \u001b[0m |\n",
      "| \u001b[0m31       \u001b[0m | \u001b[0m0.4652   \u001b[0m | \u001b[0m0.9258   \u001b[0m | \u001b[0m0.02346  \u001b[0m | \u001b[0m12.52    \u001b[0m | \u001b[0m59.51    \u001b[0m | \u001b[0m2.851    \u001b[0m | \u001b[0m2.253    \u001b[0m |\n",
      "| \u001b[0m32       \u001b[0m | \u001b[0m0.4709   \u001b[0m | \u001b[0m1.409    \u001b[0m | \u001b[0m0.04065  \u001b[0m | \u001b[0m9.559    \u001b[0m | \u001b[0m58.86    \u001b[0m | \u001b[0m2.136    \u001b[0m | \u001b[0m1.89     \u001b[0m |\n",
      "| \u001b[0m33       \u001b[0m | \u001b[0m0.4719   \u001b[0m | \u001b[0m1.29     \u001b[0m | \u001b[0m0.07822  \u001b[0m | \u001b[0m8.412    \u001b[0m | \u001b[0m61.34    \u001b[0m | \u001b[0m2.376    \u001b[0m | \u001b[0m2.167    \u001b[0m |\n",
      "| \u001b[0m34       \u001b[0m | \u001b[0m0.4642   \u001b[0m | \u001b[0m1.121    \u001b[0m | \u001b[0m0.09555  \u001b[0m | \u001b[0m13.64    \u001b[0m | \u001b[0m58.24    \u001b[0m | \u001b[0m1.586    \u001b[0m | \u001b[0m1.981    \u001b[0m |\n",
      "| \u001b[0m35       \u001b[0m | \u001b[0m0.4754   \u001b[0m | \u001b[0m1.405    \u001b[0m | \u001b[0m0.04658  \u001b[0m | \u001b[0m8.403    \u001b[0m | \u001b[0m52.75    \u001b[0m | \u001b[0m2.527    \u001b[0m | \u001b[0m2.201    \u001b[0m |\n",
      "=================================================================================================\n"
     ]
    }
   ],
   "source": [
    "xgbBO = BayesianOptimization(loss_target,{'max_depth': (8,15),'learning_rate': (0.02, 0.1),\n",
    "                                            'n_estimators': (40,70),'gamma': (0.75, 2),'reg_alpha': (1.5, 3),\n",
    "                                            'reg_lambda': (1.5, 2.5)})\n",
    "\n",
    "xgbBO.maximize(init_points=25, n_iter=10)"
   ]
  },
  {
   "cell_type": "code",
   "execution_count": 19,
   "id": "4e40c6c4-8e61-4fa7-8a87-c4f9ddc31dff",
   "metadata": {},
   "outputs": [
    {
     "data": {
      "text/plain": [
       "{'gamma': 1.401868533026954,\n",
       " 'learning_rate': 0.045023848908776073,\n",
       " 'max_depth': 9.50676007536958,\n",
       " 'n_estimators': 59.067613689276826,\n",
       " 'reg_alpha': 2.221355771789343,\n",
       " 'reg_lambda': 2.155905943616395}"
      ]
     },
     "execution_count": 19,
     "metadata": {},
     "output_type": "execute_result"
    }
   ],
   "source": [
    "used_param = xgbBO.max['params']\n",
    "used_param"
   ]
  },
  {
   "cell_type": "code",
   "execution_count": 20,
   "id": "e2d80d96-6247-4728-a1c8-83e2cf83f3c0",
   "metadata": {},
   "outputs": [],
   "source": [
    "used_param['n_jobs'] = 3\n",
    "used_param['objective']='binary:logistic'\n",
    "used_param['scale_pos_weight']=spw\n",
    "for c in ['max_depth','n_estimators']:\n",
    "    used_param[c] = int(used_param[c])"
   ]
  },
  {
   "cell_type": "code",
   "execution_count": 21,
   "id": "bab87b13-67d3-4f22-84b6-20ae99dce20e",
   "metadata": {},
   "outputs": [
    {
     "data": {
      "text/plain": [
       "XGBClassifier(base_score=None, booster=None, callbacks=None,\n",
       "              colsample_bylevel=None, colsample_bynode=None,\n",
       "              colsample_bytree=None, early_stopping_rounds=None,\n",
       "              enable_categorical=False, eval_metric=None, feature_types=None,\n",
       "              gamma=1.401868533026954, gpu_id=None, grow_policy=None,\n",
       "              importance_type=None, interaction_constraints=None,\n",
       "              learning_rate=0.045023848908776073, max_bin=None,\n",
       "              max_cat_threshold=None, max_cat_to_onehot=None,\n",
       "              max_delta_step=None, max_depth=9, max_leaves=None,\n",
       "              min_child_weight=None, missing=nan, monotone_constraints=None,\n",
       "              n_estimators=59, n_jobs=3, num_parallel_tree=None, predictor=None,\n",
       "              random_state=None, ...)"
      ]
     },
     "execution_count": 21,
     "metadata": {},
     "output_type": "execute_result"
    }
   ],
   "source": [
    "tModel = XGBClassifier(**used_param)\n",
    "tModel.fit(Xtrain_ss,Ytrain)"
   ]
  },
  {
   "cell_type": "code",
   "execution_count": 22,
   "id": "35785856-7c74-4575-9a72-54bd728012a6",
   "metadata": {},
   "outputs": [],
   "source": [
    "joblib.dump(tModel, model_file)\n",
    "tModel_load = joblib.load(model_file)"
   ]
  },
  {
   "cell_type": "code",
   "execution_count": null,
   "id": "747377b2-78c3-4f4d-8c37-11cd09ddcd66",
   "metadata": {},
   "outputs": [],
   "source": []
  },
  {
   "cell_type": "markdown",
   "id": "d518a72b-5b36-42fa-863f-3854880ea96d",
   "metadata": {},
   "source": [
    "## Evaluations"
   ]
  },
  {
   "cell_type": "code",
   "execution_count": 23,
   "id": "1c468e33-927c-4f31-912f-86c56237e93d",
   "metadata": {},
   "outputs": [],
   "source": [
    "%matplotlib inline"
   ]
  },
  {
   "cell_type": "code",
   "execution_count": 24,
   "id": "b17c9770-ac66-444d-bcbd-1e243510a3db",
   "metadata": {},
   "outputs": [
    {
     "name": "stdout",
     "output_type": "stream",
     "text": [
      "              precision    recall  f1-score   support\n",
      "\n",
      "           0       0.99      0.95      0.97      2565\n",
      "           1       0.86      0.97      0.91       773\n",
      "\n",
      "    accuracy                           0.96      3338\n",
      "   macro avg       0.93      0.96      0.94      3338\n",
      "weighted avg       0.96      0.96      0.96      3338\n",
      "\n",
      "aucpr :  0.8394\n",
      "aucroc :  0.9591\n"
     ]
    },
    {
     "data": {
      "text/plain": [
       "(0.8394, 0.9591)"
      ]
     },
     "execution_count": 24,
     "metadata": {},
     "output_type": "execute_result"
    },
    {
     "data": {
      "image/png": "[encoded data removed]",
      "text/plain": [
       "<Figure size 432x288 with 2 Axes>"
      ]
     },
     "metadata": {
      "needs_background": "light"
     },
     "output_type": "display_data"
    }
   ],
   "source": [
    "binary_eval(Ytrain, model=tModel_load, predictor=Xtrain_ss)"
   ]
  },
  {
   "cell_type": "code",
   "execution_count": 25,
   "id": "a6a8ad7d-1c0f-4354-a7da-2d3fce60e7d3",
   "metadata": {},
   "outputs": [
    {
     "name": "stdout",
     "output_type": "stream",
     "text": [
      "              precision    recall  f1-score   support\n",
      "\n",
      "           0       0.96      0.93      0.94      1105\n",
      "           1       0.78      0.85      0.81       326\n",
      "\n",
      "    accuracy                           0.91      1431\n",
      "   macro avg       0.87      0.89      0.88      1431\n",
      "weighted avg       0.91      0.91      0.91      1431\n",
      "\n",
      "aucpr :  0.6957\n",
      "aucroc :  0.8902\n"
     ]
    },
    {
     "data": {
      "text/plain": [
       "(0.6957, 0.8902)"
      ]
     },
     "execution_count": 25,
     "metadata": {},
     "output_type": "execute_result"
    },
    {
     "data": {
      "image/png": "[encoded data removed]",
      "text/plain": [
       "<Figure size 432x288 with 2 Axes>"
      ]
     },
     "metadata": {
      "needs_background": "light"
     },
     "output_type": "display_data"
    }
   ],
   "source": [
    "binary_eval(Ytest, model=tModel_load, predictor=Xtest_ss)"
   ]
  },
  {
   "cell_type": "code",
   "execution_count": null,
   "id": "994216d0-ee15-4499-a572-14b71a97ef2c",
   "metadata": {},
   "outputs": [],
   "source": []
  },
  {
   "cell_type": "markdown",
   "id": "bbd7012f-437f-46a5-90af-c28a95102af9",
   "metadata": {},
   "source": [
    "## Feature Importance"
   ]
  },
  {
   "cell_type": "code",
   "execution_count": 26,
   "id": "6a0733e1-62c2-4507-b700-7086d302d0a9",
   "metadata": {},
   "outputs": [],
   "source": [
    "explainer = shap.TreeExplainer(tModel_load)\n",
    "# masker = shap.maskers.Independent(data=Xtest_ss)\n",
    "# explainer = shap.Explainer(\n",
    "#     tModel_load, masker=masker, feature_names=Xtest_ss.columns, algorithm=\"linear\"\n",
    "# )\n",
    "shap_values = explainer.shap_values(Xtrain_ss)"
   ]
  },
  {
   "cell_type": "code",
   "execution_count": 27,
   "id": "06b779da-f1ae-499b-b946-29b37db81c6e",
   "metadata": {},
   "outputs": [
    {
     "data": {
      "image/png": "[encoded data removed]",
      "text/plain": [
       "<Figure size 576x684 with 2 Axes>"
      ]
     },
     "metadata": {
      "needs_background": "light"
     },
     "output_type": "display_data"
    }
   ],
   "source": [
    "shap.summary_plot(shap_values, features=Xtrain_ss, feature_names=Xtest_ss.columns)"
   ]
  },
  {
   "cell_type": "code",
   "execution_count": 28,
   "id": "38cab7a4-2e46-4ede-8fec-5834ed2c9ec5",
   "metadata": {},
   "outputs": [],
   "source": [
    "# shap.summary_plot(shap_values, Xtest_ss, plot_type=\"bar\")"
   ]
  },
  {
   "cell_type": "code",
   "execution_count": 29,
   "id": "4baecc08-88a6-4382-abe3-493c40e0793a",
   "metadata": {},
   "outputs": [],
   "source": [
    "# shap.initjs()\n",
    "# shap.force_plot(explainer.expected_value, shap_values, Xtest_ss)"
   ]
  },
  {
   "cell_type": "code",
   "execution_count": 30,
   "id": "372e4f40-f126-4807-9313-66d14720bd5e",
   "metadata": {},
   "outputs": [],
   "source": [
    "# shap.dependence_plot('vote_avg', shap_values, Xtest_ss)"
   ]
  },
  {
   "cell_type": "code",
   "execution_count": 31,
   "id": "2336b4db-b876-409f-bdba-d9300bacbb4c",
   "metadata": {},
   "outputs": [],
   "source": [
    "vals = np.abs(shap_values).mean(0)\n",
    "feature_names = Xtest_ss.columns\n",
    "feature_importance = pd.DataFrame(list(zip(feature_names, vals)),\n",
    "                                  columns=['col_name','feature_importance_vals'])\n",
    "feature_importance.sort_values(by=['feature_importance_vals'],\n",
    "                               ascending=False, inplace=True)"
   ]
  },
  {
   "cell_type": "code",
   "execution_count": 32,
   "id": "b57fec5e-5419-4dbb-83be-16e095599f7f",
   "metadata": {},
   "outputs": [],
   "source": [
    "feature_importance.to_csv(PATH_MODEL+'feat_importance_'+VERS+'.csv', index = False)"
   ]
  },
  {
   "cell_type": "code",
   "execution_count": 33,
   "id": "5e3899b4-b37d-43d6-9ae0-1ef04f3448b6",
   "metadata": {},
   "outputs": [
    {
     "data": {
      "text/html": [
       "<div>\n",
       "<style scoped>\n",
       "    .dataframe tbody tr th:only-of-type {\n",
       "        vertical-align: middle;\n",
       "    }\n",
       "\n",
       "    .dataframe tbody tr th {\n",
       "        vertical-align: top;\n",
       "    }\n",
       "\n",
       "    .dataframe thead th {\n",
       "        text-align: right;\n",
       "    }\n",
       "</style>\n",
       "<table border=\"1\" class=\"dataframe\">\n",
       "  <thead>\n",
       "    <tr style=\"text-align: right;\">\n",
       "      <th></th>\n",
       "      <th>col_name</th>\n",
       "      <th>feature_importance_vals</th>\n",
       "    </tr>\n",
       "  </thead>\n",
       "  <tbody>\n",
       "    <tr>\n",
       "      <th>31</th>\n",
       "      <td>turn_over_rate</td>\n",
       "      <td>0.988755</td>\n",
       "    </tr>\n",
       "    <tr>\n",
       "      <th>32</th>\n",
       "      <td>vote_avg</td>\n",
       "      <td>0.729445</td>\n",
       "    </tr>\n",
       "    <tr>\n",
       "      <th>30</th>\n",
       "      <td>reaction_cnt</td>\n",
       "      <td>0.510195</td>\n",
       "    </tr>\n",
       "    <tr>\n",
       "      <th>25</th>\n",
       "      <td>len_txt_avg</td>\n",
       "      <td>0.354351</td>\n",
       "    </tr>\n",
       "    <tr>\n",
       "      <th>35</th>\n",
       "      <td>vote_company_cnt</td>\n",
       "      <td>0.090374</td>\n",
       "    </tr>\n",
       "  </tbody>\n",
       "</table>\n",
       "</div>"
      ],
      "text/plain": [
       "            col_name  feature_importance_vals\n",
       "31    turn_over_rate                 0.988755\n",
       "32          vote_avg                 0.729445\n",
       "30      reaction_cnt                 0.510195\n",
       "25       len_txt_avg                 0.354351\n",
       "35  vote_company_cnt                 0.090374"
      ]
     },
     "execution_count": 33,
     "metadata": {},
     "output_type": "execute_result"
    }
   ],
   "source": [
    "feature_importance.head()"
   ]
  },
  {
   "cell_type": "code",
   "execution_count": null,
   "id": "5214c141-60fd-436e-94d0-8a8ab38cca0c",
   "metadata": {},
   "outputs": [],
   "source": []
  }
 ],
 "metadata": {
  "kernelspec": {
   "display_name": "eto-env",
   "language": "python",
   "name": "eto-env"
  },
  "language_info": {
   "codemirror_mode": {
    "name": "ipython",
    "version": 3
   },
   "file_extension": ".py",
   "mimetype": "text/x-python",
   "name": "python",
   "nbconvert_exporter": "python",
   "pygments_lexer": "ipython3",
   "version": "3.8.10"
  }
 },
 "nbformat": 4,
 "nbformat_minor": 5
}
