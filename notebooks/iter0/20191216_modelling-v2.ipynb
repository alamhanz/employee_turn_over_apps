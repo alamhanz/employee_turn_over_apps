{
 "cells": [
  {
   "cell_type": "markdown",
   "metadata": {},
   "source": [
    "# Employee Turn Over"
   ]
  },
  {
   "cell_type": "code",
   "execution_count": 1,
   "metadata": {},
   "outputs": [],
   "source": [
    "import pandas as pd\n",
    "import seaborn as sns\n",
    "import matplotlib.pyplot as plt\n",
    "import numpy as np"
   ]
  },
  {
   "cell_type": "code",
   "execution_count": 2,
   "metadata": {},
   "outputs": [],
   "source": [
    "PATH_DATA='../data/'"
   ]
  },
  {
   "cell_type": "code",
   "execution_count": null,
   "metadata": {},
   "outputs": [],
   "source": []
  },
  {
   "cell_type": "markdown",
   "metadata": {},
   "source": [
    "## Get The data"
   ]
  },
  {
   "cell_type": "code",
   "execution_count": 3,
   "metadata": {},
   "outputs": [
    {
     "name": "stderr",
     "output_type": "stream",
     "text": [
      "/Users/alamhanz/anaconda/envs/py36/lib/python3.6/site-packages/IPython/core/interactiveshell.py:3020: DtypeWarning: Columns (2,3) have mixed types. Specify dtype option on import or set low_memory=False.\n",
      "  interactivity=interactivity, compiler=compiler, result=result)\n"
     ]
    }
   ],
   "source": [
    "data_churn=pd.read_csv(PATH_DATA+'churn.csv')\n",
    "data_comment=pd.read_csv(PATH_DATA+'commentInteractions.csv')\n",
    "data_votes=pd.read_csv(PATH_DATA+'votes.csv')\n",
    "data_comment_cln1=pd.read_csv(PATH_DATA+'comments_clean_anonimized.csv')"
   ]
  },
  {
   "cell_type": "code",
   "execution_count": 4,
   "metadata": {},
   "outputs": [],
   "source": [
    "# len(data_churn.employee_company.unique())"
   ]
  },
  {
   "cell_type": "code",
   "execution_count": 5,
   "metadata": {},
   "outputs": [
    {
     "data": {
      "text/html": [
       "<div>\n",
       "<style scoped>\n",
       "    .dataframe tbody tr th:only-of-type {\n",
       "        vertical-align: middle;\n",
       "    }\n",
       "\n",
       "    .dataframe tbody tr th {\n",
       "        vertical-align: top;\n",
       "    }\n",
       "\n",
       "    .dataframe thead th {\n",
       "        text-align: right;\n",
       "    }\n",
       "</style>\n",
       "<table border=\"1\" class=\"dataframe\">\n",
       "  <thead>\n",
       "    <tr style=\"text-align: right;\">\n",
       "      <th></th>\n",
       "      <th>employee</th>\n",
       "      <th>companyAlias</th>\n",
       "      <th>voteDate</th>\n",
       "      <th>vote</th>\n",
       "    </tr>\n",
       "  </thead>\n",
       "  <tbody>\n",
       "    <tr>\n",
       "      <th>0</th>\n",
       "      <td>31</td>\n",
       "      <td>56aec740f1ef260003e307d6</td>\n",
       "      <td>Mon Feb 01 01:00:00 CET 2016</td>\n",
       "      <td>4</td>\n",
       "    </tr>\n",
       "    <tr>\n",
       "      <th>1</th>\n",
       "      <td>33</td>\n",
       "      <td>56aec740f1ef260003e307d6</td>\n",
       "      <td>Mon Feb 01 01:00:00 CET 2016</td>\n",
       "      <td>4</td>\n",
       "    </tr>\n",
       "    <tr>\n",
       "      <th>2</th>\n",
       "      <td>79</td>\n",
       "      <td>56aec740f1ef260003e307d6</td>\n",
       "      <td>Mon Feb 01 01:00:00 CET 2016</td>\n",
       "      <td>4</td>\n",
       "    </tr>\n",
       "    <tr>\n",
       "      <th>3</th>\n",
       "      <td>94</td>\n",
       "      <td>56aec740f1ef260003e307d6</td>\n",
       "      <td>Mon Feb 01 01:00:00 CET 2016</td>\n",
       "      <td>4</td>\n",
       "    </tr>\n",
       "    <tr>\n",
       "      <th>4</th>\n",
       "      <td>16</td>\n",
       "      <td>56aec740f1ef260003e307d6</td>\n",
       "      <td>Mon Feb 01 01:00:00 CET 2016</td>\n",
       "      <td>2</td>\n",
       "    </tr>\n",
       "  </tbody>\n",
       "</table>\n",
       "</div>"
      ],
      "text/plain": [
       "   employee              companyAlias                      voteDate  vote\n",
       "0        31  56aec740f1ef260003e307d6  Mon Feb 01 01:00:00 CET 2016     4\n",
       "1        33  56aec740f1ef260003e307d6  Mon Feb 01 01:00:00 CET 2016     4\n",
       "2        79  56aec740f1ef260003e307d6  Mon Feb 01 01:00:00 CET 2016     4\n",
       "3        94  56aec740f1ef260003e307d6  Mon Feb 01 01:00:00 CET 2016     4\n",
       "4        16  56aec740f1ef260003e307d6  Mon Feb 01 01:00:00 CET 2016     2"
      ]
     },
     "execution_count": 5,
     "metadata": {},
     "output_type": "execute_result"
    }
   ],
   "source": [
    "## Happy today?\n",
    "data_votes.head()"
   ]
  },
  {
   "cell_type": "code",
   "execution_count": 6,
   "metadata": {},
   "outputs": [],
   "source": [
    "data_votes['employee_company']=data_votes.employee.astype(str)+'_'+data_votes.companyAlias"
   ]
  },
  {
   "cell_type": "code",
   "execution_count": 7,
   "metadata": {},
   "outputs": [],
   "source": [
    "# len(data_votes.employee_company.unique())"
   ]
  },
  {
   "cell_type": "code",
   "execution_count": 8,
   "metadata": {},
   "outputs": [
    {
     "data": {
      "text/plain": [
       "37"
      ]
     },
     "execution_count": 8,
     "metadata": {},
     "output_type": "execute_result"
    }
   ],
   "source": [
    "len(data_votes.companyAlias.unique())"
   ]
  },
  {
   "cell_type": "code",
   "execution_count": 9,
   "metadata": {},
   "outputs": [
    {
     "data": {
      "text/html": [
       "<div>\n",
       "<style scoped>\n",
       "    .dataframe tbody tr th:only-of-type {\n",
       "        vertical-align: middle;\n",
       "    }\n",
       "\n",
       "    .dataframe tbody tr th {\n",
       "        vertical-align: top;\n",
       "    }\n",
       "\n",
       "    .dataframe thead th {\n",
       "        text-align: right;\n",
       "    }\n",
       "</style>\n",
       "<table border=\"1\" class=\"dataframe\">\n",
       "  <thead>\n",
       "    <tr style=\"text-align: right;\">\n",
       "      <th></th>\n",
       "      <th>employee</th>\n",
       "      <th>companyAlias</th>\n",
       "      <th>commentId</th>\n",
       "      <th>txt</th>\n",
       "      <th>likes</th>\n",
       "      <th>dislikes</th>\n",
       "      <th>commentDate</th>\n",
       "    </tr>\n",
       "  </thead>\n",
       "  <tbody>\n",
       "    <tr>\n",
       "      <th>0</th>\n",
       "      <td>307</td>\n",
       "      <td>56aec740f1ef260003e307d6</td>\n",
       "      <td>58d018d7e010990004e38070</td>\n",
       "      <td>**********************************************...</td>\n",
       "      <td>4.0</td>\n",
       "      <td>0.0</td>\n",
       "      <td>Mon Mar 20 19:00:17 CET 2017</td>\n",
       "    </tr>\n",
       "    <tr>\n",
       "      <th>1</th>\n",
       "      <td>382</td>\n",
       "      <td>56aec740f1ef260003e307d6</td>\n",
       "      <td>58d0179ae010990004e3806d</td>\n",
       "      <td>*****************************</td>\n",
       "      <td>1.0</td>\n",
       "      <td>2.0</td>\n",
       "      <td>Mon Mar 20 18:55:16 CET 2017</td>\n",
       "    </tr>\n",
       "    <tr>\n",
       "      <th>2</th>\n",
       "      <td>172</td>\n",
       "      <td>56aec740f1ef260003e307d6</td>\n",
       "      <td>58cff8cde010990004e37f6a</td>\n",
       "      <td>***************************</td>\n",
       "      <td>3.0</td>\n",
       "      <td>0.0</td>\n",
       "      <td>Mon Mar 20 16:44:02 CET 2017</td>\n",
       "    </tr>\n",
       "    <tr>\n",
       "      <th>3</th>\n",
       "      <td>135</td>\n",
       "      <td>56aec740f1ef260003e307d6</td>\n",
       "      <td>58cfefeee010990004e37f60</td>\n",
       "      <td>***************************</td>\n",
       "      <td>1.0</td>\n",
       "      <td>1.0</td>\n",
       "      <td>Mon Mar 20 16:06:08 CET 2017</td>\n",
       "    </tr>\n",
       "    <tr>\n",
       "      <th>4</th>\n",
       "      <td>225</td>\n",
       "      <td>56aec740f1ef260003e307d6</td>\n",
       "      <td>58cfd9b4e010990004e37f52</td>\n",
       "      <td>*********************************</td>\n",
       "      <td>3.0</td>\n",
       "      <td>2.0</td>\n",
       "      <td>Mon Mar 20 14:30:50 CET 2017</td>\n",
       "    </tr>\n",
       "  </tbody>\n",
       "</table>\n",
       "</div>"
      ],
      "text/plain": [
       "   employee              companyAlias                 commentId  \\\n",
       "0       307  56aec740f1ef260003e307d6  58d018d7e010990004e38070   \n",
       "1       382  56aec740f1ef260003e307d6  58d0179ae010990004e3806d   \n",
       "2       172  56aec740f1ef260003e307d6  58cff8cde010990004e37f6a   \n",
       "3       135  56aec740f1ef260003e307d6  58cfefeee010990004e37f60   \n",
       "4       225  56aec740f1ef260003e307d6  58cfd9b4e010990004e37f52   \n",
       "\n",
       "                                                 txt  likes  dislikes  \\\n",
       "0  **********************************************...    4.0       0.0   \n",
       "1                      *****************************    1.0       2.0   \n",
       "2                        ***************************    3.0       0.0   \n",
       "3                        ***************************    1.0       1.0   \n",
       "4                  *********************************    3.0       2.0   \n",
       "\n",
       "                    commentDate  \n",
       "0  Mon Mar 20 19:00:17 CET 2017  \n",
       "1  Mon Mar 20 18:55:16 CET 2017  \n",
       "2  Mon Mar 20 16:44:02 CET 2017  \n",
       "3  Mon Mar 20 16:06:08 CET 2017  \n",
       "4  Mon Mar 20 14:30:50 CET 2017  "
      ]
     },
     "execution_count": 9,
     "metadata": {},
     "output_type": "execute_result"
    }
   ],
   "source": [
    "data_comment_cln1.head()"
   ]
  },
  {
   "cell_type": "code",
   "execution_count": 10,
   "metadata": {},
   "outputs": [
    {
     "data": {
      "text/html": [
       "<div>\n",
       "<style scoped>\n",
       "    .dataframe tbody tr th:only-of-type {\n",
       "        vertical-align: middle;\n",
       "    }\n",
       "\n",
       "    .dataframe tbody tr th {\n",
       "        vertical-align: top;\n",
       "    }\n",
       "\n",
       "    .dataframe thead th {\n",
       "        text-align: right;\n",
       "    }\n",
       "</style>\n",
       "<table border=\"1\" class=\"dataframe\">\n",
       "  <thead>\n",
       "    <tr style=\"text-align: right;\">\n",
       "      <th></th>\n",
       "      <th>employee</th>\n",
       "      <th>companyAlias</th>\n",
       "      <th>liked</th>\n",
       "      <th>disliked</th>\n",
       "      <th>commentId</th>\n",
       "    </tr>\n",
       "  </thead>\n",
       "  <tbody>\n",
       "    <tr>\n",
       "      <th>0</th>\n",
       "      <td>307</td>\n",
       "      <td>56aec740f1ef260003e307d6</td>\n",
       "      <td>True</td>\n",
       "      <td>False</td>\n",
       "      <td>58d018d7e010990004e38070</td>\n",
       "    </tr>\n",
       "    <tr>\n",
       "      <th>1</th>\n",
       "      <td>36</td>\n",
       "      <td>56aec740f1ef260003e307d6</td>\n",
       "      <td>True</td>\n",
       "      <td>False</td>\n",
       "      <td>58d018d7e010990004e38070</td>\n",
       "    </tr>\n",
       "    <tr>\n",
       "      <th>2</th>\n",
       "      <td>276</td>\n",
       "      <td>56aec740f1ef260003e307d6</td>\n",
       "      <td>True</td>\n",
       "      <td>False</td>\n",
       "      <td>58d018d7e010990004e38070</td>\n",
       "    </tr>\n",
       "    <tr>\n",
       "      <th>3</th>\n",
       "      <td>24</td>\n",
       "      <td>56aec740f1ef260003e307d6</td>\n",
       "      <td>True</td>\n",
       "      <td>False</td>\n",
       "      <td>58d018d7e010990004e38070</td>\n",
       "    </tr>\n",
       "    <tr>\n",
       "      <th>4</th>\n",
       "      <td>382</td>\n",
       "      <td>56aec740f1ef260003e307d6</td>\n",
       "      <td>True</td>\n",
       "      <td>False</td>\n",
       "      <td>58d0179ae010990004e3806d</td>\n",
       "    </tr>\n",
       "  </tbody>\n",
       "</table>\n",
       "</div>"
      ],
      "text/plain": [
       "   employee              companyAlias liked disliked                 commentId\n",
       "0       307  56aec740f1ef260003e307d6  True    False  58d018d7e010990004e38070\n",
       "1        36  56aec740f1ef260003e307d6  True    False  58d018d7e010990004e38070\n",
       "2       276  56aec740f1ef260003e307d6  True    False  58d018d7e010990004e38070\n",
       "3        24  56aec740f1ef260003e307d6  True    False  58d018d7e010990004e38070\n",
       "4       382  56aec740f1ef260003e307d6  True    False  58d0179ae010990004e3806d"
      ]
     },
     "execution_count": 10,
     "metadata": {},
     "output_type": "execute_result"
    }
   ],
   "source": [
    "data_comment.head()"
   ]
  },
  {
   "cell_type": "code",
   "execution_count": 11,
   "metadata": {},
   "outputs": [
    {
     "data": {
      "text/html": [
       "<div>\n",
       "<style scoped>\n",
       "    .dataframe tbody tr th:only-of-type {\n",
       "        vertical-align: middle;\n",
       "    }\n",
       "\n",
       "    .dataframe tbody tr th {\n",
       "        vertical-align: top;\n",
       "    }\n",
       "\n",
       "    .dataframe thead th {\n",
       "        text-align: right;\n",
       "    }\n",
       "</style>\n",
       "<table border=\"1\" class=\"dataframe\">\n",
       "  <thead>\n",
       "    <tr style=\"text-align: right;\">\n",
       "      <th></th>\n",
       "      <th>employee</th>\n",
       "      <th>companyAlias</th>\n",
       "      <th>numVotes</th>\n",
       "      <th>lastParticipationDate</th>\n",
       "      <th>stillExists</th>\n",
       "    </tr>\n",
       "  </thead>\n",
       "  <tbody>\n",
       "    <tr>\n",
       "      <th>0</th>\n",
       "      <td>512</td>\n",
       "      <td>56aec740f1ef260003e307d6</td>\n",
       "      <td>4</td>\n",
       "      <td>Thu Feb 23 12:48:04 CET 2017</td>\n",
       "      <td>True</td>\n",
       "    </tr>\n",
       "    <tr>\n",
       "      <th>1</th>\n",
       "      <td>-2</td>\n",
       "      <td>56aec740f1ef260003e307d6</td>\n",
       "      <td>0</td>\n",
       "      <td>Wed Jan 18 14:00:55 CET 2017</td>\n",
       "      <td>False</td>\n",
       "    </tr>\n",
       "    <tr>\n",
       "      <th>2</th>\n",
       "      <td>2</td>\n",
       "      <td>56aec740f1ef260003e307d6</td>\n",
       "      <td>72</td>\n",
       "      <td>Fri Mar 17 01:00:00 CET 2017</td>\n",
       "      <td>True</td>\n",
       "    </tr>\n",
       "    <tr>\n",
       "      <th>3</th>\n",
       "      <td>487</td>\n",
       "      <td>56aec740f1ef260003e307d6</td>\n",
       "      <td>14</td>\n",
       "      <td>Sat Nov 19 15:02:14 CET 2016</td>\n",
       "      <td>False</td>\n",
       "    </tr>\n",
       "    <tr>\n",
       "      <th>4</th>\n",
       "      <td>3</td>\n",
       "      <td>56aec740f1ef260003e307d6</td>\n",
       "      <td>22</td>\n",
       "      <td>Thu Feb 16 01:00:00 CET 2017</td>\n",
       "      <td>True</td>\n",
       "    </tr>\n",
       "  </tbody>\n",
       "</table>\n",
       "</div>"
      ],
      "text/plain": [
       "   employee              companyAlias  numVotes         lastParticipationDate  \\\n",
       "0       512  56aec740f1ef260003e307d6         4  Thu Feb 23 12:48:04 CET 2017   \n",
       "1        -2  56aec740f1ef260003e307d6         0  Wed Jan 18 14:00:55 CET 2017   \n",
       "2         2  56aec740f1ef260003e307d6        72  Fri Mar 17 01:00:00 CET 2017   \n",
       "3       487  56aec740f1ef260003e307d6        14  Sat Nov 19 15:02:14 CET 2016   \n",
       "4         3  56aec740f1ef260003e307d6        22  Thu Feb 16 01:00:00 CET 2017   \n",
       "\n",
       "   stillExists  \n",
       "0         True  \n",
       "1        False  \n",
       "2         True  \n",
       "3        False  \n",
       "4         True  "
      ]
     },
     "execution_count": 11,
     "metadata": {},
     "output_type": "execute_result"
    }
   ],
   "source": [
    "data_churn.head()"
   ]
  },
  {
   "cell_type": "code",
   "execution_count": 12,
   "metadata": {},
   "outputs": [
    {
     "data": {
      "text/plain": [
       "1002"
      ]
     },
     "execution_count": 12,
     "metadata": {},
     "output_type": "execute_result"
    }
   ],
   "source": [
    "len(data_churn.employee.unique())"
   ]
  },
  {
   "cell_type": "code",
   "execution_count": 13,
   "metadata": {},
   "outputs": [
    {
     "data": {
      "text/plain": [
       "(4847, 5)"
      ]
     },
     "execution_count": 13,
     "metadata": {},
     "output_type": "execute_result"
    }
   ],
   "source": [
    "data_churn.shape"
   ]
  },
  {
   "cell_type": "code",
   "execution_count": null,
   "metadata": {},
   "outputs": [],
   "source": []
  },
  {
   "cell_type": "code",
   "execution_count": null,
   "metadata": {},
   "outputs": [],
   "source": []
  },
  {
   "cell_type": "markdown",
   "metadata": {},
   "source": [
    "## Exploration Data Analysis"
   ]
  },
  {
   "cell_type": "code",
   "execution_count": null,
   "metadata": {},
   "outputs": [],
   "source": []
  },
  {
   "cell_type": "code",
   "execution_count": null,
   "metadata": {},
   "outputs": [],
   "source": []
  },
  {
   "cell_type": "code",
   "execution_count": null,
   "metadata": {},
   "outputs": [],
   "source": []
  },
  {
   "cell_type": "markdown",
   "metadata": {},
   "source": [
    "## Feature Extraction"
   ]
  },
  {
   "cell_type": "code",
   "execution_count": null,
   "metadata": {},
   "outputs": [],
   "source": []
  },
  {
   "cell_type": "markdown",
   "metadata": {},
   "source": [
    "Level Employee Features\n",
    "* hitung jumlah vote selain \"4\"\n",
    "* hitung berapa kali vote\n",
    "* hitung berapa kali comment saat Pagi --> 6-10\n",
    "* hitung berapa kali comment saat Siang --> 10-14\n",
    "* hitung berapa kali comment saat Sore --> 14-18\n",
    "* hitung berapa kali comment saat Malam --> 18-22\n",
    "* avg comment length\n",
    "* Recency of Employee\n",
    "* Jumlah Comment di dislike\n"
   ]
  },
  {
   "cell_type": "code",
   "execution_count": null,
   "metadata": {},
   "outputs": [],
   "source": []
  },
  {
   "cell_type": "code",
   "execution_count": null,
   "metadata": {},
   "outputs": [],
   "source": []
  },
  {
   "cell_type": "markdown",
   "metadata": {},
   "source": [
    "#### Hitung jumlah vote selain \"4\""
   ]
  },
  {
   "cell_type": "code",
   "execution_count": 14,
   "metadata": {},
   "outputs": [
    {
     "data": {
      "text/html": [
       "<div>\n",
       "<style scoped>\n",
       "    .dataframe tbody tr th:only-of-type {\n",
       "        vertical-align: middle;\n",
       "    }\n",
       "\n",
       "    .dataframe tbody tr th {\n",
       "        vertical-align: top;\n",
       "    }\n",
       "\n",
       "    .dataframe thead th {\n",
       "        text-align: right;\n",
       "    }\n",
       "</style>\n",
       "<table border=\"1\" class=\"dataframe\">\n",
       "  <thead>\n",
       "    <tr style=\"text-align: right;\">\n",
       "      <th></th>\n",
       "      <th>employee</th>\n",
       "      <th>companyAlias</th>\n",
       "      <th>voteDate</th>\n",
       "      <th>vote</th>\n",
       "      <th>employee_company</th>\n",
       "    </tr>\n",
       "  </thead>\n",
       "  <tbody>\n",
       "    <tr>\n",
       "      <th>0</th>\n",
       "      <td>31</td>\n",
       "      <td>56aec740f1ef260003e307d6</td>\n",
       "      <td>Mon Feb 01 01:00:00 CET 2016</td>\n",
       "      <td>4</td>\n",
       "      <td>31_56aec740f1ef260003e307d6</td>\n",
       "    </tr>\n",
       "    <tr>\n",
       "      <th>1</th>\n",
       "      <td>33</td>\n",
       "      <td>56aec740f1ef260003e307d6</td>\n",
       "      <td>Mon Feb 01 01:00:00 CET 2016</td>\n",
       "      <td>4</td>\n",
       "      <td>33_56aec740f1ef260003e307d6</td>\n",
       "    </tr>\n",
       "    <tr>\n",
       "      <th>2</th>\n",
       "      <td>79</td>\n",
       "      <td>56aec740f1ef260003e307d6</td>\n",
       "      <td>Mon Feb 01 01:00:00 CET 2016</td>\n",
       "      <td>4</td>\n",
       "      <td>79_56aec740f1ef260003e307d6</td>\n",
       "    </tr>\n",
       "    <tr>\n",
       "      <th>3</th>\n",
       "      <td>94</td>\n",
       "      <td>56aec740f1ef260003e307d6</td>\n",
       "      <td>Mon Feb 01 01:00:00 CET 2016</td>\n",
       "      <td>4</td>\n",
       "      <td>94_56aec740f1ef260003e307d6</td>\n",
       "    </tr>\n",
       "    <tr>\n",
       "      <th>4</th>\n",
       "      <td>16</td>\n",
       "      <td>56aec740f1ef260003e307d6</td>\n",
       "      <td>Mon Feb 01 01:00:00 CET 2016</td>\n",
       "      <td>2</td>\n",
       "      <td>16_56aec740f1ef260003e307d6</td>\n",
       "    </tr>\n",
       "  </tbody>\n",
       "</table>\n",
       "</div>"
      ],
      "text/plain": [
       "   employee              companyAlias                      voteDate  vote  \\\n",
       "0        31  56aec740f1ef260003e307d6  Mon Feb 01 01:00:00 CET 2016     4   \n",
       "1        33  56aec740f1ef260003e307d6  Mon Feb 01 01:00:00 CET 2016     4   \n",
       "2        79  56aec740f1ef260003e307d6  Mon Feb 01 01:00:00 CET 2016     4   \n",
       "3        94  56aec740f1ef260003e307d6  Mon Feb 01 01:00:00 CET 2016     4   \n",
       "4        16  56aec740f1ef260003e307d6  Mon Feb 01 01:00:00 CET 2016     2   \n",
       "\n",
       "              employee_company  \n",
       "0  31_56aec740f1ef260003e307d6  \n",
       "1  33_56aec740f1ef260003e307d6  \n",
       "2  79_56aec740f1ef260003e307d6  \n",
       "3  94_56aec740f1ef260003e307d6  \n",
       "4  16_56aec740f1ef260003e307d6  "
      ]
     },
     "execution_count": 14,
     "metadata": {},
     "output_type": "execute_result"
    }
   ],
   "source": [
    "data_votes.head()"
   ]
  },
  {
   "cell_type": "code",
   "execution_count": 15,
   "metadata": {},
   "outputs": [],
   "source": [
    "data_votes['is_not_4']=(data_votes.vote!=4).astype(int)"
   ]
  },
  {
   "cell_type": "code",
   "execution_count": 16,
   "metadata": {},
   "outputs": [
    {
     "data": {
      "text/html": [
       "<div>\n",
       "<style scoped>\n",
       "    .dataframe tbody tr th:only-of-type {\n",
       "        vertical-align: middle;\n",
       "    }\n",
       "\n",
       "    .dataframe tbody tr th {\n",
       "        vertical-align: top;\n",
       "    }\n",
       "\n",
       "    .dataframe thead th {\n",
       "        text-align: right;\n",
       "    }\n",
       "</style>\n",
       "<table border=\"1\" class=\"dataframe\">\n",
       "  <thead>\n",
       "    <tr style=\"text-align: right;\">\n",
       "      <th></th>\n",
       "      <th>employee</th>\n",
       "      <th>companyAlias</th>\n",
       "      <th>voteDate</th>\n",
       "      <th>vote</th>\n",
       "      <th>employee_company</th>\n",
       "      <th>is_not_4</th>\n",
       "    </tr>\n",
       "  </thead>\n",
       "  <tbody>\n",
       "    <tr>\n",
       "      <th>0</th>\n",
       "      <td>31</td>\n",
       "      <td>56aec740f1ef260003e307d6</td>\n",
       "      <td>Mon Feb 01 01:00:00 CET 2016</td>\n",
       "      <td>4</td>\n",
       "      <td>31_56aec740f1ef260003e307d6</td>\n",
       "      <td>0</td>\n",
       "    </tr>\n",
       "    <tr>\n",
       "      <th>1</th>\n",
       "      <td>33</td>\n",
       "      <td>56aec740f1ef260003e307d6</td>\n",
       "      <td>Mon Feb 01 01:00:00 CET 2016</td>\n",
       "      <td>4</td>\n",
       "      <td>33_56aec740f1ef260003e307d6</td>\n",
       "      <td>0</td>\n",
       "    </tr>\n",
       "    <tr>\n",
       "      <th>2</th>\n",
       "      <td>79</td>\n",
       "      <td>56aec740f1ef260003e307d6</td>\n",
       "      <td>Mon Feb 01 01:00:00 CET 2016</td>\n",
       "      <td>4</td>\n",
       "      <td>79_56aec740f1ef260003e307d6</td>\n",
       "      <td>0</td>\n",
       "    </tr>\n",
       "    <tr>\n",
       "      <th>3</th>\n",
       "      <td>94</td>\n",
       "      <td>56aec740f1ef260003e307d6</td>\n",
       "      <td>Mon Feb 01 01:00:00 CET 2016</td>\n",
       "      <td>4</td>\n",
       "      <td>94_56aec740f1ef260003e307d6</td>\n",
       "      <td>0</td>\n",
       "    </tr>\n",
       "    <tr>\n",
       "      <th>4</th>\n",
       "      <td>16</td>\n",
       "      <td>56aec740f1ef260003e307d6</td>\n",
       "      <td>Mon Feb 01 01:00:00 CET 2016</td>\n",
       "      <td>2</td>\n",
       "      <td>16_56aec740f1ef260003e307d6</td>\n",
       "      <td>1</td>\n",
       "    </tr>\n",
       "  </tbody>\n",
       "</table>\n",
       "</div>"
      ],
      "text/plain": [
       "   employee              companyAlias                      voteDate  vote  \\\n",
       "0        31  56aec740f1ef260003e307d6  Mon Feb 01 01:00:00 CET 2016     4   \n",
       "1        33  56aec740f1ef260003e307d6  Mon Feb 01 01:00:00 CET 2016     4   \n",
       "2        79  56aec740f1ef260003e307d6  Mon Feb 01 01:00:00 CET 2016     4   \n",
       "3        94  56aec740f1ef260003e307d6  Mon Feb 01 01:00:00 CET 2016     4   \n",
       "4        16  56aec740f1ef260003e307d6  Mon Feb 01 01:00:00 CET 2016     2   \n",
       "\n",
       "              employee_company  is_not_4  \n",
       "0  31_56aec740f1ef260003e307d6         0  \n",
       "1  33_56aec740f1ef260003e307d6         0  \n",
       "2  79_56aec740f1ef260003e307d6         0  \n",
       "3  94_56aec740f1ef260003e307d6         0  \n",
       "4  16_56aec740f1ef260003e307d6         1  "
      ]
     },
     "execution_count": 16,
     "metadata": {},
     "output_type": "execute_result"
    }
   ],
   "source": [
    "data_votes.head()"
   ]
  },
  {
   "cell_type": "code",
   "execution_count": 17,
   "metadata": {},
   "outputs": [],
   "source": [
    "feat_1=data_votes.groupby(['employee_company']).is_not_4.sum().reset_index()"
   ]
  },
  {
   "cell_type": "code",
   "execution_count": 18,
   "metadata": {},
   "outputs": [
    {
     "data": {
      "text/html": [
       "<div>\n",
       "<style scoped>\n",
       "    .dataframe tbody tr th:only-of-type {\n",
       "        vertical-align: middle;\n",
       "    }\n",
       "\n",
       "    .dataframe tbody tr th {\n",
       "        vertical-align: top;\n",
       "    }\n",
       "\n",
       "    .dataframe thead th {\n",
       "        text-align: right;\n",
       "    }\n",
       "</style>\n",
       "<table border=\"1\" class=\"dataframe\">\n",
       "  <thead>\n",
       "    <tr style=\"text-align: right;\">\n",
       "      <th></th>\n",
       "      <th>employee_company</th>\n",
       "      <th>is_not_4</th>\n",
       "    </tr>\n",
       "  </thead>\n",
       "  <tbody>\n",
       "    <tr>\n",
       "      <th>0</th>\n",
       "      <td>100_53a2dd43e4b01cc02f1e9011</td>\n",
       "      <td>247</td>\n",
       "    </tr>\n",
       "    <tr>\n",
       "      <th>1</th>\n",
       "      <td>100_54e52607e4b01191dc064966</td>\n",
       "      <td>164</td>\n",
       "    </tr>\n",
       "    <tr>\n",
       "      <th>2</th>\n",
       "      <td>100_5641f96713664c000332c8cd</td>\n",
       "      <td>83</td>\n",
       "    </tr>\n",
       "    <tr>\n",
       "      <th>3</th>\n",
       "      <td>100_56aec740f1ef260003e307d6</td>\n",
       "      <td>0</td>\n",
       "    </tr>\n",
       "    <tr>\n",
       "      <th>4</th>\n",
       "      <td>100_56e2a905e3b6fe0003e32855</td>\n",
       "      <td>1</td>\n",
       "    </tr>\n",
       "  </tbody>\n",
       "</table>\n",
       "</div>"
      ],
      "text/plain": [
       "               employee_company  is_not_4\n",
       "0  100_53a2dd43e4b01cc02f1e9011       247\n",
       "1  100_54e52607e4b01191dc064966       164\n",
       "2  100_5641f96713664c000332c8cd        83\n",
       "3  100_56aec740f1ef260003e307d6         0\n",
       "4  100_56e2a905e3b6fe0003e32855         1"
      ]
     },
     "execution_count": 18,
     "metadata": {},
     "output_type": "execute_result"
    }
   ],
   "source": [
    "feat_1.head()"
   ]
  },
  {
   "cell_type": "code",
   "execution_count": null,
   "metadata": {},
   "outputs": [],
   "source": []
  },
  {
   "cell_type": "markdown",
   "metadata": {},
   "source": [
    "#### Berapa Kali Vote"
   ]
  },
  {
   "cell_type": "code",
   "execution_count": 19,
   "metadata": {},
   "outputs": [],
   "source": [
    "feat_2=data_votes.groupby(['employee_company']).vote.size().reset_index()"
   ]
  },
  {
   "cell_type": "code",
   "execution_count": 20,
   "metadata": {},
   "outputs": [
    {
     "data": {
      "text/html": [
       "<div>\n",
       "<style scoped>\n",
       "    .dataframe tbody tr th:only-of-type {\n",
       "        vertical-align: middle;\n",
       "    }\n",
       "\n",
       "    .dataframe tbody tr th {\n",
       "        vertical-align: top;\n",
       "    }\n",
       "\n",
       "    .dataframe thead th {\n",
       "        text-align: right;\n",
       "    }\n",
       "</style>\n",
       "<table border=\"1\" class=\"dataframe\">\n",
       "  <thead>\n",
       "    <tr style=\"text-align: right;\">\n",
       "      <th></th>\n",
       "      <th>employee_company</th>\n",
       "      <th>vote</th>\n",
       "    </tr>\n",
       "  </thead>\n",
       "  <tbody>\n",
       "    <tr>\n",
       "      <th>0</th>\n",
       "      <td>100_53a2dd43e4b01cc02f1e9011</td>\n",
       "      <td>247</td>\n",
       "    </tr>\n",
       "    <tr>\n",
       "      <th>1</th>\n",
       "      <td>100_54e52607e4b01191dc064966</td>\n",
       "      <td>169</td>\n",
       "    </tr>\n",
       "    <tr>\n",
       "      <th>2</th>\n",
       "      <td>100_5641f96713664c000332c8cd</td>\n",
       "      <td>102</td>\n",
       "    </tr>\n",
       "    <tr>\n",
       "      <th>3</th>\n",
       "      <td>100_56aec740f1ef260003e307d6</td>\n",
       "      <td>187</td>\n",
       "    </tr>\n",
       "    <tr>\n",
       "      <th>4</th>\n",
       "      <td>100_56e2a905e3b6fe0003e32855</td>\n",
       "      <td>4</td>\n",
       "    </tr>\n",
       "  </tbody>\n",
       "</table>\n",
       "</div>"
      ],
      "text/plain": [
       "               employee_company  vote\n",
       "0  100_53a2dd43e4b01cc02f1e9011   247\n",
       "1  100_54e52607e4b01191dc064966   169\n",
       "2  100_5641f96713664c000332c8cd   102\n",
       "3  100_56aec740f1ef260003e307d6   187\n",
       "4  100_56e2a905e3b6fe0003e32855     4"
      ]
     },
     "execution_count": 20,
     "metadata": {},
     "output_type": "execute_result"
    }
   ],
   "source": [
    "feat_2.head()"
   ]
  },
  {
   "cell_type": "code",
   "execution_count": null,
   "metadata": {},
   "outputs": [],
   "source": []
  },
  {
   "cell_type": "markdown",
   "metadata": {},
   "source": [
    "### hitung berapa kali comment (Pagi, Siang, Sore, Malam)"
   ]
  },
  {
   "cell_type": "code",
   "execution_count": 21,
   "metadata": {},
   "outputs": [],
   "source": [
    "data_comment_cln1['employee_company']=data_comment_cln1.employee.astype(str)+'_'+data_comment_cln1.companyAlias"
   ]
  },
  {
   "cell_type": "code",
   "execution_count": 22,
   "metadata": {},
   "outputs": [
    {
     "data": {
      "text/plain": [
       "(82756, 8)"
      ]
     },
     "execution_count": 22,
     "metadata": {},
     "output_type": "execute_result"
    }
   ],
   "source": [
    "data_comment_cln1.shape"
   ]
  },
  {
   "cell_type": "code",
   "execution_count": 23,
   "metadata": {},
   "outputs": [
    {
     "data": {
      "text/html": [
       "<div>\n",
       "<style scoped>\n",
       "    .dataframe tbody tr th:only-of-type {\n",
       "        vertical-align: middle;\n",
       "    }\n",
       "\n",
       "    .dataframe tbody tr th {\n",
       "        vertical-align: top;\n",
       "    }\n",
       "\n",
       "    .dataframe thead th {\n",
       "        text-align: right;\n",
       "    }\n",
       "</style>\n",
       "<table border=\"1\" class=\"dataframe\">\n",
       "  <thead>\n",
       "    <tr style=\"text-align: right;\">\n",
       "      <th></th>\n",
       "      <th>employee</th>\n",
       "      <th>companyAlias</th>\n",
       "      <th>commentId</th>\n",
       "      <th>txt</th>\n",
       "      <th>likes</th>\n",
       "      <th>dislikes</th>\n",
       "      <th>commentDate</th>\n",
       "      <th>employee_company</th>\n",
       "    </tr>\n",
       "  </thead>\n",
       "  <tbody>\n",
       "    <tr>\n",
       "      <th>0</th>\n",
       "      <td>307</td>\n",
       "      <td>56aec740f1ef260003e307d6</td>\n",
       "      <td>58d018d7e010990004e38070</td>\n",
       "      <td>**********************************************...</td>\n",
       "      <td>4.0</td>\n",
       "      <td>0.0</td>\n",
       "      <td>Mon Mar 20 19:00:17 CET 2017</td>\n",
       "      <td>307_56aec740f1ef260003e307d6</td>\n",
       "    </tr>\n",
       "    <tr>\n",
       "      <th>1</th>\n",
       "      <td>382</td>\n",
       "      <td>56aec740f1ef260003e307d6</td>\n",
       "      <td>58d0179ae010990004e3806d</td>\n",
       "      <td>*****************************</td>\n",
       "      <td>1.0</td>\n",
       "      <td>2.0</td>\n",
       "      <td>Mon Mar 20 18:55:16 CET 2017</td>\n",
       "      <td>382_56aec740f1ef260003e307d6</td>\n",
       "    </tr>\n",
       "    <tr>\n",
       "      <th>2</th>\n",
       "      <td>172</td>\n",
       "      <td>56aec740f1ef260003e307d6</td>\n",
       "      <td>58cff8cde010990004e37f6a</td>\n",
       "      <td>***************************</td>\n",
       "      <td>3.0</td>\n",
       "      <td>0.0</td>\n",
       "      <td>Mon Mar 20 16:44:02 CET 2017</td>\n",
       "      <td>172_56aec740f1ef260003e307d6</td>\n",
       "    </tr>\n",
       "    <tr>\n",
       "      <th>3</th>\n",
       "      <td>135</td>\n",
       "      <td>56aec740f1ef260003e307d6</td>\n",
       "      <td>58cfefeee010990004e37f60</td>\n",
       "      <td>***************************</td>\n",
       "      <td>1.0</td>\n",
       "      <td>1.0</td>\n",
       "      <td>Mon Mar 20 16:06:08 CET 2017</td>\n",
       "      <td>135_56aec740f1ef260003e307d6</td>\n",
       "    </tr>\n",
       "    <tr>\n",
       "      <th>4</th>\n",
       "      <td>225</td>\n",
       "      <td>56aec740f1ef260003e307d6</td>\n",
       "      <td>58cfd9b4e010990004e37f52</td>\n",
       "      <td>*********************************</td>\n",
       "      <td>3.0</td>\n",
       "      <td>2.0</td>\n",
       "      <td>Mon Mar 20 14:30:50 CET 2017</td>\n",
       "      <td>225_56aec740f1ef260003e307d6</td>\n",
       "    </tr>\n",
       "  </tbody>\n",
       "</table>\n",
       "</div>"
      ],
      "text/plain": [
       "   employee              companyAlias                 commentId  \\\n",
       "0       307  56aec740f1ef260003e307d6  58d018d7e010990004e38070   \n",
       "1       382  56aec740f1ef260003e307d6  58d0179ae010990004e3806d   \n",
       "2       172  56aec740f1ef260003e307d6  58cff8cde010990004e37f6a   \n",
       "3       135  56aec740f1ef260003e307d6  58cfefeee010990004e37f60   \n",
       "4       225  56aec740f1ef260003e307d6  58cfd9b4e010990004e37f52   \n",
       "\n",
       "                                                 txt  likes  dislikes  \\\n",
       "0  **********************************************...    4.0       0.0   \n",
       "1                      *****************************    1.0       2.0   \n",
       "2                        ***************************    3.0       0.0   \n",
       "3                        ***************************    1.0       1.0   \n",
       "4                  *********************************    3.0       2.0   \n",
       "\n",
       "                    commentDate              employee_company  \n",
       "0  Mon Mar 20 19:00:17 CET 2017  307_56aec740f1ef260003e307d6  \n",
       "1  Mon Mar 20 18:55:16 CET 2017  382_56aec740f1ef260003e307d6  \n",
       "2  Mon Mar 20 16:44:02 CET 2017  172_56aec740f1ef260003e307d6  \n",
       "3  Mon Mar 20 16:06:08 CET 2017  135_56aec740f1ef260003e307d6  \n",
       "4  Mon Mar 20 14:30:50 CET 2017  225_56aec740f1ef260003e307d6  "
      ]
     },
     "execution_count": 23,
     "metadata": {},
     "output_type": "execute_result"
    }
   ],
   "source": [
    "data_comment_cln1.head()"
   ]
  },
  {
   "cell_type": "code",
   "execution_count": 24,
   "metadata": {},
   "outputs": [
    {
     "name": "stderr",
     "output_type": "stream",
     "text": [
      "/Users/alamhanz/anaconda/envs/py36/lib/python3.6/site-packages/dateutil/parser/_parser.py:1204: UnknownTimezoneWarning: tzname CET identified but not understood.  Pass `tzinfos` argument in order to correctly return a timezone-aware datetime.  In a future version, this will raise an exception.\n",
      "  category=UnknownTimezoneWarning)\n",
      "/Users/alamhanz/anaconda/envs/py36/lib/python3.6/site-packages/dateutil/parser/_parser.py:1204: UnknownTimezoneWarning: tzname CEST identified but not understood.  Pass `tzinfos` argument in order to correctly return a timezone-aware datetime.  In a future version, this will raise an exception.\n",
      "  category=UnknownTimezoneWarning)\n"
     ]
    }
   ],
   "source": [
    "data_comment_cln1['commentDate2']=pd.to_datetime(data_comment_cln1.commentDate)"
   ]
  },
  {
   "cell_type": "code",
   "execution_count": 25,
   "metadata": {},
   "outputs": [
    {
     "data": {
      "text/html": [
       "<div>\n",
       "<style scoped>\n",
       "    .dataframe tbody tr th:only-of-type {\n",
       "        vertical-align: middle;\n",
       "    }\n",
       "\n",
       "    .dataframe tbody tr th {\n",
       "        vertical-align: top;\n",
       "    }\n",
       "\n",
       "    .dataframe thead th {\n",
       "        text-align: right;\n",
       "    }\n",
       "</style>\n",
       "<table border=\"1\" class=\"dataframe\">\n",
       "  <thead>\n",
       "    <tr style=\"text-align: right;\">\n",
       "      <th></th>\n",
       "      <th>employee</th>\n",
       "      <th>companyAlias</th>\n",
       "      <th>commentId</th>\n",
       "      <th>txt</th>\n",
       "      <th>likes</th>\n",
       "      <th>dislikes</th>\n",
       "      <th>commentDate</th>\n",
       "      <th>employee_company</th>\n",
       "      <th>commentDate2</th>\n",
       "    </tr>\n",
       "  </thead>\n",
       "  <tbody>\n",
       "    <tr>\n",
       "      <th>0</th>\n",
       "      <td>307</td>\n",
       "      <td>56aec740f1ef260003e307d6</td>\n",
       "      <td>58d018d7e010990004e38070</td>\n",
       "      <td>**********************************************...</td>\n",
       "      <td>4.0</td>\n",
       "      <td>0.0</td>\n",
       "      <td>Mon Mar 20 19:00:17 CET 2017</td>\n",
       "      <td>307_56aec740f1ef260003e307d6</td>\n",
       "      <td>2017-03-20 19:00:17</td>\n",
       "    </tr>\n",
       "    <tr>\n",
       "      <th>1</th>\n",
       "      <td>382</td>\n",
       "      <td>56aec740f1ef260003e307d6</td>\n",
       "      <td>58d0179ae010990004e3806d</td>\n",
       "      <td>*****************************</td>\n",
       "      <td>1.0</td>\n",
       "      <td>2.0</td>\n",
       "      <td>Mon Mar 20 18:55:16 CET 2017</td>\n",
       "      <td>382_56aec740f1ef260003e307d6</td>\n",
       "      <td>2017-03-20 18:55:16</td>\n",
       "    </tr>\n",
       "    <tr>\n",
       "      <th>2</th>\n",
       "      <td>172</td>\n",
       "      <td>56aec740f1ef260003e307d6</td>\n",
       "      <td>58cff8cde010990004e37f6a</td>\n",
       "      <td>***************************</td>\n",
       "      <td>3.0</td>\n",
       "      <td>0.0</td>\n",
       "      <td>Mon Mar 20 16:44:02 CET 2017</td>\n",
       "      <td>172_56aec740f1ef260003e307d6</td>\n",
       "      <td>2017-03-20 16:44:02</td>\n",
       "    </tr>\n",
       "    <tr>\n",
       "      <th>3</th>\n",
       "      <td>135</td>\n",
       "      <td>56aec740f1ef260003e307d6</td>\n",
       "      <td>58cfefeee010990004e37f60</td>\n",
       "      <td>***************************</td>\n",
       "      <td>1.0</td>\n",
       "      <td>1.0</td>\n",
       "      <td>Mon Mar 20 16:06:08 CET 2017</td>\n",
       "      <td>135_56aec740f1ef260003e307d6</td>\n",
       "      <td>2017-03-20 16:06:08</td>\n",
       "    </tr>\n",
       "    <tr>\n",
       "      <th>4</th>\n",
       "      <td>225</td>\n",
       "      <td>56aec740f1ef260003e307d6</td>\n",
       "      <td>58cfd9b4e010990004e37f52</td>\n",
       "      <td>*********************************</td>\n",
       "      <td>3.0</td>\n",
       "      <td>2.0</td>\n",
       "      <td>Mon Mar 20 14:30:50 CET 2017</td>\n",
       "      <td>225_56aec740f1ef260003e307d6</td>\n",
       "      <td>2017-03-20 14:30:50</td>\n",
       "    </tr>\n",
       "  </tbody>\n",
       "</table>\n",
       "</div>"
      ],
      "text/plain": [
       "   employee              companyAlias                 commentId  \\\n",
       "0       307  56aec740f1ef260003e307d6  58d018d7e010990004e38070   \n",
       "1       382  56aec740f1ef260003e307d6  58d0179ae010990004e3806d   \n",
       "2       172  56aec740f1ef260003e307d6  58cff8cde010990004e37f6a   \n",
       "3       135  56aec740f1ef260003e307d6  58cfefeee010990004e37f60   \n",
       "4       225  56aec740f1ef260003e307d6  58cfd9b4e010990004e37f52   \n",
       "\n",
       "                                                 txt  likes  dislikes  \\\n",
       "0  **********************************************...    4.0       0.0   \n",
       "1                      *****************************    1.0       2.0   \n",
       "2                        ***************************    3.0       0.0   \n",
       "3                        ***************************    1.0       1.0   \n",
       "4                  *********************************    3.0       2.0   \n",
       "\n",
       "                    commentDate              employee_company  \\\n",
       "0  Mon Mar 20 19:00:17 CET 2017  307_56aec740f1ef260003e307d6   \n",
       "1  Mon Mar 20 18:55:16 CET 2017  382_56aec740f1ef260003e307d6   \n",
       "2  Mon Mar 20 16:44:02 CET 2017  172_56aec740f1ef260003e307d6   \n",
       "3  Mon Mar 20 16:06:08 CET 2017  135_56aec740f1ef260003e307d6   \n",
       "4  Mon Mar 20 14:30:50 CET 2017  225_56aec740f1ef260003e307d6   \n",
       "\n",
       "         commentDate2  \n",
       "0 2017-03-20 19:00:17  \n",
       "1 2017-03-20 18:55:16  \n",
       "2 2017-03-20 16:44:02  \n",
       "3 2017-03-20 16:06:08  \n",
       "4 2017-03-20 14:30:50  "
      ]
     },
     "execution_count": 25,
     "metadata": {},
     "output_type": "execute_result"
    }
   ],
   "source": [
    "data_comment_cln1.head()"
   ]
  },
  {
   "cell_type": "code",
   "execution_count": 26,
   "metadata": {},
   "outputs": [],
   "source": [
    "data_comment_cln1['hour']=data_comment_cln1.commentDate2.dt.hour"
   ]
  },
  {
   "cell_type": "code",
   "execution_count": 27,
   "metadata": {},
   "outputs": [
    {
     "data": {
      "text/html": [
       "<div>\n",
       "<style scoped>\n",
       "    .dataframe tbody tr th:only-of-type {\n",
       "        vertical-align: middle;\n",
       "    }\n",
       "\n",
       "    .dataframe tbody tr th {\n",
       "        vertical-align: top;\n",
       "    }\n",
       "\n",
       "    .dataframe thead th {\n",
       "        text-align: right;\n",
       "    }\n",
       "</style>\n",
       "<table border=\"1\" class=\"dataframe\">\n",
       "  <thead>\n",
       "    <tr style=\"text-align: right;\">\n",
       "      <th></th>\n",
       "      <th>employee</th>\n",
       "      <th>companyAlias</th>\n",
       "      <th>commentId</th>\n",
       "      <th>txt</th>\n",
       "      <th>likes</th>\n",
       "      <th>dislikes</th>\n",
       "      <th>commentDate</th>\n",
       "      <th>employee_company</th>\n",
       "      <th>commentDate2</th>\n",
       "      <th>hour</th>\n",
       "    </tr>\n",
       "  </thead>\n",
       "  <tbody>\n",
       "    <tr>\n",
       "      <th>0</th>\n",
       "      <td>307</td>\n",
       "      <td>56aec740f1ef260003e307d6</td>\n",
       "      <td>58d018d7e010990004e38070</td>\n",
       "      <td>**********************************************...</td>\n",
       "      <td>4.0</td>\n",
       "      <td>0.0</td>\n",
       "      <td>Mon Mar 20 19:00:17 CET 2017</td>\n",
       "      <td>307_56aec740f1ef260003e307d6</td>\n",
       "      <td>2017-03-20 19:00:17</td>\n",
       "      <td>19.0</td>\n",
       "    </tr>\n",
       "    <tr>\n",
       "      <th>1</th>\n",
       "      <td>382</td>\n",
       "      <td>56aec740f1ef260003e307d6</td>\n",
       "      <td>58d0179ae010990004e3806d</td>\n",
       "      <td>*****************************</td>\n",
       "      <td>1.0</td>\n",
       "      <td>2.0</td>\n",
       "      <td>Mon Mar 20 18:55:16 CET 2017</td>\n",
       "      <td>382_56aec740f1ef260003e307d6</td>\n",
       "      <td>2017-03-20 18:55:16</td>\n",
       "      <td>18.0</td>\n",
       "    </tr>\n",
       "    <tr>\n",
       "      <th>2</th>\n",
       "      <td>172</td>\n",
       "      <td>56aec740f1ef260003e307d6</td>\n",
       "      <td>58cff8cde010990004e37f6a</td>\n",
       "      <td>***************************</td>\n",
       "      <td>3.0</td>\n",
       "      <td>0.0</td>\n",
       "      <td>Mon Mar 20 16:44:02 CET 2017</td>\n",
       "      <td>172_56aec740f1ef260003e307d6</td>\n",
       "      <td>2017-03-20 16:44:02</td>\n",
       "      <td>16.0</td>\n",
       "    </tr>\n",
       "    <tr>\n",
       "      <th>3</th>\n",
       "      <td>135</td>\n",
       "      <td>56aec740f1ef260003e307d6</td>\n",
       "      <td>58cfefeee010990004e37f60</td>\n",
       "      <td>***************************</td>\n",
       "      <td>1.0</td>\n",
       "      <td>1.0</td>\n",
       "      <td>Mon Mar 20 16:06:08 CET 2017</td>\n",
       "      <td>135_56aec740f1ef260003e307d6</td>\n",
       "      <td>2017-03-20 16:06:08</td>\n",
       "      <td>16.0</td>\n",
       "    </tr>\n",
       "    <tr>\n",
       "      <th>4</th>\n",
       "      <td>225</td>\n",
       "      <td>56aec740f1ef260003e307d6</td>\n",
       "      <td>58cfd9b4e010990004e37f52</td>\n",
       "      <td>*********************************</td>\n",
       "      <td>3.0</td>\n",
       "      <td>2.0</td>\n",
       "      <td>Mon Mar 20 14:30:50 CET 2017</td>\n",
       "      <td>225_56aec740f1ef260003e307d6</td>\n",
       "      <td>2017-03-20 14:30:50</td>\n",
       "      <td>14.0</td>\n",
       "    </tr>\n",
       "  </tbody>\n",
       "</table>\n",
       "</div>"
      ],
      "text/plain": [
       "   employee              companyAlias                 commentId  \\\n",
       "0       307  56aec740f1ef260003e307d6  58d018d7e010990004e38070   \n",
       "1       382  56aec740f1ef260003e307d6  58d0179ae010990004e3806d   \n",
       "2       172  56aec740f1ef260003e307d6  58cff8cde010990004e37f6a   \n",
       "3       135  56aec740f1ef260003e307d6  58cfefeee010990004e37f60   \n",
       "4       225  56aec740f1ef260003e307d6  58cfd9b4e010990004e37f52   \n",
       "\n",
       "                                                 txt  likes  dislikes  \\\n",
       "0  **********************************************...    4.0       0.0   \n",
       "1                      *****************************    1.0       2.0   \n",
       "2                        ***************************    3.0       0.0   \n",
       "3                        ***************************    1.0       1.0   \n",
       "4                  *********************************    3.0       2.0   \n",
       "\n",
       "                    commentDate              employee_company  \\\n",
       "0  Mon Mar 20 19:00:17 CET 2017  307_56aec740f1ef260003e307d6   \n",
       "1  Mon Mar 20 18:55:16 CET 2017  382_56aec740f1ef260003e307d6   \n",
       "2  Mon Mar 20 16:44:02 CET 2017  172_56aec740f1ef260003e307d6   \n",
       "3  Mon Mar 20 16:06:08 CET 2017  135_56aec740f1ef260003e307d6   \n",
       "4  Mon Mar 20 14:30:50 CET 2017  225_56aec740f1ef260003e307d6   \n",
       "\n",
       "         commentDate2  hour  \n",
       "0 2017-03-20 19:00:17  19.0  \n",
       "1 2017-03-20 18:55:16  18.0  \n",
       "2 2017-03-20 16:44:02  16.0  \n",
       "3 2017-03-20 16:06:08  16.0  \n",
       "4 2017-03-20 14:30:50  14.0  "
      ]
     },
     "execution_count": 27,
     "metadata": {},
     "output_type": "execute_result"
    }
   ],
   "source": [
    "data_comment_cln1.head()"
   ]
  },
  {
   "cell_type": "code",
   "execution_count": 28,
   "metadata": {},
   "outputs": [],
   "source": [
    "def hour_type(hour):\n",
    "    if hour >= 6 and hour < 10:\n",
    "        return 'pagi'\n",
    "    elif hour >= 10 and hour < 14:\n",
    "        return 'siang'\n",
    "    elif hour >= 14 and hour < 18:\n",
    "        return 'sore'\n",
    "    elif hour >= 18 and hour < 22:\n",
    "        return 'malam'\n",
    "    else:\n",
    "        return 'others'"
   ]
  },
  {
   "cell_type": "code",
   "execution_count": 29,
   "metadata": {},
   "outputs": [],
   "source": [
    "data_comment_cln1['hour_types']=data_comment_cln1.hour.apply(hour_type)"
   ]
  },
  {
   "cell_type": "code",
   "execution_count": 30,
   "metadata": {},
   "outputs": [
    {
     "data": {
      "text/plain": [
       "siang     0.260646\n",
       "malam     0.227706\n",
       "sore      0.215948\n",
       "pagi      0.195647\n",
       "others    0.100053\n",
       "Name: hour_types, dtype: float64"
      ]
     },
     "execution_count": 30,
     "metadata": {},
     "output_type": "execute_result"
    }
   ],
   "source": [
    "XX=data_comment_cln1.hour_types.value_counts()\n",
    "XX/XX.sum()"
   ]
  },
  {
   "cell_type": "code",
   "execution_count": null,
   "metadata": {},
   "outputs": [],
   "source": []
  },
  {
   "cell_type": "code",
   "execution_count": 31,
   "metadata": {},
   "outputs": [
    {
     "data": {
      "text/html": [
       "<div>\n",
       "<style scoped>\n",
       "    .dataframe tbody tr th:only-of-type {\n",
       "        vertical-align: middle;\n",
       "    }\n",
       "\n",
       "    .dataframe tbody tr th {\n",
       "        vertical-align: top;\n",
       "    }\n",
       "\n",
       "    .dataframe thead th {\n",
       "        text-align: right;\n",
       "    }\n",
       "</style>\n",
       "<table border=\"1\" class=\"dataframe\">\n",
       "  <thead>\n",
       "    <tr style=\"text-align: right;\">\n",
       "      <th>hour_types</th>\n",
       "      <th>employee_company</th>\n",
       "      <th>malam</th>\n",
       "      <th>pagi</th>\n",
       "      <th>siang</th>\n",
       "      <th>sore</th>\n",
       "    </tr>\n",
       "  </thead>\n",
       "  <tbody>\n",
       "    <tr>\n",
       "      <th>0</th>\n",
       "      <td>-100_5370af43e4b0cff95558c12a</td>\n",
       "      <td>0.0</td>\n",
       "      <td>0.0</td>\n",
       "      <td>2.0</td>\n",
       "      <td>12.0</td>\n",
       "    </tr>\n",
       "    <tr>\n",
       "      <th>1</th>\n",
       "      <td>-100_54e52607e4b01191dc064966</td>\n",
       "      <td>0.0</td>\n",
       "      <td>0.0</td>\n",
       "      <td>3.0</td>\n",
       "      <td>0.0</td>\n",
       "    </tr>\n",
       "    <tr>\n",
       "      <th>2</th>\n",
       "      <td>-101_5370af43e4b0cff95558c12a</td>\n",
       "      <td>0.0</td>\n",
       "      <td>0.0</td>\n",
       "      <td>0.0</td>\n",
       "      <td>2.0</td>\n",
       "    </tr>\n",
       "    <tr>\n",
       "      <th>3</th>\n",
       "      <td>-101_54e52607e4b01191dc064966</td>\n",
       "      <td>0.0</td>\n",
       "      <td>0.0</td>\n",
       "      <td>0.0</td>\n",
       "      <td>2.0</td>\n",
       "    </tr>\n",
       "    <tr>\n",
       "      <th>4</th>\n",
       "      <td>-102_54e52607e4b01191dc064966</td>\n",
       "      <td>2.0</td>\n",
       "      <td>0.0</td>\n",
       "      <td>0.0</td>\n",
       "      <td>2.0</td>\n",
       "    </tr>\n",
       "  </tbody>\n",
       "</table>\n",
       "</div>"
      ],
      "text/plain": [
       "hour_types               employee_company  malam  pagi  siang  sore\n",
       "0           -100_5370af43e4b0cff95558c12a    0.0   0.0    2.0  12.0\n",
       "1           -100_54e52607e4b01191dc064966    0.0   0.0    3.0   0.0\n",
       "2           -101_5370af43e4b0cff95558c12a    0.0   0.0    0.0   2.0\n",
       "3           -101_54e52607e4b01191dc064966    0.0   0.0    0.0   2.0\n",
       "4           -102_54e52607e4b01191dc064966    2.0   0.0    0.0   2.0"
      ]
     },
     "execution_count": 31,
     "metadata": {},
     "output_type": "execute_result"
    }
   ],
   "source": [
    "feat_3=data_comment_cln1.groupby(['employee_company','hour_types']).commentId.size().unstack().reset_index().drop(['others'],axis=1).fillna(0)\n",
    "feat_3.head()"
   ]
  },
  {
   "cell_type": "code",
   "execution_count": null,
   "metadata": {},
   "outputs": [],
   "source": []
  },
  {
   "cell_type": "markdown",
   "metadata": {},
   "source": [
    "#### avg comment length"
   ]
  },
  {
   "cell_type": "code",
   "execution_count": 32,
   "metadata": {},
   "outputs": [
    {
     "data": {
      "text/plain": [
       "217"
      ]
     },
     "execution_count": 32,
     "metadata": {},
     "output_type": "execute_result"
    }
   ],
   "source": [
    "len(data_comment_cln1[data_comment_cln1.txt.isnull()])"
   ]
  },
  {
   "cell_type": "code",
   "execution_count": 33,
   "metadata": {},
   "outputs": [],
   "source": [
    "data_comment_cln1.txt=data_comment_cln1.txt.fillna('')"
   ]
  },
  {
   "cell_type": "code",
   "execution_count": 34,
   "metadata": {},
   "outputs": [],
   "source": [
    "data_comment_cln1['lenght_txt']=data_comment_cln1.txt.apply(lambda x : len(x))"
   ]
  },
  {
   "cell_type": "code",
   "execution_count": 35,
   "metadata": {},
   "outputs": [],
   "source": [
    "feat_4=data_comment_cln1.groupby('employee_company').lenght_txt.mean().reset_index()"
   ]
  },
  {
   "cell_type": "code",
   "execution_count": 36,
   "metadata": {},
   "outputs": [
    {
     "data": {
      "text/html": [
       "<div>\n",
       "<style scoped>\n",
       "    .dataframe tbody tr th:only-of-type {\n",
       "        vertical-align: middle;\n",
       "    }\n",
       "\n",
       "    .dataframe tbody tr th {\n",
       "        vertical-align: top;\n",
       "    }\n",
       "\n",
       "    .dataframe thead th {\n",
       "        text-align: right;\n",
       "    }\n",
       "</style>\n",
       "<table border=\"1\" class=\"dataframe\">\n",
       "  <thead>\n",
       "    <tr style=\"text-align: right;\">\n",
       "      <th></th>\n",
       "      <th>employee_company</th>\n",
       "      <th>lenght_txt</th>\n",
       "    </tr>\n",
       "  </thead>\n",
       "  <tbody>\n",
       "    <tr>\n",
       "      <th>0</th>\n",
       "      <td>-100_5370af43e4b0cff95558c12a</td>\n",
       "      <td>40.285714</td>\n",
       "    </tr>\n",
       "    <tr>\n",
       "      <th>1</th>\n",
       "      <td>-100_54e52607e4b01191dc064966</td>\n",
       "      <td>42.666667</td>\n",
       "    </tr>\n",
       "    <tr>\n",
       "      <th>2</th>\n",
       "      <td>-101_5370af43e4b0cff95558c12a</td>\n",
       "      <td>10.000000</td>\n",
       "    </tr>\n",
       "    <tr>\n",
       "      <th>3</th>\n",
       "      <td>-101_54e52607e4b01191dc064966</td>\n",
       "      <td>85.000000</td>\n",
       "    </tr>\n",
       "    <tr>\n",
       "      <th>4</th>\n",
       "      <td>-102_54e52607e4b01191dc064966</td>\n",
       "      <td>29.000000</td>\n",
       "    </tr>\n",
       "  </tbody>\n",
       "</table>\n",
       "</div>"
      ],
      "text/plain": [
       "                employee_company  lenght_txt\n",
       "0  -100_5370af43e4b0cff95558c12a   40.285714\n",
       "1  -100_54e52607e4b01191dc064966   42.666667\n",
       "2  -101_5370af43e4b0cff95558c12a   10.000000\n",
       "3  -101_54e52607e4b01191dc064966   85.000000\n",
       "4  -102_54e52607e4b01191dc064966   29.000000"
      ]
     },
     "execution_count": 36,
     "metadata": {},
     "output_type": "execute_result"
    }
   ],
   "source": [
    "feat_4.head()"
   ]
  },
  {
   "cell_type": "code",
   "execution_count": null,
   "metadata": {},
   "outputs": [],
   "source": []
  },
  {
   "cell_type": "markdown",
   "metadata": {},
   "source": [
    "#### Recency of Employee"
   ]
  },
  {
   "cell_type": "code",
   "execution_count": 37,
   "metadata": {},
   "outputs": [],
   "source": [
    "data_churn['employee_company']=data_churn.employee.astype(str)+'_'+data_churn.companyAlias"
   ]
  },
  {
   "cell_type": "code",
   "execution_count": 38,
   "metadata": {},
   "outputs": [],
   "source": [
    "data_churn['lastParticipationDate2']=pd.to_datetime(data_churn.lastParticipationDate)"
   ]
  },
  {
   "cell_type": "code",
   "execution_count": 39,
   "metadata": {},
   "outputs": [
    {
     "data": {
      "text/html": [
       "<div>\n",
       "<style scoped>\n",
       "    .dataframe tbody tr th:only-of-type {\n",
       "        vertical-align: middle;\n",
       "    }\n",
       "\n",
       "    .dataframe tbody tr th {\n",
       "        vertical-align: top;\n",
       "    }\n",
       "\n",
       "    .dataframe thead th {\n",
       "        text-align: right;\n",
       "    }\n",
       "</style>\n",
       "<table border=\"1\" class=\"dataframe\">\n",
       "  <thead>\n",
       "    <tr style=\"text-align: right;\">\n",
       "      <th></th>\n",
       "      <th>employee</th>\n",
       "      <th>companyAlias</th>\n",
       "      <th>numVotes</th>\n",
       "      <th>lastParticipationDate</th>\n",
       "      <th>stillExists</th>\n",
       "      <th>employee_company</th>\n",
       "      <th>lastParticipationDate2</th>\n",
       "    </tr>\n",
       "  </thead>\n",
       "  <tbody>\n",
       "    <tr>\n",
       "      <th>0</th>\n",
       "      <td>512</td>\n",
       "      <td>56aec740f1ef260003e307d6</td>\n",
       "      <td>4</td>\n",
       "      <td>Thu Feb 23 12:48:04 CET 2017</td>\n",
       "      <td>True</td>\n",
       "      <td>512_56aec740f1ef260003e307d6</td>\n",
       "      <td>2017-02-23 12:48:04</td>\n",
       "    </tr>\n",
       "    <tr>\n",
       "      <th>1</th>\n",
       "      <td>-2</td>\n",
       "      <td>56aec740f1ef260003e307d6</td>\n",
       "      <td>0</td>\n",
       "      <td>Wed Jan 18 14:00:55 CET 2017</td>\n",
       "      <td>False</td>\n",
       "      <td>-2_56aec740f1ef260003e307d6</td>\n",
       "      <td>2017-01-18 14:00:55</td>\n",
       "    </tr>\n",
       "    <tr>\n",
       "      <th>2</th>\n",
       "      <td>2</td>\n",
       "      <td>56aec740f1ef260003e307d6</td>\n",
       "      <td>72</td>\n",
       "      <td>Fri Mar 17 01:00:00 CET 2017</td>\n",
       "      <td>True</td>\n",
       "      <td>2_56aec740f1ef260003e307d6</td>\n",
       "      <td>2017-03-17 01:00:00</td>\n",
       "    </tr>\n",
       "    <tr>\n",
       "      <th>3</th>\n",
       "      <td>487</td>\n",
       "      <td>56aec740f1ef260003e307d6</td>\n",
       "      <td>14</td>\n",
       "      <td>Sat Nov 19 15:02:14 CET 2016</td>\n",
       "      <td>False</td>\n",
       "      <td>487_56aec740f1ef260003e307d6</td>\n",
       "      <td>2016-11-19 15:02:14</td>\n",
       "    </tr>\n",
       "    <tr>\n",
       "      <th>4</th>\n",
       "      <td>3</td>\n",
       "      <td>56aec740f1ef260003e307d6</td>\n",
       "      <td>22</td>\n",
       "      <td>Thu Feb 16 01:00:00 CET 2017</td>\n",
       "      <td>True</td>\n",
       "      <td>3_56aec740f1ef260003e307d6</td>\n",
       "      <td>2017-02-16 01:00:00</td>\n",
       "    </tr>\n",
       "  </tbody>\n",
       "</table>\n",
       "</div>"
      ],
      "text/plain": [
       "   employee              companyAlias  numVotes         lastParticipationDate  \\\n",
       "0       512  56aec740f1ef260003e307d6         4  Thu Feb 23 12:48:04 CET 2017   \n",
       "1        -2  56aec740f1ef260003e307d6         0  Wed Jan 18 14:00:55 CET 2017   \n",
       "2         2  56aec740f1ef260003e307d6        72  Fri Mar 17 01:00:00 CET 2017   \n",
       "3       487  56aec740f1ef260003e307d6        14  Sat Nov 19 15:02:14 CET 2016   \n",
       "4         3  56aec740f1ef260003e307d6        22  Thu Feb 16 01:00:00 CET 2017   \n",
       "\n",
       "   stillExists              employee_company lastParticipationDate2  \n",
       "0         True  512_56aec740f1ef260003e307d6    2017-02-23 12:48:04  \n",
       "1        False   -2_56aec740f1ef260003e307d6    2017-01-18 14:00:55  \n",
       "2         True    2_56aec740f1ef260003e307d6    2017-03-17 01:00:00  \n",
       "3        False  487_56aec740f1ef260003e307d6    2016-11-19 15:02:14  \n",
       "4         True    3_56aec740f1ef260003e307d6    2017-02-16 01:00:00  "
      ]
     },
     "execution_count": 39,
     "metadata": {},
     "output_type": "execute_result"
    }
   ],
   "source": [
    "data_churn.head()"
   ]
  },
  {
   "cell_type": "code",
   "execution_count": 40,
   "metadata": {},
   "outputs": [
    {
     "data": {
      "text/plain": [
       "Timestamp('2017-03-20 21:25:54')"
      ]
     },
     "execution_count": 40,
     "metadata": {},
     "output_type": "execute_result"
    }
   ],
   "source": [
    "data_churn.lastParticipationDate2.max()"
   ]
  },
  {
   "cell_type": "code",
   "execution_count": 41,
   "metadata": {},
   "outputs": [],
   "source": [
    "data_churn['recency']=(data_churn.lastParticipationDate2-data_churn.lastParticipationDate2.max()).apply(lambda x : -1*x.days)"
   ]
  },
  {
   "cell_type": "code",
   "execution_count": 42,
   "metadata": {},
   "outputs": [
    {
     "data": {
      "text/html": [
       "<div>\n",
       "<style scoped>\n",
       "    .dataframe tbody tr th:only-of-type {\n",
       "        vertical-align: middle;\n",
       "    }\n",
       "\n",
       "    .dataframe tbody tr th {\n",
       "        vertical-align: top;\n",
       "    }\n",
       "\n",
       "    .dataframe thead th {\n",
       "        text-align: right;\n",
       "    }\n",
       "</style>\n",
       "<table border=\"1\" class=\"dataframe\">\n",
       "  <thead>\n",
       "    <tr style=\"text-align: right;\">\n",
       "      <th></th>\n",
       "      <th>employee</th>\n",
       "      <th>companyAlias</th>\n",
       "      <th>numVotes</th>\n",
       "      <th>lastParticipationDate</th>\n",
       "      <th>stillExists</th>\n",
       "      <th>employee_company</th>\n",
       "      <th>lastParticipationDate2</th>\n",
       "      <th>recency</th>\n",
       "    </tr>\n",
       "  </thead>\n",
       "  <tbody>\n",
       "    <tr>\n",
       "      <th>0</th>\n",
       "      <td>512</td>\n",
       "      <td>56aec740f1ef260003e307d6</td>\n",
       "      <td>4</td>\n",
       "      <td>Thu Feb 23 12:48:04 CET 2017</td>\n",
       "      <td>True</td>\n",
       "      <td>512_56aec740f1ef260003e307d6</td>\n",
       "      <td>2017-02-23 12:48:04</td>\n",
       "      <td>26</td>\n",
       "    </tr>\n",
       "    <tr>\n",
       "      <th>1</th>\n",
       "      <td>-2</td>\n",
       "      <td>56aec740f1ef260003e307d6</td>\n",
       "      <td>0</td>\n",
       "      <td>Wed Jan 18 14:00:55 CET 2017</td>\n",
       "      <td>False</td>\n",
       "      <td>-2_56aec740f1ef260003e307d6</td>\n",
       "      <td>2017-01-18 14:00:55</td>\n",
       "      <td>62</td>\n",
       "    </tr>\n",
       "    <tr>\n",
       "      <th>2</th>\n",
       "      <td>2</td>\n",
       "      <td>56aec740f1ef260003e307d6</td>\n",
       "      <td>72</td>\n",
       "      <td>Fri Mar 17 01:00:00 CET 2017</td>\n",
       "      <td>True</td>\n",
       "      <td>2_56aec740f1ef260003e307d6</td>\n",
       "      <td>2017-03-17 01:00:00</td>\n",
       "      <td>4</td>\n",
       "    </tr>\n",
       "    <tr>\n",
       "      <th>3</th>\n",
       "      <td>487</td>\n",
       "      <td>56aec740f1ef260003e307d6</td>\n",
       "      <td>14</td>\n",
       "      <td>Sat Nov 19 15:02:14 CET 2016</td>\n",
       "      <td>False</td>\n",
       "      <td>487_56aec740f1ef260003e307d6</td>\n",
       "      <td>2016-11-19 15:02:14</td>\n",
       "      <td>122</td>\n",
       "    </tr>\n",
       "    <tr>\n",
       "      <th>4</th>\n",
       "      <td>3</td>\n",
       "      <td>56aec740f1ef260003e307d6</td>\n",
       "      <td>22</td>\n",
       "      <td>Thu Feb 16 01:00:00 CET 2017</td>\n",
       "      <td>True</td>\n",
       "      <td>3_56aec740f1ef260003e307d6</td>\n",
       "      <td>2017-02-16 01:00:00</td>\n",
       "      <td>33</td>\n",
       "    </tr>\n",
       "  </tbody>\n",
       "</table>\n",
       "</div>"
      ],
      "text/plain": [
       "   employee              companyAlias  numVotes         lastParticipationDate  \\\n",
       "0       512  56aec740f1ef260003e307d6         4  Thu Feb 23 12:48:04 CET 2017   \n",
       "1        -2  56aec740f1ef260003e307d6         0  Wed Jan 18 14:00:55 CET 2017   \n",
       "2         2  56aec740f1ef260003e307d6        72  Fri Mar 17 01:00:00 CET 2017   \n",
       "3       487  56aec740f1ef260003e307d6        14  Sat Nov 19 15:02:14 CET 2016   \n",
       "4         3  56aec740f1ef260003e307d6        22  Thu Feb 16 01:00:00 CET 2017   \n",
       "\n",
       "   stillExists              employee_company lastParticipationDate2  recency  \n",
       "0         True  512_56aec740f1ef260003e307d6    2017-02-23 12:48:04       26  \n",
       "1        False   -2_56aec740f1ef260003e307d6    2017-01-18 14:00:55       62  \n",
       "2         True    2_56aec740f1ef260003e307d6    2017-03-17 01:00:00        4  \n",
       "3        False  487_56aec740f1ef260003e307d6    2016-11-19 15:02:14      122  \n",
       "4         True    3_56aec740f1ef260003e307d6    2017-02-16 01:00:00       33  "
      ]
     },
     "execution_count": 42,
     "metadata": {},
     "output_type": "execute_result"
    }
   ],
   "source": [
    "data_churn.head()"
   ]
  },
  {
   "cell_type": "code",
   "execution_count": 43,
   "metadata": {},
   "outputs": [],
   "source": [
    "XX=data_churn.groupby('employee_company').size()\n",
    "weird_data=XX[XX>1].index.tolist()"
   ]
  },
  {
   "cell_type": "code",
   "execution_count": 44,
   "metadata": {},
   "outputs": [],
   "source": [
    "data_churn1=data_churn[~(data_churn.employee_company.isin(weird_data))]"
   ]
  },
  {
   "cell_type": "code",
   "execution_count": null,
   "metadata": {},
   "outputs": [],
   "source": []
  },
  {
   "cell_type": "code",
   "execution_count": 45,
   "metadata": {},
   "outputs": [],
   "source": [
    "# data_churn[data_churn.employee_company=='118_54e52607e4b01191dc064966']"
   ]
  },
  {
   "cell_type": "code",
   "execution_count": null,
   "metadata": {},
   "outputs": [],
   "source": []
  },
  {
   "cell_type": "markdown",
   "metadata": {},
   "source": [
    "## Feature Engineering"
   ]
  },
  {
   "cell_type": "code",
   "execution_count": 46,
   "metadata": {},
   "outputs": [
    {
     "data": {
      "text/plain": [
       "(4769, 8)"
      ]
     },
     "execution_count": 46,
     "metadata": {},
     "output_type": "execute_result"
    }
   ],
   "source": [
    "data_churn1.shape"
   ]
  },
  {
   "cell_type": "code",
   "execution_count": 47,
   "metadata": {},
   "outputs": [
    {
     "data": {
      "text/plain": [
       "4769"
      ]
     },
     "execution_count": 47,
     "metadata": {},
     "output_type": "execute_result"
    }
   ],
   "source": [
    "len(data_churn1.employee_company.unique())"
   ]
  },
  {
   "cell_type": "code",
   "execution_count": null,
   "metadata": {},
   "outputs": [],
   "source": []
  },
  {
   "cell_type": "code",
   "execution_count": 48,
   "metadata": {},
   "outputs": [],
   "source": [
    "data_train0=data_churn1[['employee_company','employee','companyAlias','recency','stillExists']]"
   ]
  },
  {
   "cell_type": "code",
   "execution_count": 49,
   "metadata": {},
   "outputs": [],
   "source": [
    "feat_list=[feat_1,feat_2,feat_3,feat_4]\n",
    "for f in feat_list:\n",
    "    data_train0=pd.merge(data_train0,f,on='employee_company',how='left')"
   ]
  },
  {
   "cell_type": "code",
   "execution_count": 50,
   "metadata": {},
   "outputs": [
    {
     "data": {
      "text/plain": [
       "(4769, 12)"
      ]
     },
     "execution_count": 50,
     "metadata": {},
     "output_type": "execute_result"
    }
   ],
   "source": [
    "data_train0.shape"
   ]
  },
  {
   "cell_type": "code",
   "execution_count": null,
   "metadata": {},
   "outputs": [],
   "source": []
  },
  {
   "cell_type": "code",
   "execution_count": 51,
   "metadata": {},
   "outputs": [
    {
     "data": {
      "text/html": [
       "<div>\n",
       "<style scoped>\n",
       "    .dataframe tbody tr th:only-of-type {\n",
       "        vertical-align: middle;\n",
       "    }\n",
       "\n",
       "    .dataframe tbody tr th {\n",
       "        vertical-align: top;\n",
       "    }\n",
       "\n",
       "    .dataframe thead th {\n",
       "        text-align: right;\n",
       "    }\n",
       "</style>\n",
       "<table border=\"1\" class=\"dataframe\">\n",
       "  <thead>\n",
       "    <tr style=\"text-align: right;\">\n",
       "      <th></th>\n",
       "      <th>employee_company</th>\n",
       "      <th>employee</th>\n",
       "      <th>companyAlias</th>\n",
       "      <th>recency</th>\n",
       "      <th>stillExists</th>\n",
       "      <th>is_not_4</th>\n",
       "      <th>vote</th>\n",
       "      <th>malam</th>\n",
       "      <th>pagi</th>\n",
       "      <th>siang</th>\n",
       "      <th>sore</th>\n",
       "      <th>lenght_txt</th>\n",
       "    </tr>\n",
       "  </thead>\n",
       "  <tbody>\n",
       "    <tr>\n",
       "      <th>0</th>\n",
       "      <td>512_56aec740f1ef260003e307d6</td>\n",
       "      <td>512</td>\n",
       "      <td>56aec740f1ef260003e307d6</td>\n",
       "      <td>26</td>\n",
       "      <td>True</td>\n",
       "      <td>3.0</td>\n",
       "      <td>4.0</td>\n",
       "      <td>0.0</td>\n",
       "      <td>0.0</td>\n",
       "      <td>2.0</td>\n",
       "      <td>2.0</td>\n",
       "      <td>114.500000</td>\n",
       "    </tr>\n",
       "    <tr>\n",
       "      <th>1</th>\n",
       "      <td>-2_56aec740f1ef260003e307d6</td>\n",
       "      <td>-2</td>\n",
       "      <td>56aec740f1ef260003e307d6</td>\n",
       "      <td>62</td>\n",
       "      <td>False</td>\n",
       "      <td>NaN</td>\n",
       "      <td>NaN</td>\n",
       "      <td>NaN</td>\n",
       "      <td>NaN</td>\n",
       "      <td>NaN</td>\n",
       "      <td>NaN</td>\n",
       "      <td>NaN</td>\n",
       "    </tr>\n",
       "    <tr>\n",
       "      <th>2</th>\n",
       "      <td>2_56aec740f1ef260003e307d6</td>\n",
       "      <td>2</td>\n",
       "      <td>56aec740f1ef260003e307d6</td>\n",
       "      <td>4</td>\n",
       "      <td>True</td>\n",
       "      <td>63.0</td>\n",
       "      <td>72.0</td>\n",
       "      <td>0.0</td>\n",
       "      <td>6.0</td>\n",
       "      <td>10.0</td>\n",
       "      <td>12.0</td>\n",
       "      <td>59.571429</td>\n",
       "    </tr>\n",
       "    <tr>\n",
       "      <th>3</th>\n",
       "      <td>3_56aec740f1ef260003e307d6</td>\n",
       "      <td>3</td>\n",
       "      <td>56aec740f1ef260003e307d6</td>\n",
       "      <td>33</td>\n",
       "      <td>True</td>\n",
       "      <td>9.0</td>\n",
       "      <td>22.0</td>\n",
       "      <td>4.0</td>\n",
       "      <td>0.0</td>\n",
       "      <td>4.0</td>\n",
       "      <td>8.0</td>\n",
       "      <td>85.555556</td>\n",
       "    </tr>\n",
       "    <tr>\n",
       "      <th>4</th>\n",
       "      <td>-4_56aec740f1ef260003e307d6</td>\n",
       "      <td>-4</td>\n",
       "      <td>56aec740f1ef260003e307d6</td>\n",
       "      <td>134</td>\n",
       "      <td>False</td>\n",
       "      <td>NaN</td>\n",
       "      <td>NaN</td>\n",
       "      <td>2.0</td>\n",
       "      <td>2.0</td>\n",
       "      <td>6.0</td>\n",
       "      <td>10.0</td>\n",
       "      <td>54.181818</td>\n",
       "    </tr>\n",
       "  </tbody>\n",
       "</table>\n",
       "</div>"
      ],
      "text/plain": [
       "               employee_company  employee              companyAlias  recency  \\\n",
       "0  512_56aec740f1ef260003e307d6       512  56aec740f1ef260003e307d6       26   \n",
       "1   -2_56aec740f1ef260003e307d6        -2  56aec740f1ef260003e307d6       62   \n",
       "2    2_56aec740f1ef260003e307d6         2  56aec740f1ef260003e307d6        4   \n",
       "3    3_56aec740f1ef260003e307d6         3  56aec740f1ef260003e307d6       33   \n",
       "4   -4_56aec740f1ef260003e307d6        -4  56aec740f1ef260003e307d6      134   \n",
       "\n",
       "   stillExists  is_not_4  vote  malam  pagi  siang  sore  lenght_txt  \n",
       "0         True       3.0   4.0    0.0   0.0    2.0   2.0  114.500000  \n",
       "1        False       NaN   NaN    NaN   NaN    NaN   NaN         NaN  \n",
       "2         True      63.0  72.0    0.0   6.0   10.0  12.0   59.571429  \n",
       "3         True       9.0  22.0    4.0   0.0    4.0   8.0   85.555556  \n",
       "4        False       NaN   NaN    2.0   2.0    6.0  10.0   54.181818  "
      ]
     },
     "execution_count": 51,
     "metadata": {},
     "output_type": "execute_result"
    }
   ],
   "source": [
    "data_train0.head()"
   ]
  },
  {
   "cell_type": "code",
   "execution_count": 52,
   "metadata": {},
   "outputs": [],
   "source": [
    "data_train0=data_train0.fillna(0)"
   ]
  },
  {
   "cell_type": "code",
   "execution_count": null,
   "metadata": {},
   "outputs": [],
   "source": []
  },
  {
   "cell_type": "code",
   "execution_count": 53,
   "metadata": {},
   "outputs": [
    {
     "data": {
      "text/html": [
       "<div>\n",
       "<style scoped>\n",
       "    .dataframe tbody tr th:only-of-type {\n",
       "        vertical-align: middle;\n",
       "    }\n",
       "\n",
       "    .dataframe tbody tr th {\n",
       "        vertical-align: top;\n",
       "    }\n",
       "\n",
       "    .dataframe thead th {\n",
       "        text-align: right;\n",
       "    }\n",
       "</style>\n",
       "<table border=\"1\" class=\"dataframe\">\n",
       "  <thead>\n",
       "    <tr style=\"text-align: right;\">\n",
       "      <th></th>\n",
       "      <th>employee_company</th>\n",
       "      <th>employee</th>\n",
       "      <th>companyAlias</th>\n",
       "      <th>recency</th>\n",
       "      <th>stillExists</th>\n",
       "      <th>is_not_4</th>\n",
       "      <th>vote</th>\n",
       "      <th>malam</th>\n",
       "      <th>pagi</th>\n",
       "      <th>siang</th>\n",
       "      <th>sore</th>\n",
       "      <th>lenght_txt</th>\n",
       "    </tr>\n",
       "  </thead>\n",
       "  <tbody>\n",
       "    <tr>\n",
       "      <th>0</th>\n",
       "      <td>512_56aec740f1ef260003e307d6</td>\n",
       "      <td>512</td>\n",
       "      <td>56aec740f1ef260003e307d6</td>\n",
       "      <td>26</td>\n",
       "      <td>True</td>\n",
       "      <td>3.0</td>\n",
       "      <td>4.0</td>\n",
       "      <td>0.0</td>\n",
       "      <td>0.0</td>\n",
       "      <td>2.0</td>\n",
       "      <td>2.0</td>\n",
       "      <td>114.500000</td>\n",
       "    </tr>\n",
       "    <tr>\n",
       "      <th>1</th>\n",
       "      <td>-2_56aec740f1ef260003e307d6</td>\n",
       "      <td>-2</td>\n",
       "      <td>56aec740f1ef260003e307d6</td>\n",
       "      <td>62</td>\n",
       "      <td>False</td>\n",
       "      <td>0.0</td>\n",
       "      <td>0.0</td>\n",
       "      <td>0.0</td>\n",
       "      <td>0.0</td>\n",
       "      <td>0.0</td>\n",
       "      <td>0.0</td>\n",
       "      <td>0.000000</td>\n",
       "    </tr>\n",
       "    <tr>\n",
       "      <th>2</th>\n",
       "      <td>2_56aec740f1ef260003e307d6</td>\n",
       "      <td>2</td>\n",
       "      <td>56aec740f1ef260003e307d6</td>\n",
       "      <td>4</td>\n",
       "      <td>True</td>\n",
       "      <td>63.0</td>\n",
       "      <td>72.0</td>\n",
       "      <td>0.0</td>\n",
       "      <td>6.0</td>\n",
       "      <td>10.0</td>\n",
       "      <td>12.0</td>\n",
       "      <td>59.571429</td>\n",
       "    </tr>\n",
       "    <tr>\n",
       "      <th>3</th>\n",
       "      <td>3_56aec740f1ef260003e307d6</td>\n",
       "      <td>3</td>\n",
       "      <td>56aec740f1ef260003e307d6</td>\n",
       "      <td>33</td>\n",
       "      <td>True</td>\n",
       "      <td>9.0</td>\n",
       "      <td>22.0</td>\n",
       "      <td>4.0</td>\n",
       "      <td>0.0</td>\n",
       "      <td>4.0</td>\n",
       "      <td>8.0</td>\n",
       "      <td>85.555556</td>\n",
       "    </tr>\n",
       "    <tr>\n",
       "      <th>4</th>\n",
       "      <td>-4_56aec740f1ef260003e307d6</td>\n",
       "      <td>-4</td>\n",
       "      <td>56aec740f1ef260003e307d6</td>\n",
       "      <td>134</td>\n",
       "      <td>False</td>\n",
       "      <td>0.0</td>\n",
       "      <td>0.0</td>\n",
       "      <td>2.0</td>\n",
       "      <td>2.0</td>\n",
       "      <td>6.0</td>\n",
       "      <td>10.0</td>\n",
       "      <td>54.181818</td>\n",
       "    </tr>\n",
       "  </tbody>\n",
       "</table>\n",
       "</div>"
      ],
      "text/plain": [
       "               employee_company  employee              companyAlias  recency  \\\n",
       "0  512_56aec740f1ef260003e307d6       512  56aec740f1ef260003e307d6       26   \n",
       "1   -2_56aec740f1ef260003e307d6        -2  56aec740f1ef260003e307d6       62   \n",
       "2    2_56aec740f1ef260003e307d6         2  56aec740f1ef260003e307d6        4   \n",
       "3    3_56aec740f1ef260003e307d6         3  56aec740f1ef260003e307d6       33   \n",
       "4   -4_56aec740f1ef260003e307d6        -4  56aec740f1ef260003e307d6      134   \n",
       "\n",
       "   stillExists  is_not_4  vote  malam  pagi  siang  sore  lenght_txt  \n",
       "0         True       3.0   4.0    0.0   0.0    2.0   2.0  114.500000  \n",
       "1        False       0.0   0.0    0.0   0.0    0.0   0.0    0.000000  \n",
       "2         True      63.0  72.0    0.0   6.0   10.0  12.0   59.571429  \n",
       "3         True       9.0  22.0    4.0   0.0    4.0   8.0   85.555556  \n",
       "4        False       0.0   0.0    2.0   2.0    6.0  10.0   54.181818  "
      ]
     },
     "execution_count": 53,
     "metadata": {},
     "output_type": "execute_result"
    }
   ],
   "source": [
    "data_train0.head()"
   ]
  },
  {
   "cell_type": "code",
   "execution_count": 54,
   "metadata": {},
   "outputs": [
    {
     "data": {
      "text/plain": [
       "employee_company    0\n",
       "employee            0\n",
       "companyAlias        0\n",
       "recency             0\n",
       "stillExists         0\n",
       "is_not_4            0\n",
       "vote                0\n",
       "malam               0\n",
       "pagi                0\n",
       "siang               0\n",
       "sore                0\n",
       "lenght_txt          0\n",
       "dtype: int64"
      ]
     },
     "execution_count": 54,
     "metadata": {},
     "output_type": "execute_result"
    }
   ],
   "source": [
    "data_train0.isnull().sum()"
   ]
  },
  {
   "cell_type": "code",
   "execution_count": null,
   "metadata": {},
   "outputs": [],
   "source": []
  },
  {
   "cell_type": "markdown",
   "metadata": {},
   "source": [
    "(x-Mx)/Sx"
   ]
  },
  {
   "cell_type": "code",
   "execution_count": 55,
   "metadata": {},
   "outputs": [],
   "source": [
    "data_train1=data_train0.copy()"
   ]
  },
  {
   "cell_type": "code",
   "execution_count": 56,
   "metadata": {},
   "outputs": [
    {
     "data": {
      "text/plain": [
       "(4769, 12)"
      ]
     },
     "execution_count": 56,
     "metadata": {},
     "output_type": "execute_result"
    }
   ],
   "source": [
    "data_train1.shape"
   ]
  },
  {
   "cell_type": "code",
   "execution_count": null,
   "metadata": {},
   "outputs": [],
   "source": []
  },
  {
   "cell_type": "code",
   "execution_count": 57,
   "metadata": {},
   "outputs": [
    {
     "name": "stdout",
     "output_type": "stream",
     "text": [
      "(4769, 4) (4769, 12)\n",
      "(4769, 6) (4769, 12)\n",
      "(4769, 7) (4769, 12)\n",
      "(4769, 2) (4769, 12)\n",
      "(4769, 13)\n",
      "(4769, 4) (4769, 13)\n",
      "(4769, 6) (4769, 13)\n",
      "(4769, 7) (4769, 13)\n",
      "(4769, 2) (4769, 13)\n",
      "(4769, 14)\n",
      "(4769, 4) (4769, 14)\n",
      "(4769, 6) (4769, 14)\n",
      "(4769, 7) (4769, 14)\n",
      "(4769, 2) (4769, 14)\n",
      "(4769, 15)\n",
      "(4769, 4) (4769, 15)\n",
      "(4769, 6) (4769, 15)\n",
      "(4769, 7) (4769, 15)\n",
      "(4769, 2) (4769, 15)\n",
      "(4769, 16)\n",
      "(4769, 4) (4769, 16)\n",
      "(4769, 6) (4769, 16)\n",
      "(4769, 7) (4769, 16)\n",
      "(4769, 2) (4769, 16)\n",
      "(4769, 17)\n",
      "(4769, 4) (4769, 17)\n",
      "(4769, 6) (4769, 17)\n",
      "(4769, 7) (4769, 17)\n",
      "(4769, 2) (4769, 17)\n",
      "(4769, 18)\n",
      "(4769, 4) (4769, 18)\n",
      "(4769, 6) (4769, 18)\n",
      "(4769, 7) (4769, 18)\n",
      "(4769, 2) (4769, 18)\n",
      "(4769, 19)\n",
      "(4769, 4) (4769, 19)\n",
      "(4769, 6) (4769, 19)\n",
      "(4769, 7) (4769, 19)\n",
      "(4769, 2) (4769, 19)\n",
      "(4769, 20)\n"
     ]
    }
   ],
   "source": [
    "feat_stand='recency'\n",
    "\n",
    "for feat_stand in ['recency','is_not_4','vote','malam','pagi','siang','sore','lenght_txt']:\n",
    "    data_stand=data_train0[['employee_company','employee','companyAlias']+[feat_stand]]\n",
    "    data_stand_mean=data_stand.groupby('companyAlias')[feat_stand].mean().reset_index()\n",
    "    data_stand_mean.columns=['companyAlias',feat_stand+'_mean']\n",
    "    data_stand_std=data_stand.groupby('companyAlias')[feat_stand].std().reset_index()\n",
    "    data_stand_std.columns=['companyAlias',feat_stand+'_std']\n",
    "\n",
    "    print(data_stand.shape,data_train1.shape)\n",
    "\n",
    "    data_stand=pd.merge(data_stand,data_stand_mean,on='companyAlias',how='left')\n",
    "    data_stand=pd.merge(data_stand,data_stand_std,on='companyAlias',how='left')\n",
    "    print(data_stand.shape,data_train1.shape)\n",
    "\n",
    "\n",
    "    data_stand[feat_stand+'_standard']=(data_stand[feat_stand]-data_stand[feat_stand+'_mean'])/data_stand[feat_stand+'_std']\n",
    "    print(data_stand.shape,data_train1.shape)\n",
    "\n",
    "\n",
    "    feat_standard=data_stand[['employee_company',feat_stand+'_standard']]\n",
    "    print(feat_standard.shape,data_train1.shape)\n",
    "\n",
    "    data_train1=pd.merge(data_train1,feat_standard,on='employee_company',how='left')\n",
    "    print(data_train1.shape)"
   ]
  },
  {
   "cell_type": "code",
   "execution_count": 58,
   "metadata": {},
   "outputs": [
    {
     "data": {
      "text/plain": [
       "4769"
      ]
     },
     "execution_count": 58,
     "metadata": {},
     "output_type": "execute_result"
    }
   ],
   "source": [
    "len(data_train1.employee_company.unique())"
   ]
  },
  {
   "cell_type": "code",
   "execution_count": 59,
   "metadata": {},
   "outputs": [],
   "source": [
    "# data_train1[data_train1.pagi_standard.isnull()]"
   ]
  },
  {
   "cell_type": "code",
   "execution_count": 60,
   "metadata": {},
   "outputs": [],
   "source": [
    "data_train1['target']=data_train1['stillExists'].astype(int)"
   ]
  },
  {
   "cell_type": "code",
   "execution_count": null,
   "metadata": {},
   "outputs": [],
   "source": []
  },
  {
   "cell_type": "code",
   "execution_count": 61,
   "metadata": {},
   "outputs": [],
   "source": [
    "feature_used=['recency','is_not_4','vote','malam','pagi','siang','sore','lenght_txt']\n",
    "feature_used=[f+'_standard' for f in feature_used]\n",
    "target='target'"
   ]
  },
  {
   "cell_type": "code",
   "execution_count": 62,
   "metadata": {},
   "outputs": [
    {
     "data": {
      "text/plain": [
       "0.7695533654854267"
      ]
     },
     "execution_count": 62,
     "metadata": {},
     "output_type": "execute_result"
    }
   ],
   "source": [
    "## Benchmark\n",
    "data_train1[target].mean()"
   ]
  },
  {
   "cell_type": "code",
   "execution_count": null,
   "metadata": {},
   "outputs": [],
   "source": []
  },
  {
   "cell_type": "markdown",
   "metadata": {},
   "source": [
    "# Modelling"
   ]
  },
  {
   "cell_type": "code",
   "execution_count": 63,
   "metadata": {},
   "outputs": [
    {
     "data": {
      "text/plain": [
       "3815.2000000000003"
      ]
     },
     "execution_count": 63,
     "metadata": {},
     "output_type": "execute_result"
    }
   ],
   "source": [
    "len(data_train1)*0.8"
   ]
  },
  {
   "cell_type": "code",
   "execution_count": 64,
   "metadata": {},
   "outputs": [],
   "source": [
    "data_train1=data_train1.fillna(0)"
   ]
  },
  {
   "cell_type": "code",
   "execution_count": 65,
   "metadata": {},
   "outputs": [],
   "source": [
    "dtrain=data_train1.sample(3815,random_state=342)\n",
    "dtest=data_train1[~(data_train1.employee_company.isin(dtrain.employee_company.tolist()))]\n"
   ]
  },
  {
   "cell_type": "code",
   "execution_count": 66,
   "metadata": {},
   "outputs": [],
   "source": [
    "Xtrain=dtrain[feature_used]\n",
    "Ytrain=dtrain[target]\n",
    "\n",
    "Xtest=dtest[feature_used]\n",
    "Ytest=dtest[target]"
   ]
  },
  {
   "cell_type": "code",
   "execution_count": null,
   "metadata": {},
   "outputs": [],
   "source": []
  },
  {
   "cell_type": "code",
   "execution_count": 73,
   "metadata": {},
   "outputs": [],
   "source": [
    "from sklearn.ensemble import RandomForestClassifier\n",
    "from sklearn.metrics import accuracy_score"
   ]
  },
  {
   "cell_type": "code",
   "execution_count": 74,
   "metadata": {},
   "outputs": [],
   "source": [
    "model=RandomForestClassifier(max_depth=8)"
   ]
  },
  {
   "cell_type": "code",
   "execution_count": 86,
   "metadata": {},
   "outputs": [
    {
     "name": "stderr",
     "output_type": "stream",
     "text": [
      "/Users/alamhanz/anaconda/envs/py36/lib/python3.6/site-packages/sklearn/ensemble/forest.py:248: FutureWarning: The default value of n_estimators will change from 10 in version 0.20 to 100 in 0.22.\n",
      "  \"10 in version 0.20 to 100 in 0.22.\", FutureWarning)\n"
     ]
    },
    {
     "data": {
      "text/plain": [
       "RandomForestClassifier(bootstrap=True, class_weight=None, criterion='gini',\n",
       "            max_depth=None, max_features='auto', max_leaf_nodes=None,\n",
       "            min_impurity_decrease=0.0, min_impurity_split=None,\n",
       "            min_samples_leaf=1, min_samples_split=2,\n",
       "            min_weight_fraction_leaf=0.0, n_estimators=10, n_jobs=None,\n",
       "            oob_score=False, random_state=None, verbose=0,\n",
       "            warm_start=False)"
      ]
     },
     "execution_count": 86,
     "metadata": {},
     "output_type": "execute_result"
    }
   ],
   "source": [
    "model.fit(Xtrain,Ytrain)"
   ]
  },
  {
   "cell_type": "code",
   "execution_count": null,
   "metadata": {},
   "outputs": [],
   "source": []
  },
  {
   "cell_type": "code",
   "execution_count": 76,
   "metadata": {},
   "outputs": [
    {
     "data": {
      "text/plain": [
       "0.9294888597640891"
      ]
     },
     "execution_count": 76,
     "metadata": {},
     "output_type": "execute_result"
    }
   ],
   "source": [
    "accuracy_score(Ytrain,model.predict(Xtrain))"
   ]
  },
  {
   "cell_type": "code",
   "execution_count": 77,
   "metadata": {},
   "outputs": [
    {
     "data": {
      "text/plain": [
       "0.9339622641509434"
      ]
     },
     "execution_count": 77,
     "metadata": {},
     "output_type": "execute_result"
    }
   ],
   "source": [
    "accuracy_score(Ytest,model.predict(Xtest))"
   ]
  },
  {
   "cell_type": "code",
   "execution_count": null,
   "metadata": {},
   "outputs": [],
   "source": []
  },
  {
   "cell_type": "code",
   "execution_count": 78,
   "metadata": {},
   "outputs": [
    {
     "data": {
      "text/plain": [
       "<matplotlib.axes._subplots.AxesSubplot at 0x1a2210b278>"
      ]
     },
     "execution_count": 78,
     "metadata": {},
     "output_type": "execute_result"
    },
    {
     "data": {
      "image/png": "[encoded data removed]",
      "text/plain": [
       "<Figure size 432x288 with 1 Axes>"
      ]
     },
     "metadata": {
      "needs_background": "light"
     },
     "output_type": "display_data"
    }
   ],
   "source": [
    "pd.DataFrame(model.feature_importances_,columns=['importance'],index=feature_used).sort_values('importance').plot(kind='barh')"
   ]
  },
  {
   "cell_type": "code",
   "execution_count": null,
   "metadata": {},
   "outputs": [],
   "source": []
  },
  {
   "cell_type": "markdown",
   "metadata": {},
   "source": [
    "## Hyper Parameter Tuning"
   ]
  },
  {
   "cell_type": "code",
   "execution_count": 103,
   "metadata": {},
   "outputs": [],
   "source": [
    "from sklearn.model_selection import GridSearchCV"
   ]
  },
  {
   "cell_type": "code",
   "execution_count": 104,
   "metadata": {},
   "outputs": [],
   "source": [
    "model=RandomForestClassifier()\n",
    "param={'max_depth':[10,20,30], \n",
    "       'min_samples_split':[10,20], \n",
    "       'min_samples_leaf':[8,16]}"
   ]
  },
  {
   "cell_type": "code",
   "execution_count": 105,
   "metadata": {},
   "outputs": [],
   "source": [
    "model_grid=GridSearchCV(model,param,cv=5)"
   ]
  },
  {
   "cell_type": "code",
   "execution_count": 106,
   "metadata": {},
   "outputs": [
    {
     "name": "stderr",
     "output_type": "stream",
     "text": [
      "/Users/alamhanz/anaconda/envs/py36/lib/python3.6/site-packages/sklearn/ensemble/forest.py:248: FutureWarning: The default value of n_estimators will change from 10 in version 0.20 to 100 in 0.22.\n",
      "  \"10 in version 0.20 to 100 in 0.22.\", FutureWarning)\n",
      "/Users/alamhanz/anaconda/envs/py36/lib/python3.6/site-packages/sklearn/ensemble/forest.py:248: FutureWarning: The default value of n_estimators will change from 10 in version 0.20 to 100 in 0.22.\n",
      "  \"10 in version 0.20 to 100 in 0.22.\", FutureWarning)\n",
      "/Users/alamhanz/anaconda/envs/py36/lib/python3.6/site-packages/sklearn/ensemble/forest.py:248: FutureWarning: The default value of n_estimators will change from 10 in version 0.20 to 100 in 0.22.\n",
      "  \"10 in version 0.20 to 100 in 0.22.\", FutureWarning)\n",
      "/Users/alamhanz/anaconda/envs/py36/lib/python3.6/site-packages/sklearn/ensemble/forest.py:248: FutureWarning: The default value of n_estimators will change from 10 in version 0.20 to 100 in 0.22.\n",
      "  \"10 in version 0.20 to 100 in 0.22.\", FutureWarning)\n",
      "/Users/alamhanz/anaconda/envs/py36/lib/python3.6/site-packages/sklearn/ensemble/forest.py:248: FutureWarning: The default value of n_estimators will change from 10 in version 0.20 to 100 in 0.22.\n",
      "  \"10 in version 0.20 to 100 in 0.22.\", FutureWarning)\n",
      "/Users/alamhanz/anaconda/envs/py36/lib/python3.6/site-packages/sklearn/ensemble/forest.py:248: FutureWarning: The default value of n_estimators will change from 10 in version 0.20 to 100 in 0.22.\n",
      "  \"10 in version 0.20 to 100 in 0.22.\", FutureWarning)\n",
      "/Users/alamhanz/anaconda/envs/py36/lib/python3.6/site-packages/sklearn/ensemble/forest.py:248: FutureWarning: The default value of n_estimators will change from 10 in version 0.20 to 100 in 0.22.\n",
      "  \"10 in version 0.20 to 100 in 0.22.\", FutureWarning)\n",
      "/Users/alamhanz/anaconda/envs/py36/lib/python3.6/site-packages/sklearn/ensemble/forest.py:248: FutureWarning: The default value of n_estimators will change from 10 in version 0.20 to 100 in 0.22.\n",
      "  \"10 in version 0.20 to 100 in 0.22.\", FutureWarning)\n",
      "/Users/alamhanz/anaconda/envs/py36/lib/python3.6/site-packages/sklearn/ensemble/forest.py:248: FutureWarning: The default value of n_estimators will change from 10 in version 0.20 to 100 in 0.22.\n",
      "  \"10 in version 0.20 to 100 in 0.22.\", FutureWarning)\n",
      "/Users/alamhanz/anaconda/envs/py36/lib/python3.6/site-packages/sklearn/ensemble/forest.py:248: FutureWarning: The default value of n_estimators will change from 10 in version 0.20 to 100 in 0.22.\n",
      "  \"10 in version 0.20 to 100 in 0.22.\", FutureWarning)\n",
      "/Users/alamhanz/anaconda/envs/py36/lib/python3.6/site-packages/sklearn/ensemble/forest.py:248: FutureWarning: The default value of n_estimators will change from 10 in version 0.20 to 100 in 0.22.\n",
      "  \"10 in version 0.20 to 100 in 0.22.\", FutureWarning)\n",
      "/Users/alamhanz/anaconda/envs/py36/lib/python3.6/site-packages/sklearn/ensemble/forest.py:248: FutureWarning: The default value of n_estimators will change from 10 in version 0.20 to 100 in 0.22.\n",
      "  \"10 in version 0.20 to 100 in 0.22.\", FutureWarning)\n",
      "/Users/alamhanz/anaconda/envs/py36/lib/python3.6/site-packages/sklearn/ensemble/forest.py:248: FutureWarning: The default value of n_estimators will change from 10 in version 0.20 to 100 in 0.22.\n",
      "  \"10 in version 0.20 to 100 in 0.22.\", FutureWarning)\n",
      "/Users/alamhanz/anaconda/envs/py36/lib/python3.6/site-packages/sklearn/ensemble/forest.py:248: FutureWarning: The default value of n_estimators will change from 10 in version 0.20 to 100 in 0.22.\n",
      "  \"10 in version 0.20 to 100 in 0.22.\", FutureWarning)\n",
      "/Users/alamhanz/anaconda/envs/py36/lib/python3.6/site-packages/sklearn/ensemble/forest.py:248: FutureWarning: The default value of n_estimators will change from 10 in version 0.20 to 100 in 0.22.\n",
      "  \"10 in version 0.20 to 100 in 0.22.\", FutureWarning)\n",
      "/Users/alamhanz/anaconda/envs/py36/lib/python3.6/site-packages/sklearn/ensemble/forest.py:248: FutureWarning: The default value of n_estimators will change from 10 in version 0.20 to 100 in 0.22.\n",
      "  \"10 in version 0.20 to 100 in 0.22.\", FutureWarning)\n",
      "/Users/alamhanz/anaconda/envs/py36/lib/python3.6/site-packages/sklearn/ensemble/forest.py:248: FutureWarning: The default value of n_estimators will change from 10 in version 0.20 to 100 in 0.22.\n",
      "  \"10 in version 0.20 to 100 in 0.22.\", FutureWarning)\n",
      "/Users/alamhanz/anaconda/envs/py36/lib/python3.6/site-packages/sklearn/ensemble/forest.py:248: FutureWarning: The default value of n_estimators will change from 10 in version 0.20 to 100 in 0.22.\n",
      "  \"10 in version 0.20 to 100 in 0.22.\", FutureWarning)\n",
      "/Users/alamhanz/anaconda/envs/py36/lib/python3.6/site-packages/sklearn/ensemble/forest.py:248: FutureWarning: The default value of n_estimators will change from 10 in version 0.20 to 100 in 0.22.\n",
      "  \"10 in version 0.20 to 100 in 0.22.\", FutureWarning)\n",
      "/Users/alamhanz/anaconda/envs/py36/lib/python3.6/site-packages/sklearn/ensemble/forest.py:248: FutureWarning: The default value of n_estimators will change from 10 in version 0.20 to 100 in 0.22.\n",
      "  \"10 in version 0.20 to 100 in 0.22.\", FutureWarning)\n",
      "/Users/alamhanz/anaconda/envs/py36/lib/python3.6/site-packages/sklearn/ensemble/forest.py:248: FutureWarning: The default value of n_estimators will change from 10 in version 0.20 to 100 in 0.22.\n",
      "  \"10 in version 0.20 to 100 in 0.22.\", FutureWarning)\n",
      "/Users/alamhanz/anaconda/envs/py36/lib/python3.6/site-packages/sklearn/ensemble/forest.py:248: FutureWarning: The default value of n_estimators will change from 10 in version 0.20 to 100 in 0.22.\n",
      "  \"10 in version 0.20 to 100 in 0.22.\", FutureWarning)\n",
      "/Users/alamhanz/anaconda/envs/py36/lib/python3.6/site-packages/sklearn/ensemble/forest.py:248: FutureWarning: The default value of n_estimators will change from 10 in version 0.20 to 100 in 0.22.\n",
      "  \"10 in version 0.20 to 100 in 0.22.\", FutureWarning)\n",
      "/Users/alamhanz/anaconda/envs/py36/lib/python3.6/site-packages/sklearn/ensemble/forest.py:248: FutureWarning: The default value of n_estimators will change from 10 in version 0.20 to 100 in 0.22.\n",
      "  \"10 in version 0.20 to 100 in 0.22.\", FutureWarning)\n",
      "/Users/alamhanz/anaconda/envs/py36/lib/python3.6/site-packages/sklearn/ensemble/forest.py:248: FutureWarning: The default value of n_estimators will change from 10 in version 0.20 to 100 in 0.22.\n",
      "  \"10 in version 0.20 to 100 in 0.22.\", FutureWarning)\n",
      "/Users/alamhanz/anaconda/envs/py36/lib/python3.6/site-packages/sklearn/ensemble/forest.py:248: FutureWarning: The default value of n_estimators will change from 10 in version 0.20 to 100 in 0.22.\n",
      "  \"10 in version 0.20 to 100 in 0.22.\", FutureWarning)\n",
      "/Users/alamhanz/anaconda/envs/py36/lib/python3.6/site-packages/sklearn/ensemble/forest.py:248: FutureWarning: The default value of n_estimators will change from 10 in version 0.20 to 100 in 0.22.\n",
      "  \"10 in version 0.20 to 100 in 0.22.\", FutureWarning)\n",
      "/Users/alamhanz/anaconda/envs/py36/lib/python3.6/site-packages/sklearn/ensemble/forest.py:248: FutureWarning: The default value of n_estimators will change from 10 in version 0.20 to 100 in 0.22.\n",
      "  \"10 in version 0.20 to 100 in 0.22.\", FutureWarning)\n",
      "/Users/alamhanz/anaconda/envs/py36/lib/python3.6/site-packages/sklearn/ensemble/forest.py:248: FutureWarning: The default value of n_estimators will change from 10 in version 0.20 to 100 in 0.22.\n",
      "  \"10 in version 0.20 to 100 in 0.22.\", FutureWarning)\n",
      "/Users/alamhanz/anaconda/envs/py36/lib/python3.6/site-packages/sklearn/ensemble/forest.py:248: FutureWarning: The default value of n_estimators will change from 10 in version 0.20 to 100 in 0.22.\n",
      "  \"10 in version 0.20 to 100 in 0.22.\", FutureWarning)\n",
      "/Users/alamhanz/anaconda/envs/py36/lib/python3.6/site-packages/sklearn/ensemble/forest.py:248: FutureWarning: The default value of n_estimators will change from 10 in version 0.20 to 100 in 0.22.\n",
      "  \"10 in version 0.20 to 100 in 0.22.\", FutureWarning)\n",
      "/Users/alamhanz/anaconda/envs/py36/lib/python3.6/site-packages/sklearn/ensemble/forest.py:248: FutureWarning: The default value of n_estimators will change from 10 in version 0.20 to 100 in 0.22.\n",
      "  \"10 in version 0.20 to 100 in 0.22.\", FutureWarning)\n",
      "/Users/alamhanz/anaconda/envs/py36/lib/python3.6/site-packages/sklearn/ensemble/forest.py:248: FutureWarning: The default value of n_estimators will change from 10 in version 0.20 to 100 in 0.22.\n",
      "  \"10 in version 0.20 to 100 in 0.22.\", FutureWarning)\n",
      "/Users/alamhanz/anaconda/envs/py36/lib/python3.6/site-packages/sklearn/ensemble/forest.py:248: FutureWarning: The default value of n_estimators will change from 10 in version 0.20 to 100 in 0.22.\n",
      "  \"10 in version 0.20 to 100 in 0.22.\", FutureWarning)\n",
      "/Users/alamhanz/anaconda/envs/py36/lib/python3.6/site-packages/sklearn/ensemble/forest.py:248: FutureWarning: The default value of n_estimators will change from 10 in version 0.20 to 100 in 0.22.\n",
      "  \"10 in version 0.20 to 100 in 0.22.\", FutureWarning)\n",
      "/Users/alamhanz/anaconda/envs/py36/lib/python3.6/site-packages/sklearn/ensemble/forest.py:248: FutureWarning: The default value of n_estimators will change from 10 in version 0.20 to 100 in 0.22.\n",
      "  \"10 in version 0.20 to 100 in 0.22.\", FutureWarning)\n",
      "/Users/alamhanz/anaconda/envs/py36/lib/python3.6/site-packages/sklearn/ensemble/forest.py:248: FutureWarning: The default value of n_estimators will change from 10 in version 0.20 to 100 in 0.22.\n",
      "  \"10 in version 0.20 to 100 in 0.22.\", FutureWarning)\n",
      "/Users/alamhanz/anaconda/envs/py36/lib/python3.6/site-packages/sklearn/ensemble/forest.py:248: FutureWarning: The default value of n_estimators will change from 10 in version 0.20 to 100 in 0.22.\n",
      "  \"10 in version 0.20 to 100 in 0.22.\", FutureWarning)\n",
      "/Users/alamhanz/anaconda/envs/py36/lib/python3.6/site-packages/sklearn/ensemble/forest.py:248: FutureWarning: The default value of n_estimators will change from 10 in version 0.20 to 100 in 0.22.\n",
      "  \"10 in version 0.20 to 100 in 0.22.\", FutureWarning)\n",
      "/Users/alamhanz/anaconda/envs/py36/lib/python3.6/site-packages/sklearn/ensemble/forest.py:248: FutureWarning: The default value of n_estimators will change from 10 in version 0.20 to 100 in 0.22.\n",
      "  \"10 in version 0.20 to 100 in 0.22.\", FutureWarning)\n",
      "/Users/alamhanz/anaconda/envs/py36/lib/python3.6/site-packages/sklearn/ensemble/forest.py:248: FutureWarning: The default value of n_estimators will change from 10 in version 0.20 to 100 in 0.22.\n",
      "  \"10 in version 0.20 to 100 in 0.22.\", FutureWarning)\n",
      "/Users/alamhanz/anaconda/envs/py36/lib/python3.6/site-packages/sklearn/ensemble/forest.py:248: FutureWarning: The default value of n_estimators will change from 10 in version 0.20 to 100 in 0.22.\n",
      "  \"10 in version 0.20 to 100 in 0.22.\", FutureWarning)\n",
      "/Users/alamhanz/anaconda/envs/py36/lib/python3.6/site-packages/sklearn/ensemble/forest.py:248: FutureWarning: The default value of n_estimators will change from 10 in version 0.20 to 100 in 0.22.\n",
      "  \"10 in version 0.20 to 100 in 0.22.\", FutureWarning)\n",
      "/Users/alamhanz/anaconda/envs/py36/lib/python3.6/site-packages/sklearn/ensemble/forest.py:248: FutureWarning: The default value of n_estimators will change from 10 in version 0.20 to 100 in 0.22.\n",
      "  \"10 in version 0.20 to 100 in 0.22.\", FutureWarning)\n",
      "/Users/alamhanz/anaconda/envs/py36/lib/python3.6/site-packages/sklearn/ensemble/forest.py:248: FutureWarning: The default value of n_estimators will change from 10 in version 0.20 to 100 in 0.22.\n",
      "  \"10 in version 0.20 to 100 in 0.22.\", FutureWarning)\n",
      "/Users/alamhanz/anaconda/envs/py36/lib/python3.6/site-packages/sklearn/ensemble/forest.py:248: FutureWarning: The default value of n_estimators will change from 10 in version 0.20 to 100 in 0.22.\n",
      "  \"10 in version 0.20 to 100 in 0.22.\", FutureWarning)\n",
      "/Users/alamhanz/anaconda/envs/py36/lib/python3.6/site-packages/sklearn/ensemble/forest.py:248: FutureWarning: The default value of n_estimators will change from 10 in version 0.20 to 100 in 0.22.\n",
      "  \"10 in version 0.20 to 100 in 0.22.\", FutureWarning)\n",
      "/Users/alamhanz/anaconda/envs/py36/lib/python3.6/site-packages/sklearn/ensemble/forest.py:248: FutureWarning: The default value of n_estimators will change from 10 in version 0.20 to 100 in 0.22.\n",
      "  \"10 in version 0.20 to 100 in 0.22.\", FutureWarning)\n",
      "/Users/alamhanz/anaconda/envs/py36/lib/python3.6/site-packages/sklearn/ensemble/forest.py:248: FutureWarning: The default value of n_estimators will change from 10 in version 0.20 to 100 in 0.22.\n",
      "  \"10 in version 0.20 to 100 in 0.22.\", FutureWarning)\n",
      "/Users/alamhanz/anaconda/envs/py36/lib/python3.6/site-packages/sklearn/ensemble/forest.py:248: FutureWarning: The default value of n_estimators will change from 10 in version 0.20 to 100 in 0.22.\n",
      "  \"10 in version 0.20 to 100 in 0.22.\", FutureWarning)\n",
      "/Users/alamhanz/anaconda/envs/py36/lib/python3.6/site-packages/sklearn/ensemble/forest.py:248: FutureWarning: The default value of n_estimators will change from 10 in version 0.20 to 100 in 0.22.\n",
      "  \"10 in version 0.20 to 100 in 0.22.\", FutureWarning)\n",
      "/Users/alamhanz/anaconda/envs/py36/lib/python3.6/site-packages/sklearn/ensemble/forest.py:248: FutureWarning: The default value of n_estimators will change from 10 in version 0.20 to 100 in 0.22.\n",
      "  \"10 in version 0.20 to 100 in 0.22.\", FutureWarning)\n",
      "/Users/alamhanz/anaconda/envs/py36/lib/python3.6/site-packages/sklearn/ensemble/forest.py:248: FutureWarning: The default value of n_estimators will change from 10 in version 0.20 to 100 in 0.22.\n",
      "  \"10 in version 0.20 to 100 in 0.22.\", FutureWarning)\n",
      "/Users/alamhanz/anaconda/envs/py36/lib/python3.6/site-packages/sklearn/ensemble/forest.py:248: FutureWarning: The default value of n_estimators will change from 10 in version 0.20 to 100 in 0.22.\n",
      "  \"10 in version 0.20 to 100 in 0.22.\", FutureWarning)\n",
      "/Users/alamhanz/anaconda/envs/py36/lib/python3.6/site-packages/sklearn/ensemble/forest.py:248: FutureWarning: The default value of n_estimators will change from 10 in version 0.20 to 100 in 0.22.\n",
      "  \"10 in version 0.20 to 100 in 0.22.\", FutureWarning)\n",
      "/Users/alamhanz/anaconda/envs/py36/lib/python3.6/site-packages/sklearn/ensemble/forest.py:248: FutureWarning: The default value of n_estimators will change from 10 in version 0.20 to 100 in 0.22.\n",
      "  \"10 in version 0.20 to 100 in 0.22.\", FutureWarning)\n",
      "/Users/alamhanz/anaconda/envs/py36/lib/python3.6/site-packages/sklearn/ensemble/forest.py:248: FutureWarning: The default value of n_estimators will change from 10 in version 0.20 to 100 in 0.22.\n",
      "  \"10 in version 0.20 to 100 in 0.22.\", FutureWarning)\n",
      "/Users/alamhanz/anaconda/envs/py36/lib/python3.6/site-packages/sklearn/ensemble/forest.py:248: FutureWarning: The default value of n_estimators will change from 10 in version 0.20 to 100 in 0.22.\n",
      "  \"10 in version 0.20 to 100 in 0.22.\", FutureWarning)\n",
      "/Users/alamhanz/anaconda/envs/py36/lib/python3.6/site-packages/sklearn/ensemble/forest.py:248: FutureWarning: The default value of n_estimators will change from 10 in version 0.20 to 100 in 0.22.\n",
      "  \"10 in version 0.20 to 100 in 0.22.\", FutureWarning)\n",
      "/Users/alamhanz/anaconda/envs/py36/lib/python3.6/site-packages/sklearn/ensemble/forest.py:248: FutureWarning: The default value of n_estimators will change from 10 in version 0.20 to 100 in 0.22.\n",
      "  \"10 in version 0.20 to 100 in 0.22.\", FutureWarning)\n",
      "/Users/alamhanz/anaconda/envs/py36/lib/python3.6/site-packages/sklearn/ensemble/forest.py:248: FutureWarning: The default value of n_estimators will change from 10 in version 0.20 to 100 in 0.22.\n",
      "  \"10 in version 0.20 to 100 in 0.22.\", FutureWarning)\n"
     ]
    },
    {
     "data": {
      "text/plain": [
       "GridSearchCV(cv=5, error_score='raise-deprecating',\n",
       "       estimator=RandomForestClassifier(bootstrap=True, class_weight=None, criterion='gini',\n",
       "            max_depth=None, max_features='auto', max_leaf_nodes=None,\n",
       "            min_impurity_decrease=0.0, min_impurity_split=None,\n",
       "            min_samples_leaf=1, min_samples_split=2,\n",
       "            min_weight_fraction_leaf=0.0, n_estimators='warn', n_jobs=None,\n",
       "            oob_score=False, random_state=None, verbose=0,\n",
       "            warm_start=False),\n",
       "       fit_params=None, iid='warn', n_jobs=None,\n",
       "       param_grid={'max_depth': [10, 20, 30], 'min_samples_split': [10, 20], 'min_samples_leaf': [8, 16]},\n",
       "       pre_dispatch='2*n_jobs', refit=True, return_train_score='warn',\n",
       "       scoring=None, verbose=0)"
      ]
     },
     "execution_count": 106,
     "metadata": {},
     "output_type": "execute_result"
    }
   ],
   "source": [
    "model_grid.fit(Xtrain,Ytrain)"
   ]
  },
  {
   "cell_type": "code",
   "execution_count": 107,
   "metadata": {},
   "outputs": [
    {
     "data": {
      "text/plain": [
       "RandomForestClassifier(bootstrap=True, class_weight=None, criterion='gini',\n",
       "            max_depth=20, max_features='auto', max_leaf_nodes=None,\n",
       "            min_impurity_decrease=0.0, min_impurity_split=None,\n",
       "            min_samples_leaf=8, min_samples_split=20,\n",
       "            min_weight_fraction_leaf=0.0, n_estimators=10, n_jobs=None,\n",
       "            oob_score=False, random_state=None, verbose=0,\n",
       "            warm_start=False)"
      ]
     },
     "execution_count": 107,
     "metadata": {},
     "output_type": "execute_result"
    }
   ],
   "source": [
    "model_grid.best_estimator_"
   ]
  },
  {
   "cell_type": "code",
   "execution_count": 108,
   "metadata": {},
   "outputs": [
    {
     "data": {
      "text/plain": [
       "0.9045871559633027"
      ]
     },
     "execution_count": 108,
     "metadata": {},
     "output_type": "execute_result"
    }
   ],
   "source": [
    "model_grid.best_score_"
   ]
  },
  {
   "cell_type": "code",
   "execution_count": 109,
   "metadata": {},
   "outputs": [
    {
     "data": {
      "text/plain": [
       "0.9287211740041929"
      ]
     },
     "execution_count": 109,
     "metadata": {},
     "output_type": "execute_result"
    }
   ],
   "source": [
    "accuracy_score(Ytest,model_grid.predict(Xtest))"
   ]
  },
  {
   "cell_type": "code",
   "execution_count": null,
   "metadata": {},
   "outputs": [],
   "source": []
  },
  {
   "cell_type": "markdown",
   "metadata": {},
   "source": [
    "## Evaluation"
   ]
  },
  {
   "cell_type": "code",
   "execution_count": 110,
   "metadata": {},
   "outputs": [],
   "source": [
    "from sklearn.metrics import confusion_matrix"
   ]
  },
  {
   "cell_type": "code",
   "execution_count": 114,
   "metadata": {},
   "outputs": [
    {
     "data": {
      "text/plain": [
       "<matplotlib.axes._subplots.AxesSubplot at 0x1a24602630>"
      ]
     },
     "execution_count": 114,
     "metadata": {},
     "output_type": "execute_result"
    },
    {
     "data": {
      "image/png": "[encoded data removed]",
      "text/plain": [
       "<Figure size 432x288 with 2 Axes>"
      ]
     },
     "metadata": {
      "needs_background": "light"
     },
     "output_type": "display_data"
    }
   ],
   "source": [
    "sns.heatmap(confusion_matrix(Ytest,model_grid.predict(Xtest)),annot=True,fmt='.2f')"
   ]
  },
  {
   "cell_type": "code",
   "execution_count": 116,
   "metadata": {},
   "outputs": [
    {
     "data": {
      "text/plain": [
       "0.9375812743823146"
      ]
     },
     "execution_count": 116,
     "metadata": {},
     "output_type": "execute_result"
    }
   ],
   "source": [
    "precision=(721)/(48+721)\n",
    "precision"
   ]
  },
  {
   "cell_type": "code",
   "execution_count": 118,
   "metadata": {},
   "outputs": [
    {
     "data": {
      "text/plain": [
       "0.9730094466936572"
      ]
     },
     "execution_count": 118,
     "metadata": {},
     "output_type": "execute_result"
    }
   ],
   "source": [
    "recall=(721)/(20+721)\n",
    "recall"
   ]
  },
  {
   "cell_type": "code",
   "execution_count": null,
   "metadata": {},
   "outputs": [],
   "source": []
  },
  {
   "cell_type": "markdown",
   "metadata": {},
   "source": [
    "## Ensemble"
   ]
  },
  {
   "cell_type": "code",
   "execution_count": 141,
   "metadata": {},
   "outputs": [],
   "source": [
    "from sklearn.ensemble import VotingClassifier\n",
    "from sklearn.ensemble import BaggingClassifier\n",
    "from sklearn.linear_model import LogisticRegression\n",
    "from sklearn.naive_bayes import GaussianNB"
   ]
  },
  {
   "cell_type": "code",
   "execution_count": 178,
   "metadata": {},
   "outputs": [
    {
     "name": "stdout",
     "output_type": "stream",
     "text": [
      "4.791186094284058\n"
     ]
    }
   ],
   "source": [
    "rf1 = RandomForestClassifier(n_estimators=8, random_state=1)\n",
    "rf2 = BaggingClassifier(base_estimator=rf1, n_estimators=200)\n",
    "\n",
    "# eclf1 = VotingClassifier(estimators=[('lr', clf1), ('rf', clf2)], voting='hard')\n",
    "# eclf1 = eclf1.fit(Xtrain, Ytrain)\n",
    "\n",
    "L1=time.time()\n",
    "rf1.fit(Xtrain, Ytrain)\n",
    "rf2.fit(Xtrain, Ytrain)\n",
    "print(time.time()-L1)"
   ]
  },
  {
   "cell_type": "code",
   "execution_count": 179,
   "metadata": {},
   "outputs": [
    {
     "data": {
      "text/plain": [
       "0.9892529488859764"
      ]
     },
     "execution_count": 179,
     "metadata": {},
     "output_type": "execute_result"
    }
   ],
   "source": [
    "accuracy_score(Ytrain,rf1.predict(Xtrain))"
   ]
  },
  {
   "cell_type": "code",
   "execution_count": 180,
   "metadata": {},
   "outputs": [
    {
     "data": {
      "text/plain": [
       "0.9764089121887287"
      ]
     },
     "execution_count": 180,
     "metadata": {},
     "output_type": "execute_result"
    }
   ],
   "source": [
    "accuracy_score(Ytrain,rf2.predict(Xtrain))"
   ]
  },
  {
   "cell_type": "code",
   "execution_count": 181,
   "metadata": {},
   "outputs": [
    {
     "data": {
      "text/plain": [
       "0.9203354297693921"
      ]
     },
     "execution_count": 181,
     "metadata": {},
     "output_type": "execute_result"
    }
   ],
   "source": [
    "accuracy_score(Ytest,rf1.predict(Xtest))"
   ]
  },
  {
   "cell_type": "code",
   "execution_count": 182,
   "metadata": {},
   "outputs": [
    {
     "data": {
      "text/plain": [
       "0.9318658280922432"
      ]
     },
     "execution_count": 182,
     "metadata": {},
     "output_type": "execute_result"
    }
   ],
   "source": [
    "accuracy_score(Ytest,rf2.predict(Xtest))"
   ]
  },
  {
   "cell_type": "code",
   "execution_count": null,
   "metadata": {},
   "outputs": [],
   "source": []
  },
  {
   "cell_type": "markdown",
   "metadata": {},
   "source": [
    "## Save Model"
   ]
  },
  {
   "cell_type": "code",
   "execution_count": 165,
   "metadata": {},
   "outputs": [],
   "source": [
    "from sklearn.externals import joblib"
   ]
  },
  {
   "cell_type": "code",
   "execution_count": 167,
   "metadata": {},
   "outputs": [
    {
     "data": {
      "text/plain": [
       "['../model/employee_churn_model_v1.pkl']"
      ]
     },
     "execution_count": 167,
     "metadata": {},
     "output_type": "execute_result"
    }
   ],
   "source": [
    "joblib.dump(rf2,'../model/employee_churn_model_v1.pkl')"
   ]
  },
  {
   "cell_type": "code",
   "execution_count": 168,
   "metadata": {},
   "outputs": [],
   "source": [
    "model1=joblib.load('../model/employee_churn_model_v1.pkl')"
   ]
  },
  {
   "cell_type": "code",
   "execution_count": 173,
   "metadata": {},
   "outputs": [],
   "source": [
    "# model1.predict(Xtest)"
   ]
  },
  {
   "cell_type": "code",
   "execution_count": 174,
   "metadata": {},
   "outputs": [],
   "source": [
    "# rf2"
   ]
  },
  {
   "cell_type": "code",
   "execution_count": 175,
   "metadata": {},
   "outputs": [],
   "source": [
    "import time"
   ]
  },
  {
   "cell_type": "code",
   "execution_count": 176,
   "metadata": {},
   "outputs": [],
   "source": []
  },
  {
   "cell_type": "code",
   "execution_count": null,
   "metadata": {},
   "outputs": [],
   "source": []
  }
 ],
 "metadata": {
  "kernelspec": {
   "display_name": "Python 3",
   "language": "python",
   "name": "python3"
  },
  "language_info": {
   "codemirror_mode": {
    "name": "ipython",
    "version": 3
   },
   "file_extension": ".py",
   "mimetype": "text/x-python",
   "name": "python",
   "nbconvert_exporter": "python",
   "pygments_lexer": "ipython3",
   "version": "3.6.7"
  }
 },
 "nbformat": 4,
 "nbformat_minor": 4
}
