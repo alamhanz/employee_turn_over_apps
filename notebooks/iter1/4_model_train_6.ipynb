{
 "cells": [
  {
   "cell_type": "markdown",
   "id": "651892ae-e75f-4b77-b3f6-ae34bdf805a0",
   "metadata": {},
   "source": [
    "# Employee Turn Over - Model training\n",
    "\n",
    "training process v6\n",
    "xgboost top features from 4"
   ]
  },
  {
   "cell_type": "code",
   "execution_count": 1,
   "id": "5e64c60e-1142-4bc3-884f-4c5ea2d24eb8",
   "metadata": {},
   "outputs": [],
   "source": [
    "import pandas as pd\n",
    "import seaborn as sns\n",
    "import matplotlib.pyplot as plt\n",
    "import numpy as np\n",
    "import seaborn as sns\n",
    "import warnings\n",
    "import joblib\n",
    "import sys\n",
    "\n",
    "sys.path.append('../../src/')\n",
    "\n",
    "from modeleval import binary_eval\n",
    "warnings.filterwarnings(\"ignore\")\n"
   ]
  },
  {
   "cell_type": "code",
   "execution_count": 2,
   "id": "733a7776-ae23-48ae-8697-3db58de71cdb",
   "metadata": {},
   "outputs": [],
   "source": [
    "from sklearn.linear_model import LogisticRegression\n",
    "from sklearn.preprocessing import StandardScaler\n",
    "from sklearn.tree import DecisionTreeClassifier\n",
    "from sklearn.ensemble import RandomForestClassifier, AdaBoostClassifier\n",
    "from sklearn.model_selection import cross_validate\n",
    "from sklearn.svm import SVC\n",
    "from sklearn.metrics import average_precision_score, make_scorer, roc_auc_score, accuracy_score\n",
    "import shap\n",
    "from bayes_opt import BayesianOptimization\n",
    "\n",
    "from xgboost import XGBClassifier"
   ]
  },
  {
   "cell_type": "code",
   "execution_count": 3,
   "id": "bdd1ee73-f72c-4f64-a526-9baac67cc63a",
   "metadata": {},
   "outputs": [],
   "source": [
    "# !pip install shap\n",
    "# !pip install bayesian-optimization "
   ]
  },
  {
   "cell_type": "code",
   "execution_count": 4,
   "id": "5976ed52-fe4a-4dc7-8adb-b6c2a48ad32a",
   "metadata": {},
   "outputs": [],
   "source": [
    "PATH_DATA='../../data/raw/'\n",
    "PATH_DATA_INTERIM='../../data/interim/'\n",
    "PATH_MODEL = '../../model/iter1/'\n",
    "VERS = '6'\n",
    "\n",
    "model_file = PATH_MODEL+'model_'+VERS+'.pkl'"
   ]
  },
  {
   "cell_type": "code",
   "execution_count": null,
   "id": "16f54795-6532-4af6-a6c1-20c917cf1e2d",
   "metadata": {},
   "outputs": [],
   "source": []
  },
  {
   "cell_type": "markdown",
   "id": "d77aedd4-da50-4901-a6a4-417784988b1c",
   "metadata": {},
   "source": [
    "## Get Data"
   ]
  },
  {
   "cell_type": "code",
   "execution_count": 5,
   "id": "5c2c7cc1-5203-464e-933b-14c393908788",
   "metadata": {},
   "outputs": [],
   "source": [
    "df1 = pd.read_csv(PATH_DATA_INTERIM+'iter1_interim_cln.csv')"
   ]
  },
  {
   "cell_type": "code",
   "execution_count": 6,
   "id": "3ec851a5-31d7-4040-88b9-39c3d7e7d00c",
   "metadata": {},
   "outputs": [
    {
     "name": "stdout",
     "output_type": "stream",
     "text": [
      "16\n"
     ]
    }
   ],
   "source": [
    "## we use 1 as turn over\n",
    "df1['target'] = (df1.stillExists==False).astype(int)\n",
    "col_v4 = pd.read_csv(PATH_MODEL+'feat_importance_4.csv')\n",
    "top_v4 = col_v4[col_v4.feature_importance_vals>0.01]['col_name'].tolist()\n",
    "print(len(top_v4))\n",
    "col_used = list(set(top_v4)-set(['unique_employee_ids','stillExists','companyAlias','is_train','target']))\n",
    "\n",
    "col_used.sort() ## --> remember to sort"
   ]
  },
  {
   "cell_type": "code",
   "execution_count": 7,
   "id": "3dfeecb6-e699-4108-8c42-8a564e3a3cb6",
   "metadata": {},
   "outputs": [],
   "source": [
    "Xtrain = df1[df1.is_train == 1][col_used]\n",
    "Ytrain = df1[df1.is_train == 1]['target']\n",
    "\n",
    "Xtest = df1[df1.is_train == 0][col_used]\n",
    "Ytest = df1[df1.is_train == 0]['target']"
   ]
  },
  {
   "cell_type": "code",
   "execution_count": 8,
   "id": "884c51eb-1e01-4621-bf69-c9d542b2e3dc",
   "metadata": {},
   "outputs": [
    {
     "data": {
      "text/plain": [
       "((3338, 16), (1431, 16))"
      ]
     },
     "execution_count": 8,
     "metadata": {},
     "output_type": "execute_result"
    }
   ],
   "source": [
    "Xtrain.shape, Xtest.shape"
   ]
  },
  {
   "cell_type": "code",
   "execution_count": 9,
   "id": "7674f0c3-1fe2-4ab2-88d5-3e04c79faf94",
   "metadata": {},
   "outputs": [
    {
     "data": {
      "text/plain": [
       "(0.768424206111444, 0.7721872816212438)"
      ]
     },
     "execution_count": 9,
     "metadata": {},
     "output_type": "execute_result"
    }
   ],
   "source": [
    "1-Ytrain.mean(), 1-Ytest.mean()"
   ]
  },
  {
   "cell_type": "code",
   "execution_count": 10,
   "id": "e3b59c86-47bc-45d7-8509-14ae096348c5",
   "metadata": {},
   "outputs": [
    {
     "data": {
      "text/plain": [
       "3.166666666666667"
      ]
     },
     "execution_count": 10,
     "metadata": {},
     "output_type": "execute_result"
    }
   ],
   "source": [
    "0.76/(1-0.76)"
   ]
  },
  {
   "cell_type": "code",
   "execution_count": null,
   "id": "85f10441-54f1-4b0b-90fb-db762e4765b8",
   "metadata": {},
   "outputs": [],
   "source": []
  },
  {
   "cell_type": "markdown",
   "id": "d25546e1-0406-448e-b035-a94beadcc3d2",
   "metadata": {},
   "source": [
    "## Transformation\n",
    "\n",
    "if needed"
   ]
  },
  {
   "cell_type": "code",
   "execution_count": 11,
   "id": "7255239c-b26b-4dc8-8eba-473db847230d",
   "metadata": {},
   "outputs": [
    {
     "data": {
      "text/plain": [
       "['../../model/iter1/scaler_6.pkl']"
      ]
     },
     "execution_count": 11,
     "metadata": {},
     "output_type": "execute_result"
    }
   ],
   "source": [
    "SS = StandardScaler()\n",
    "SS.fit(Xtrain)\n",
    "\n",
    "joblib.dump(SS, PATH_MODEL+'scaler_'+VERS+'.pkl')"
   ]
  },
  {
   "cell_type": "code",
   "execution_count": 12,
   "id": "53423c30-cde5-4254-8e02-2c03f41b5e3a",
   "metadata": {},
   "outputs": [],
   "source": [
    "Xtrain_ss = pd.DataFrame(SS.transform(Xtrain), columns = col_used)\n",
    "Xtest_ss = pd.DataFrame(SS.transform(Xtest), columns = col_used)"
   ]
  },
  {
   "cell_type": "code",
   "execution_count": null,
   "id": "6385ca0b-679f-44e8-ad2a-bd24e59b17de",
   "metadata": {},
   "outputs": [],
   "source": []
  },
  {
   "cell_type": "markdown",
   "id": "071ea427-801e-4beb-abdb-4f6fd19e739b",
   "metadata": {},
   "source": [
    "## Model"
   ]
  },
  {
   "cell_type": "code",
   "execution_count": 176,
   "id": "feaaafaf-06a6-4988-b97c-83ba39636e74",
   "metadata": {},
   "outputs": [],
   "source": [
    "spw = 3.3"
   ]
  },
  {
   "cell_type": "code",
   "execution_count": 177,
   "id": "98394529-86bc-458a-a4ed-5b16e7defc45",
   "metadata": {},
   "outputs": [],
   "source": [
    "def targ_func(y_true, y_pred):\n",
    "    diff = average_precision_score(y_true,y_pred)\n",
    "    return diff"
   ]
  },
  {
   "cell_type": "code",
   "execution_count": 184,
   "id": "d92db054-cd80-47c2-a6b3-d63478b351fa",
   "metadata": {},
   "outputs": [],
   "source": [
    "targ = make_scorer(targ_func, greater_is_better=True)\n",
    "def loss_target(max_depth,learning_rate,n_estimators,\n",
    "                 gamma, reg_alpha,reg_lambda,X=Xtrain_ss,y=Ytrain, scale = spw):\n",
    "\n",
    "    md= int(max_depth)\n",
    "    lr= max(learning_rate,0)\n",
    "    ne= int(n_estimators)\n",
    "    gamma= max(gamma, 0) # 0\n",
    "    ra= max(reg_alpha, 0) # 0\n",
    "    rl= max(reg_lambda, 0) # 1\n",
    "    see= 123\n",
    "\n",
    "    xgB=XGBClassifier(objective='binary:logistic',max_depth=md,learning_rate=lr,\n",
    "                     n_estimators=ne,gamma=gamma,reg_alpha=ra,reg_lambda=rl,seed=see,scale_pos_weight=spw,\n",
    "                      n_jobs=4)\n",
    "    cv_results = cross_validate(xgB, X, y, cv=5, scoring=targ, n_jobs= 3)\n",
    "    return cv_results['test_score'].mean()\n"
   ]
  },
  {
   "cell_type": "code",
   "execution_count": 185,
   "id": "8c7f818d-3258-4458-958c-8b47d10735cc",
   "metadata": {},
   "outputs": [
    {
     "name": "stdout",
     "output_type": "stream",
     "text": [
      "|   iter    |  target   |   gamma   | learni... | max_depth | n_esti... | reg_alpha | reg_la... |\n",
      "-------------------------------------------------------------------------------------------------\n",
      "| \u001b[0m 1       \u001b[0m | \u001b[0m 0.4758  \u001b[0m | \u001b[0m 4.496   \u001b[0m | \u001b[0m 0.06578 \u001b[0m | \u001b[0m 14.27   \u001b[0m | \u001b[0m 59.8    \u001b[0m | \u001b[0m 1.853   \u001b[0m | \u001b[0m 2.319   \u001b[0m |\n",
      "| \u001b[0m 2       \u001b[0m | \u001b[0m 0.4744  \u001b[0m | \u001b[0m 3.934   \u001b[0m | \u001b[0m 0.1271  \u001b[0m | \u001b[0m 17.83   \u001b[0m | \u001b[0m 36.47   \u001b[0m | \u001b[0m 2.588   \u001b[0m | \u001b[0m 2.907   \u001b[0m |\n",
      "| \u001b[95m 3       \u001b[0m | \u001b[95m 0.4822  \u001b[0m | \u001b[95m 4.663   \u001b[0m | \u001b[95m 0.02813 \u001b[0m | \u001b[95m 12.69   \u001b[0m | \u001b[95m 54.58   \u001b[0m | \u001b[95m 1.511   \u001b[0m | \u001b[95m 3.23    \u001b[0m |\n",
      "| \u001b[0m 4       \u001b[0m | \u001b[0m 0.4743  \u001b[0m | \u001b[0m 4.515   \u001b[0m | \u001b[0m 0.1035  \u001b[0m | \u001b[0m 14.91   \u001b[0m | \u001b[0m 46.89   \u001b[0m | \u001b[0m 2.162   \u001b[0m | \u001b[0m 3.415   \u001b[0m |\n",
      "| \u001b[0m 5       \u001b[0m | \u001b[0m 0.4775  \u001b[0m | \u001b[0m 4.47    \u001b[0m | \u001b[0m 0.1015  \u001b[0m | \u001b[0m 10.11   \u001b[0m | \u001b[0m 59.45   \u001b[0m | \u001b[0m 2.609   \u001b[0m | \u001b[0m 3.344   \u001b[0m |\n",
      "| \u001b[0m 6       \u001b[0m | \u001b[0m 0.4774  \u001b[0m | \u001b[0m 3.598   \u001b[0m | \u001b[0m 0.06464 \u001b[0m | \u001b[0m 11.85   \u001b[0m | \u001b[0m 54.54   \u001b[0m | \u001b[0m 2.493   \u001b[0m | \u001b[0m 2.593   \u001b[0m |\n",
      "| \u001b[0m 7       \u001b[0m | \u001b[0m 0.4614  \u001b[0m | \u001b[0m 3.599   \u001b[0m | \u001b[0m 0.1408  \u001b[0m | \u001b[0m 12.11   \u001b[0m | \u001b[0m 59.82   \u001b[0m | \u001b[0m 1.617   \u001b[0m | \u001b[0m 3.653   \u001b[0m |\n",
      "| \u001b[0m 8       \u001b[0m | \u001b[0m 0.458   \u001b[0m | \u001b[0m 3.217   \u001b[0m | \u001b[0m 0.134   \u001b[0m | \u001b[0m 16.82   \u001b[0m | \u001b[0m 53.82   \u001b[0m | \u001b[0m 1.556   \u001b[0m | \u001b[0m 2.237   \u001b[0m |\n",
      "| \u001b[0m 9       \u001b[0m | \u001b[0m 0.4794  \u001b[0m | \u001b[0m 3.07    \u001b[0m | \u001b[0m 0.08655 \u001b[0m | \u001b[0m 15.18   \u001b[0m | \u001b[0m 33.84   \u001b[0m | \u001b[0m 1.553   \u001b[0m | \u001b[0m 3.403   \u001b[0m |\n",
      "| \u001b[0m 10      \u001b[0m | \u001b[0m 0.4674  \u001b[0m | \u001b[0m 3.866   \u001b[0m | \u001b[0m 0.1477  \u001b[0m | \u001b[0m 12.99   \u001b[0m | \u001b[0m 53.48   \u001b[0m | \u001b[0m 1.879   \u001b[0m | \u001b[0m 2.433   \u001b[0m |\n",
      "| \u001b[95m 11      \u001b[0m | \u001b[95m 0.4864  \u001b[0m | \u001b[95m 3.564   \u001b[0m | \u001b[95m 0.05939 \u001b[0m | \u001b[95m 10.51   \u001b[0m | \u001b[95m 39.13   \u001b[0m | \u001b[95m 2.446   \u001b[0m | \u001b[95m 2.143   \u001b[0m |\n",
      "| \u001b[0m 12      \u001b[0m | \u001b[0m 0.4622  \u001b[0m | \u001b[0m 4.01    \u001b[0m | \u001b[0m 0.1256  \u001b[0m | \u001b[0m 18.36   \u001b[0m | \u001b[0m 41.65   \u001b[0m | \u001b[0m 1.555   \u001b[0m | \u001b[0m 2.048   \u001b[0m |\n",
      "| \u001b[0m 13      \u001b[0m | \u001b[0m 0.4738  \u001b[0m | \u001b[0m 4.712   \u001b[0m | \u001b[0m 0.12    \u001b[0m | \u001b[0m 17.84   \u001b[0m | \u001b[0m 41.75   \u001b[0m | \u001b[0m 2.293   \u001b[0m | \u001b[0m 3.978   \u001b[0m |\n",
      "| \u001b[95m 14      \u001b[0m | \u001b[95m 0.4868  \u001b[0m | \u001b[95m 4.471   \u001b[0m | \u001b[95m 0.0707  \u001b[0m | \u001b[95m 17.87   \u001b[0m | \u001b[95m 40.96   \u001b[0m | \u001b[95m 2.655   \u001b[0m | \u001b[95m 3.977   \u001b[0m |\n",
      "| \u001b[0m 15      \u001b[0m | \u001b[0m 0.4788  \u001b[0m | \u001b[0m 4.784   \u001b[0m | \u001b[0m 0.1188  \u001b[0m | \u001b[0m 16.21   \u001b[0m | \u001b[0m 30.03   \u001b[0m | \u001b[0m 2.163   \u001b[0m | \u001b[0m 3.514   \u001b[0m |\n",
      "| \u001b[95m 16      \u001b[0m | \u001b[95m 0.5021  \u001b[0m | \u001b[95m 4.661   \u001b[0m | \u001b[95m 0.02592 \u001b[0m | \u001b[95m 14.29   \u001b[0m | \u001b[95m 40.31   \u001b[0m | \u001b[95m 1.993   \u001b[0m | \u001b[95m 3.969   \u001b[0m |\n",
      "| \u001b[0m 17      \u001b[0m | \u001b[0m 0.4836  \u001b[0m | \u001b[0m 3.753   \u001b[0m | \u001b[0m 0.02123 \u001b[0m | \u001b[0m 17.15   \u001b[0m | \u001b[0m 47.23   \u001b[0m | \u001b[0m 1.991   \u001b[0m | \u001b[0m 2.24    \u001b[0m |\n",
      "| \u001b[0m 18      \u001b[0m | \u001b[0m 0.4789  \u001b[0m | \u001b[0m 4.937   \u001b[0m | \u001b[0m 0.06481 \u001b[0m | \u001b[0m 13.66   \u001b[0m | \u001b[0m 47.06   \u001b[0m | \u001b[0m 2.385   \u001b[0m | \u001b[0m 3.499   \u001b[0m |\n",
      "| \u001b[0m 19      \u001b[0m | \u001b[0m 0.4746  \u001b[0m | \u001b[0m 4.118   \u001b[0m | \u001b[0m 0.1439  \u001b[0m | \u001b[0m 10.47   \u001b[0m | \u001b[0m 35.18   \u001b[0m | \u001b[0m 2.544   \u001b[0m | \u001b[0m 2.68    \u001b[0m |\n",
      "| \u001b[0m 20      \u001b[0m | \u001b[0m 0.476   \u001b[0m | \u001b[0m 4.549   \u001b[0m | \u001b[0m 0.122   \u001b[0m | \u001b[0m 13.16   \u001b[0m | \u001b[0m 40.12   \u001b[0m | \u001b[0m 2.469   \u001b[0m | \u001b[0m 3.526   \u001b[0m |\n",
      "| \u001b[0m 21      \u001b[0m | \u001b[0m 0.4955  \u001b[0m | \u001b[0m 4.859   \u001b[0m | \u001b[0m 0.02953 \u001b[0m | \u001b[0m 16.99   \u001b[0m | \u001b[0m 51.57   \u001b[0m | \u001b[0m 1.976   \u001b[0m | \u001b[0m 3.778   \u001b[0m |\n",
      "| \u001b[0m 22      \u001b[0m | \u001b[0m 0.4753  \u001b[0m | \u001b[0m 3.977   \u001b[0m | \u001b[0m 0.08312 \u001b[0m | \u001b[0m 10.02   \u001b[0m | \u001b[0m 40.33   \u001b[0m | \u001b[0m 1.821   \u001b[0m | \u001b[0m 2.068   \u001b[0m |\n",
      "| \u001b[0m 23      \u001b[0m | \u001b[0m 0.4831  \u001b[0m | \u001b[0m 3.616   \u001b[0m | \u001b[0m 0.05232 \u001b[0m | \u001b[0m 11.45   \u001b[0m | \u001b[0m 55.25   \u001b[0m | \u001b[0m 1.854   \u001b[0m | \u001b[0m 2.946   \u001b[0m |\n",
      "| \u001b[0m 24      \u001b[0m | \u001b[0m 0.4783  \u001b[0m | \u001b[0m 4.98    \u001b[0m | \u001b[0m 0.1493  \u001b[0m | \u001b[0m 9.998   \u001b[0m | \u001b[0m 48.58   \u001b[0m | \u001b[0m 2.411   \u001b[0m | \u001b[0m 2.969   \u001b[0m |\n",
      "| \u001b[0m 25      \u001b[0m | \u001b[0m 0.4712  \u001b[0m | \u001b[0m 4.869   \u001b[0m | \u001b[0m 0.09033 \u001b[0m | \u001b[0m 17.51   \u001b[0m | \u001b[0m 58.32   \u001b[0m | \u001b[0m 2.383   \u001b[0m | \u001b[0m 2.228   \u001b[0m |\n",
      "| \u001b[0m 26      \u001b[0m | \u001b[0m 0.4748  \u001b[0m | \u001b[0m 3.8     \u001b[0m | \u001b[0m 0.07234 \u001b[0m | \u001b[0m 11.37   \u001b[0m | \u001b[0m 55.25   \u001b[0m | \u001b[0m 1.947   \u001b[0m | \u001b[0m 2.772   \u001b[0m |\n",
      "| \u001b[0m 27      \u001b[0m | \u001b[0m 0.4838  \u001b[0m | \u001b[0m 4.962   \u001b[0m | \u001b[0m 0.07784 \u001b[0m | \u001b[0m 17.91   \u001b[0m | \u001b[0m 31.24   \u001b[0m | \u001b[0m 1.699   \u001b[0m | \u001b[0m 2.753   \u001b[0m |\n",
      "| \u001b[0m 28      \u001b[0m | \u001b[0m 0.4736  \u001b[0m | \u001b[0m 4.18    \u001b[0m | \u001b[0m 0.1373  \u001b[0m | \u001b[0m 13.37   \u001b[0m | \u001b[0m 36.26   \u001b[0m | \u001b[0m 1.832   \u001b[0m | \u001b[0m 3.715   \u001b[0m |\n",
      "| \u001b[0m 29      \u001b[0m | \u001b[0m 0.4988  \u001b[0m | \u001b[0m 3.803   \u001b[0m | \u001b[0m 0.03052 \u001b[0m | \u001b[0m 19.02   \u001b[0m | \u001b[0m 57.11   \u001b[0m | \u001b[0m 2.34    \u001b[0m | \u001b[0m 3.302   \u001b[0m |\n",
      "| \u001b[0m 30      \u001b[0m | \u001b[0m 0.4687  \u001b[0m | \u001b[0m 3.466   \u001b[0m | \u001b[0m 0.1069  \u001b[0m | \u001b[0m 9.06    \u001b[0m | \u001b[0m 32.17   \u001b[0m | \u001b[0m 1.557   \u001b[0m | \u001b[0m 2.587   \u001b[0m |\n",
      "| \u001b[0m 31      \u001b[0m | \u001b[0m 0.4882  \u001b[0m | \u001b[0m 3.927   \u001b[0m | \u001b[0m 0.05537 \u001b[0m | \u001b[0m 18.85   \u001b[0m | \u001b[0m 44.8    \u001b[0m | \u001b[0m 2.778   \u001b[0m | \u001b[0m 3.025   \u001b[0m |\n",
      "| \u001b[0m 32      \u001b[0m | \u001b[0m 0.4713  \u001b[0m | \u001b[0m 3.37    \u001b[0m | \u001b[0m 0.09584 \u001b[0m | \u001b[0m 9.738   \u001b[0m | \u001b[0m 51.54   \u001b[0m | \u001b[0m 2.476   \u001b[0m | \u001b[0m 2.863   \u001b[0m |\n",
      "| \u001b[0m 33      \u001b[0m | \u001b[0m 0.4701  \u001b[0m | \u001b[0m 4.667   \u001b[0m | \u001b[0m 0.1442  \u001b[0m | \u001b[0m 12.98   \u001b[0m | \u001b[0m 49.84   \u001b[0m | \u001b[0m 2.043   \u001b[0m | \u001b[0m 2.866   \u001b[0m |\n",
      "| \u001b[0m 34      \u001b[0m | \u001b[0m 0.4748  \u001b[0m | \u001b[0m 4.574   \u001b[0m | \u001b[0m 0.1064  \u001b[0m | \u001b[0m 10.32   \u001b[0m | \u001b[0m 46.67   \u001b[0m | \u001b[0m 1.708   \u001b[0m | \u001b[0m 3.529   \u001b[0m |\n",
      "| \u001b[95m 35      \u001b[0m | \u001b[95m 0.5034  \u001b[0m | \u001b[95m 4.235   \u001b[0m | \u001b[95m 0.0408  \u001b[0m | \u001b[95m 12.59   \u001b[0m | \u001b[95m 36.19   \u001b[0m | \u001b[95m 2.58    \u001b[0m | \u001b[95m 3.261   \u001b[0m |\n",
      "=================================================================================================\n"
     ]
    }
   ],
   "source": [
    "xgbBO = BayesianOptimization(loss_target,{'max_depth': (8,20),'learning_rate': (0.02, 0.15),\n",
    "                                            'n_estimators': (30,60),'gamma': (3, 5),'reg_alpha': (1.5, 2.8),\n",
    "                                            'reg_lambda': (2, 4)})\n",
    "\n",
    "xgbBO.maximize(init_points=25, n_iter=10)"
   ]
  },
  {
   "cell_type": "code",
   "execution_count": 186,
   "id": "4e40c6c4-8e61-4fa7-8a87-c4f9ddc31dff",
   "metadata": {},
   "outputs": [
    {
     "data": {
      "text/plain": [
       "{'gamma': 4.23518702528326,\n",
       " 'learning_rate': 0.04080171636103648,\n",
       " 'max_depth': 12.588107175546728,\n",
       " 'n_estimators': 36.188855508167535,\n",
       " 'reg_alpha': 2.5798259047624814,\n",
       " 'reg_lambda': 3.260591083725119}"
      ]
     },
     "execution_count": 186,
     "metadata": {},
     "output_type": "execute_result"
    }
   ],
   "source": [
    "used_param = xgbBO.max['params']\n",
    "used_param"
   ]
  },
  {
   "cell_type": "code",
   "execution_count": 187,
   "id": "e2d80d96-6247-4728-a1c8-83e2cf83f3c0",
   "metadata": {},
   "outputs": [],
   "source": [
    "used_param['n_jobs'] = 3\n",
    "used_param['objective']='binary:logistic'\n",
    "used_param['scale_pos_weight'] = spw\n",
    "for c in ['max_depth','n_estimators']:\n",
    "    used_param[c] = int(used_param[c])"
   ]
  },
  {
   "cell_type": "code",
   "execution_count": 188,
   "id": "bab87b13-67d3-4f22-84b6-20ae99dce20e",
   "metadata": {},
   "outputs": [
    {
     "name": "stdout",
     "output_type": "stream",
     "text": [
      "[23:28:27] WARNING: C:/Users/Administrator/workspace/xgboost-win64_release_1.5.0/src/learner.cc:1115: Starting in XGBoost 1.3.0, the default evaluation metric used with the objective 'binary:logistic' was changed from 'error' to 'logloss'. Explicitly set eval_metric if you'd like to restore the old behavior.\n"
     ]
    },
    {
     "data": {
      "text/plain": [
       "XGBClassifier(base_score=0.5, booster='gbtree', colsample_bylevel=1,\n",
       "              colsample_bynode=1, colsample_bytree=1, enable_categorical=False,\n",
       "              gamma=4.23518702528326, gpu_id=-1, importance_type=None,\n",
       "              interaction_constraints='', learning_rate=0.04080171636103648,\n",
       "              max_delta_step=0, max_depth=12, min_child_weight=1, missing=nan,\n",
       "              monotone_constraints='()', n_estimators=36, n_jobs=3,\n",
       "              num_parallel_tree=1, predictor='auto', random_state=0,\n",
       "              reg_alpha=2.5798259047624814, reg_lambda=3.260591083725119,\n",
       "              scale_pos_weight=3.3, subsample=1, tree_method='exact',\n",
       "              validate_parameters=1, verbosity=None)"
      ]
     },
     "execution_count": 188,
     "metadata": {},
     "output_type": "execute_result"
    }
   ],
   "source": [
    "tModel = XGBClassifier(**used_param)\n",
    "tModel.fit(Xtrain_ss,Ytrain)"
   ]
  },
  {
   "cell_type": "code",
   "execution_count": 189,
   "id": "35785856-7c74-4575-9a72-54bd728012a6",
   "metadata": {},
   "outputs": [],
   "source": [
    "joblib.dump(tModel, model_file)\n",
    "tModel_load = joblib.load(model_file)"
   ]
  },
  {
   "cell_type": "code",
   "execution_count": null,
   "id": "747377b2-78c3-4f4d-8c37-11cd09ddcd66",
   "metadata": {},
   "outputs": [],
   "source": []
  },
  {
   "cell_type": "markdown",
   "id": "d518a72b-5b36-42fa-863f-3854880ea96d",
   "metadata": {},
   "source": [
    "## Evaluations"
   ]
  },
  {
   "cell_type": "code",
   "execution_count": 190,
   "id": "1c468e33-927c-4f31-912f-86c56237e93d",
   "metadata": {},
   "outputs": [],
   "source": [
    "%matplotlib inline"
   ]
  },
  {
   "cell_type": "code",
   "execution_count": 191,
   "id": "b17c9770-ac66-444d-bcbd-1e243510a3db",
   "metadata": {},
   "outputs": [
    {
     "name": "stdout",
     "output_type": "stream",
     "text": [
      "              precision    recall  f1-score   support\n",
      "\n",
      "           0       0.97      0.90      0.94      2565\n",
      "           1       0.74      0.91      0.82       773\n",
      "\n",
      "    accuracy                           0.91      3338\n",
      "   macro avg       0.86      0.91      0.88      3338\n",
      "weighted avg       0.92      0.91      0.91      3338\n",
      "\n",
      "aucpr :  0.6958\n",
      "aucroc :  0.9079\n"
     ]
    },
    {
     "data": {
      "text/plain": [
       "(0.6958, 0.9079)"
      ]
     },
     "execution_count": 191,
     "metadata": {},
     "output_type": "execute_result"
    },
    {
     "data": {
      "image/png": "[encoded data removed]",
      "text/plain": [
       "<Figure size 432x288 with 2 Axes>"
      ]
     },
     "metadata": {
      "needs_background": "light"
     },
     "output_type": "display_data"
    }
   ],
   "source": [
    "binary_eval(Ytrain, model=tModel_load, predictor=Xtrain_ss)"
   ]
  },
  {
   "cell_type": "code",
   "execution_count": 192,
   "id": "a6a8ad7d-1c0f-4354-a7da-2d3fce60e7d3",
   "metadata": {},
   "outputs": [
    {
     "name": "stdout",
     "output_type": "stream",
     "text": [
      "              precision    recall  f1-score   support\n",
      "\n",
      "           0       0.97      0.90      0.93      1105\n",
      "           1       0.73      0.90      0.81       326\n",
      "\n",
      "    accuracy                           0.90      1431\n",
      "   macro avg       0.85      0.90      0.87      1431\n",
      "weighted avg       0.91      0.90      0.90      1431\n",
      "\n",
      "aucpr :  0.6787\n",
      "aucroc :  0.9011\n"
     ]
    },
    {
     "data": {
      "text/plain": [
       "(0.6787, 0.9011)"
      ]
     },
     "execution_count": 192,
     "metadata": {},
     "output_type": "execute_result"
    },
    {
     "data": {
      "image/png": "[encoded data removed]",
      "text/plain": [
       "<Figure size 432x288 with 2 Axes>"
      ]
     },
     "metadata": {
      "needs_background": "light"
     },
     "output_type": "display_data"
    }
   ],
   "source": [
    "binary_eval(Ytest, model=tModel_load, predictor=Xtest_ss)"
   ]
  },
  {
   "cell_type": "code",
   "execution_count": null,
   "id": "994216d0-ee15-4499-a572-14b71a97ef2c",
   "metadata": {},
   "outputs": [],
   "source": []
  },
  {
   "cell_type": "markdown",
   "id": "bbd7012f-437f-46a5-90af-c28a95102af9",
   "metadata": {},
   "source": [
    "## Feature Importance"
   ]
  },
  {
   "cell_type": "code",
   "execution_count": 193,
   "id": "6a0733e1-62c2-4507-b700-7086d302d0a9",
   "metadata": {},
   "outputs": [],
   "source": [
    "explainer = shap.TreeExplainer(tModel_load)\n",
    "# masker = shap.maskers.Independent(data=Xtest_ss)\n",
    "# explainer = shap.Explainer(\n",
    "#     tModel_load, masker=masker, feature_names=Xtest_ss.columns, algorithm=\"linear\"\n",
    "# )\n",
    "shap_values = explainer.shap_values(Xtrain_ss)"
   ]
  },
  {
   "cell_type": "code",
   "execution_count": 194,
   "id": "06b779da-f1ae-499b-b946-29b37db81c6e",
   "metadata": {},
   "outputs": [
    {
     "data": {
      "image/png": "[encoded data removed]",
      "text/plain": [
       "<Figure size 576x568.8 with 2 Axes>"
      ]
     },
     "metadata": {
      "needs_background": "light"
     },
     "output_type": "display_data"
    }
   ],
   "source": [
    "shap.summary_plot(shap_values, features=Xtrain_ss, feature_names=Xtest_ss.columns)"
   ]
  },
  {
   "cell_type": "code",
   "execution_count": 195,
   "id": "38cab7a4-2e46-4ede-8fec-5834ed2c9ec5",
   "metadata": {},
   "outputs": [],
   "source": [
    "# shap.summary_plot(shap_values, Xtest_ss, plot_type=\"bar\")"
   ]
  },
  {
   "cell_type": "code",
   "execution_count": 196,
   "id": "4baecc08-88a6-4382-abe3-493c40e0793a",
   "metadata": {},
   "outputs": [],
   "source": [
    "# shap.initjs()\n",
    "# shap.force_plot(explainer.expected_value, shap_values, Xtest_ss)"
   ]
  },
  {
   "cell_type": "code",
   "execution_count": 197,
   "id": "372e4f40-f126-4807-9313-66d14720bd5e",
   "metadata": {},
   "outputs": [],
   "source": [
    "# shap.dependence_plot('vote_avg', shap_values, Xtest_ss)"
   ]
  },
  {
   "cell_type": "code",
   "execution_count": 198,
   "id": "2336b4db-b876-409f-bdba-d9300bacbb4c",
   "metadata": {},
   "outputs": [],
   "source": [
    "vals = np.abs(shap_values).mean(0)\n",
    "feature_names = Xtest_ss.columns\n",
    "feature_importance = pd.DataFrame(list(zip(feature_names, vals)),\n",
    "                                  columns=['col_name','feature_importance_vals'])\n",
    "feature_importance.sort_values(by=['feature_importance_vals'],\n",
    "                               ascending=False, inplace=True)"
   ]
  },
  {
   "cell_type": "code",
   "execution_count": 199,
   "id": "b57fec5e-5419-4dbb-83be-16e095599f7f",
   "metadata": {},
   "outputs": [],
   "source": [
    "feature_importance.to_csv(PATH_MODEL+'feat_importance_'+VERS+'.csv', index = False)"
   ]
  },
  {
   "cell_type": "code",
   "execution_count": 201,
   "id": "5e3899b4-b37d-43d6-9ae0-1ef04f3448b6",
   "metadata": {},
   "outputs": [
    {
     "data": {
      "text/html": [
       "<div>\n",
       "<style scoped>\n",
       "    .dataframe tbody tr th:only-of-type {\n",
       "        vertical-align: middle;\n",
       "    }\n",
       "\n",
       "    .dataframe tbody tr th {\n",
       "        vertical-align: top;\n",
       "    }\n",
       "\n",
       "    .dataframe thead th {\n",
       "        text-align: right;\n",
       "    }\n",
       "</style>\n",
       "<table border=\"1\" class=\"dataframe\">\n",
       "  <thead>\n",
       "    <tr style=\"text-align: right;\">\n",
       "      <th></th>\n",
       "      <th>col_name</th>\n",
       "      <th>feature_importance_vals</th>\n",
       "    </tr>\n",
       "  </thead>\n",
       "  <tbody>\n",
       "    <tr>\n",
       "      <th>8</th>\n",
       "      <td>turn_over_rate</td>\n",
       "      <td>0.778537</td>\n",
       "    </tr>\n",
       "    <tr>\n",
       "      <th>9</th>\n",
       "      <td>vote_avg</td>\n",
       "      <td>0.440313</td>\n",
       "    </tr>\n",
       "    <tr>\n",
       "      <th>7</th>\n",
       "      <td>reaction_cnt</td>\n",
       "      <td>0.370421</td>\n",
       "    </tr>\n",
       "    <tr>\n",
       "      <th>3</th>\n",
       "      <td>len_txt_avg</td>\n",
       "      <td>0.224743</td>\n",
       "    </tr>\n",
       "    <tr>\n",
       "      <th>11</th>\n",
       "      <td>vote_company_cnt</td>\n",
       "      <td>0.135931</td>\n",
       "    </tr>\n",
       "    <tr>\n",
       "      <th>10</th>\n",
       "      <td>vote_cnt</td>\n",
       "      <td>0.038475</td>\n",
       "    </tr>\n",
       "    <tr>\n",
       "      <th>2</th>\n",
       "      <td>gv_liked_cnt</td>\n",
       "      <td>0.036558</td>\n",
       "    </tr>\n",
       "    <tr>\n",
       "      <th>1</th>\n",
       "      <td>gv_disliked_per_emp_avg</td>\n",
       "      <td>0.036444</td>\n",
       "    </tr>\n",
       "    <tr>\n",
       "      <th>6</th>\n",
       "      <td>len_txt_p75</td>\n",
       "      <td>0.021872</td>\n",
       "    </tr>\n",
       "    <tr>\n",
       "      <th>12</th>\n",
       "      <td>vote_company_std</td>\n",
       "      <td>0.018104</td>\n",
       "    </tr>\n",
       "    <tr>\n",
       "      <th>4</th>\n",
       "      <td>len_txt_cnt</td>\n",
       "      <td>0.015810</td>\n",
       "    </tr>\n",
       "    <tr>\n",
       "      <th>15</th>\n",
       "      <td>votes_monday_avg</td>\n",
       "      <td>0.012146</td>\n",
       "    </tr>\n",
       "    <tr>\n",
       "      <th>0</th>\n",
       "      <td>comment_per_emp_p50</td>\n",
       "      <td>0.010433</td>\n",
       "    </tr>\n",
       "    <tr>\n",
       "      <th>13</th>\n",
       "      <td>vote_p50</td>\n",
       "      <td>0.004664</td>\n",
       "    </tr>\n",
       "    <tr>\n",
       "      <th>5</th>\n",
       "      <td>len_txt_p50</td>\n",
       "      <td>0.004624</td>\n",
       "    </tr>\n",
       "    <tr>\n",
       "      <th>14</th>\n",
       "      <td>vote_p75</td>\n",
       "      <td>0.004148</td>\n",
       "    </tr>\n",
       "  </tbody>\n",
       "</table>\n",
       "</div>"
      ],
      "text/plain": [
       "                   col_name  feature_importance_vals\n",
       "8            turn_over_rate                 0.778537\n",
       "9                  vote_avg                 0.440313\n",
       "7              reaction_cnt                 0.370421\n",
       "3               len_txt_avg                 0.224743\n",
       "11         vote_company_cnt                 0.135931\n",
       "10                 vote_cnt                 0.038475\n",
       "2              gv_liked_cnt                 0.036558\n",
       "1   gv_disliked_per_emp_avg                 0.036444\n",
       "6               len_txt_p75                 0.021872\n",
       "12         vote_company_std                 0.018104\n",
       "4               len_txt_cnt                 0.015810\n",
       "15         votes_monday_avg                 0.012146\n",
       "0       comment_per_emp_p50                 0.010433\n",
       "13                 vote_p50                 0.004664\n",
       "5               len_txt_p50                 0.004624\n",
       "14                 vote_p75                 0.004148"
      ]
     },
     "execution_count": 201,
     "metadata": {},
     "output_type": "execute_result"
    }
   ],
   "source": [
    "feature_importance"
   ]
  },
  {
   "cell_type": "code",
   "execution_count": null,
   "id": "a9410a7b-b9fe-4030-b689-e9e7de65280e",
   "metadata": {},
   "outputs": [],
   "source": []
  }
 ],
 "metadata": {
  "kernelspec": {
   "display_name": "droid1",
   "language": "python",
   "name": "droid1"
  },
  "language_info": {
   "codemirror_mode": {
    "name": "ipython",
    "version": 3
   },
   "file_extension": ".py",
   "mimetype": "text/x-python",
   "name": "python",
   "nbconvert_exporter": "python",
   "pygments_lexer": "ipython3",
   "version": "3.7.10"
  }
 },
 "nbformat": 4,
 "nbformat_minor": 5
}
