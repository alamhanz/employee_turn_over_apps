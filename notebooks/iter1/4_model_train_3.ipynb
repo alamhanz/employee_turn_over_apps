{
 "cells": [
  {
   "cell_type": "markdown",
   "id": "651892ae-e75f-4b77-b3f6-ae34bdf805a0",
   "metadata": {},
   "source": [
    "# Employee Turn Over - Model training\n",
    "\n",
    "training process v3"
   ]
  },
  {
   "cell_type": "code",
   "execution_count": 1,
   "id": "5e64c60e-1142-4bc3-884f-4c5ea2d24eb8",
   "metadata": {},
   "outputs": [],
   "source": [
    "import pandas as pd\n",
    "import seaborn as sns\n",
    "import matplotlib.pyplot as plt\n",
    "import numpy as np\n",
    "import seaborn as sns\n",
    "import warnings\n",
    "import joblib\n",
    "import sys\n",
    "\n",
    "sys.path.append('../../src/')\n",
    "\n",
    "from modeleval import binary_eval\n",
    "warnings.filterwarnings(\"ignore\")\n"
   ]
  },
  {
   "cell_type": "code",
   "execution_count": 2,
   "id": "733a7776-ae23-48ae-8697-3db58de71cdb",
   "metadata": {},
   "outputs": [],
   "source": [
    "from sklearn.linear_model import LogisticRegression\n",
    "from sklearn.preprocessing import StandardScaler\n",
    "from sklearn.tree import DecisionTreeClassifier\n",
    "from sklearn.ensemble import RandomForestClassifier\n",
    "from sklearn.svm import SVC\n",
    "import shap"
   ]
  },
  {
   "cell_type": "code",
   "execution_count": 3,
   "id": "5976ed52-fe4a-4dc7-8adb-b6c2a48ad32a",
   "metadata": {},
   "outputs": [],
   "source": [
    "PATH_DATA='../../data/raw/'\n",
    "PATH_DATA_INTERIM='../../data/interim/'\n",
    "PATH_MODEL = '../../model/iter1/'\n",
    "VERS = '3'\n",
    "\n",
    "model_file = PATH_MODEL+'model_'+VERS+'.pkl'"
   ]
  },
  {
   "cell_type": "code",
   "execution_count": null,
   "id": "16f54795-6532-4af6-a6c1-20c917cf1e2d",
   "metadata": {},
   "outputs": [],
   "source": []
  },
  {
   "cell_type": "markdown",
   "id": "d77aedd4-da50-4901-a6a4-417784988b1c",
   "metadata": {},
   "source": [
    "## Get Data"
   ]
  },
  {
   "cell_type": "code",
   "execution_count": 4,
   "id": "5c2c7cc1-5203-464e-933b-14c393908788",
   "metadata": {},
   "outputs": [],
   "source": [
    "df1 = pd.read_csv(PATH_DATA_INTERIM+'iter1_interim_cln.csv')"
   ]
  },
  {
   "cell_type": "code",
   "execution_count": 5,
   "id": "3ec851a5-31d7-4040-88b9-39c3d7e7d00c",
   "metadata": {},
   "outputs": [],
   "source": [
    "## we use 1 as turn over\n",
    "df1['target'] = (df1.stillExists==False).astype(int)\n",
    "col_used = list(set(df1.columns)-set(['unique_employee_ids','stillExists','companyAlias','is_train','target']))\n",
    "\n",
    "col_used.sort() ## --> remember to sort"
   ]
  },
  {
   "cell_type": "code",
   "execution_count": 6,
   "id": "3dfeecb6-e699-4108-8c42-8a564e3a3cb6",
   "metadata": {},
   "outputs": [],
   "source": [
    "Xtrain = df1[df1.is_train == 1][col_used]\n",
    "Ytrain = df1[df1.is_train == 1]['target']\n",
    "\n",
    "Xtest = df1[df1.is_train == 0][col_used]\n",
    "Ytest = df1[df1.is_train == 0]['target']"
   ]
  },
  {
   "cell_type": "code",
   "execution_count": 7,
   "id": "884c51eb-1e01-4621-bf69-c9d542b2e3dc",
   "metadata": {},
   "outputs": [
    {
     "data": {
      "text/plain": [
       "((3338, 52), (1431, 52))"
      ]
     },
     "execution_count": 7,
     "metadata": {},
     "output_type": "execute_result"
    }
   ],
   "source": [
    "Xtrain.shape, Xtest.shape"
   ]
  },
  {
   "cell_type": "code",
   "execution_count": 8,
   "id": "7674f0c3-1fe2-4ab2-88d5-3e04c79faf94",
   "metadata": {},
   "outputs": [
    {
     "data": {
      "text/plain": [
       "(0.768424206111444, 0.7721872816212438)"
      ]
     },
     "execution_count": 8,
     "metadata": {},
     "output_type": "execute_result"
    }
   ],
   "source": [
    "1-Ytrain.mean(), 1-Ytest.mean()"
   ]
  },
  {
   "cell_type": "code",
   "execution_count": null,
   "id": "85f10441-54f1-4b0b-90fb-db762e4765b8",
   "metadata": {},
   "outputs": [],
   "source": []
  },
  {
   "cell_type": "markdown",
   "id": "d25546e1-0406-448e-b035-a94beadcc3d2",
   "metadata": {},
   "source": [
    "## Transformation\n",
    "\n",
    "if needed"
   ]
  },
  {
   "cell_type": "code",
   "execution_count": 9,
   "id": "7255239c-b26b-4dc8-8eba-473db847230d",
   "metadata": {},
   "outputs": [
    {
     "data": {
      "text/plain": [
       "['../../model/iter1/scaler_3.pkl']"
      ]
     },
     "execution_count": 9,
     "metadata": {},
     "output_type": "execute_result"
    }
   ],
   "source": [
    "SS = StandardScaler()\n",
    "SS.fit(Xtrain)\n",
    "\n",
    "joblib.dump(SS, PATH_MODEL+'scaler_'+VERS+'.pkl')"
   ]
  },
  {
   "cell_type": "code",
   "execution_count": 10,
   "id": "53423c30-cde5-4254-8e02-2c03f41b5e3a",
   "metadata": {},
   "outputs": [],
   "source": [
    "Xtrain_ss = pd.DataFrame(SS.transform(Xtrain), columns = col_used)\n",
    "Xtest_ss = pd.DataFrame(SS.transform(Xtest), columns = col_used)"
   ]
  },
  {
   "cell_type": "code",
   "execution_count": null,
   "id": "6385ca0b-679f-44e8-ad2a-bd24e59b17de",
   "metadata": {},
   "outputs": [],
   "source": []
  },
  {
   "cell_type": "markdown",
   "id": "071ea427-801e-4beb-abdb-4f6fd19e739b",
   "metadata": {},
   "source": [
    "## Model"
   ]
  },
  {
   "cell_type": "code",
   "execution_count": 11,
   "id": "bab87b13-67d3-4f22-84b6-20ae99dce20e",
   "metadata": {},
   "outputs": [
    {
     "data": {
      "text/plain": [
       "RandomForestClassifier()"
      ]
     },
     "execution_count": 11,
     "metadata": {},
     "output_type": "execute_result"
    }
   ],
   "source": [
    "tModel = RandomForestClassifier()\n",
    "tModel.fit(Xtrain_ss,Ytrain)"
   ]
  },
  {
   "cell_type": "code",
   "execution_count": 12,
   "id": "35785856-7c74-4575-9a72-54bd728012a6",
   "metadata": {},
   "outputs": [],
   "source": [
    "joblib.dump(tModel, model_file)\n",
    "tModel_load = joblib.load(model_file)"
   ]
  },
  {
   "cell_type": "code",
   "execution_count": null,
   "id": "747377b2-78c3-4f4d-8c37-11cd09ddcd66",
   "metadata": {},
   "outputs": [],
   "source": []
  },
  {
   "cell_type": "markdown",
   "id": "d518a72b-5b36-42fa-863f-3854880ea96d",
   "metadata": {},
   "source": [
    "## Evaluations"
   ]
  },
  {
   "cell_type": "code",
   "execution_count": 13,
   "id": "1c468e33-927c-4f31-912f-86c56237e93d",
   "metadata": {},
   "outputs": [],
   "source": [
    "%matplotlib inline"
   ]
  },
  {
   "cell_type": "code",
   "execution_count": 14,
   "id": "b17c9770-ac66-444d-bcbd-1e243510a3db",
   "metadata": {},
   "outputs": [
    {
     "name": "stdout",
     "output_type": "stream",
     "text": [
      "              precision    recall  f1-score   support\n",
      "\n",
      "           0       0.99      0.99      0.99      2565\n",
      "           1       0.98      0.98      0.98       773\n",
      "\n",
      "    accuracy                           0.99      3338\n",
      "   macro avg       0.99      0.99      0.99      3338\n",
      "weighted avg       0.99      0.99      0.99      3338\n",
      "\n",
      "aucpr :  0.9643\n",
      "aucroc :  0.9881\n"
     ]
    },
    {
     "data": {
      "text/plain": [
       "(0.9643, 0.9881)"
      ]
     },
     "execution_count": 14,
     "metadata": {},
     "output_type": "execute_result"
    },
    {
     "data": {
      "image/png": "[encoded data removed]",
      "text/plain": [
       "<Figure size 432x288 with 2 Axes>"
      ]
     },
     "metadata": {
      "needs_background": "light"
     },
     "output_type": "display_data"
    }
   ],
   "source": [
    "binary_eval(Ytrain, model=tModel_load, predictor=Xtrain_ss)"
   ]
  },
  {
   "cell_type": "code",
   "execution_count": 15,
   "id": "a6a8ad7d-1c0f-4354-a7da-2d3fce60e7d3",
   "metadata": {},
   "outputs": [
    {
     "name": "stdout",
     "output_type": "stream",
     "text": [
      "              precision    recall  f1-score   support\n",
      "\n",
      "           0       0.93      0.96      0.95      1105\n",
      "           1       0.86      0.77      0.81       326\n",
      "\n",
      "    accuracy                           0.92      1431\n",
      "   macro avg       0.90      0.87      0.88      1431\n",
      "weighted avg       0.92      0.92      0.92      1431\n",
      "\n",
      "aucpr :  0.7166\n",
      "aucroc :  0.868\n"
     ]
    },
    {
     "data": {
      "text/plain": [
       "(0.7166, 0.868)"
      ]
     },
     "execution_count": 15,
     "metadata": {},
     "output_type": "execute_result"
    },
    {
     "data": {
      "image/png": "[encoded data removed]",
      "text/plain": [
       "<Figure size 432x288 with 2 Axes>"
      ]
     },
     "metadata": {
      "needs_background": "light"
     },
     "output_type": "display_data"
    }
   ],
   "source": [
    "binary_eval(Ytest, model=tModel_load, predictor=Xtest_ss)"
   ]
  },
  {
   "cell_type": "code",
   "execution_count": null,
   "id": "994216d0-ee15-4499-a572-14b71a97ef2c",
   "metadata": {},
   "outputs": [],
   "source": []
  },
  {
   "cell_type": "markdown",
   "id": "bbd7012f-437f-46a5-90af-c28a95102af9",
   "metadata": {},
   "source": [
    "## Feature Importance"
   ]
  },
  {
   "cell_type": "code",
   "execution_count": 16,
   "id": "6a0733e1-62c2-4507-b700-7086d302d0a9",
   "metadata": {},
   "outputs": [],
   "source": [
    "explainer = shap.TreeExplainer(tModel_load,)\n",
    "# masker = shap.maskers.Independent(data=Xtest_ss)\n",
    "# explainer = shap.Explainer(\n",
    "#     tModel_load, masker=masker, feature_names=Xtest_ss.columns, algorithm=\"linear\"\n",
    "# )\n",
    "shap_values = explainer.shap_values(Xtrain_ss)"
   ]
  },
  {
   "cell_type": "code",
   "execution_count": 17,
   "id": "06b779da-f1ae-499b-b946-29b37db81c6e",
   "metadata": {},
   "outputs": [
    {
     "data": {
      "image/png": "[encoded data removed]",
      "text/plain": [
       "<Figure size 576x684 with 1 Axes>"
      ]
     },
     "metadata": {
      "needs_background": "light"
     },
     "output_type": "display_data"
    }
   ],
   "source": [
    "shap.summary_plot(shap_values, features=Xtrain_ss, feature_names=Xtest_ss.columns)"
   ]
  },
  {
   "cell_type": "code",
   "execution_count": 18,
   "id": "38cab7a4-2e46-4ede-8fec-5834ed2c9ec5",
   "metadata": {},
   "outputs": [],
   "source": [
    "# shap.summary_plot(shap_values, Xtest_ss, plot_type=\"bar\")"
   ]
  },
  {
   "cell_type": "code",
   "execution_count": 19,
   "id": "4baecc08-88a6-4382-abe3-493c40e0793a",
   "metadata": {},
   "outputs": [],
   "source": [
    "# shap.initjs()\n",
    "# shap.force_plot(explainer.expected_value, shap_values, Xtest_ss)"
   ]
  },
  {
   "cell_type": "code",
   "execution_count": 20,
   "id": "372e4f40-f126-4807-9313-66d14720bd5e",
   "metadata": {},
   "outputs": [],
   "source": [
    "# shap.dependence_plot('vote_avg', shap_values, Xtest_ss)"
   ]
  },
  {
   "cell_type": "code",
   "execution_count": 21,
   "id": "2336b4db-b876-409f-bdba-d9300bacbb4c",
   "metadata": {},
   "outputs": [],
   "source": [
    "vals = np.abs(shap_values[0]).mean(0)\n",
    "feature_names = Xtest_ss.columns\n",
    "feature_importance = pd.DataFrame(list(zip(feature_names, vals)),\n",
    "                                  columns=['col_name','feature_importance_vals'])\n",
    "feature_importance.sort_values(by=['feature_importance_vals'],\n",
    "                               ascending=False, inplace=True)"
   ]
  },
  {
   "cell_type": "code",
   "execution_count": 22,
   "id": "b57fec5e-5419-4dbb-83be-16e095599f7f",
   "metadata": {},
   "outputs": [],
   "source": [
    "feature_importance.to_csv(PATH_MODEL+'feat_importance_'+VERS+'.csv', index = False)"
   ]
  },
  {
   "cell_type": "code",
   "execution_count": 23,
   "id": "5e3899b4-b37d-43d6-9ae0-1ef04f3448b6",
   "metadata": {},
   "outputs": [
    {
     "data": {
      "text/html": [
       "<div>\n",
       "<style scoped>\n",
       "    .dataframe tbody tr th:only-of-type {\n",
       "        vertical-align: middle;\n",
       "    }\n",
       "\n",
       "    .dataframe tbody tr th {\n",
       "        vertical-align: top;\n",
       "    }\n",
       "\n",
       "    .dataframe thead th {\n",
       "        text-align: right;\n",
       "    }\n",
       "</style>\n",
       "<table border=\"1\" class=\"dataframe\">\n",
       "  <thead>\n",
       "    <tr style=\"text-align: right;\">\n",
       "      <th></th>\n",
       "      <th>col_name</th>\n",
       "      <th>feature_importance_vals</th>\n",
       "    </tr>\n",
       "  </thead>\n",
       "  <tbody>\n",
       "    <tr>\n",
       "      <th>31</th>\n",
       "      <td>turn_over_rate</td>\n",
       "      <td>0.056012</td>\n",
       "    </tr>\n",
       "    <tr>\n",
       "      <th>32</th>\n",
       "      <td>vote_avg</td>\n",
       "      <td>0.032055</td>\n",
       "    </tr>\n",
       "    <tr>\n",
       "      <th>30</th>\n",
       "      <td>reaction_cnt</td>\n",
       "      <td>0.030205</td>\n",
       "    </tr>\n",
       "    <tr>\n",
       "      <th>33</th>\n",
       "      <td>vote_cnt</td>\n",
       "      <td>0.026553</td>\n",
       "    </tr>\n",
       "    <tr>\n",
       "      <th>22</th>\n",
       "      <td>gv_liked_cnt</td>\n",
       "      <td>0.022948</td>\n",
       "    </tr>\n",
       "  </tbody>\n",
       "</table>\n",
       "</div>"
      ],
      "text/plain": [
       "          col_name  feature_importance_vals\n",
       "31  turn_over_rate                 0.056012\n",
       "32        vote_avg                 0.032055\n",
       "30    reaction_cnt                 0.030205\n",
       "33        vote_cnt                 0.026553\n",
       "22    gv_liked_cnt                 0.022948"
      ]
     },
     "execution_count": 23,
     "metadata": {},
     "output_type": "execute_result"
    }
   ],
   "source": [
    "feature_importance.head()"
   ]
  },
  {
   "cell_type": "code",
   "execution_count": null,
   "id": "fa68fec2-79af-4dd9-bf48-bf570bcdfc68",
   "metadata": {},
   "outputs": [],
   "source": []
  }
 ],
 "metadata": {
  "kernelspec": {
   "display_name": "droid1",
   "language": "python",
   "name": "droid1"
  },
  "language_info": {
   "codemirror_mode": {
    "name": "ipython",
    "version": 3
   },
   "file_extension": ".py",
   "mimetype": "text/x-python",
   "name": "python",
   "nbconvert_exporter": "python",
   "pygments_lexer": "ipython3",
   "version": "3.7.10"
  }
 },
 "nbformat": 4,
 "nbformat_minor": 5
}
